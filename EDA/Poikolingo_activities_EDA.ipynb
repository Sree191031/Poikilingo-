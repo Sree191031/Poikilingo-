{
  "nbformat": 4,
  "nbformat_minor": 0,
  "metadata": {
    "colab": {
      "name": "Poikolingo_activities_EDA.ipynb",
      "provenance": []
    },
    "kernelspec": {
      "name": "python3",
      "display_name": "Python 3"
    },
    "language_info": {
      "name": "python"
    }
  },
  "cells": [
    {
      "cell_type": "code",
      "metadata": {
        "id": "OhoTOOm2ldlT"
      },
      "source": [
        "import numpy as np\n",
        "import pandas as pd\n",
        "import matplotlib.pyplot as plt\n",
        "import seaborn as sns"
      ],
      "execution_count": null,
      "outputs": []
    },
    {
      "cell_type": "code",
      "metadata": {
        "id": "zJAKZkuZlpQ_"
      },
      "source": [
        "df = pd.read_csv('student_activity_table_v1.csv')"
      ],
      "execution_count": null,
      "outputs": []
    },
    {
      "cell_type": "code",
      "metadata": {
        "colab": {
          "base_uri": "https://localhost:8080/"
        },
        "id": "wQ1EPwpQ1M7O",
        "outputId": "7c70de16-b2a4-42e3-8037-e66d77c0897c"
      },
      "source": [
        "df.columns"
      ],
      "execution_count": null,
      "outputs": [
        {
          "output_type": "execute_result",
          "data": {
            "text/plain": [
              "Index(['Unnamed: 0', 'User_ID', 'Activity_ID', 'No_of_attempts', 'Time_taken',\n",
              "       'Activity_score', 'Status', 'Act_Translanguage_Level'],\n",
              "      dtype='object')"
            ]
          },
          "metadata": {},
          "execution_count": 14
        }
      ]
    },
    {
      "cell_type": "code",
      "metadata": {
        "colab": {
          "base_uri": "https://localhost:8080/",
          "height": 203
        },
        "id": "LJ42Ytrblz-c",
        "outputId": "dc494330-d181-4927-9832-396d8df45666"
      },
      "source": [
        "df.head()"
      ],
      "execution_count": null,
      "outputs": [
        {
          "output_type": "execute_result",
          "data": {
            "text/html": [
              "<div>\n",
              "<style scoped>\n",
              "    .dataframe tbody tr th:only-of-type {\n",
              "        vertical-align: middle;\n",
              "    }\n",
              "\n",
              "    .dataframe tbody tr th {\n",
              "        vertical-align: top;\n",
              "    }\n",
              "\n",
              "    .dataframe thead th {\n",
              "        text-align: right;\n",
              "    }\n",
              "</style>\n",
              "<table border=\"1\" class=\"dataframe\">\n",
              "  <thead>\n",
              "    <tr style=\"text-align: right;\">\n",
              "      <th></th>\n",
              "      <th>Unnamed: 0</th>\n",
              "      <th>User_ID</th>\n",
              "      <th>Activity_ID</th>\n",
              "      <th>No_of_attempts</th>\n",
              "      <th>Time_taken</th>\n",
              "      <th>Activity_score</th>\n",
              "      <th>Status</th>\n",
              "      <th>Act_Translanguage_Level</th>\n",
              "    </tr>\n",
              "  </thead>\n",
              "  <tbody>\n",
              "    <tr>\n",
              "      <th>0</th>\n",
              "      <td>0</td>\n",
              "      <td>0</td>\n",
              "      <td>who-poiki-simulation-2</td>\n",
              "      <td>3</td>\n",
              "      <td>257.429813</td>\n",
              "      <td>1.859757</td>\n",
              "      <td>Pass</td>\n",
              "      <td>1.929879</td>\n",
              "    </tr>\n",
              "    <tr>\n",
              "      <th>1</th>\n",
              "      <td>1</td>\n",
              "      <td>0</td>\n",
              "      <td>beach-bingo-1</td>\n",
              "      <td>3</td>\n",
              "      <td>264.939320</td>\n",
              "      <td>1.608246</td>\n",
              "      <td>Pass</td>\n",
              "      <td>1.769062</td>\n",
              "    </tr>\n",
              "    <tr>\n",
              "      <th>2</th>\n",
              "      <td>2</td>\n",
              "      <td>0</td>\n",
              "      <td>clothes-roulette-1</td>\n",
              "      <td>1</td>\n",
              "      <td>270.945805</td>\n",
              "      <td>1.645778</td>\n",
              "      <td>Pass</td>\n",
              "      <td>1.707420</td>\n",
              "    </tr>\n",
              "    <tr>\n",
              "      <th>3</th>\n",
              "      <td>3</td>\n",
              "      <td>0</td>\n",
              "      <td>who-all-videoclip-1</td>\n",
              "      <td>2</td>\n",
              "      <td>262.541516</td>\n",
              "      <td>1.857087</td>\n",
              "      <td>Pass</td>\n",
              "      <td>1.782253</td>\n",
              "    </tr>\n",
              "    <tr>\n",
              "      <th>4</th>\n",
              "      <td>4</td>\n",
              "      <td>0</td>\n",
              "      <td>who-wendy-book-1</td>\n",
              "      <td>4</td>\n",
              "      <td>253.207392</td>\n",
              "      <td>1.784032</td>\n",
              "      <td>Pass</td>\n",
              "      <td>1.783143</td>\n",
              "    </tr>\n",
              "  </tbody>\n",
              "</table>\n",
              "</div>"
            ],
            "text/plain": [
              "   Unnamed: 0  User_ID  ... Status  Act_Translanguage_Level\n",
              "0           0        0  ...   Pass                 1.929879\n",
              "1           1        0  ...   Pass                 1.769062\n",
              "2           2        0  ...   Pass                 1.707420\n",
              "3           3        0  ...   Pass                 1.782253\n",
              "4           4        0  ...   Pass                 1.783143\n",
              "\n",
              "[5 rows x 8 columns]"
            ]
          },
          "metadata": {},
          "execution_count": 3
        }
      ]
    },
    {
      "cell_type": "code",
      "metadata": {
        "colab": {
          "base_uri": "https://localhost:8080/"
        },
        "id": "01bTtcWml2AO",
        "outputId": "c5ae3f1d-ab24-457a-f7ed-e5fbae2b7e30"
      },
      "source": [
        "df.info()"
      ],
      "execution_count": null,
      "outputs": [
        {
          "output_type": "stream",
          "name": "stdout",
          "text": [
            "<class 'pandas.core.frame.DataFrame'>\n",
            "RangeIndex: 2500 entries, 0 to 2499\n",
            "Data columns (total 8 columns):\n",
            " #   Column                   Non-Null Count  Dtype  \n",
            "---  ------                   --------------  -----  \n",
            " 0   Unnamed: 0               2500 non-null   int64  \n",
            " 1   User_ID                  2500 non-null   int64  \n",
            " 2   Activity_ID              2500 non-null   object \n",
            " 3   No_of_attempts           2500 non-null   int64  \n",
            " 4   Time_taken               2500 non-null   float64\n",
            " 5   Activity_score           2500 non-null   float64\n",
            " 6   Status                   2500 non-null   object \n",
            " 7   Act_Translanguage_Level  2500 non-null   float64\n",
            "dtypes: float64(3), int64(3), object(2)\n",
            "memory usage: 156.4+ KB\n"
          ]
        }
      ]
    },
    {
      "cell_type": "code",
      "metadata": {
        "colab": {
          "base_uri": "https://localhost:8080/",
          "height": 295
        },
        "id": "14QCMMSml4RJ",
        "outputId": "4b88c22c-7971-4f89-8a2f-b1f0aea628c8"
      },
      "source": [
        "df.describe()"
      ],
      "execution_count": null,
      "outputs": [
        {
          "output_type": "execute_result",
          "data": {
            "text/html": [
              "<div>\n",
              "<style scoped>\n",
              "    .dataframe tbody tr th:only-of-type {\n",
              "        vertical-align: middle;\n",
              "    }\n",
              "\n",
              "    .dataframe tbody tr th {\n",
              "        vertical-align: top;\n",
              "    }\n",
              "\n",
              "    .dataframe thead th {\n",
              "        text-align: right;\n",
              "    }\n",
              "</style>\n",
              "<table border=\"1\" class=\"dataframe\">\n",
              "  <thead>\n",
              "    <tr style=\"text-align: right;\">\n",
              "      <th></th>\n",
              "      <th>Unnamed: 0</th>\n",
              "      <th>User_ID</th>\n",
              "      <th>No_of_attempts</th>\n",
              "      <th>Time_taken</th>\n",
              "      <th>Activity_score</th>\n",
              "      <th>Act_Translanguage_Level</th>\n",
              "    </tr>\n",
              "  </thead>\n",
              "  <tbody>\n",
              "    <tr>\n",
              "      <th>count</th>\n",
              "      <td>2500.000000</td>\n",
              "      <td>2500.000000</td>\n",
              "      <td>2500.000000</td>\n",
              "      <td>2500.000000</td>\n",
              "      <td>2500.000000</td>\n",
              "      <td>2500.000000</td>\n",
              "    </tr>\n",
              "    <tr>\n",
              "      <th>mean</th>\n",
              "      <td>4.500000</td>\n",
              "      <td>124.500000</td>\n",
              "      <td>2.069200</td>\n",
              "      <td>291.610055</td>\n",
              "      <td>1.914980</td>\n",
              "      <td>1.915600</td>\n",
              "    </tr>\n",
              "    <tr>\n",
              "      <th>std</th>\n",
              "      <td>2.872856</td>\n",
              "      <td>72.182644</td>\n",
              "      <td>0.969529</td>\n",
              "      <td>30.983165</td>\n",
              "      <td>0.980038</td>\n",
              "      <td>0.942968</td>\n",
              "    </tr>\n",
              "    <tr>\n",
              "      <th>min</th>\n",
              "      <td>0.000000</td>\n",
              "      <td>0.000000</td>\n",
              "      <td>1.000000</td>\n",
              "      <td>89.005704</td>\n",
              "      <td>-0.393384</td>\n",
              "      <td>0.043196</td>\n",
              "    </tr>\n",
              "    <tr>\n",
              "      <th>25%</th>\n",
              "      <td>2.000000</td>\n",
              "      <td>62.000000</td>\n",
              "      <td>1.000000</td>\n",
              "      <td>267.811633</td>\n",
              "      <td>1.247465</td>\n",
              "      <td>1.291985</td>\n",
              "    </tr>\n",
              "    <tr>\n",
              "      <th>50%</th>\n",
              "      <td>4.500000</td>\n",
              "      <td>124.500000</td>\n",
              "      <td>2.000000</td>\n",
              "      <td>288.814882</td>\n",
              "      <td>1.837990</td>\n",
              "      <td>1.778065</td>\n",
              "    </tr>\n",
              "    <tr>\n",
              "      <th>75%</th>\n",
              "      <td>7.000000</td>\n",
              "      <td>187.000000</td>\n",
              "      <td>3.000000</td>\n",
              "      <td>314.918033</td>\n",
              "      <td>2.636905</td>\n",
              "      <td>2.640141</td>\n",
              "    </tr>\n",
              "    <tr>\n",
              "      <th>max</th>\n",
              "      <td>9.000000</td>\n",
              "      <td>249.000000</td>\n",
              "      <td>4.000000</td>\n",
              "      <td>361.206131</td>\n",
              "      <td>4.187029</td>\n",
              "      <td>4.004525</td>\n",
              "    </tr>\n",
              "  </tbody>\n",
              "</table>\n",
              "</div>"
            ],
            "text/plain": [
              "        Unnamed: 0      User_ID  ...  Activity_score  Act_Translanguage_Level\n",
              "count  2500.000000  2500.000000  ...     2500.000000              2500.000000\n",
              "mean      4.500000   124.500000  ...        1.914980                 1.915600\n",
              "std       2.872856    72.182644  ...        0.980038                 0.942968\n",
              "min       0.000000     0.000000  ...       -0.393384                 0.043196\n",
              "25%       2.000000    62.000000  ...        1.247465                 1.291985\n",
              "50%       4.500000   124.500000  ...        1.837990                 1.778065\n",
              "75%       7.000000   187.000000  ...        2.636905                 2.640141\n",
              "max       9.000000   249.000000  ...        4.187029                 4.004525\n",
              "\n",
              "[8 rows x 6 columns]"
            ]
          },
          "metadata": {},
          "execution_count": 5
        }
      ]
    },
    {
      "cell_type": "code",
      "metadata": {
        "colab": {
          "base_uri": "https://localhost:8080/"
        },
        "id": "J4C9Ucv8l6mN",
        "outputId": "26932b0e-c486-4ac1-a6bf-316c5f63db9d"
      },
      "source": [
        "df['User_ID'].nunique()"
      ],
      "execution_count": null,
      "outputs": [
        {
          "output_type": "execute_result",
          "data": {
            "text/plain": [
              "250"
            ]
          },
          "metadata": {},
          "execution_count": 6
        }
      ]
    },
    {
      "cell_type": "code",
      "metadata": {
        "colab": {
          "base_uri": "https://localhost:8080/",
          "height": 447
        },
        "id": "RqqtGMGNl-QZ",
        "outputId": "755a0d9e-7ad5-47f4-eff5-bb28cca51c23"
      },
      "source": [
        "df.groupby(['User_ID']).count()"
      ],
      "execution_count": null,
      "outputs": [
        {
          "output_type": "execute_result",
          "data": {
            "text/html": [
              "<div>\n",
              "<style scoped>\n",
              "    .dataframe tbody tr th:only-of-type {\n",
              "        vertical-align: middle;\n",
              "    }\n",
              "\n",
              "    .dataframe tbody tr th {\n",
              "        vertical-align: top;\n",
              "    }\n",
              "\n",
              "    .dataframe thead th {\n",
              "        text-align: right;\n",
              "    }\n",
              "</style>\n",
              "<table border=\"1\" class=\"dataframe\">\n",
              "  <thead>\n",
              "    <tr style=\"text-align: right;\">\n",
              "      <th></th>\n",
              "      <th>Unnamed: 0</th>\n",
              "      <th>Activity_ID</th>\n",
              "      <th>No_of_attempts</th>\n",
              "      <th>Time_taken</th>\n",
              "      <th>Activity_score</th>\n",
              "      <th>Status</th>\n",
              "      <th>Act_Translanguage_Level</th>\n",
              "    </tr>\n",
              "    <tr>\n",
              "      <th>User_ID</th>\n",
              "      <th></th>\n",
              "      <th></th>\n",
              "      <th></th>\n",
              "      <th></th>\n",
              "      <th></th>\n",
              "      <th></th>\n",
              "      <th></th>\n",
              "    </tr>\n",
              "  </thead>\n",
              "  <tbody>\n",
              "    <tr>\n",
              "      <th>0</th>\n",
              "      <td>10</td>\n",
              "      <td>10</td>\n",
              "      <td>10</td>\n",
              "      <td>10</td>\n",
              "      <td>10</td>\n",
              "      <td>10</td>\n",
              "      <td>10</td>\n",
              "    </tr>\n",
              "    <tr>\n",
              "      <th>1</th>\n",
              "      <td>10</td>\n",
              "      <td>10</td>\n",
              "      <td>10</td>\n",
              "      <td>10</td>\n",
              "      <td>10</td>\n",
              "      <td>10</td>\n",
              "      <td>10</td>\n",
              "    </tr>\n",
              "    <tr>\n",
              "      <th>2</th>\n",
              "      <td>10</td>\n",
              "      <td>10</td>\n",
              "      <td>10</td>\n",
              "      <td>10</td>\n",
              "      <td>10</td>\n",
              "      <td>10</td>\n",
              "      <td>10</td>\n",
              "    </tr>\n",
              "    <tr>\n",
              "      <th>3</th>\n",
              "      <td>10</td>\n",
              "      <td>10</td>\n",
              "      <td>10</td>\n",
              "      <td>10</td>\n",
              "      <td>10</td>\n",
              "      <td>10</td>\n",
              "      <td>10</td>\n",
              "    </tr>\n",
              "    <tr>\n",
              "      <th>4</th>\n",
              "      <td>10</td>\n",
              "      <td>10</td>\n",
              "      <td>10</td>\n",
              "      <td>10</td>\n",
              "      <td>10</td>\n",
              "      <td>10</td>\n",
              "      <td>10</td>\n",
              "    </tr>\n",
              "    <tr>\n",
              "      <th>...</th>\n",
              "      <td>...</td>\n",
              "      <td>...</td>\n",
              "      <td>...</td>\n",
              "      <td>...</td>\n",
              "      <td>...</td>\n",
              "      <td>...</td>\n",
              "      <td>...</td>\n",
              "    </tr>\n",
              "    <tr>\n",
              "      <th>245</th>\n",
              "      <td>10</td>\n",
              "      <td>10</td>\n",
              "      <td>10</td>\n",
              "      <td>10</td>\n",
              "      <td>10</td>\n",
              "      <td>10</td>\n",
              "      <td>10</td>\n",
              "    </tr>\n",
              "    <tr>\n",
              "      <th>246</th>\n",
              "      <td>10</td>\n",
              "      <td>10</td>\n",
              "      <td>10</td>\n",
              "      <td>10</td>\n",
              "      <td>10</td>\n",
              "      <td>10</td>\n",
              "      <td>10</td>\n",
              "    </tr>\n",
              "    <tr>\n",
              "      <th>247</th>\n",
              "      <td>10</td>\n",
              "      <td>10</td>\n",
              "      <td>10</td>\n",
              "      <td>10</td>\n",
              "      <td>10</td>\n",
              "      <td>10</td>\n",
              "      <td>10</td>\n",
              "    </tr>\n",
              "    <tr>\n",
              "      <th>248</th>\n",
              "      <td>10</td>\n",
              "      <td>10</td>\n",
              "      <td>10</td>\n",
              "      <td>10</td>\n",
              "      <td>10</td>\n",
              "      <td>10</td>\n",
              "      <td>10</td>\n",
              "    </tr>\n",
              "    <tr>\n",
              "      <th>249</th>\n",
              "      <td>10</td>\n",
              "      <td>10</td>\n",
              "      <td>10</td>\n",
              "      <td>10</td>\n",
              "      <td>10</td>\n",
              "      <td>10</td>\n",
              "      <td>10</td>\n",
              "    </tr>\n",
              "  </tbody>\n",
              "</table>\n",
              "<p>250 rows × 7 columns</p>\n",
              "</div>"
            ],
            "text/plain": [
              "         Unnamed: 0  Activity_ID  ...  Status  Act_Translanguage_Level\n",
              "User_ID                           ...                                 \n",
              "0                10           10  ...      10                       10\n",
              "1                10           10  ...      10                       10\n",
              "2                10           10  ...      10                       10\n",
              "3                10           10  ...      10                       10\n",
              "4                10           10  ...      10                       10\n",
              "...             ...          ...  ...     ...                      ...\n",
              "245              10           10  ...      10                       10\n",
              "246              10           10  ...      10                       10\n",
              "247              10           10  ...      10                       10\n",
              "248              10           10  ...      10                       10\n",
              "249              10           10  ...      10                       10\n",
              "\n",
              "[250 rows x 7 columns]"
            ]
          },
          "metadata": {},
          "execution_count": 7
        }
      ]
    },
    {
      "cell_type": "code",
      "metadata": {
        "colab": {
          "base_uri": "https://localhost:8080/"
        },
        "id": "mysF5vDQmAaH",
        "outputId": "427f8913-6c4f-4182-ea77-0a7a32ed1682"
      },
      "source": [
        "df['No_of_attempts'].mean()"
      ],
      "execution_count": null,
      "outputs": [
        {
          "output_type": "execute_result",
          "data": {
            "text/plain": [
              "2.0692"
            ]
          },
          "metadata": {},
          "execution_count": 8
        }
      ]
    },
    {
      "cell_type": "code",
      "metadata": {
        "colab": {
          "base_uri": "https://localhost:8080/"
        },
        "id": "MYqXlqrG2V0b",
        "outputId": "31eade47-ab86-43a5-8470-d2bd85d221df"
      },
      "source": [
        "df['No_of_attempts'].value_counts()"
      ],
      "execution_count": null,
      "outputs": [
        {
          "output_type": "execute_result",
          "data": {
            "text/plain": [
              "2    856\n",
              "1    855\n",
              "3    550\n",
              "4    239\n",
              "Name: No_of_attempts, dtype: int64"
            ]
          },
          "metadata": {},
          "execution_count": 15
        }
      ]
    },
    {
      "cell_type": "code",
      "metadata": {
        "colab": {
          "base_uri": "https://localhost:8080/"
        },
        "id": "B-8b4Hu8mEtY",
        "outputId": "bbc6afac-8138-4365-91ee-85013bedae6b"
      },
      "source": [
        "df['Time_taken'].mean()"
      ],
      "execution_count": null,
      "outputs": [
        {
          "output_type": "execute_result",
          "data": {
            "text/plain": [
              "291.6100551246308"
            ]
          },
          "metadata": {},
          "execution_count": 9
        }
      ]
    },
    {
      "cell_type": "code",
      "metadata": {
        "colab": {
          "base_uri": "https://localhost:8080/"
        },
        "id": "CWqO4tfumKHK",
        "outputId": "29ea33e3-70bc-49e8-89bd-952d47db3d34"
      },
      "source": [
        "df['Status'].value_counts()"
      ],
      "execution_count": null,
      "outputs": [
        {
          "output_type": "execute_result",
          "data": {
            "text/plain": [
              "Pass    2499\n",
              "Fail       1\n",
              "Name: Status, dtype: int64"
            ]
          },
          "metadata": {},
          "execution_count": 10
        }
      ]
    },
    {
      "cell_type": "code",
      "metadata": {
        "colab": {
          "base_uri": "https://localhost:8080/",
          "height": 80
        },
        "id": "xlRtwEgNmMav",
        "outputId": "9045f0fb-8f6f-44df-ce6f-edcd59b589d3"
      },
      "source": [
        "df[df['Status']=='Fail']"
      ],
      "execution_count": null,
      "outputs": [
        {
          "output_type": "execute_result",
          "data": {
            "text/html": [
              "<div>\n",
              "<style scoped>\n",
              "    .dataframe tbody tr th:only-of-type {\n",
              "        vertical-align: middle;\n",
              "    }\n",
              "\n",
              "    .dataframe tbody tr th {\n",
              "        vertical-align: top;\n",
              "    }\n",
              "\n",
              "    .dataframe thead th {\n",
              "        text-align: right;\n",
              "    }\n",
              "</style>\n",
              "<table border=\"1\" class=\"dataframe\">\n",
              "  <thead>\n",
              "    <tr style=\"text-align: right;\">\n",
              "      <th></th>\n",
              "      <th>Unnamed: 0</th>\n",
              "      <th>User_ID</th>\n",
              "      <th>Activity_ID</th>\n",
              "      <th>No_of_attempts</th>\n",
              "      <th>Time_taken</th>\n",
              "      <th>Activity_score</th>\n",
              "      <th>Status</th>\n",
              "      <th>Act_Translanguage_Level</th>\n",
              "    </tr>\n",
              "  </thead>\n",
              "  <tbody>\n",
              "    <tr>\n",
              "      <th>839</th>\n",
              "      <td>9</td>\n",
              "      <td>83</td>\n",
              "      <td>lab-kevin-game-1</td>\n",
              "      <td>1</td>\n",
              "      <td>89.005704</td>\n",
              "      <td>0.0</td>\n",
              "      <td>Fail</td>\n",
              "      <td>0.359867</td>\n",
              "    </tr>\n",
              "  </tbody>\n",
              "</table>\n",
              "</div>"
            ],
            "text/plain": [
              "     Unnamed: 0  User_ID  ... Status  Act_Translanguage_Level\n",
              "839           9       83  ...   Fail                 0.359867\n",
              "\n",
              "[1 rows x 8 columns]"
            ]
          },
          "metadata": {},
          "execution_count": 11
        }
      ]
    },
    {
      "cell_type": "code",
      "metadata": {
        "colab": {
          "base_uri": "https://localhost:8080/"
        },
        "id": "qS2zlCFnmOzB",
        "outputId": "d344c826-b327-44d7-9cb6-ca10f21fcf3c"
      },
      "source": [
        "df['Activity_ID'].nunique()"
      ],
      "execution_count": null,
      "outputs": [
        {
          "output_type": "execute_result",
          "data": {
            "text/plain": [
              "60"
            ]
          },
          "metadata": {},
          "execution_count": 12
        }
      ]
    },
    {
      "cell_type": "code",
      "metadata": {
        "id": "YssEimB0mRJ9",
        "colab": {
          "base_uri": "https://localhost:8080/",
          "height": 388
        },
        "outputId": "30d2023f-fcdb-4b47-e3b7-c2aa728ef23d"
      },
      "source": [
        "df[df['Activity_score']<0]"
      ],
      "execution_count": null,
      "outputs": [
        {
          "output_type": "execute_result",
          "data": {
            "text/html": [
              "<div>\n",
              "<style scoped>\n",
              "    .dataframe tbody tr th:only-of-type {\n",
              "        vertical-align: middle;\n",
              "    }\n",
              "\n",
              "    .dataframe tbody tr th {\n",
              "        vertical-align: top;\n",
              "    }\n",
              "\n",
              "    .dataframe thead th {\n",
              "        text-align: right;\n",
              "    }\n",
              "</style>\n",
              "<table border=\"1\" class=\"dataframe\">\n",
              "  <thead>\n",
              "    <tr style=\"text-align: right;\">\n",
              "      <th></th>\n",
              "      <th>Unnamed: 0</th>\n",
              "      <th>User_ID</th>\n",
              "      <th>Activity_ID</th>\n",
              "      <th>No_of_attempts</th>\n",
              "      <th>Time_taken</th>\n",
              "      <th>Activity_score</th>\n",
              "      <th>Status</th>\n",
              "      <th>Act_Translanguage_Level</th>\n",
              "    </tr>\n",
              "  </thead>\n",
              "  <tbody>\n",
              "    <tr>\n",
              "      <th>302</th>\n",
              "      <td>2</td>\n",
              "      <td>30</td>\n",
              "      <td>farm-poiki-video-2</td>\n",
              "      <td>3</td>\n",
              "      <td>322.449735</td>\n",
              "      <td>-0.059007</td>\n",
              "      <td>Pass</td>\n",
              "      <td>0.235249</td>\n",
              "    </tr>\n",
              "    <tr>\n",
              "      <th>355</th>\n",
              "      <td>5</td>\n",
              "      <td>35</td>\n",
              "      <td>farm-poiki-simulation-1</td>\n",
              "      <td>1</td>\n",
              "      <td>337.054683</td>\n",
              "      <td>-0.111038</td>\n",
              "      <td>Pass</td>\n",
              "      <td>0.105714</td>\n",
              "    </tr>\n",
              "    <tr>\n",
              "      <th>477</th>\n",
              "      <td>7</td>\n",
              "      <td>47</td>\n",
              "      <td>farm-poiki-video-1</td>\n",
              "      <td>4</td>\n",
              "      <td>338.464824</td>\n",
              "      <td>-0.052050</td>\n",
              "      <td>Pass</td>\n",
              "      <td>0.128937</td>\n",
              "    </tr>\n",
              "    <tr>\n",
              "      <th>1259</th>\n",
              "      <td>9</td>\n",
              "      <td>125</td>\n",
              "      <td>cooking-poiki-simulation-1</td>\n",
              "      <td>2</td>\n",
              "      <td>317.016440</td>\n",
              "      <td>-0.135966</td>\n",
              "      <td>Pass</td>\n",
              "      <td>0.119218</td>\n",
              "    </tr>\n",
              "    <tr>\n",
              "      <th>1583</th>\n",
              "      <td>3</td>\n",
              "      <td>158</td>\n",
              "      <td>birthday-wendy-simulation-1</td>\n",
              "      <td>4</td>\n",
              "      <td>341.975885</td>\n",
              "      <td>-0.393384</td>\n",
              "      <td>Pass</td>\n",
              "      <td>0.071580</td>\n",
              "    </tr>\n",
              "    <tr>\n",
              "      <th>1628</th>\n",
              "      <td>8</td>\n",
              "      <td>162</td>\n",
              "      <td>who-wendy-routine-2</td>\n",
              "      <td>3</td>\n",
              "      <td>336.397036</td>\n",
              "      <td>-0.039694</td>\n",
              "      <td>Pass</td>\n",
              "      <td>0.123190</td>\n",
              "    </tr>\n",
              "    <tr>\n",
              "      <th>1642</th>\n",
              "      <td>2</td>\n",
              "      <td>164</td>\n",
              "      <td>farm-poiki-video-2</td>\n",
              "      <td>2</td>\n",
              "      <td>313.250531</td>\n",
              "      <td>-0.103319</td>\n",
              "      <td>Pass</td>\n",
              "      <td>0.168551</td>\n",
              "    </tr>\n",
              "    <tr>\n",
              "      <th>1649</th>\n",
              "      <td>9</td>\n",
              "      <td>164</td>\n",
              "      <td>birthday-wendy-simulation-1</td>\n",
              "      <td>1</td>\n",
              "      <td>334.544387</td>\n",
              "      <td>-0.054740</td>\n",
              "      <td>Pass</td>\n",
              "      <td>0.141791</td>\n",
              "    </tr>\n",
              "    <tr>\n",
              "      <th>1872</th>\n",
              "      <td>2</td>\n",
              "      <td>187</td>\n",
              "      <td>farm-poiki-video-2</td>\n",
              "      <td>1</td>\n",
              "      <td>331.159901</td>\n",
              "      <td>-0.006039</td>\n",
              "      <td>Pass</td>\n",
              "      <td>0.277192</td>\n",
              "    </tr>\n",
              "    <tr>\n",
              "      <th>2246</th>\n",
              "      <td>6</td>\n",
              "      <td>224</td>\n",
              "      <td>farm-poiki-simulation-1</td>\n",
              "      <td>2</td>\n",
              "      <td>325.534053</td>\n",
              "      <td>-0.033944</td>\n",
              "      <td>Pass</td>\n",
              "      <td>0.132134</td>\n",
              "    </tr>\n",
              "    <tr>\n",
              "      <th>2467</th>\n",
              "      <td>7</td>\n",
              "      <td>246</td>\n",
              "      <td>farm-poiki-video-1</td>\n",
              "      <td>2</td>\n",
              "      <td>296.904855</td>\n",
              "      <td>-0.168110</td>\n",
              "      <td>Pass</td>\n",
              "      <td>0.043196</td>\n",
              "    </tr>\n",
              "  </tbody>\n",
              "</table>\n",
              "</div>"
            ],
            "text/plain": [
              "      Unnamed: 0  User_ID  ... Status  Act_Translanguage_Level\n",
              "302            2       30  ...   Pass                 0.235249\n",
              "355            5       35  ...   Pass                 0.105714\n",
              "477            7       47  ...   Pass                 0.128937\n",
              "1259           9      125  ...   Pass                 0.119218\n",
              "1583           3      158  ...   Pass                 0.071580\n",
              "1628           8      162  ...   Pass                 0.123190\n",
              "1642           2      164  ...   Pass                 0.168551\n",
              "1649           9      164  ...   Pass                 0.141791\n",
              "1872           2      187  ...   Pass                 0.277192\n",
              "2246           6      224  ...   Pass                 0.132134\n",
              "2467           7      246  ...   Pass                 0.043196\n",
              "\n",
              "[11 rows x 8 columns]"
            ]
          },
          "metadata": {},
          "execution_count": 13
        }
      ]
    },
    {
      "cell_type": "code",
      "metadata": {
        "id": "UgVGaflPmTM2"
      },
      "source": [
        ""
      ],
      "execution_count": null,
      "outputs": []
    }
  ]
}