{
 "cells": [
  {
   "cell_type": "markdown",
   "metadata": {
    "id": "PlAShnCRICpv"
   },
   "source": [
    "####Remember to import the data csv file before running any commands \n",
    "\n",
    "####Note, Filipp, 29.8.21: This should now work automatically, once the data is pulled via dvc."
   ]
  },
  {
   "cell_type": "code",
   "execution_count": 1,
   "metadata": {
    "id": "OnIci4w2H3LM"
   },
   "outputs": [],
   "source": [
    "import numpy as np\n",
    "import pandas as pd\n",
    "import seaborn as sns\n",
    "import matplotlib.pyplot as plt"
   ]
  },
  {
   "cell_type": "code",
   "execution_count": 2,
   "metadata": {
    "id": "ueAng2ssH908"
   },
   "outputs": [],
   "source": [
    "df = pd.read_csv('../data_raw/activities_with_level.csv')"
   ]
  },
  {
   "cell_type": "code",
   "execution_count": 3,
   "metadata": {
    "colab": {
     "base_uri": "https://localhost:8080/"
    },
    "id": "af8f6lVkIVXl",
    "outputId": "01a65dfb-5f9b-4e49-9b78-87d886ae6422"
   },
   "outputs": [
    {
     "name": "stdout",
     "output_type": "stream",
     "text": [
      "<class 'pandas.core.frame.DataFrame'>\n",
      "RangeIndex: 403 entries, 0 to 402\n",
      "Data columns (total 9 columns):\n",
      " #   Column          Non-Null Count  Dtype \n",
      "---  ------          --------------  ----- \n",
      " 0   age             403 non-null    int64 \n",
      " 1   id              403 non-null    object\n",
      " 2   name            403 non-null    object\n",
      " 3   activity_type   403 non-null    object\n",
      " 4   content         403 non-null    object\n",
      " 5   game_type       403 non-null    object\n",
      " 6   cultures        403 non-null    object\n",
      " 7   learning_level  403 non-null    object\n",
      " 8   level_num       403 non-null    int64 \n",
      "dtypes: int64(2), object(7)\n",
      "memory usage: 28.5+ KB\n"
     ]
    }
   ],
   "source": [
    "df.info()"
   ]
  },
  {
   "cell_type": "markdown",
   "metadata": {
    "id": "qM1-3KYGJIlN"
   },
   "source": [
    "\n",
    "\n",
    "*   We have total 403 activities [seaparated by age]\n",
    "\n"
   ]
  },
  {
   "cell_type": "code",
   "execution_count": 4,
   "metadata": {
    "colab": {
     "base_uri": "https://localhost:8080/"
    },
    "id": "rskgaQEmJEZZ",
    "outputId": "4787817b-8d82-45ef-86bd-5d71665860ee"
   },
   "outputs": [
    {
     "data": {
      "text/plain": [
       "Index(['age', 'id', 'name', 'activity_type', 'content', 'game_type',\n",
       "       'cultures', 'learning_level', 'level_num'],\n",
       "      dtype='object')"
      ]
     },
     "execution_count": 4,
     "metadata": {},
     "output_type": "execute_result"
    }
   ],
   "source": [
    "df.columns"
   ]
  },
  {
   "cell_type": "code",
   "execution_count": 5,
   "metadata": {
    "colab": {
     "base_uri": "https://localhost:8080/"
    },
    "id": "Uhk4xjHbKpAI",
    "outputId": "9b6c32b3-3a68-4228-d029-bc1b9c6a7c5e"
   },
   "outputs": [
    {
     "data": {
      "text/plain": [
       "age                int64\n",
       "id                object\n",
       "name              object\n",
       "activity_type     object\n",
       "content           object\n",
       "game_type         object\n",
       "cultures          object\n",
       "learning_level    object\n",
       "level_num          int64\n",
       "dtype: object"
      ]
     },
     "execution_count": 5,
     "metadata": {},
     "output_type": "execute_result"
    }
   ],
   "source": [
    "df.dtypes"
   ]
  },
  {
   "cell_type": "code",
   "execution_count": 6,
   "metadata": {
    "colab": {
     "base_uri": "https://localhost:8080/",
     "height": 295
    },
    "id": "9ttdhd1HKsvJ",
    "outputId": "1baf6a8a-3e7c-4cf5-be93-2e2bf600c8bf"
   },
   "outputs": [
    {
     "data": {
      "text/html": [
       "<div>\n",
       "<style scoped>\n",
       "    .dataframe tbody tr th:only-of-type {\n",
       "        vertical-align: middle;\n",
       "    }\n",
       "\n",
       "    .dataframe tbody tr th {\n",
       "        vertical-align: top;\n",
       "    }\n",
       "\n",
       "    .dataframe thead th {\n",
       "        text-align: right;\n",
       "    }\n",
       "</style>\n",
       "<table border=\"1\" class=\"dataframe\">\n",
       "  <thead>\n",
       "    <tr style=\"text-align: right;\">\n",
       "      <th></th>\n",
       "      <th>age</th>\n",
       "      <th>level_num</th>\n",
       "    </tr>\n",
       "  </thead>\n",
       "  <tbody>\n",
       "    <tr>\n",
       "      <th>count</th>\n",
       "      <td>403.000000</td>\n",
       "      <td>403.000000</td>\n",
       "    </tr>\n",
       "    <tr>\n",
       "      <th>mean</th>\n",
       "      <td>3.344913</td>\n",
       "      <td>0.424318</td>\n",
       "    </tr>\n",
       "    <tr>\n",
       "      <th>std</th>\n",
       "      <td>1.170807</td>\n",
       "      <td>0.615799</td>\n",
       "    </tr>\n",
       "    <tr>\n",
       "      <th>min</th>\n",
       "      <td>2.000000</td>\n",
       "      <td>0.000000</td>\n",
       "    </tr>\n",
       "    <tr>\n",
       "      <th>25%</th>\n",
       "      <td>2.000000</td>\n",
       "      <td>0.000000</td>\n",
       "    </tr>\n",
       "    <tr>\n",
       "      <th>50%</th>\n",
       "      <td>3.000000</td>\n",
       "      <td>0.000000</td>\n",
       "    </tr>\n",
       "    <tr>\n",
       "      <th>75%</th>\n",
       "      <td>4.000000</td>\n",
       "      <td>1.000000</td>\n",
       "    </tr>\n",
       "    <tr>\n",
       "      <th>max</th>\n",
       "      <td>6.000000</td>\n",
       "      <td>2.000000</td>\n",
       "    </tr>\n",
       "  </tbody>\n",
       "</table>\n",
       "</div>"
      ],
      "text/plain": [
       "              age   level_num\n",
       "count  403.000000  403.000000\n",
       "mean     3.344913    0.424318\n",
       "std      1.170807    0.615799\n",
       "min      2.000000    0.000000\n",
       "25%      2.000000    0.000000\n",
       "50%      3.000000    0.000000\n",
       "75%      4.000000    1.000000\n",
       "max      6.000000    2.000000"
      ]
     },
     "execution_count": 6,
     "metadata": {},
     "output_type": "execute_result"
    }
   ],
   "source": [
    "df.describe()"
   ]
  },
  {
   "cell_type": "markdown",
   "metadata": {
    "id": "_Ul7ydxJKzVG"
   },
   "source": [
    "*  We can observe that the mean age is 3.34 [3] The range for the ages is [2yo-6yo]"
   ]
  },
  {
   "cell_type": "code",
   "execution_count": 7,
   "metadata": {
    "colab": {
     "base_uri": "https://localhost:8080/",
     "height": 172
    },
    "id": "lh7RRMJBKuam",
    "outputId": "3ce33462-627e-4167-b871-2da74b1866c5"
   },
   "outputs": [
    {
     "data": {
      "text/html": [
       "<div>\n",
       "<style scoped>\n",
       "    .dataframe tbody tr th:only-of-type {\n",
       "        vertical-align: middle;\n",
       "    }\n",
       "\n",
       "    .dataframe tbody tr th {\n",
       "        vertical-align: top;\n",
       "    }\n",
       "\n",
       "    .dataframe thead th {\n",
       "        text-align: right;\n",
       "    }\n",
       "</style>\n",
       "<table border=\"1\" class=\"dataframe\">\n",
       "  <thead>\n",
       "    <tr style=\"text-align: right;\">\n",
       "      <th></th>\n",
       "      <th>age</th>\n",
       "      <th>id</th>\n",
       "      <th>name</th>\n",
       "      <th>activity_type</th>\n",
       "      <th>content</th>\n",
       "      <th>game_type</th>\n",
       "      <th>cultures</th>\n",
       "      <th>learning_level</th>\n",
       "      <th>level_num</th>\n",
       "    </tr>\n",
       "  </thead>\n",
       "  <tbody>\n",
       "    <tr>\n",
       "      <th>0</th>\n",
       "      <td>2</td>\n",
       "      <td>farm-poiki-book-1</td>\n",
       "      <td>Book: Poiki, the farmer</td>\n",
       "      <td>standard</td>\n",
       "      <td>farm</td>\n",
       "      <td>reading-book</td>\n",
       "      <td>none</td>\n",
       "      <td>Level 0</td>\n",
       "      <td>0</td>\n",
       "    </tr>\n",
       "    <tr>\n",
       "      <th>1</th>\n",
       "      <td>3</td>\n",
       "      <td>farm-poiki-book-1</td>\n",
       "      <td>Book: Poiki, the farmer</td>\n",
       "      <td>standard</td>\n",
       "      <td>farm</td>\n",
       "      <td>reading-book</td>\n",
       "      <td>none</td>\n",
       "      <td>Level 0</td>\n",
       "      <td>0</td>\n",
       "    </tr>\n",
       "    <tr>\n",
       "      <th>2</th>\n",
       "      <td>4</td>\n",
       "      <td>farm-poiki-book-1</td>\n",
       "      <td>Book: Poiki, the farmer</td>\n",
       "      <td>standard</td>\n",
       "      <td>farm</td>\n",
       "      <td>reading-book</td>\n",
       "      <td>none</td>\n",
       "      <td>Level 1</td>\n",
       "      <td>1</td>\n",
       "    </tr>\n",
       "    <tr>\n",
       "      <th>3</th>\n",
       "      <td>2</td>\n",
       "      <td>farm-poiki-book-2</td>\n",
       "      <td>Book: The animals in the farm</td>\n",
       "      <td>standard</td>\n",
       "      <td>farm-animals</td>\n",
       "      <td>reading-book</td>\n",
       "      <td>none</td>\n",
       "      <td>Level 0</td>\n",
       "      <td>0</td>\n",
       "    </tr>\n",
       "  </tbody>\n",
       "</table>\n",
       "</div>"
      ],
      "text/plain": [
       "   age                 id                           name activity_type  \\\n",
       "0    2  farm-poiki-book-1        Book: Poiki, the farmer      standard   \n",
       "1    3  farm-poiki-book-1        Book: Poiki, the farmer      standard   \n",
       "2    4  farm-poiki-book-1        Book: Poiki, the farmer      standard   \n",
       "3    2  farm-poiki-book-2  Book: The animals in the farm      standard   \n",
       "\n",
       "        content     game_type cultures learning_level  level_num  \n",
       "0          farm  reading-book     none        Level 0          0  \n",
       "1          farm  reading-book     none        Level 0          0  \n",
       "2          farm  reading-book     none        Level 1          1  \n",
       "3  farm-animals  reading-book     none        Level 0          0  "
      ]
     },
     "execution_count": 7,
     "metadata": {},
     "output_type": "execute_result"
    }
   ],
   "source": [
    "df.head(4)"
   ]
  },
  {
   "cell_type": "markdown",
   "metadata": {
    "id": "2Hh4B2b5LKWJ"
   },
   "source": [
    "### Game types"
   ]
  },
  {
   "cell_type": "code",
   "execution_count": 8,
   "metadata": {
    "colab": {
     "base_uri": "https://localhost:8080/"
    },
    "id": "qLKo-xp2K7um",
    "outputId": "087cac49-df49-414e-f9dc-f440f1330a28"
   },
   "outputs": [
    {
     "data": {
      "text/plain": [
       "array(['reading-book', 'videoclip', 'demo-video', 'flashcards',\n",
       "       'stickers', 'learning-video', 'puzzle', 'hotspot', 'simulation',\n",
       "       'identification', 'drawing', 'coloring-book', 'naming', 'tracing',\n",
       "       'game', 'bingo', 'roulette', 'sequence', 'memory'], dtype=object)"
      ]
     },
     "execution_count": 8,
     "metadata": {},
     "output_type": "execute_result"
    }
   ],
   "source": [
    "df['game_type'].unique()"
   ]
  },
  {
   "cell_type": "markdown",
   "metadata": {
    "id": "EmJTOjShK_ta"
   },
   "source": [
    "* We have [19] unique game_type in our dataset"
   ]
  },
  {
   "cell_type": "code",
   "execution_count": 9,
   "metadata": {
    "colab": {
     "base_uri": "https://localhost:8080/"
    },
    "id": "ljJIym52K-r8",
    "outputId": "8c0e0a46-eaa0-4795-ceb2-bb27569f7b02"
   },
   "outputs": [
    {
     "data": {
      "text/plain": [
       "reading-book      48\n",
       "simulation        44\n",
       "learning-video    32\n",
       "hotspot           32\n",
       "demo-video        30\n",
       "videoclip         29\n",
       "puzzle            26\n",
       "identification    22\n",
       "flashcards        20\n",
       "bingo             20\n",
       "roulette          20\n",
       "game              19\n",
       "stickers          18\n",
       "tracing           15\n",
       "memory            14\n",
       "drawing            4\n",
       "sequence           4\n",
       "coloring-book      4\n",
       "naming             2\n",
       "Name: game_type, dtype: int64"
      ]
     },
     "execution_count": 9,
     "metadata": {},
     "output_type": "execute_result"
    }
   ],
   "source": [
    "df['game_type'].value_counts()"
   ]
  },
  {
   "cell_type": "code",
   "execution_count": 10,
   "metadata": {
    "colab": {
     "base_uri": "https://localhost:8080/",
     "height": 455
    },
    "id": "SAJzXUz6MdeA",
    "outputId": "c088d137-6cef-4fe8-b5cc-37d4381247ad"
   },
   "outputs": [
    {
     "data": {
      "text/plain": [
       "<AxesSubplot:xlabel='game_type', ylabel='count'>"
      ]
     },
     "execution_count": 10,
     "metadata": {},
     "output_type": "execute_result"
    },
    {
     "data": {
      "image/png": "[encoded data removed]",
      "text/plain": [
       "<Figure size 1634.4x595.44 with 1 Axes>"
      ]
     },
     "metadata": {},
     "output_type": "display_data"
    }
   ],
   "source": [
    "sns.set(rc={'figure.figsize':(22.7,8.27),'font.size':5})\n",
    "sns.countplot(x='game_type', data=df)"
   ]
  },
  {
   "cell_type": "markdown",
   "metadata": {
    "id": "x96jRCtkLOEn"
   },
   "source": [
    "### Content types"
   ]
  },
  {
   "cell_type": "code",
   "execution_count": 11,
   "metadata": {
    "colab": {
     "base_uri": "https://localhost:8080/"
    },
    "id": "lMKIbzHQLFMF",
    "outputId": "fe9c7142-7aef-4545-8294-1ffff82efab8"
   },
   "outputs": [
    {
     "data": {
      "text/plain": [
       "array(['farm', 'farm-animals', 'colors', 'shapes', 'my-country',\n",
       "       'vegetables', 'diaper-weaning', 'social-codes', 'diversity',\n",
       "       'family', 'greetings', 'characters', 'birthday', 'science',\n",
       "       'phonics', 'numbers', 'fruits', 'vehicles', 'body', 'clothes',\n",
       "       'sea-animals', 'instruments', 'jungle-animals', 'forest-animals',\n",
       "       'dinosaurs', 'beach', 'home', 'insects', 'feelings', 'friends',\n",
       "       'pets', 'desert-animals', 'fairy-tales', 'forest', 'toys',\n",
       "       'furniture', 'foods', 'baby', 'routine', 'sleeping',\n",
       "       'celebrations', 'environment', 'space', 'alphabet', 'myself',\n",
       "       'health', 'shopping'], dtype=object)"
      ]
     },
     "execution_count": 11,
     "metadata": {},
     "output_type": "execute_result"
    }
   ],
   "source": [
    "df['content'].unique()"
   ]
  },
  {
   "cell_type": "code",
   "execution_count": 12,
   "metadata": {
    "colab": {
     "base_uri": "https://localhost:8080/"
    },
    "id": "cOtj89o4LTSP",
    "outputId": "afa83069-a77d-4198-9ea3-42e4d978983f"
   },
   "outputs": [
    {
     "data": {
      "text/plain": [
       "colors            32\n",
       "my-country        30\n",
       "birthday          27\n",
       "farm-animals      25\n",
       "vegetables        25\n",
       "foods             16\n",
       "pets              15\n",
       "numbers           14\n",
       "fruits            12\n",
       "shapes            12\n",
       "sea-animals       12\n",
       "friends           12\n",
       "body              10\n",
       "feelings          10\n",
       "myself             8\n",
       "clothes            8\n",
       "social-codes       8\n",
       "routine            8\n",
       "phonics            7\n",
       "alphabet           7\n",
       "beach              6\n",
       "insects            6\n",
       "greetings          6\n",
       "science            6\n",
       "family             6\n",
       "characters         6\n",
       "farm               5\n",
       "health             4\n",
       "celebrations       4\n",
       "shopping           4\n",
       "dinosaurs          4\n",
       "vehicles           4\n",
       "desert-animals     4\n",
       "forest-animals     4\n",
       "diaper-weaning     4\n",
       "jungle-animals     4\n",
       "sleeping           4\n",
       "space              4\n",
       "fairy-tales        4\n",
       "instruments        2\n",
       "environment        2\n",
       "forest             2\n",
       "home               2\n",
       "diversity          2\n",
       "furniture          2\n",
       "baby               2\n",
       "toys               2\n",
       "Name: content, dtype: int64"
      ]
     },
     "execution_count": 12,
     "metadata": {},
     "output_type": "execute_result"
    }
   ],
   "source": [
    "df['content'].value_counts()"
   ]
  },
  {
   "cell_type": "markdown",
   "metadata": {
    "id": "hRweEjTMLYDT"
   },
   "source": [
    "* There are [47] different content items in the dataset"
   ]
  },
  {
   "cell_type": "markdown",
   "metadata": {
    "id": "TT7CBhcrQoCI"
   },
   "source": [
    "### Activity Type"
   ]
  },
  {
   "cell_type": "code",
   "execution_count": 13,
   "metadata": {
    "colab": {
     "base_uri": "https://localhost:8080/"
    },
    "id": "3m9ylxRmLU0W",
    "outputId": "996b5af2-14cd-467b-ebf3-4fd023472773"
   },
   "outputs": [
    {
     "data": {
      "text/plain": [
       "array(['standard', 'cultural', 'SEL'], dtype=object)"
      ]
     },
     "execution_count": 13,
     "metadata": {},
     "output_type": "execute_result"
    }
   ],
   "source": [
    "df['activity_type'].unique()"
   ]
  },
  {
   "cell_type": "code",
   "execution_count": 14,
   "metadata": {
    "colab": {
     "base_uri": "https://localhost:8080/"
    },
    "id": "GT1mzzskRN2p",
    "outputId": "ecb646e0-09f0-4d99-caa1-500505470bff"
   },
   "outputs": [
    {
     "data": {
      "text/plain": [
       "standard    216\n",
       "cultural    117\n",
       "SEL          70\n",
       "Name: activity_type, dtype: int64"
      ]
     },
     "execution_count": 14,
     "metadata": {},
     "output_type": "execute_result"
    }
   ],
   "source": [
    "df['activity_type'].value_counts()"
   ]
  },
  {
   "cell_type": "code",
   "execution_count": 15,
   "metadata": {
    "colab": {
     "base_uri": "https://localhost:8080/",
     "height": 371
    },
    "id": "D_uzpgSSRWEZ",
    "outputId": "23106409-62c1-4946-9681-b21c23ff69e3"
   },
   "outputs": [
    {
     "data": {
      "text/plain": [
       "<AxesSubplot:xlabel='activity_type', ylabel='count'>"
      ]
     },
     "execution_count": 15,
     "metadata": {},
     "output_type": "execute_result"
    },
    {
     "data": {
      "image/png": "[encoded data removed]",
      "text/plain": [
       "<Figure size 842.4x379.44 with 1 Axes>"
      ]
     },
     "metadata": {},
     "output_type": "display_data"
    }
   ],
   "source": [
    "sns.set(rc={'figure.figsize':(11.7,5.27),'font.size':8})\n",
    "sns.countplot(x='activity_type', data=df)"
   ]
  },
  {
   "cell_type": "markdown",
   "metadata": {
    "id": "uxmwCk7pSROV"
   },
   "source": [
    "### Activities for 2 year olds"
   ]
  },
  {
   "cell_type": "code",
   "execution_count": 16,
   "metadata": {
    "id": "_uYi2gtURjaL"
   },
   "outputs": [],
   "source": [
    "df_2 = df[df['age']==2]"
   ]
  },
  {
   "cell_type": "code",
   "execution_count": 17,
   "metadata": {
    "colab": {
     "base_uri": "https://localhost:8080/"
    },
    "id": "cuhywkzPWPWw",
    "outputId": "94224879-41cd-461a-c2ef-16e4616de542"
   },
   "outputs": [
    {
     "data": {
      "text/plain": [
       "104"
      ]
     },
     "execution_count": 17,
     "metadata": {},
     "output_type": "execute_result"
    }
   ],
   "source": [
    "len(df_2)\n",
    "# Different No of 2 year old activities we have"
   ]
  },
  {
   "cell_type": "code",
   "execution_count": 18,
   "metadata": {
    "colab": {
     "base_uri": "https://localhost:8080/"
    },
    "id": "F8PxWTfRSZw3",
    "outputId": "77486370-39e1-4475-ebc2-b95309660a9e"
   },
   "outputs": [
    {
     "data": {
      "text/plain": [
       "37"
      ]
     },
     "execution_count": 18,
     "metadata": {},
     "output_type": "execute_result"
    }
   ],
   "source": [
    "df_2['content'].nunique()"
   ]
  },
  {
   "cell_type": "markdown",
   "metadata": {
    "id": "er5RjVsNVZ1p"
   },
   "source": [
    "* We can observe only 37 content activities out of 47 are available for [2 yr olds],\n",
    "<ul type='none'>\n",
    "<li>Myself</li>\n",
    "<li>Shopping</li>\n",
    "<li>Instruments</li>\n",
    "<li>Health</li>\n",
    "<li>Forest</li>\n",
    "<li>Space</li>\n",
    "<li>Home</li>\n",
    "<li>Characters</li>\n",
    "<li>Science</li>\n",
    "<li>Alphabet</li>\n",
    "</ul>\n",
    " categories are not available there for 2 year olds"
   ]
  },
  {
   "cell_type": "code",
   "execution_count": 19,
   "metadata": {
    "colab": {
     "base_uri": "https://localhost:8080/"
    },
    "id": "zkWQlycNWp3M",
    "outputId": "a73a0e7b-04d8-491f-fee7-ca7b9cd1166b"
   },
   "outputs": [
    {
     "data": {
      "text/plain": [
       "vegetables        9\n",
       "farm-animals      9\n",
       "my-country        7\n",
       "numbers           6\n",
       "sea-animals       5\n",
       "fruits            5\n",
       "foods             5\n",
       "colors            5\n",
       "feelings          4\n",
       "social-codes      4\n",
       "friends           3\n",
       "birthday          3\n",
       "greetings         3\n",
       "family            3\n",
       "body              2\n",
       "jungle-animals    2\n",
       "fairy-tales       2\n",
       "celebrations      2\n",
       "phonics           2\n",
       "pets              2\n",
       "sleeping          2\n",
       "vehicles          2\n",
       "forest-animals    2\n",
       "diaper-weaning    2\n",
       "beach             1\n",
       "furniture         1\n",
       "farm              1\n",
       "desert-animals    1\n",
       "dinosaurs         1\n",
       "routine           1\n",
       "baby              1\n",
       "shapes            1\n",
       "diversity         1\n",
       "insects           1\n",
       "toys              1\n",
       "clothes           1\n",
       "environment       1\n",
       "Name: content, dtype: int64"
      ]
     },
     "execution_count": 19,
     "metadata": {},
     "output_type": "execute_result"
    }
   ],
   "source": [
    "df_2['content'].value_counts()"
   ]
  },
  {
   "cell_type": "code",
   "execution_count": 20,
   "metadata": {
    "colab": {
     "base_uri": "https://localhost:8080/"
    },
    "id": "4sRMChv1SsId",
    "outputId": "7e4ec34a-9ed7-4d30-a408-4786d204cf06"
   },
   "outputs": [
    {
     "data": {
      "text/plain": [
       "15"
      ]
     },
     "execution_count": 20,
     "metadata": {},
     "output_type": "execute_result"
    }
   ],
   "source": [
    "df_2['game_type'].nunique()"
   ]
  },
  {
   "cell_type": "markdown",
   "metadata": {
    "id": "LPT_JsZNS93W"
   },
   "source": [
    "* We can observe only 15 activities out of 19 are available for [2 yr olds],\n",
    "<ul type='none'>\n",
    "<li>bingo</li>\n",
    "<li>roulette</li>\n",
    "<li>sequence</li>\n",
    "<li>memory</li>\n",
    "</ul>\n",
    " categories are not available there for 2 year olds"
   ]
  },
  {
   "cell_type": "code",
   "execution_count": 21,
   "metadata": {
    "colab": {
     "base_uri": "https://localhost:8080/"
    },
    "id": "ggK33T3GWyak",
    "outputId": "ee830527-9f19-40f3-9009-eb5beb0bdde6"
   },
   "outputs": [
    {
     "data": {
      "text/plain": [
       "hotspot           15\n",
       "learning-video    13\n",
       "reading-book      13\n",
       "simulation        10\n",
       "demo-video         9\n",
       "puzzle             7\n",
       "stickers           7\n",
       "videoclip          7\n",
       "flashcards         6\n",
       "game               5\n",
       "identification     5\n",
       "drawing            2\n",
       "tracing            2\n",
       "coloring-book      2\n",
       "naming             1\n",
       "Name: game_type, dtype: int64"
      ]
     },
     "execution_count": 21,
     "metadata": {},
     "output_type": "execute_result"
    }
   ],
   "source": [
    "df_2['game_type'].value_counts()"
   ]
  },
  {
   "cell_type": "code",
   "execution_count": 22,
   "metadata": {
    "colab": {
     "base_uri": "https://localhost:8080/"
    },
    "id": "9Oq2bfw7SwmR",
    "outputId": "ebdc60ea-80dd-4dc6-d541-363d2400456c"
   },
   "outputs": [
    {
     "data": {
      "text/plain": [
       "3"
      ]
     },
     "execution_count": 22,
     "metadata": {},
     "output_type": "execute_result"
    }
   ],
   "source": [
    "df_2['activity_type'].nunique()"
   ]
  },
  {
   "cell_type": "code",
   "execution_count": 23,
   "metadata": {
    "colab": {
     "base_uri": "https://localhost:8080/"
    },
    "id": "5JQvWtFWW31A",
    "outputId": "e2e763a8-f954-4cc7-cfd0-3d8c21a9e08a"
   },
   "outputs": [
    {
     "data": {
      "text/plain": [
       "standard    53\n",
       "SEL         29\n",
       "cultural    22\n",
       "Name: activity_type, dtype: int64"
      ]
     },
     "execution_count": 23,
     "metadata": {},
     "output_type": "execute_result"
    }
   ],
   "source": [
    "df_2['activity_type'].value_counts()"
   ]
  },
  {
   "cell_type": "markdown",
   "metadata": {
    "id": "o0_Y9m42hHep"
   },
   "source": [
    "### Activities for 3 year olds"
   ]
  },
  {
   "cell_type": "code",
   "execution_count": 24,
   "metadata": {
    "id": "a3iJJwKAWMo-"
   },
   "outputs": [],
   "source": [
    "df_3 = df[df['age']==3]"
   ]
  },
  {
   "cell_type": "code",
   "execution_count": 25,
   "metadata": {
    "colab": {
     "base_uri": "https://localhost:8080/"
    },
    "id": "IgtVmp7-hbUO",
    "outputId": "f99496c5-e370-4363-fe09-36e15753b41e"
   },
   "outputs": [
    {
     "data": {
      "text/plain": [
       "155"
      ]
     },
     "execution_count": 25,
     "metadata": {},
     "output_type": "execute_result"
    }
   ],
   "source": [
    "len(df_3)"
   ]
  },
  {
   "cell_type": "code",
   "execution_count": 26,
   "metadata": {
    "colab": {
     "base_uri": "https://localhost:8080/"
    },
    "id": "o_U6o-RWhdR1",
    "outputId": "f39ea96c-3f4e-4810-b6fc-e25b21d5fc12"
   },
   "outputs": [
    {
     "data": {
      "text/plain": [
       "47"
      ]
     },
     "execution_count": 26,
     "metadata": {},
     "output_type": "execute_result"
    }
   ],
   "source": [
    "df_3['content'].nunique()"
   ]
  },
  {
   "cell_type": "code",
   "execution_count": 27,
   "metadata": {
    "colab": {
     "base_uri": "https://localhost:8080/"
    },
    "id": "92l7xF4Shgq-",
    "outputId": "ca02ac84-3abb-4473-d5ba-8363d4daa1e3"
   },
   "outputs": [
    {
     "data": {
      "text/plain": [
       "colors            12\n",
       "vegetables        10\n",
       "farm-animals      10\n",
       "my-country         9\n",
       "birthday           8\n",
       "foods              7\n",
       "sea-animals        6\n",
       "fruits             6\n",
       "numbers            6\n",
       "feelings           5\n",
       "pets               5\n",
       "shapes             4\n",
       "body               4\n",
       "social-codes       4\n",
       "friends            3\n",
       "greetings          3\n",
       "clothes            3\n",
       "family             3\n",
       "science            2\n",
       "characters         2\n",
       "celebrations       2\n",
       "alphabet           2\n",
       "jungle-animals     2\n",
       "phonics            2\n",
       "fairy-tales        2\n",
       "sleeping           2\n",
       "routine            2\n",
       "diaper-weaning     2\n",
       "vehicles           2\n",
       "insects            2\n",
       "dinosaurs          2\n",
       "farm               2\n",
       "beach              2\n",
       "desert-animals     2\n",
       "forest-animals     2\n",
       "myself             2\n",
       "baby               1\n",
       "furniture          1\n",
       "forest             1\n",
       "health             1\n",
       "home               1\n",
       "instruments        1\n",
       "environment        1\n",
       "diversity          1\n",
       "toys               1\n",
       "space              1\n",
       "shopping           1\n",
       "Name: content, dtype: int64"
      ]
     },
     "execution_count": 27,
     "metadata": {},
     "output_type": "execute_result"
    }
   ],
   "source": [
    "df_3['content'].value_counts()"
   ]
  },
  {
   "cell_type": "code",
   "execution_count": 28,
   "metadata": {
    "colab": {
     "base_uri": "https://localhost:8080/"
    },
    "id": "SEOggsUahmsj",
    "outputId": "9f8f9b42-1807-4252-8619-d417e842a540"
   },
   "outputs": [
    {
     "data": {
      "text/plain": [
       "19"
      ]
     },
     "execution_count": 28,
     "metadata": {},
     "output_type": "execute_result"
    }
   ],
   "source": [
    "df_3['game_type'].nunique()"
   ]
  },
  {
   "cell_type": "code",
   "execution_count": 29,
   "metadata": {
    "colab": {
     "base_uri": "https://localhost:8080/"
    },
    "id": "J5c245Vchqkg",
    "outputId": "89c47937-4756-4bb7-8793-d0cbdc95532b"
   },
   "outputs": [
    {
     "data": {
      "text/plain": [
       "hotspot           16\n",
       "reading-book      16\n",
       "simulation        15\n",
       "puzzle            13\n",
       "learning-video    13\n",
       "demo-video        13\n",
       "flashcards        10\n",
       "stickers           9\n",
       "identification     8\n",
       "game               7\n",
       "videoclip          7\n",
       "memory             7\n",
       "tracing            5\n",
       "roulette           5\n",
       "bingo              5\n",
       "drawing            2\n",
       "coloring-book      2\n",
       "naming             1\n",
       "sequence           1\n",
       "Name: game_type, dtype: int64"
      ]
     },
     "execution_count": 29,
     "metadata": {},
     "output_type": "execute_result"
    }
   ],
   "source": [
    "df_3['game_type'].value_counts()"
   ]
  },
  {
   "cell_type": "code",
   "execution_count": 30,
   "metadata": {
    "colab": {
     "base_uri": "https://localhost:8080/"
    },
    "id": "HxFuUFR1htG0",
    "outputId": "5afb3672-2492-46dd-dbc4-bc7d751d72e6"
   },
   "outputs": [
    {
     "data": {
      "text/plain": [
       "3"
      ]
     },
     "execution_count": 30,
     "metadata": {},
     "output_type": "execute_result"
    }
   ],
   "source": [
    "df_3['activity_type'].nunique()"
   ]
  },
  {
   "cell_type": "code",
   "execution_count": 31,
   "metadata": {
    "colab": {
     "base_uri": "https://localhost:8080/"
    },
    "id": "OYtLvxjJhxSb",
    "outputId": "d94b87f6-3e1f-4dbb-eb75-4430f78b3ff7"
   },
   "outputs": [
    {
     "data": {
      "text/plain": [
       "standard    85\n",
       "cultural    39\n",
       "SEL         31\n",
       "Name: activity_type, dtype: int64"
      ]
     },
     "execution_count": 31,
     "metadata": {},
     "output_type": "execute_result"
    }
   ],
   "source": [
    "df_3['activity_type'].value_counts()"
   ]
  },
  {
   "cell_type": "markdown",
   "metadata": {
    "id": "zCFGo_H8kw57"
   },
   "source": [
    "### Activities for 4 yr olds"
   ]
  },
  {
   "cell_type": "code",
   "execution_count": 32,
   "metadata": {
    "id": "98pKcsSoh0ms"
   },
   "outputs": [],
   "source": [
    "df_4 = df[df['age']==4]"
   ]
  },
  {
   "cell_type": "code",
   "execution_count": 33,
   "metadata": {
    "colab": {
     "base_uri": "https://localhost:8080/"
    },
    "id": "g_VLLeyVk4ol",
    "outputId": "6cc876a9-659c-42a1-cb87-90d98ca97827"
   },
   "outputs": [
    {
     "data": {
      "text/plain": [
       "72"
      ]
     },
     "execution_count": 33,
     "metadata": {},
     "output_type": "execute_result"
    }
   ],
   "source": [
    "len(df_4)"
   ]
  },
  {
   "cell_type": "code",
   "execution_count": 34,
   "metadata": {
    "colab": {
     "base_uri": "https://localhost:8080/"
    },
    "id": "erUga4Xjk5jK",
    "outputId": "9a1a7a05-efed-4e79-8de2-1663e000f960"
   },
   "outputs": [
    {
     "data": {
      "text/plain": [
       "16"
      ]
     },
     "execution_count": 34,
     "metadata": {},
     "output_type": "execute_result"
    }
   ],
   "source": [
    "df_4['game_type'].nunique()"
   ]
  },
  {
   "cell_type": "code",
   "execution_count": 35,
   "metadata": {
    "colab": {
     "base_uri": "https://localhost:8080/"
    },
    "id": "7u9zQyMlk8Xh",
    "outputId": "473d62c2-5fa1-433d-bfea-073590ddcf8b"
   },
   "outputs": [
    {
     "data": {
      "text/plain": [
       "reading-book      9\n",
       "simulation        8\n",
       "memory            7\n",
       "videoclip         7\n",
       "puzzle            6\n",
       "roulette          5\n",
       "bingo             5\n",
       "identification    5\n",
       "flashcards        4\n",
       "demo-video        4\n",
       "tracing           3\n",
       "game              3\n",
       "learning-video    2\n",
       "stickers          2\n",
       "hotspot           1\n",
       "sequence          1\n",
       "Name: game_type, dtype: int64"
      ]
     },
     "execution_count": 35,
     "metadata": {},
     "output_type": "execute_result"
    }
   ],
   "source": [
    "df_4['game_type'].value_counts()"
   ]
  },
  {
   "cell_type": "code",
   "execution_count": 36,
   "metadata": {
    "colab": {
     "base_uri": "https://localhost:8080/"
    },
    "id": "Ek83OA3Ak-Yq",
    "outputId": "643c6187-30f2-4cce-9116-31b259fa6af0"
   },
   "outputs": [
    {
     "data": {
      "text/plain": [
       "32"
      ]
     },
     "execution_count": 36,
     "metadata": {},
     "output_type": "execute_result"
    }
   ],
   "source": [
    "df_4['content'].nunique()"
   ]
  },
  {
   "cell_type": "code",
   "execution_count": 37,
   "metadata": {
    "colab": {
     "base_uri": "https://localhost:8080/"
    },
    "id": "5exv2-HVlnED",
    "outputId": "3e736d53-a96e-42c9-850d-6b2e487cdc45"
   },
   "outputs": [
    {
     "data": {
      "text/plain": [
       "colors            8\n",
       "my-country        8\n",
       "birthday          6\n",
       "pets              4\n",
       "vegetables        4\n",
       "shapes            3\n",
       "farm-animals      3\n",
       "foods             2\n",
       "routine           2\n",
       "science           2\n",
       "phonics           2\n",
       "characters        2\n",
       "alphabet          2\n",
       "friends           2\n",
       "clothes           2\n",
       "myself            2\n",
       "farm              2\n",
       "body              2\n",
       "sea-animals       1\n",
       "numbers           1\n",
       "space             1\n",
       "health            1\n",
       "shopping          1\n",
       "instruments       1\n",
       "desert-animals    1\n",
       "feelings          1\n",
       "home              1\n",
       "insects           1\n",
       "forest            1\n",
       "beach             1\n",
       "dinosaurs         1\n",
       "fruits            1\n",
       "Name: content, dtype: int64"
      ]
     },
     "execution_count": 37,
     "metadata": {},
     "output_type": "execute_result"
    }
   ],
   "source": [
    "df_4['content'].value_counts()"
   ]
  },
  {
   "cell_type": "code",
   "execution_count": 38,
   "metadata": {
    "colab": {
     "base_uri": "https://localhost:8080/"
    },
    "id": "nFMOvl4Cl1mu",
    "outputId": "385109ce-0974-4555-dbb0-8d9a7e3d6bf6"
   },
   "outputs": [
    {
     "data": {
      "text/plain": [
       "3"
      ]
     },
     "execution_count": 38,
     "metadata": {},
     "output_type": "execute_result"
    }
   ],
   "source": [
    "df_4['activity_type'].nunique()"
   ]
  },
  {
   "cell_type": "code",
   "execution_count": 39,
   "metadata": {
    "colab": {
     "base_uri": "https://localhost:8080/"
    },
    "id": "c9IoazMel8tD",
    "outputId": "4bd61055-f0a1-4fc1-db8d-898a8776751b"
   },
   "outputs": [
    {
     "data": {
      "text/plain": [
       "standard    41\n",
       "cultural    27\n",
       "SEL          4\n",
       "Name: activity_type, dtype: int64"
      ]
     },
     "execution_count": 39,
     "metadata": {},
     "output_type": "execute_result"
    }
   ],
   "source": [
    "df_4['activity_type'].value_counts()"
   ]
  },
  {
   "cell_type": "markdown",
   "metadata": {
    "id": "EtVukIlOmEGO"
   },
   "source": [
    "### Activities for 5 yr olds"
   ]
  },
  {
   "cell_type": "code",
   "execution_count": 40,
   "metadata": {
    "id": "QkV8EDrIl_hT"
   },
   "outputs": [],
   "source": [
    "df_5 = df[df['age']==5]"
   ]
  },
  {
   "cell_type": "code",
   "execution_count": 41,
   "metadata": {
    "colab": {
     "base_uri": "https://localhost:8080/"
    },
    "id": "MUo7dE-cmJml",
    "outputId": "94684185-f195-42ae-86ac-ced72298efd9"
   },
   "outputs": [
    {
     "data": {
      "text/plain": [
       "45"
      ]
     },
     "execution_count": 41,
     "metadata": {},
     "output_type": "execute_result"
    }
   ],
   "source": [
    "len(df_5)"
   ]
  },
  {
   "cell_type": "code",
   "execution_count": 42,
   "metadata": {
    "colab": {
     "base_uri": "https://localhost:8080/"
    },
    "id": "rt351mQmmKxe",
    "outputId": "d0ad27e5-4cc0-496f-db52-36742f93a2c9"
   },
   "outputs": [
    {
     "data": {
      "text/plain": [
       "11"
      ]
     },
     "execution_count": 42,
     "metadata": {},
     "output_type": "execute_result"
    }
   ],
   "source": [
    "df_5['game_type'].nunique()"
   ]
  },
  {
   "cell_type": "code",
   "execution_count": 43,
   "metadata": {
    "colab": {
     "base_uri": "https://localhost:8080/"
    },
    "id": "-srh193-mM-1",
    "outputId": "68724496-d0f3-4eb7-c179-eb3747f4ecc2"
   },
   "outputs": [
    {
     "data": {
      "text/plain": [
       "reading-book      7\n",
       "simulation        7\n",
       "videoclip         7\n",
       "roulette          5\n",
       "bingo             5\n",
       "demo-video        4\n",
       "tracing           3\n",
       "game              2\n",
       "learning-video    2\n",
       "identification    2\n",
       "sequence          1\n",
       "Name: game_type, dtype: int64"
      ]
     },
     "execution_count": 43,
     "metadata": {},
     "output_type": "execute_result"
    }
   ],
   "source": [
    "df_5['game_type'].value_counts()"
   ]
  },
  {
   "cell_type": "code",
   "execution_count": 44,
   "metadata": {
    "colab": {
     "base_uri": "https://localhost:8080/"
    },
    "id": "sm5MYdulmQPo",
    "outputId": "8e4eed55-a3e7-4d4c-8221-27d676f510e5"
   },
   "outputs": [
    {
     "data": {
      "text/plain": [
       "23"
      ]
     },
     "execution_count": 44,
     "metadata": {},
     "output_type": "execute_result"
    }
   ],
   "source": [
    "df_5['content'].nunique()"
   ]
  },
  {
   "cell_type": "code",
   "execution_count": 45,
   "metadata": {
    "colab": {
     "base_uri": "https://localhost:8080/"
    },
    "id": "B_3bmlUGmf14",
    "outputId": "c706693c-4d6c-4a0a-89d7-fbb0e3367ab3"
   },
   "outputs": [
    {
     "data": {
      "text/plain": [
       "my-country      6\n",
       "birthday        6\n",
       "colors          5\n",
       "pets            2\n",
       "routine         2\n",
       "friends         2\n",
       "alphabet        2\n",
       "farm-animals    2\n",
       "shapes          2\n",
       "myself          2\n",
       "vegetables      2\n",
       "numbers         1\n",
       "space           1\n",
       "science         1\n",
       "shopping        1\n",
       "characters      1\n",
       "health          1\n",
       "body            1\n",
       "foods           1\n",
       "beach           1\n",
       "insects         1\n",
       "phonics         1\n",
       "clothes         1\n",
       "Name: content, dtype: int64"
      ]
     },
     "execution_count": 45,
     "metadata": {},
     "output_type": "execute_result"
    }
   ],
   "source": [
    "df_5['content'].value_counts()"
   ]
  },
  {
   "cell_type": "code",
   "execution_count": 46,
   "metadata": {
    "colab": {
     "base_uri": "https://localhost:8080/"
    },
    "id": "t6yCo5W1mj7a",
    "outputId": "784164fa-2829-4180-aa19-fad63a236482"
   },
   "outputs": [
    {
     "data": {
      "text/plain": [
       "3"
      ]
     },
     "execution_count": 46,
     "metadata": {},
     "output_type": "execute_result"
    }
   ],
   "source": [
    "df_5['activity_type'].nunique()"
   ]
  },
  {
   "cell_type": "code",
   "execution_count": 47,
   "metadata": {
    "colab": {
     "base_uri": "https://localhost:8080/"
    },
    "id": "LaaAR_iImoXz",
    "outputId": "68e8affc-ca8d-44af-d0b8-dac160b0bc47"
   },
   "outputs": [
    {
     "data": {
      "text/plain": [
       "standard    22\n",
       "cultural    20\n",
       "SEL          3\n",
       "Name: activity_type, dtype: int64"
      ]
     },
     "execution_count": 47,
     "metadata": {},
     "output_type": "execute_result"
    }
   ],
   "source": [
    "df_5['activity_type'].value_counts()"
   ]
  },
  {
   "cell_type": "markdown",
   "metadata": {
    "id": "Pys3w7onrVjd"
   },
   "source": [
    "### Activities for 6 yr olds"
   ]
  },
  {
   "cell_type": "code",
   "execution_count": 48,
   "metadata": {
    "id": "kyQZN7JRmsLx"
   },
   "outputs": [],
   "source": [
    "df_6 = df[df['age']==6]"
   ]
  },
  {
   "cell_type": "code",
   "execution_count": 49,
   "metadata": {
    "colab": {
     "base_uri": "https://localhost:8080/"
    },
    "id": "GAKAz84esj2P",
    "outputId": "9449807a-e227-40c4-fe94-ce0419926691"
   },
   "outputs": [
    {
     "data": {
      "text/plain": [
       "27"
      ]
     },
     "execution_count": 49,
     "metadata": {},
     "output_type": "execute_result"
    }
   ],
   "source": [
    "len(df_6)"
   ]
  },
  {
   "cell_type": "code",
   "execution_count": 50,
   "metadata": {
    "colab": {
     "base_uri": "https://localhost:8080/"
    },
    "id": "nrroUhFdsks-",
    "outputId": "15eafb86-235b-45ba-81ba-a39165680104"
   },
   "outputs": [
    {
     "data": {
      "text/plain": [
       "10"
      ]
     },
     "execution_count": 50,
     "metadata": {},
     "output_type": "execute_result"
    }
   ],
   "source": [
    "df_6['game_type'].nunique()"
   ]
  },
  {
   "cell_type": "code",
   "execution_count": 51,
   "metadata": {
    "colab": {
     "base_uri": "https://localhost:8080/"
    },
    "id": "xgLnFCFysuYK",
    "outputId": "600eaa10-b152-48a0-aa82-474d52198df9"
   },
   "outputs": [
    {
     "data": {
      "text/plain": [
       "roulette          5\n",
       "bingo             5\n",
       "simulation        4\n",
       "reading-book      3\n",
       "game              2\n",
       "learning-video    2\n",
       "tracing           2\n",
       "identification    2\n",
       "sequence          1\n",
       "videoclip         1\n",
       "Name: game_type, dtype: int64"
      ]
     },
     "execution_count": 51,
     "metadata": {},
     "output_type": "execute_result"
    }
   ],
   "source": [
    "df_6['game_type'].value_counts()"
   ]
  },
  {
   "cell_type": "code",
   "execution_count": 52,
   "metadata": {
    "colab": {
     "base_uri": "https://localhost:8080/"
    },
    "id": "y5LPy4iQsztf",
    "outputId": "54f5b016-79d0-4a1b-a6c8-e914853d8038"
   },
   "outputs": [
    {
     "data": {
      "text/plain": [
       "19"
      ]
     },
     "execution_count": 52,
     "metadata": {},
     "output_type": "execute_result"
    }
   ],
   "source": [
    "df_6['content'].nunique()"
   ]
  },
  {
   "cell_type": "code",
   "execution_count": 53,
   "metadata": {
    "colab": {
     "base_uri": "https://localhost:8080/"
    },
    "id": "fcC4eobqs2G3",
    "outputId": "ac8cf3c1-92a5-4dd9-8b7f-ab077c912046"
   },
   "outputs": [
    {
     "data": {
      "text/plain": [
       "birthday        4\n",
       "pets            2\n",
       "friends         2\n",
       "colors          2\n",
       "shapes          2\n",
       "myself          2\n",
       "farm-animals    1\n",
       "shopping        1\n",
       "foods           1\n",
       "alphabet        1\n",
       "characters      1\n",
       "space           1\n",
       "science         1\n",
       "routine         1\n",
       "health          1\n",
       "body            1\n",
       "beach           1\n",
       "insects         1\n",
       "clothes         1\n",
       "Name: content, dtype: int64"
      ]
     },
     "execution_count": 53,
     "metadata": {},
     "output_type": "execute_result"
    }
   ],
   "source": [
    "df_6['content'].value_counts()"
   ]
  },
  {
   "cell_type": "code",
   "execution_count": 54,
   "metadata": {
    "colab": {
     "base_uri": "https://localhost:8080/"
    },
    "id": "nyfZKgVgs6iv",
    "outputId": "d1abe619-bcb3-4562-85bf-f5790ac063f6"
   },
   "outputs": [
    {
     "data": {
      "text/plain": [
       "3"
      ]
     },
     "execution_count": 54,
     "metadata": {},
     "output_type": "execute_result"
    }
   ],
   "source": [
    "df_6['activity_type'].nunique()"
   ]
  },
  {
   "cell_type": "code",
   "execution_count": 55,
   "metadata": {
    "colab": {
     "base_uri": "https://localhost:8080/"
    },
    "id": "Eg4qjOnGtAOx",
    "outputId": "93d140c2-607e-474b-9bff-019f7f9667d9"
   },
   "outputs": [
    {
     "data": {
      "text/plain": [
       "standard    15\n",
       "cultural     9\n",
       "SEL          3\n",
       "Name: activity_type, dtype: int64"
      ]
     },
     "execution_count": 55,
     "metadata": {},
     "output_type": "execute_result"
    }
   ],
   "source": [
    "df_6['activity_type'].value_counts()"
   ]
  },
  {
   "cell_type": "code",
   "execution_count": null,
   "metadata": {
    "id": "AO9F-ADqtB9z"
   },
   "outputs": [],
   "source": []
  }
 ],
 "metadata": {
  "colab": {
   "name": "EDA_activities_list.ipynb",
   "provenance": []
  },
  "kernelspec": {
   "display_name": "Mavin",
   "language": "python",
   "name": "mavin"
  },
  "language_info": {
   "codemirror_mode": {
    "name": "ipython",
    "version": 3
   },
   "file_extension": ".py",
   "mimetype": "text/x-python",
   "name": "python",
   "nbconvert_exporter": "python",
   "pygments_lexer": "ipython3",
   "version": "3.8.10"
  }
 },
 "nbformat": 4,
 "nbformat_minor": 4
}
