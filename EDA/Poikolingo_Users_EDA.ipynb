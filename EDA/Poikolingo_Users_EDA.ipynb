{
  "nbformat": 4,
  "nbformat_minor": 0,
  "metadata": {
    "colab": {
      "name": "Poikolingo_Users_EDA.ipynb",
      "provenance": []
    },
    "kernelspec": {
      "name": "python3",
      "display_name": "Python 3"
    },
    "language_info": {
      "name": "python"
    }
  },
  "cells": [
    {
      "cell_type": "code",
      "metadata": {
        "id": "mKsO-tOYoFTA"
      },
      "source": [
        "import numpy as np\n",
        "import pandas as pd\n",
        "import matplotlib.pyplot as plt\n",
        "import seaborn as sns"
      ],
      "execution_count": null,
      "outputs": []
    },
    {
      "cell_type": "code",
      "metadata": {
        "id": "-cvyoZvgoOqL"
      },
      "source": [
        "df = pd.read_csv('student_info_table_v1.csv')"
      ],
      "execution_count": null,
      "outputs": []
    },
    {
      "cell_type": "code",
      "metadata": {
        "colab": {
          "base_uri": "https://localhost:8080/",
          "height": 324
        },
        "id": "Qr72h75xoTBl",
        "outputId": "99c45951-e23a-4365-c101-eca48aeb762a"
      },
      "source": [
        "df.head()"
      ],
      "execution_count": null,
      "outputs": [
        {
          "output_type": "execute_result",
          "data": {
            "text/html": [
              "<div>\n",
              "<style scoped>\n",
              "    .dataframe tbody tr th:only-of-type {\n",
              "        vertical-align: middle;\n",
              "    }\n",
              "\n",
              "    .dataframe tbody tr th {\n",
              "        vertical-align: top;\n",
              "    }\n",
              "\n",
              "    .dataframe thead th {\n",
              "        text-align: right;\n",
              "    }\n",
              "</style>\n",
              "<table border=\"1\" class=\"dataframe\">\n",
              "  <thead>\n",
              "    <tr style=\"text-align: right;\">\n",
              "      <th></th>\n",
              "      <th>Unnamed: 0</th>\n",
              "      <th>User_ID</th>\n",
              "      <th>Age</th>\n",
              "      <th>Translanguage_Level</th>\n",
              "      <th>Literate</th>\n",
              "      <th>Learning_Rate</th>\n",
              "      <th>Learning_Profile</th>\n",
              "      <th>Country_of_Birth</th>\n",
              "      <th>Country_of_Residence</th>\n",
              "      <th>Cultural_Heritage</th>\n",
              "      <th>Main_Language</th>\n",
              "      <th>Learning_Language</th>\n",
              "      <th>User_Level_0</th>\n",
              "      <th>User_Level_1</th>\n",
              "      <th>User_Level_2</th>\n",
              "      <th>Gender</th>\n",
              "      <th>User_Name</th>\n",
              "    </tr>\n",
              "  </thead>\n",
              "  <tbody>\n",
              "    <tr>\n",
              "      <th>0</th>\n",
              "      <td>0</td>\n",
              "      <td>0</td>\n",
              "      <td>6</td>\n",
              "      <td>2</td>\n",
              "      <td>Complete</td>\n",
              "      <td>Medium</td>\n",
              "      <td>BTB</td>\n",
              "      <td>US</td>\n",
              "      <td>UK</td>\n",
              "      <td>['US']</td>\n",
              "      <td>English</td>\n",
              "      <td>Portuguese</td>\n",
              "      <td>0.8</td>\n",
              "      <td>0.8</td>\n",
              "      <td>0.5</td>\n",
              "      <td>F</td>\n",
              "      <td>Laura Knapp</td>\n",
              "    </tr>\n",
              "    <tr>\n",
              "      <th>1</th>\n",
              "      <td>1</td>\n",
              "      <td>1</td>\n",
              "      <td>2</td>\n",
              "      <td>2</td>\n",
              "      <td>In_Progress</td>\n",
              "      <td>Fast</td>\n",
              "      <td>HL</td>\n",
              "      <td>Brazil</td>\n",
              "      <td>Mexico</td>\n",
              "      <td>['Mexico', 'US', 'France']</td>\n",
              "      <td>Spanish</td>\n",
              "      <td>English</td>\n",
              "      <td>0.5</td>\n",
              "      <td>0.2</td>\n",
              "      <td>0.2</td>\n",
              "      <td>M</td>\n",
              "      <td>Peter Hernandez</td>\n",
              "    </tr>\n",
              "    <tr>\n",
              "      <th>2</th>\n",
              "      <td>2</td>\n",
              "      <td>2</td>\n",
              "      <td>5</td>\n",
              "      <td>1</td>\n",
              "      <td>Complete</td>\n",
              "      <td>Medium</td>\n",
              "      <td>IL</td>\n",
              "      <td>US</td>\n",
              "      <td>Australia</td>\n",
              "      <td>['Germany']</td>\n",
              "      <td>German</td>\n",
              "      <td>English</td>\n",
              "      <td>0.8</td>\n",
              "      <td>0.5</td>\n",
              "      <td>0.2</td>\n",
              "      <td>M</td>\n",
              "      <td>Patrick Smith</td>\n",
              "    </tr>\n",
              "    <tr>\n",
              "      <th>3</th>\n",
              "      <td>3</td>\n",
              "      <td>3</td>\n",
              "      <td>5</td>\n",
              "      <td>1</td>\n",
              "      <td>In_Progress</td>\n",
              "      <td>Fast</td>\n",
              "      <td>HL</td>\n",
              "      <td>Spain</td>\n",
              "      <td>Canada</td>\n",
              "      <td>['Germany', 'US', 'Italy']</td>\n",
              "      <td>German</td>\n",
              "      <td>English</td>\n",
              "      <td>0.8</td>\n",
              "      <td>0.5</td>\n",
              "      <td>0.2</td>\n",
              "      <td>M</td>\n",
              "      <td>Donald Gonzalez</td>\n",
              "    </tr>\n",
              "    <tr>\n",
              "      <th>4</th>\n",
              "      <td>4</td>\n",
              "      <td>4</td>\n",
              "      <td>5</td>\n",
              "      <td>2</td>\n",
              "      <td>Complete</td>\n",
              "      <td>Fast</td>\n",
              "      <td>IL</td>\n",
              "      <td>Italy</td>\n",
              "      <td>UK</td>\n",
              "      <td>['Mexico']</td>\n",
              "      <td>Spanish</td>\n",
              "      <td>English</td>\n",
              "      <td>0.8</td>\n",
              "      <td>0.5</td>\n",
              "      <td>0.2</td>\n",
              "      <td>M</td>\n",
              "      <td>Joseph Gonzalez</td>\n",
              "    </tr>\n",
              "  </tbody>\n",
              "</table>\n",
              "</div>"
            ],
            "text/plain": [
              "   Unnamed: 0  User_ID  Age  ...  User_Level_2 Gender        User_Name\n",
              "0           0        0    6  ...           0.5      F      Laura Knapp\n",
              "1           1        1    2  ...           0.2      M  Peter Hernandez\n",
              "2           2        2    5  ...           0.2      M    Patrick Smith\n",
              "3           3        3    5  ...           0.2      M  Donald Gonzalez\n",
              "4           4        4    5  ...           0.2      M  Joseph Gonzalez\n",
              "\n",
              "[5 rows x 17 columns]"
            ]
          },
          "metadata": {},
          "execution_count": 3
        }
      ]
    },
    {
      "cell_type": "code",
      "metadata": {
        "colab": {
          "base_uri": "https://localhost:8080/"
        },
        "id": "yvACbiu0oWIM",
        "outputId": "5a96d9bd-e84d-414f-f79f-f2a85d4afc16"
      },
      "source": [
        "df.info()"
      ],
      "execution_count": null,
      "outputs": [
        {
          "output_type": "stream",
          "name": "stdout",
          "text": [
            "<class 'pandas.core.frame.DataFrame'>\n",
            "RangeIndex: 250 entries, 0 to 249\n",
            "Data columns (total 17 columns):\n",
            " #   Column                Non-Null Count  Dtype  \n",
            "---  ------                --------------  -----  \n",
            " 0   Unnamed: 0            250 non-null    int64  \n",
            " 1   User_ID               250 non-null    int64  \n",
            " 2   Age                   250 non-null    int64  \n",
            " 3   Translanguage_Level   250 non-null    int64  \n",
            " 4   Literate              250 non-null    object \n",
            " 5   Learning_Rate         250 non-null    object \n",
            " 6   Learning_Profile      250 non-null    object \n",
            " 7   Country_of_Birth      250 non-null    object \n",
            " 8   Country_of_Residence  250 non-null    object \n",
            " 9   Cultural_Heritage     250 non-null    object \n",
            " 10  Main_Language         250 non-null    object \n",
            " 11  Learning_Language     250 non-null    object \n",
            " 12  User_Level_0          250 non-null    float64\n",
            " 13  User_Level_1          250 non-null    float64\n",
            " 14  User_Level_2          250 non-null    float64\n",
            " 15  Gender                250 non-null    object \n",
            " 16  User_Name             250 non-null    object \n",
            "dtypes: float64(3), int64(4), object(10)\n",
            "memory usage: 33.3+ KB\n"
          ]
        }
      ]
    },
    {
      "cell_type": "code",
      "metadata": {
        "colab": {
          "base_uri": "https://localhost:8080/",
          "height": 295
        },
        "id": "Lo1v2aAVoYdF",
        "outputId": "20e65031-d920-4a57-ae46-c8d40cd5ded0"
      },
      "source": [
        "df.describe()"
      ],
      "execution_count": null,
      "outputs": [
        {
          "output_type": "execute_result",
          "data": {
            "text/html": [
              "<div>\n",
              "<style scoped>\n",
              "    .dataframe tbody tr th:only-of-type {\n",
              "        vertical-align: middle;\n",
              "    }\n",
              "\n",
              "    .dataframe tbody tr th {\n",
              "        vertical-align: top;\n",
              "    }\n",
              "\n",
              "    .dataframe thead th {\n",
              "        text-align: right;\n",
              "    }\n",
              "</style>\n",
              "<table border=\"1\" class=\"dataframe\">\n",
              "  <thead>\n",
              "    <tr style=\"text-align: right;\">\n",
              "      <th></th>\n",
              "      <th>Unnamed: 0</th>\n",
              "      <th>User_ID</th>\n",
              "      <th>Age</th>\n",
              "      <th>Translanguage_Level</th>\n",
              "      <th>User_Level_0</th>\n",
              "      <th>User_Level_1</th>\n",
              "      <th>User_Level_2</th>\n",
              "    </tr>\n",
              "  </thead>\n",
              "  <tbody>\n",
              "    <tr>\n",
              "      <th>count</th>\n",
              "      <td>250.000000</td>\n",
              "      <td>250.000000</td>\n",
              "      <td>250.000000</td>\n",
              "      <td>250.000000</td>\n",
              "      <td>250.000000</td>\n",
              "      <td>250.000000</td>\n",
              "      <td>250.000000</td>\n",
              "    </tr>\n",
              "    <tr>\n",
              "      <th>mean</th>\n",
              "      <td>124.500000</td>\n",
              "      <td>124.500000</td>\n",
              "      <td>3.928000</td>\n",
              "      <td>1.924000</td>\n",
              "      <td>0.676400</td>\n",
              "      <td>0.424400</td>\n",
              "      <td>0.248000</td>\n",
              "    </tr>\n",
              "    <tr>\n",
              "      <th>std</th>\n",
              "      <td>72.312977</td>\n",
              "      <td>72.312977</td>\n",
              "      <td>1.415213</td>\n",
              "      <td>0.805493</td>\n",
              "      <td>0.147955</td>\n",
              "      <td>0.214356</td>\n",
              "      <td>0.110202</td>\n",
              "    </tr>\n",
              "    <tr>\n",
              "      <th>min</th>\n",
              "      <td>0.000000</td>\n",
              "      <td>0.000000</td>\n",
              "      <td>2.000000</td>\n",
              "      <td>1.000000</td>\n",
              "      <td>0.500000</td>\n",
              "      <td>0.200000</td>\n",
              "      <td>0.200000</td>\n",
              "    </tr>\n",
              "    <tr>\n",
              "      <th>25%</th>\n",
              "      <td>62.250000</td>\n",
              "      <td>62.250000</td>\n",
              "      <td>3.000000</td>\n",
              "      <td>1.000000</td>\n",
              "      <td>0.500000</td>\n",
              "      <td>0.200000</td>\n",
              "      <td>0.200000</td>\n",
              "    </tr>\n",
              "    <tr>\n",
              "      <th>50%</th>\n",
              "      <td>124.500000</td>\n",
              "      <td>124.500000</td>\n",
              "      <td>4.000000</td>\n",
              "      <td>2.000000</td>\n",
              "      <td>0.800000</td>\n",
              "      <td>0.500000</td>\n",
              "      <td>0.200000</td>\n",
              "    </tr>\n",
              "    <tr>\n",
              "      <th>75%</th>\n",
              "      <td>186.750000</td>\n",
              "      <td>186.750000</td>\n",
              "      <td>5.000000</td>\n",
              "      <td>3.000000</td>\n",
              "      <td>0.800000</td>\n",
              "      <td>0.500000</td>\n",
              "      <td>0.200000</td>\n",
              "    </tr>\n",
              "    <tr>\n",
              "      <th>max</th>\n",
              "      <td>249.000000</td>\n",
              "      <td>249.000000</td>\n",
              "      <td>6.000000</td>\n",
              "      <td>3.000000</td>\n",
              "      <td>0.800000</td>\n",
              "      <td>0.800000</td>\n",
              "      <td>0.500000</td>\n",
              "    </tr>\n",
              "  </tbody>\n",
              "</table>\n",
              "</div>"
            ],
            "text/plain": [
              "       Unnamed: 0     User_ID  ...  User_Level_1  User_Level_2\n",
              "count  250.000000  250.000000  ...    250.000000    250.000000\n",
              "mean   124.500000  124.500000  ...      0.424400      0.248000\n",
              "std     72.312977   72.312977  ...      0.214356      0.110202\n",
              "min      0.000000    0.000000  ...      0.200000      0.200000\n",
              "25%     62.250000   62.250000  ...      0.200000      0.200000\n",
              "50%    124.500000  124.500000  ...      0.500000      0.200000\n",
              "75%    186.750000  186.750000  ...      0.500000      0.200000\n",
              "max    249.000000  249.000000  ...      0.800000      0.500000\n",
              "\n",
              "[8 rows x 7 columns]"
            ]
          },
          "metadata": {},
          "execution_count": 5
        }
      ]
    },
    {
      "cell_type": "code",
      "metadata": {
        "colab": {
          "base_uri": "https://localhost:8080/"
        },
        "id": "fL8FXGbIoZd-",
        "outputId": "82e33dc8-2c88-43ef-fe99-ab1d23a6af69"
      },
      "source": [
        "df['User_ID'].nunique()"
      ],
      "execution_count": null,
      "outputs": [
        {
          "output_type": "execute_result",
          "data": {
            "text/plain": [
              "250"
            ]
          },
          "metadata": {},
          "execution_count": 6
        }
      ]
    },
    {
      "cell_type": "code",
      "metadata": {
        "colab": {
          "base_uri": "https://localhost:8080/"
        },
        "id": "ZB7-BPpdoc79",
        "outputId": "53805053-1112-4e42-b509-f03e5bf500ff"
      },
      "source": [
        "df['Gender'].value_counts()"
      ],
      "execution_count": null,
      "outputs": [
        {
          "output_type": "execute_result",
          "data": {
            "text/plain": [
              "M    129\n",
              "F    121\n",
              "Name: Gender, dtype: int64"
            ]
          },
          "metadata": {},
          "execution_count": 7
        }
      ]
    },
    {
      "cell_type": "code",
      "metadata": {
        "colab": {
          "base_uri": "https://localhost:8080/"
        },
        "id": "sCxYaQUwowt6",
        "outputId": "a6568f32-bafb-4943-a345-53f3d4989e24"
      },
      "source": [
        "df['Age'].value_counts()"
      ],
      "execution_count": null,
      "outputs": [
        {
          "output_type": "execute_result",
          "data": {
            "text/plain": [
              "5    63\n",
              "2    58\n",
              "3    45\n",
              "4    44\n",
              "6    40\n",
              "Name: Age, dtype: int64"
            ]
          },
          "metadata": {},
          "execution_count": 8
        }
      ]
    },
    {
      "cell_type": "code",
      "metadata": {
        "colab": {
          "base_uri": "https://localhost:8080/"
        },
        "id": "2cBen4qjoyvk",
        "outputId": "22206cef-9543-43cc-995f-e439d80f3d44"
      },
      "source": [
        "df['Literate'].value_counts()"
      ],
      "execution_count": null,
      "outputs": [
        {
          "output_type": "execute_result",
          "data": {
            "text/plain": [
              "Complete       97\n",
              "In_Progress    78\n",
              "Not_Started    75\n",
              "Name: Literate, dtype: int64"
            ]
          },
          "metadata": {},
          "execution_count": 9
        }
      ]
    },
    {
      "cell_type": "code",
      "metadata": {
        "colab": {
          "base_uri": "https://localhost:8080/"
        },
        "id": "W8yvajOGo06K",
        "outputId": "5eab6ec9-54d8-4eb1-b47a-89328051d35a"
      },
      "source": [
        "df['Learning_Profile'].value_counts()"
      ],
      "execution_count": null,
      "outputs": [
        {
          "output_type": "execute_result",
          "data": {
            "text/plain": [
              "HL     135\n",
              "IL      94\n",
              "BTB     21\n",
              "Name: Learning_Profile, dtype: int64"
            ]
          },
          "metadata": {},
          "execution_count": 10
        }
      ]
    },
    {
      "cell_type": "code",
      "metadata": {
        "colab": {
          "base_uri": "https://localhost:8080/"
        },
        "id": "R4fv2_Bko3e8",
        "outputId": "521c56f9-f08d-4978-98b4-c00ecda23ff5"
      },
      "source": [
        "df['Learning_Rate'].value_counts()"
      ],
      "execution_count": null,
      "outputs": [
        {
          "output_type": "execute_result",
          "data": {
            "text/plain": [
              "Medium    88\n",
              "Fast      83\n",
              "Slow      79\n",
              "Name: Learning_Rate, dtype: int64"
            ]
          },
          "metadata": {},
          "execution_count": 11
        }
      ]
    },
    {
      "cell_type": "code",
      "metadata": {
        "colab": {
          "base_uri": "https://localhost:8080/"
        },
        "id": "TLMyPfYZo5le",
        "outputId": "af7cbfec-b65f-4da4-833f-e76ef1eb11bc"
      },
      "source": [
        "df['Country_of_Birth'].value_counts()"
      ],
      "execution_count": null,
      "outputs": [
        {
          "output_type": "execute_result",
          "data": {
            "text/plain": [
              "US           28\n",
              "Brazil       27\n",
              "Denmark      24\n",
              "Spain        24\n",
              "Portugal     24\n",
              "Australia    24\n",
              "Mexico       22\n",
              "UK           22\n",
              "Italy        20\n",
              "Germany      15\n",
              "France       11\n",
              "Canada        9\n",
              "Name: Country_of_Birth, dtype: int64"
            ]
          },
          "metadata": {},
          "execution_count": 12
        }
      ]
    },
    {
      "cell_type": "code",
      "metadata": {
        "colab": {
          "base_uri": "https://localhost:8080/"
        },
        "id": "luMDZ6IBo768",
        "outputId": "2cb223b4-91e1-4544-ad93-f37c542b227e"
      },
      "source": [
        "len(df[df['Country_of_Birth']==df['Country_of_Residence']]) "
      ],
      "execution_count": null,
      "outputs": [
        {
          "output_type": "execute_result",
          "data": {
            "text/plain": [
              "26"
            ]
          },
          "metadata": {},
          "execution_count": 13
        }
      ]
    },
    {
      "cell_type": "code",
      "metadata": {
        "colab": {
          "base_uri": "https://localhost:8080/"
        },
        "id": "LBcPbA6go-mq",
        "outputId": "3a2dbcbc-b7fb-4773-ade3-fcd54657f644"
      },
      "source": [
        "x1=list(np.array(df['Cultural_Heritage']))\n",
        "for i in range(len(x1)):\n",
        "    x1[i]=x1[i][1:-1]\n",
        "    x1[i]= x1[i].split(',')\n",
        "x = [len(i) for i in x1]\n",
        "print(np.mean(x))\n",
        "print(np.std(x))\n",
        "# the average cultural heritage a user has is 2, std dev being high albeit avg being 2, real value might be a equal split of 1,3 and also 2."
      ],
      "execution_count": null,
      "outputs": [
        {
          "output_type": "stream",
          "name": "stdout",
          "text": [
            "2.004\n",
            "0.8123939930846362\n"
          ]
        }
      ]
    },
    {
      "cell_type": "code",
      "metadata": {
        "colab": {
          "base_uri": "https://localhost:8080/"
        },
        "id": "V21FxN7QpBgc",
        "outputId": "c189e61d-9ce8-4758-808a-3a88aae25b51"
      },
      "source": [
        "import collections\n",
        "frequency_cultural_Heritage = collections.Counter(x)\n",
        "print(frequency_cultural_Heritage)"
      ],
      "execution_count": null,
      "outputs": [
        {
          "output_type": "stream",
          "name": "stdout",
          "text": [
            "Counter({2: 85, 3: 83, 1: 82})\n"
          ]
        }
      ]
    },
    {
      "cell_type": "code",
      "metadata": {
        "id": "cCHjVgl-pENh",
        "colab": {
          "base_uri": "https://localhost:8080/"
        },
        "outputId": "b21d847a-0227-4292-ad46-57e42a98c82f"
      },
      "source": [
        "len(df[df['Main_Language']==df['Learning_Language']])  # 246 false;"
      ],
      "execution_count": null,
      "outputs": [
        {
          "output_type": "execute_result",
          "data": {
            "text/plain": [
              "4"
            ]
          },
          "metadata": {},
          "execution_count": 16
        }
      ]
    },
    {
      "cell_type": "code",
      "metadata": {
        "id": "E17AN5O0pGiu",
        "colab": {
          "base_uri": "https://localhost:8080/",
          "height": 259
        },
        "outputId": "185c48aa-515c-4204-dc27-d8bc974630e4"
      },
      "source": [
        "df[df['Main_Language']==df['Learning_Language']]"
      ],
      "execution_count": null,
      "outputs": [
        {
          "output_type": "execute_result",
          "data": {
            "text/html": [
              "<div>\n",
              "<style scoped>\n",
              "    .dataframe tbody tr th:only-of-type {\n",
              "        vertical-align: middle;\n",
              "    }\n",
              "\n",
              "    .dataframe tbody tr th {\n",
              "        vertical-align: top;\n",
              "    }\n",
              "\n",
              "    .dataframe thead th {\n",
              "        text-align: right;\n",
              "    }\n",
              "</style>\n",
              "<table border=\"1\" class=\"dataframe\">\n",
              "  <thead>\n",
              "    <tr style=\"text-align: right;\">\n",
              "      <th></th>\n",
              "      <th>Unnamed: 0</th>\n",
              "      <th>User_ID</th>\n",
              "      <th>Age</th>\n",
              "      <th>Translanguage_Level</th>\n",
              "      <th>Literate</th>\n",
              "      <th>Learning_Rate</th>\n",
              "      <th>Learning_Profile</th>\n",
              "      <th>Country_of_Birth</th>\n",
              "      <th>Country_of_Residence</th>\n",
              "      <th>Cultural_Heritage</th>\n",
              "      <th>Main_Language</th>\n",
              "      <th>Learning_Language</th>\n",
              "      <th>User_Level_0</th>\n",
              "      <th>User_Level_1</th>\n",
              "      <th>User_Level_2</th>\n",
              "      <th>Gender</th>\n",
              "      <th>User_Name</th>\n",
              "    </tr>\n",
              "  </thead>\n",
              "  <tbody>\n",
              "    <tr>\n",
              "      <th>39</th>\n",
              "      <td>39</td>\n",
              "      <td>39</td>\n",
              "      <td>5</td>\n",
              "      <td>3</td>\n",
              "      <td>Not_Started</td>\n",
              "      <td>Slow</td>\n",
              "      <td>IL</td>\n",
              "      <td>Australia</td>\n",
              "      <td>Australia</td>\n",
              "      <td>['Australia']</td>\n",
              "      <td>English</td>\n",
              "      <td>English</td>\n",
              "      <td>0.8</td>\n",
              "      <td>0.5</td>\n",
              "      <td>0.2</td>\n",
              "      <td>F</td>\n",
              "      <td>Katie Allen</td>\n",
              "    </tr>\n",
              "    <tr>\n",
              "      <th>65</th>\n",
              "      <td>65</td>\n",
              "      <td>65</td>\n",
              "      <td>3</td>\n",
              "      <td>1</td>\n",
              "      <td>Complete</td>\n",
              "      <td>Medium</td>\n",
              "      <td>IL</td>\n",
              "      <td>Brazil</td>\n",
              "      <td>UK</td>\n",
              "      <td>['UK']</td>\n",
              "      <td>English</td>\n",
              "      <td>English</td>\n",
              "      <td>0.5</td>\n",
              "      <td>0.2</td>\n",
              "      <td>0.2</td>\n",
              "      <td>F</td>\n",
              "      <td>Amy Zhang</td>\n",
              "    </tr>\n",
              "    <tr>\n",
              "      <th>96</th>\n",
              "      <td>96</td>\n",
              "      <td>96</td>\n",
              "      <td>2</td>\n",
              "      <td>3</td>\n",
              "      <td>In_Progress</td>\n",
              "      <td>Slow</td>\n",
              "      <td>IL</td>\n",
              "      <td>US</td>\n",
              "      <td>Mexico</td>\n",
              "      <td>['Spain']</td>\n",
              "      <td>Spanish</td>\n",
              "      <td>Spanish</td>\n",
              "      <td>0.5</td>\n",
              "      <td>0.2</td>\n",
              "      <td>0.2</td>\n",
              "      <td>F</td>\n",
              "      <td>Michaela Morales</td>\n",
              "    </tr>\n",
              "    <tr>\n",
              "      <th>244</th>\n",
              "      <td>244</td>\n",
              "      <td>244</td>\n",
              "      <td>3</td>\n",
              "      <td>2</td>\n",
              "      <td>Complete</td>\n",
              "      <td>Fast</td>\n",
              "      <td>IL</td>\n",
              "      <td>Australia</td>\n",
              "      <td>Germany</td>\n",
              "      <td>['Germany']</td>\n",
              "      <td>German</td>\n",
              "      <td>German</td>\n",
              "      <td>0.5</td>\n",
              "      <td>0.2</td>\n",
              "      <td>0.2</td>\n",
              "      <td>F</td>\n",
              "      <td>Christina Porter</td>\n",
              "    </tr>\n",
              "  </tbody>\n",
              "</table>\n",
              "</div>"
            ],
            "text/plain": [
              "     Unnamed: 0  User_ID  Age  ...  User_Level_2 Gender         User_Name\n",
              "39           39       39    5  ...           0.2      F       Katie Allen\n",
              "65           65       65    3  ...           0.2      F         Amy Zhang\n",
              "96           96       96    2  ...           0.2      F  Michaela Morales\n",
              "244         244      244    3  ...           0.2      F  Christina Porter\n",
              "\n",
              "[4 rows x 17 columns]"
            ]
          },
          "metadata": {},
          "execution_count": 17
        }
      ]
    },
    {
      "cell_type": "code",
      "metadata": {
        "id": "uHAVyQUVpJR7"
      },
      "source": [
        ""
      ],
      "execution_count": null,
      "outputs": []
    }
  ]
}