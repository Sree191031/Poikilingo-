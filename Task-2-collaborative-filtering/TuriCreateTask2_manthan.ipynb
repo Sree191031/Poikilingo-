{
  "nbformat": 4,
  "nbformat_minor": 0,
  "metadata": {
    "colab": {
      "name": "TuriCreateTask2.ipynb",
      "provenance": [],
      "collapsed_sections": []
    },
    "kernelspec": {
      "name": "python3",
      "display_name": "Python 3"
    },
    "language_info": {
      "name": "python"
    }
  },
  "cells": [
    {
      "cell_type": "code",
      "metadata": {
        "colab": {
          "base_uri": "https://localhost:8080/"
        },
        "id": "9ytIwqdRDAGL",
        "outputId": "de254685-31ea-4f01-a1d1-b9e1bcf28b30"
      },
      "source": [
        "from google.colab import drive\n",
        "drive.mount('/gdrive')\n",
        "%cd /gdrive"
      ],
      "execution_count": null,
      "outputs": [
        {
          "output_type": "stream",
          "name": "stdout",
          "text": [
            "Mounted at /gdrive\n",
            "/gdrive\n"
          ]
        }
      ]
    },
    {
      "cell_type": "code",
      "metadata": {
        "colab": {
          "base_uri": "https://localhost:8080/"
        },
        "id": "fks5OhFvDBcx",
        "outputId": "1551daa9-fb03-401a-921e-4e8a5ce693b6"
      },
      "source": [
        "cd MyDrive/Omdena\\ Poikilingo"
      ],
      "execution_count": null,
      "outputs": [
        {
          "output_type": "stream",
          "name": "stdout",
          "text": [
            "/gdrive/MyDrive/Omdena Poikilingo\n"
          ]
        }
      ]
    },
    {
      "cell_type": "code",
      "metadata": {
        "colab": {
          "base_uri": "https://localhost:8080/"
        },
        "id": "cnEp8x_BDVKR",
        "outputId": "5ab8aa31-c10c-46da-a2aa-7a4068aaad50"
      },
      "source": [
        "!ls"
      ],
      "execution_count": null,
      "outputs": [
        {
          "output_type": "stream",
          "name": "stdout",
          "text": [
            "activities_encoded.csv\tscores_train.csv\n",
            "scores_test.csv\t\tstudent_info_table_v1.csv\n"
          ]
        }
      ]
    },
    {
      "cell_type": "code",
      "metadata": {
        "id": "1SyHThybDegR"
      },
      "source": [
        "import pandas as pd"
      ],
      "execution_count": null,
      "outputs": []
    },
    {
      "cell_type": "code",
      "metadata": {
        "id": "o_BxgyfuDe2f"
      },
      "source": [
        "scores_df_train = pd.read_csv(\"scores_train.csv\", index_col = 0)\n",
        "scores_df_test = pd.read_csv(\"scores_test.csv\", index_col = 0)\n",
        "activities_df = pd.read_csv(\"activities_encoded.csv\", index_col = 0)\n",
        "students_df = pd.read_csv(\"student_info_table_v1.csv\", index_col = 0)"
      ],
      "execution_count": null,
      "outputs": []
    },
    {
      "cell_type": "code",
      "metadata": {
        "colab": {
          "base_uri": "https://localhost:8080/",
          "height": 669
        },
        "id": "nS7Ho-ibDaI7",
        "outputId": "140185c2-b0b6-48fb-db21-f3981df8ddc3"
      },
      "source": [
        "scores_df_train.head(20)"
      ],
      "execution_count": null,
      "outputs": [
        {
          "output_type": "execute_result",
          "data": {
            "text/html": [
              "<div>\n",
              "<style scoped>\n",
              "    .dataframe tbody tr th:only-of-type {\n",
              "        vertical-align: middle;\n",
              "    }\n",
              "\n",
              "    .dataframe tbody tr th {\n",
              "        vertical-align: top;\n",
              "    }\n",
              "\n",
              "    .dataframe thead th {\n",
              "        text-align: right;\n",
              "    }\n",
              "</style>\n",
              "<table border=\"1\" class=\"dataframe\">\n",
              "  <thead>\n",
              "    <tr style=\"text-align: right;\">\n",
              "      <th></th>\n",
              "      <th>User_ID</th>\n",
              "      <th>Activity_ID</th>\n",
              "      <th>No_of_attempts</th>\n",
              "      <th>Time_taken</th>\n",
              "      <th>Translanguage_Level</th>\n",
              "      <th>Usefulness_Score</th>\n",
              "    </tr>\n",
              "  </thead>\n",
              "  <tbody>\n",
              "    <tr>\n",
              "      <th>0</th>\n",
              "      <td>0</td>\n",
              "      <td>lab-wendy-shapes-1</td>\n",
              "      <td>1</td>\n",
              "      <td>265.786380</td>\n",
              "      <td>3.093985</td>\n",
              "      <td>0.141203</td>\n",
              "    </tr>\n",
              "    <tr>\n",
              "      <th>1</th>\n",
              "      <td>0</td>\n",
              "      <td>who-all-videoclip-1</td>\n",
              "      <td>3</td>\n",
              "      <td>261.729561</td>\n",
              "      <td>2.829898</td>\n",
              "      <td>0.084622</td>\n",
              "    </tr>\n",
              "    <tr>\n",
              "      <th>2</th>\n",
              "      <td>0</td>\n",
              "      <td>farm-poiki-video-2</td>\n",
              "      <td>3</td>\n",
              "      <td>254.504227</td>\n",
              "      <td>2.789455</td>\n",
              "      <td>0.064420</td>\n",
              "    </tr>\n",
              "    <tr>\n",
              "      <th>3</th>\n",
              "      <td>0</td>\n",
              "      <td>beach-bingo-1</td>\n",
              "      <td>3</td>\n",
              "      <td>258.097252</td>\n",
              "      <td>3.016948</td>\n",
              "      <td>0.008820</td>\n",
              "    </tr>\n",
              "    <tr>\n",
              "      <th>4</th>\n",
              "      <td>0</td>\n",
              "      <td>farm-poiki-video-1</td>\n",
              "      <td>2</td>\n",
              "      <td>267.432200</td>\n",
              "      <td>2.736853</td>\n",
              "      <td>0.037040</td>\n",
              "    </tr>\n",
              "    <tr>\n",
              "      <th>5</th>\n",
              "      <td>0</td>\n",
              "      <td>clothes-roulette-1</td>\n",
              "      <td>3</td>\n",
              "      <td>260.184933</td>\n",
              "      <td>2.621569</td>\n",
              "      <td>0.121265</td>\n",
              "    </tr>\n",
              "    <tr>\n",
              "      <th>6</th>\n",
              "      <td>0</td>\n",
              "      <td>who-poiki-simulation-2</td>\n",
              "      <td>2</td>\n",
              "      <td>269.578557</td>\n",
              "      <td>2.320359</td>\n",
              "      <td>0.380816</td>\n",
              "    </tr>\n",
              "    <tr>\n",
              "      <th>7</th>\n",
              "      <td>0</td>\n",
              "      <td>colors-bingo-1</td>\n",
              "      <td>4</td>\n",
              "      <td>256.365028</td>\n",
              "      <td>2.522725</td>\n",
              "      <td>0.258336</td>\n",
              "    </tr>\n",
              "    <tr>\n",
              "      <th>8</th>\n",
              "      <td>0</td>\n",
              "      <td>who-wendy-book-1</td>\n",
              "      <td>1</td>\n",
              "      <td>271.556818</td>\n",
              "      <td>2.544796</td>\n",
              "      <td>0.240149</td>\n",
              "    </tr>\n",
              "    <tr>\n",
              "      <th>9</th>\n",
              "      <td>0</td>\n",
              "      <td>alphabet-kevin-tracing-1</td>\n",
              "      <td>2</td>\n",
              "      <td>266.726967</td>\n",
              "      <td>2.701406</td>\n",
              "      <td>0.113232</td>\n",
              "    </tr>\n",
              "    <tr>\n",
              "      <th>10</th>\n",
              "      <td>1</td>\n",
              "      <td>farm-poiki-simulation-1</td>\n",
              "      <td>1</td>\n",
              "      <td>275.786380</td>\n",
              "      <td>2.893985</td>\n",
              "      <td>0.181203</td>\n",
              "    </tr>\n",
              "    <tr>\n",
              "      <th>11</th>\n",
              "      <td>1</td>\n",
              "      <td>mycountry-yasmin-coloring-1</td>\n",
              "      <td>1</td>\n",
              "      <td>282.421561</td>\n",
              "      <td>2.615828</td>\n",
              "      <td>0.197939</td>\n",
              "    </tr>\n",
              "    <tr>\n",
              "      <th>12</th>\n",
              "      <td>1</td>\n",
              "      <td>seanimals-yasmin-hotspot-1</td>\n",
              "      <td>1</td>\n",
              "      <td>275.196227</td>\n",
              "      <td>2.575385</td>\n",
              "      <td>0.213410</td>\n",
              "    </tr>\n",
              "    <tr>\n",
              "      <th>13</th>\n",
              "      <td>1</td>\n",
              "      <td>farm-poiki-video-2</td>\n",
              "      <td>1</td>\n",
              "      <td>278.789252</td>\n",
              "      <td>2.802878</td>\n",
              "      <td>0.088745</td>\n",
              "    </tr>\n",
              "    <tr>\n",
              "      <th>14</th>\n",
              "      <td>1</td>\n",
              "      <td>birthday-wendy-simulation-1</td>\n",
              "      <td>2</td>\n",
              "      <td>274.432200</td>\n",
              "      <td>2.537353</td>\n",
              "      <td>0.214490</td>\n",
              "    </tr>\n",
              "    <tr>\n",
              "      <th>15</th>\n",
              "      <td>1</td>\n",
              "      <td>newbaby-poiki-hotspot-1</td>\n",
              "      <td>1</td>\n",
              "      <td>280.876933</td>\n",
              "      <td>2.407499</td>\n",
              "      <td>0.332452</td>\n",
              "    </tr>\n",
              "    <tr>\n",
              "      <th>16</th>\n",
              "      <td>1</td>\n",
              "      <td>farm-poiki-book-1</td>\n",
              "      <td>1</td>\n",
              "      <td>284.978557</td>\n",
              "      <td>2.113359</td>\n",
              "      <td>0.587788</td>\n",
              "    </tr>\n",
              "    <tr>\n",
              "      <th>17</th>\n",
              "      <td>1</td>\n",
              "      <td>cooking-poiki-simulation-1</td>\n",
              "      <td>1</td>\n",
              "      <td>282.243188</td>\n",
              "      <td>2.301514</td>\n",
              "      <td>0.476691</td>\n",
              "    </tr>\n",
              "    <tr>\n",
              "      <th>18</th>\n",
              "      <td>1</td>\n",
              "      <td>country-none-book-1</td>\n",
              "      <td>1</td>\n",
              "      <td>281.556818</td>\n",
              "      <td>2.344796</td>\n",
              "      <td>0.442963</td>\n",
              "    </tr>\n",
              "    <tr>\n",
              "      <th>19</th>\n",
              "      <td>1</td>\n",
              "      <td>foods-poiki-hotspot-1</td>\n",
              "      <td>2</td>\n",
              "      <td>273.726967</td>\n",
              "      <td>2.501906</td>\n",
              "      <td>0.313396</td>\n",
              "    </tr>\n",
              "  </tbody>\n",
              "</table>\n",
              "</div>"
            ],
            "text/plain": [
              "    User_ID                  Activity_ID  ...  Translanguage_Level  Usefulness_Score\n",
              "0         0           lab-wendy-shapes-1  ...             3.093985          0.141203\n",
              "1         0          who-all-videoclip-1  ...             2.829898          0.084622\n",
              "2         0           farm-poiki-video-2  ...             2.789455          0.064420\n",
              "3         0                beach-bingo-1  ...             3.016948          0.008820\n",
              "4         0           farm-poiki-video-1  ...             2.736853          0.037040\n",
              "5         0           clothes-roulette-1  ...             2.621569          0.121265\n",
              "6         0       who-poiki-simulation-2  ...             2.320359          0.380816\n",
              "7         0               colors-bingo-1  ...             2.522725          0.258336\n",
              "8         0             who-wendy-book-1  ...             2.544796          0.240149\n",
              "9         0     alphabet-kevin-tracing-1  ...             2.701406          0.113232\n",
              "10        1      farm-poiki-simulation-1  ...             2.893985          0.181203\n",
              "11        1  mycountry-yasmin-coloring-1  ...             2.615828          0.197939\n",
              "12        1   seanimals-yasmin-hotspot-1  ...             2.575385          0.213410\n",
              "13        1           farm-poiki-video-2  ...             2.802878          0.088745\n",
              "14        1  birthday-wendy-simulation-1  ...             2.537353          0.214490\n",
              "15        1      newbaby-poiki-hotspot-1  ...             2.407499          0.332452\n",
              "16        1            farm-poiki-book-1  ...             2.113359          0.587788\n",
              "17        1   cooking-poiki-simulation-1  ...             2.301514          0.476691\n",
              "18        1          country-none-book-1  ...             2.344796          0.442963\n",
              "19        1        foods-poiki-hotspot-1  ...             2.501906          0.313396\n",
              "\n",
              "[20 rows x 6 columns]"
            ]
          },
          "metadata": {},
          "execution_count": 29
        }
      ]
    },
    {
      "cell_type": "code",
      "metadata": {
        "colab": {
          "base_uri": "https://localhost:8080/",
          "height": 204
        },
        "id": "LnUosRgTEXA1",
        "outputId": "84690e64-c7be-4918-aa8b-5c4cd46044a8"
      },
      "source": [
        "scores_df_test.head()"
      ],
      "execution_count": null,
      "outputs": [
        {
          "output_type": "execute_result",
          "data": {
            "text/html": [
              "<div>\n",
              "<style scoped>\n",
              "    .dataframe tbody tr th:only-of-type {\n",
              "        vertical-align: middle;\n",
              "    }\n",
              "\n",
              "    .dataframe tbody tr th {\n",
              "        vertical-align: top;\n",
              "    }\n",
              "\n",
              "    .dataframe thead th {\n",
              "        text-align: right;\n",
              "    }\n",
              "</style>\n",
              "<table border=\"1\" class=\"dataframe\">\n",
              "  <thead>\n",
              "    <tr style=\"text-align: right;\">\n",
              "      <th></th>\n",
              "      <th>User_ID</th>\n",
              "      <th>Activity_ID</th>\n",
              "      <th>No_of_attempts</th>\n",
              "      <th>Time_taken</th>\n",
              "      <th>Translanguage_Level</th>\n",
              "      <th>Usefulness_Score</th>\n",
              "    </tr>\n",
              "  </thead>\n",
              "  <tbody>\n",
              "    <tr>\n",
              "      <th>2300</th>\n",
              "      <td>230</td>\n",
              "      <td>jungle-yasmin-puzzle-1</td>\n",
              "      <td>2</td>\n",
              "      <td>280.906380</td>\n",
              "      <td>2.097485</td>\n",
              "      <td>0.140503</td>\n",
              "    </tr>\n",
              "    <tr>\n",
              "      <th>2301</th>\n",
              "      <td>230</td>\n",
              "      <td>newbaby-poiki-hotspot-1</td>\n",
              "      <td>3</td>\n",
              "      <td>284.690361</td>\n",
              "      <td>1.822846</td>\n",
              "      <td>0.085682</td>\n",
              "    </tr>\n",
              "    <tr>\n",
              "      <th>2302</th>\n",
              "      <td>230</td>\n",
              "      <td>birthday-wendy-simulation-1</td>\n",
              "      <td>3</td>\n",
              "      <td>277.465027</td>\n",
              "      <td>1.782403</td>\n",
              "      <td>0.066361</td>\n",
              "    </tr>\n",
              "    <tr>\n",
              "      <th>2303</th>\n",
              "      <td>230</td>\n",
              "      <td>country-wendy-videoclip-1</td>\n",
              "      <td>3</td>\n",
              "      <td>281.058052</td>\n",
              "      <td>2.009896</td>\n",
              "      <td>0.011201</td>\n",
              "    </tr>\n",
              "    <tr>\n",
              "      <th>2304</th>\n",
              "      <td>230</td>\n",
              "      <td>who-wendy-routine-2</td>\n",
              "      <td>3</td>\n",
              "      <td>285.101000</td>\n",
              "      <td>1.736871</td>\n",
              "      <td>0.038226</td>\n",
              "    </tr>\n",
              "  </tbody>\n",
              "</table>\n",
              "</div>"
            ],
            "text/plain": [
              "      User_ID  ... Usefulness_Score\n",
              "2300      230  ...         0.140503\n",
              "2301      230  ...         0.085682\n",
              "2302      230  ...         0.066361\n",
              "2303      230  ...         0.011201\n",
              "2304      230  ...         0.038226\n",
              "\n",
              "[5 rows x 6 columns]"
            ]
          },
          "metadata": {},
          "execution_count": 9
        }
      ]
    },
    {
      "cell_type": "code",
      "metadata": {
        "colab": {
          "base_uri": "https://localhost:8080/",
          "height": 343
        },
        "id": "Q47PDJ6kEXH-",
        "outputId": "b8c97113-b218-4544-9b3a-2c4e52efa3ee"
      },
      "source": [
        "activities_df.head()"
      ],
      "execution_count": null,
      "outputs": [
        {
          "output_type": "execute_result",
          "data": {
            "text/html": [
              "<div>\n",
              "<style scoped>\n",
              "    .dataframe tbody tr th:only-of-type {\n",
              "        vertical-align: middle;\n",
              "    }\n",
              "\n",
              "    .dataframe tbody tr th {\n",
              "        vertical-align: top;\n",
              "    }\n",
              "\n",
              "    .dataframe thead th {\n",
              "        text-align: right;\n",
              "    }\n",
              "</style>\n",
              "<table border=\"1\" class=\"dataframe\">\n",
              "  <thead>\n",
              "    <tr style=\"text-align: right;\">\n",
              "      <th></th>\n",
              "      <th>Activity_ID</th>\n",
              "      <th>Activity_Name</th>\n",
              "      <th>Activity_Content</th>\n",
              "      <th>Activity_Type</th>\n",
              "      <th>GameType</th>\n",
              "      <th>Ages_2yo</th>\n",
              "      <th>Ages_3yo</th>\n",
              "      <th>Ages_4yo</th>\n",
              "      <th>Ages_5yo</th>\n",
              "      <th>Ages_6yo</th>\n",
              "      <th>Ages_7yo</th>\n",
              "      <th>Cultures_None</th>\n",
              "      <th>Cultures_Brazil</th>\n",
              "      <th>Cultures_US</th>\n",
              "      <th>Cultures_UK</th>\n",
              "      <th>Cultures_Denmark</th>\n",
              "      <th>Cultures_Spain</th>\n",
              "      <th>Cultures_Mexico</th>\n",
              "      <th>Cultures_Canada</th>\n",
              "      <th>Cultures_Portugal</th>\n",
              "      <th>Cultures_Australia</th>\n",
              "      <th>Cultures_France</th>\n",
              "      <th>Cultures_Italy</th>\n",
              "      <th>Cultures_Germany</th>\n",
              "    </tr>\n",
              "  </thead>\n",
              "  <tbody>\n",
              "    <tr>\n",
              "      <th>0</th>\n",
              "      <td>farm-poiki-book-1</td>\n",
              "      <td>Book: Poiki, the farmer</td>\n",
              "      <td>farm</td>\n",
              "      <td>standard</td>\n",
              "      <td>reading-book</td>\n",
              "      <td>1</td>\n",
              "      <td>1</td>\n",
              "      <td>1</td>\n",
              "      <td>0</td>\n",
              "      <td>0</td>\n",
              "      <td>0</td>\n",
              "      <td>1</td>\n",
              "      <td>0</td>\n",
              "      <td>0</td>\n",
              "      <td>0</td>\n",
              "      <td>0</td>\n",
              "      <td>0</td>\n",
              "      <td>0</td>\n",
              "      <td>0</td>\n",
              "      <td>0</td>\n",
              "      <td>0</td>\n",
              "      <td>0</td>\n",
              "      <td>0</td>\n",
              "      <td>0</td>\n",
              "    </tr>\n",
              "    <tr>\n",
              "      <th>1</th>\n",
              "      <td>farm-poiki-book-2</td>\n",
              "      <td>Book: The animals in the farm</td>\n",
              "      <td>farm-animals</td>\n",
              "      <td>standard</td>\n",
              "      <td>reading-book</td>\n",
              "      <td>1</td>\n",
              "      <td>1</td>\n",
              "      <td>1</td>\n",
              "      <td>0</td>\n",
              "      <td>0</td>\n",
              "      <td>0</td>\n",
              "      <td>1</td>\n",
              "      <td>0</td>\n",
              "      <td>0</td>\n",
              "      <td>0</td>\n",
              "      <td>0</td>\n",
              "      <td>0</td>\n",
              "      <td>0</td>\n",
              "      <td>0</td>\n",
              "      <td>0</td>\n",
              "      <td>0</td>\n",
              "      <td>0</td>\n",
              "      <td>0</td>\n",
              "      <td>0</td>\n",
              "    </tr>\n",
              "    <tr>\n",
              "      <th>2</th>\n",
              "      <td>farm-wendy-book-1</td>\n",
              "      <td>Book: Colors in the farm</td>\n",
              "      <td>colors</td>\n",
              "      <td>standard</td>\n",
              "      <td>reading-book</td>\n",
              "      <td>1</td>\n",
              "      <td>1</td>\n",
              "      <td>0</td>\n",
              "      <td>0</td>\n",
              "      <td>0</td>\n",
              "      <td>0</td>\n",
              "      <td>1</td>\n",
              "      <td>0</td>\n",
              "      <td>0</td>\n",
              "      <td>0</td>\n",
              "      <td>0</td>\n",
              "      <td>0</td>\n",
              "      <td>0</td>\n",
              "      <td>0</td>\n",
              "      <td>0</td>\n",
              "      <td>0</td>\n",
              "      <td>0</td>\n",
              "      <td>0</td>\n",
              "      <td>0</td>\n",
              "    </tr>\n",
              "    <tr>\n",
              "      <th>3</th>\n",
              "      <td>farm-kevin-book-1</td>\n",
              "      <td>Book: Shapes in the farm</td>\n",
              "      <td>shapes</td>\n",
              "      <td>standard</td>\n",
              "      <td>reading-book</td>\n",
              "      <td>1</td>\n",
              "      <td>1</td>\n",
              "      <td>0</td>\n",
              "      <td>0</td>\n",
              "      <td>0</td>\n",
              "      <td>0</td>\n",
              "      <td>1</td>\n",
              "      <td>0</td>\n",
              "      <td>0</td>\n",
              "      <td>0</td>\n",
              "      <td>0</td>\n",
              "      <td>0</td>\n",
              "      <td>0</td>\n",
              "      <td>0</td>\n",
              "      <td>0</td>\n",
              "      <td>0</td>\n",
              "      <td>0</td>\n",
              "      <td>0</td>\n",
              "      <td>0</td>\n",
              "    </tr>\n",
              "    <tr>\n",
              "      <th>4</th>\n",
              "      <td>country-none-book-1</td>\n",
              "      <td>How are the farms in my country?</td>\n",
              "      <td>my-country</td>\n",
              "      <td>cultural</td>\n",
              "      <td>reading-book</td>\n",
              "      <td>1</td>\n",
              "      <td>1</td>\n",
              "      <td>1</td>\n",
              "      <td>1</td>\n",
              "      <td>0</td>\n",
              "      <td>0</td>\n",
              "      <td>0</td>\n",
              "      <td>1</td>\n",
              "      <td>1</td>\n",
              "      <td>1</td>\n",
              "      <td>1</td>\n",
              "      <td>1</td>\n",
              "      <td>1</td>\n",
              "      <td>1</td>\n",
              "      <td>1</td>\n",
              "      <td>1</td>\n",
              "      <td>0</td>\n",
              "      <td>0</td>\n",
              "      <td>0</td>\n",
              "    </tr>\n",
              "  </tbody>\n",
              "</table>\n",
              "</div>"
            ],
            "text/plain": [
              "           Activity_ID  ... Cultures_Germany\n",
              "0    farm-poiki-book-1  ...                0\n",
              "1    farm-poiki-book-2  ...                0\n",
              "2    farm-wendy-book-1  ...                0\n",
              "3    farm-kevin-book-1  ...                0\n",
              "4  country-none-book-1  ...                0\n",
              "\n",
              "[5 rows x 24 columns]"
            ]
          },
          "metadata": {},
          "execution_count": 10
        }
      ]
    },
    {
      "cell_type": "code",
      "metadata": {
        "colab": {
          "base_uri": "https://localhost:8080/",
          "height": 309
        },
        "id": "HURF79PwEXLG",
        "outputId": "5682aee4-4510-4456-b591-70664ccb4740"
      },
      "source": [
        "students_df.head()"
      ],
      "execution_count": null,
      "outputs": [
        {
          "output_type": "execute_result",
          "data": {
            "text/html": [
              "<div>\n",
              "<style scoped>\n",
              "    .dataframe tbody tr th:only-of-type {\n",
              "        vertical-align: middle;\n",
              "    }\n",
              "\n",
              "    .dataframe tbody tr th {\n",
              "        vertical-align: top;\n",
              "    }\n",
              "\n",
              "    .dataframe thead th {\n",
              "        text-align: right;\n",
              "    }\n",
              "</style>\n",
              "<table border=\"1\" class=\"dataframe\">\n",
              "  <thead>\n",
              "    <tr style=\"text-align: right;\">\n",
              "      <th></th>\n",
              "      <th>User_ID</th>\n",
              "      <th>Age</th>\n",
              "      <th>Translanguage_Level</th>\n",
              "      <th>Learning_Profile</th>\n",
              "      <th>Country_of_Birth</th>\n",
              "      <th>Country_of_Residence</th>\n",
              "      <th>Cultural_Heritage</th>\n",
              "      <th>Main_Language</th>\n",
              "      <th>Learning_Language</th>\n",
              "      <th>User_Level_0</th>\n",
              "      <th>User_Level_1</th>\n",
              "      <th>User_Level_2</th>\n",
              "      <th>Gender</th>\n",
              "      <th>User_Name</th>\n",
              "    </tr>\n",
              "  </thead>\n",
              "  <tbody>\n",
              "    <tr>\n",
              "      <th>0</th>\n",
              "      <td>0</td>\n",
              "      <td>6</td>\n",
              "      <td>2</td>\n",
              "      <td>BTB</td>\n",
              "      <td>US</td>\n",
              "      <td>UK</td>\n",
              "      <td>['US']</td>\n",
              "      <td>English</td>\n",
              "      <td>Portuguese</td>\n",
              "      <td>0.8</td>\n",
              "      <td>0.8</td>\n",
              "      <td>0.5</td>\n",
              "      <td>F</td>\n",
              "      <td>Laura Knapp</td>\n",
              "    </tr>\n",
              "    <tr>\n",
              "      <th>1</th>\n",
              "      <td>1</td>\n",
              "      <td>2</td>\n",
              "      <td>2</td>\n",
              "      <td>HL</td>\n",
              "      <td>Brazil</td>\n",
              "      <td>Mexico</td>\n",
              "      <td>['Mexico', 'US', 'France']</td>\n",
              "      <td>Spanish</td>\n",
              "      <td>English</td>\n",
              "      <td>0.5</td>\n",
              "      <td>0.2</td>\n",
              "      <td>0.2</td>\n",
              "      <td>M</td>\n",
              "      <td>Peter Hernandez</td>\n",
              "    </tr>\n",
              "    <tr>\n",
              "      <th>2</th>\n",
              "      <td>2</td>\n",
              "      <td>5</td>\n",
              "      <td>1</td>\n",
              "      <td>IL</td>\n",
              "      <td>US</td>\n",
              "      <td>Australia</td>\n",
              "      <td>['Germany']</td>\n",
              "      <td>German</td>\n",
              "      <td>English</td>\n",
              "      <td>0.8</td>\n",
              "      <td>0.5</td>\n",
              "      <td>0.2</td>\n",
              "      <td>M</td>\n",
              "      <td>Patrick Smith</td>\n",
              "    </tr>\n",
              "    <tr>\n",
              "      <th>3</th>\n",
              "      <td>3</td>\n",
              "      <td>5</td>\n",
              "      <td>1</td>\n",
              "      <td>HL</td>\n",
              "      <td>Spain</td>\n",
              "      <td>Canada</td>\n",
              "      <td>['Germany', 'US', 'Italy']</td>\n",
              "      <td>German</td>\n",
              "      <td>English</td>\n",
              "      <td>0.8</td>\n",
              "      <td>0.5</td>\n",
              "      <td>0.2</td>\n",
              "      <td>M</td>\n",
              "      <td>Donald Gonzalez</td>\n",
              "    </tr>\n",
              "    <tr>\n",
              "      <th>4</th>\n",
              "      <td>4</td>\n",
              "      <td>5</td>\n",
              "      <td>2</td>\n",
              "      <td>IL</td>\n",
              "      <td>Italy</td>\n",
              "      <td>UK</td>\n",
              "      <td>['Mexico']</td>\n",
              "      <td>Spanish</td>\n",
              "      <td>English</td>\n",
              "      <td>0.8</td>\n",
              "      <td>0.5</td>\n",
              "      <td>0.2</td>\n",
              "      <td>M</td>\n",
              "      <td>Joseph Gonzalez</td>\n",
              "    </tr>\n",
              "  </tbody>\n",
              "</table>\n",
              "</div>"
            ],
            "text/plain": [
              "   User_ID  Age  Translanguage_Level  ... User_Level_2 Gender        User_Name\n",
              "0        0    6                    2  ...          0.5      F      Laura Knapp\n",
              "1        1    2                    2  ...          0.2      M  Peter Hernandez\n",
              "2        2    5                    1  ...          0.2      M    Patrick Smith\n",
              "3        3    5                    1  ...          0.2      M  Donald Gonzalez\n",
              "4        4    5                    2  ...          0.2      M  Joseph Gonzalez\n",
              "\n",
              "[5 rows x 14 columns]"
            ]
          },
          "metadata": {},
          "execution_count": 11
        }
      ]
    },
    {
      "cell_type": "code",
      "metadata": {
        "id": "DcHcszlKKWQO"
      },
      "source": [
        "age_to_column_map = {\n",
        "    2:\"Ages_2yo\",\n",
        "    3:\"Ages_3yo\",\n",
        "    4:\"Ages_4yo\",\n",
        "    5:\"Ages_5yo\",\n",
        "    6:\"Ages_6yo\",\n",
        "    7:\"Ages_7yo\",\n",
        "}"
      ],
      "execution_count": null,
      "outputs": []
    },
    {
      "cell_type": "markdown",
      "metadata": {
        "id": "7AwhEU5hJYIC"
      },
      "source": [
        "Level 1"
      ]
    },
    {
      "cell_type": "code",
      "metadata": {
        "id": "3TfN_WsQD37u",
        "colab": {
          "base_uri": "https://localhost:8080/",
          "height": 372
        },
        "outputId": "cda69f1c-31ff-4b4c-b9d2-336bfeb3b53e"
      },
      "source": [
        "T_Level = 1\n",
        "list_students_l1 = []\n",
        "set_ages_l1 = set()\n",
        "for i in range(students_df.shape[0]):\n",
        "  if students_df['Translanguage_Level'].iloc[i] == T_Level:\n",
        "    list_students_l1.append(students_df['User_ID'].iloc[i])\n",
        "    set_ages_l1.add(students_df['Age'].iloc[i])\n",
        "print(len(list_students_l1))\n",
        "print((set_ages_l1))\n",
        "\n",
        "set_activities_l1 = set()\n",
        "\n",
        "for j in range(activities_df.shape[0]):\n",
        "  for item in set_ages_l1:\n",
        "    if activities_df[age_to_column_map[item]].iloc[j] == 1:\n",
        "      set_activities_l1.add(activities_df['Activity_ID'].iloc[j])\n",
        "\n",
        "print(len(set_activities_l1)) \n",
        "\n",
        "cols = ['User_ID']\n",
        "cols = cols + list(set_activities_l1)\n",
        "print((cols))\n",
        "\n",
        "list_usefullness_score = []\n",
        "for user in list_students_l1:\n",
        "  temp = []\n",
        "  temp.append(user)\n",
        "  for activity in set_activities_l1:\n",
        "    try:\n",
        "      temp.append(scores_df_train.loc[scores_df_train['User_ID'] == user].loc[scores_df_train['Activity_ID'] == activity, 'Usefulness_Score'].iloc[0])\n",
        "    except:\n",
        "      temp.append(None)\n",
        "  list_usefullness_score.append(temp)\n",
        "\n",
        "df_matrix_l1 = pd.DataFrame(list_usefullness_score, columns=cols)\n",
        "df_matrix_l1.head()"
      ],
      "execution_count": null,
      "outputs": [
        {
          "output_type": "stream",
          "name": "stdout",
          "text": [
            "91\n",
            "{2, 3, 4, 5, 6}\n",
            "155\n",
            "['User_ID', 'feelings-wendy-hotspot-1', 'theatre-all-videoclip-1', 'mycountryanimals-yasmin-flashcards-1', 'christmas-all-simulation-1', 'lab-wendy-colors-1', 'farm-wendy-identification-1', 'fruits-kevin-drawing-1', 'alphabet-poiki-tracing-1', 'pets-bingo-1', 'farm-poiki-book-2', 'pets-yasmin-flashcards-1', 'friends-all-hotspot-1', 'who-wendy-simulation-1', 'farm-poiki-videoclip-1', 'myself-bingo-1', 'farm-kevin-colors-1', 'farm-yasmin-tracing-1', 'mycountry-yasmin-tracing-1', 'mycountry-yasmin-coloring-1', 'foods-memory-1', 'veggies-poiki-drawing-1', 'sea-yasmin-puzzle-1', '2littlepigs-all-puzzle-1', 'farm-poiki-demovideo-4', 'who-wendy-demovideo-1', 'alphabet-kevin-tracing-1', 'farm-kevin-hotspot-1', 'jungle-yasmin-stickers-1', 'farm-wendy-hotspot-1', 'farm-poiki-book-1', 'lab-wendy-book-1', 'farmanimals-poiki-hotspot-1', 'colors-bingo-1', 'forest-kevin-stickers-1', 'country-wendy-videoclip-1', 'who-kevin-demovideo-1', 'sharing-wendy-hotspot-1', 'newbaby-poiki-hotspot-1', 'who-wendy-routine-2', 'fruits-yasmin-flashcards-1', 'toys-kevin-hotspot-1', 'farm-kevin-piano-1', 'farm-yasmin-flashcards-1', 'farm-none-demovideo-1', 'sleeping-poiki-game-1', 'farm-poiki-demovideo-3', 'mycountry-yasmin-puzzle-1', 'farm-poiki-simulation-1', 'lab-wendy-space-1', 'who-wendy-colors-1', 'foods-poiki-hotspot-1', 'farmanimals-bingo-1', 'country-none-book-1', 'country-none-book-3', 'who-kevin-hotspot-1', 'farm-poiki-videoclip-2', 'sleeping-kevin-simulation-1', 'numbers-poiki-video-2', 'numbers-poiki-video-1', 'farm-kevin-demovideo-2', 'jungle-yasmin-puzzle-1', 'foodsl-roulette-1', 'clothes-memory-1', 'farm-kevin-demovideo-1', 'who-yasmin-demovideo-1', 'shapes-memory-1', 'colors-memory-1', 'seaanimals-yasmin-flashcards-1', 'farm-poiki-puzzle-1', 'socialcode-wendy-video-1', 'home-kevin-book-1', 'dinosaurs-memory-1', 'body-yasmin-flashcards-1', 'dinosaurs-kevin-stickers-1', 'vehicles-yasmin-video-1', 'colors-yasmin-identification-1', 'who-wendy-hotspot-1', 'family-wendy-game-1', 'foods-poiki-naming-1', 'who-poiki-simulation-2', 'numbers-yasmin-video-1', 'country-none-book-4', 'farm-poiki-demovideo-1', 'travel-yasmin-book-1', 'country-none-book-2', 'farm-poiki-video-1', 'farm-poiki-identification-1', 'beach-yasmin-stickers-1', 'numbers-kevin-video-1', 'farm-kevin-identification-1', 'cooking-kevin-simulation-2', 'who-wendy-book-1', 'yho-yasmin-tracing-1', 'birthday-wendy-simulation-1', 'home-poiki-stickers-1', 'numbers-kevin-video-2', 'insects-roulette-1', 'country-yasmin-videoclip-1', 'country-birthday-game-1', 'who-kevin-simulation-1', 'seanimals-yasmin-hotspot-1', 'family-kevin-identification-1', 'farm-wendy-hotspot-2', 'fairtytales-wendy-coloring-1', 'forest-kevin-puzzle-1', 'lighthouse-yasmin-puzzle-1', 'veggies-yasmin-flashcards-1', 'veggies-poiki-hotspot-1', 'lab-wendy-demovideo-1', 'world-all-book-1', 'home-wendy-book-1', 'desert-yasmin-puzzle-1', 'greetings-yasmin-video-1', 'farm-yasmin-demovideo-1', 'lab-wendy-puzzle-1', 'newkinder-yasmin-hotspot-1', 'instruments-yasmin-flashcards-1', 'feelings-kevwen-video-1', 'shopping-roulette-1', 'farm-kevin-book-1', 'colors-yasmin-flashcards-1', 'body-wendy-stickers-2', 'farm-wendy-puzzle-1', 'desertanimals-memory-1', 'who-all-videoclip-1', 'farm-wendy-demovideo-1', 'farm-poiki-video-2', 'farm-poiki-stickers-1', 'who-wendy-puzzle-1', 'body-roulette-1', 'vehicles-yasmin-flashcards-1', 'daycare-all-book-1', 'cooking-yasmin-simulation-1', 'greetings-poiki-video-1', 'feelings-poiki-simulation-1', 'sea-yasmin-puzzle-2', 'diapers-kevin-game-1', 'lab-kevin-game-1', 'forestanimals-kevin-puzzle-1', 'cooking-kevin-simulation-1', 'feelings-memory-1', 'world-yasmin-hotspot-1', 'feelings-poiki-video-1', 'lab-wendy-shapes-1', 'cooking-poiki-simulation-1', 'country-yasmin-videoclip-2', 'body-wendy-stickers-1', 'shapes-poiki-sequence-1', 'who-wendy-book-2', 'sea-yasmin-stickers-1', 'farm-wendy-simulation-2', 'beach-bingo-1', 'farm-wendy-book-1', 'clothes-roulette-1', 'farm-poiki-demovideo-2']\n"
          ]
        },
        {
          "output_type": "execute_result",
          "data": {
            "text/html": [
              "<div>\n",
              "<style scoped>\n",
              "    .dataframe tbody tr th:only-of-type {\n",
              "        vertical-align: middle;\n",
              "    }\n",
              "\n",
              "    .dataframe tbody tr th {\n",
              "        vertical-align: top;\n",
              "    }\n",
              "\n",
              "    .dataframe thead th {\n",
              "        text-align: right;\n",
              "    }\n",
              "</style>\n",
              "<table border=\"1\" class=\"dataframe\">\n",
              "  <thead>\n",
              "    <tr style=\"text-align: right;\">\n",
              "      <th></th>\n",
              "      <th>User_ID</th>\n",
              "      <th>feelings-wendy-hotspot-1</th>\n",
              "      <th>theatre-all-videoclip-1</th>\n",
              "      <th>mycountryanimals-yasmin-flashcards-1</th>\n",
              "      <th>christmas-all-simulation-1</th>\n",
              "      <th>lab-wendy-colors-1</th>\n",
              "      <th>farm-wendy-identification-1</th>\n",
              "      <th>fruits-kevin-drawing-1</th>\n",
              "      <th>alphabet-poiki-tracing-1</th>\n",
              "      <th>pets-bingo-1</th>\n",
              "      <th>farm-poiki-book-2</th>\n",
              "      <th>pets-yasmin-flashcards-1</th>\n",
              "      <th>friends-all-hotspot-1</th>\n",
              "      <th>who-wendy-simulation-1</th>\n",
              "      <th>farm-poiki-videoclip-1</th>\n",
              "      <th>myself-bingo-1</th>\n",
              "      <th>farm-kevin-colors-1</th>\n",
              "      <th>farm-yasmin-tracing-1</th>\n",
              "      <th>mycountry-yasmin-tracing-1</th>\n",
              "      <th>mycountry-yasmin-coloring-1</th>\n",
              "      <th>foods-memory-1</th>\n",
              "      <th>veggies-poiki-drawing-1</th>\n",
              "      <th>sea-yasmin-puzzle-1</th>\n",
              "      <th>2littlepigs-all-puzzle-1</th>\n",
              "      <th>farm-poiki-demovideo-4</th>\n",
              "      <th>who-wendy-demovideo-1</th>\n",
              "      <th>alphabet-kevin-tracing-1</th>\n",
              "      <th>farm-kevin-hotspot-1</th>\n",
              "      <th>jungle-yasmin-stickers-1</th>\n",
              "      <th>farm-wendy-hotspot-1</th>\n",
              "      <th>farm-poiki-book-1</th>\n",
              "      <th>lab-wendy-book-1</th>\n",
              "      <th>farmanimals-poiki-hotspot-1</th>\n",
              "      <th>colors-bingo-1</th>\n",
              "      <th>forest-kevin-stickers-1</th>\n",
              "      <th>country-wendy-videoclip-1</th>\n",
              "      <th>who-kevin-demovideo-1</th>\n",
              "      <th>sharing-wendy-hotspot-1</th>\n",
              "      <th>newbaby-poiki-hotspot-1</th>\n",
              "      <th>who-wendy-routine-2</th>\n",
              "      <th>...</th>\n",
              "      <th>newkinder-yasmin-hotspot-1</th>\n",
              "      <th>instruments-yasmin-flashcards-1</th>\n",
              "      <th>feelings-kevwen-video-1</th>\n",
              "      <th>shopping-roulette-1</th>\n",
              "      <th>farm-kevin-book-1</th>\n",
              "      <th>colors-yasmin-flashcards-1</th>\n",
              "      <th>body-wendy-stickers-2</th>\n",
              "      <th>farm-wendy-puzzle-1</th>\n",
              "      <th>desertanimals-memory-1</th>\n",
              "      <th>who-all-videoclip-1</th>\n",
              "      <th>farm-wendy-demovideo-1</th>\n",
              "      <th>farm-poiki-video-2</th>\n",
              "      <th>farm-poiki-stickers-1</th>\n",
              "      <th>who-wendy-puzzle-1</th>\n",
              "      <th>body-roulette-1</th>\n",
              "      <th>vehicles-yasmin-flashcards-1</th>\n",
              "      <th>daycare-all-book-1</th>\n",
              "      <th>cooking-yasmin-simulation-1</th>\n",
              "      <th>greetings-poiki-video-1</th>\n",
              "      <th>feelings-poiki-simulation-1</th>\n",
              "      <th>sea-yasmin-puzzle-2</th>\n",
              "      <th>diapers-kevin-game-1</th>\n",
              "      <th>lab-kevin-game-1</th>\n",
              "      <th>forestanimals-kevin-puzzle-1</th>\n",
              "      <th>cooking-kevin-simulation-1</th>\n",
              "      <th>feelings-memory-1</th>\n",
              "      <th>world-yasmin-hotspot-1</th>\n",
              "      <th>feelings-poiki-video-1</th>\n",
              "      <th>lab-wendy-shapes-1</th>\n",
              "      <th>cooking-poiki-simulation-1</th>\n",
              "      <th>country-yasmin-videoclip-2</th>\n",
              "      <th>body-wendy-stickers-1</th>\n",
              "      <th>shapes-poiki-sequence-1</th>\n",
              "      <th>who-wendy-book-2</th>\n",
              "      <th>sea-yasmin-stickers-1</th>\n",
              "      <th>farm-wendy-simulation-2</th>\n",
              "      <th>beach-bingo-1</th>\n",
              "      <th>farm-wendy-book-1</th>\n",
              "      <th>clothes-roulette-1</th>\n",
              "      <th>farm-poiki-demovideo-2</th>\n",
              "    </tr>\n",
              "  </thead>\n",
              "  <tbody>\n",
              "    <tr>\n",
              "      <th>0</th>\n",
              "      <td>2</td>\n",
              "      <td>None</td>\n",
              "      <td>None</td>\n",
              "      <td>NaN</td>\n",
              "      <td>None</td>\n",
              "      <td>None</td>\n",
              "      <td>None</td>\n",
              "      <td>None</td>\n",
              "      <td>NaN</td>\n",
              "      <td>None</td>\n",
              "      <td>None</td>\n",
              "      <td>None</td>\n",
              "      <td>None</td>\n",
              "      <td>None</td>\n",
              "      <td>NaN</td>\n",
              "      <td>None</td>\n",
              "      <td>None</td>\n",
              "      <td>None</td>\n",
              "      <td>None</td>\n",
              "      <td>NaN</td>\n",
              "      <td>NaN</td>\n",
              "      <td>None</td>\n",
              "      <td>None</td>\n",
              "      <td>None</td>\n",
              "      <td>None</td>\n",
              "      <td>NaN</td>\n",
              "      <td>NaN</td>\n",
              "      <td>NaN</td>\n",
              "      <td>None</td>\n",
              "      <td>None</td>\n",
              "      <td>NaN</td>\n",
              "      <td>NaN</td>\n",
              "      <td>None</td>\n",
              "      <td>NaN</td>\n",
              "      <td>None</td>\n",
              "      <td>0.066880</td>\n",
              "      <td>None</td>\n",
              "      <td>None</td>\n",
              "      <td>NaN</td>\n",
              "      <td>NaN</td>\n",
              "      <td>...</td>\n",
              "      <td>NaN</td>\n",
              "      <td>None</td>\n",
              "      <td>None</td>\n",
              "      <td>NaN</td>\n",
              "      <td>None</td>\n",
              "      <td>None</td>\n",
              "      <td>None</td>\n",
              "      <td>None</td>\n",
              "      <td>NaN</td>\n",
              "      <td>NaN</td>\n",
              "      <td>None</td>\n",
              "      <td>0.083915</td>\n",
              "      <td>None</td>\n",
              "      <td>None</td>\n",
              "      <td>None</td>\n",
              "      <td>None</td>\n",
              "      <td>None</td>\n",
              "      <td>NaN</td>\n",
              "      <td>None</td>\n",
              "      <td>None</td>\n",
              "      <td>None</td>\n",
              "      <td>None</td>\n",
              "      <td>0.111029</td>\n",
              "      <td>NaN</td>\n",
              "      <td>None</td>\n",
              "      <td>NaN</td>\n",
              "      <td>NaN</td>\n",
              "      <td>None</td>\n",
              "      <td>0.008622</td>\n",
              "      <td>NaN</td>\n",
              "      <td>None</td>\n",
              "      <td>None</td>\n",
              "      <td>0.136961</td>\n",
              "      <td>NaN</td>\n",
              "      <td>None</td>\n",
              "      <td>NaN</td>\n",
              "      <td>NaN</td>\n",
              "      <td>None</td>\n",
              "      <td>NaN</td>\n",
              "      <td>None</td>\n",
              "    </tr>\n",
              "    <tr>\n",
              "      <th>1</th>\n",
              "      <td>3</td>\n",
              "      <td>None</td>\n",
              "      <td>None</td>\n",
              "      <td>NaN</td>\n",
              "      <td>None</td>\n",
              "      <td>None</td>\n",
              "      <td>None</td>\n",
              "      <td>None</td>\n",
              "      <td>0.179703</td>\n",
              "      <td>None</td>\n",
              "      <td>None</td>\n",
              "      <td>None</td>\n",
              "      <td>None</td>\n",
              "      <td>None</td>\n",
              "      <td>NaN</td>\n",
              "      <td>None</td>\n",
              "      <td>None</td>\n",
              "      <td>None</td>\n",
              "      <td>None</td>\n",
              "      <td>NaN</td>\n",
              "      <td>NaN</td>\n",
              "      <td>None</td>\n",
              "      <td>None</td>\n",
              "      <td>None</td>\n",
              "      <td>None</td>\n",
              "      <td>NaN</td>\n",
              "      <td>NaN</td>\n",
              "      <td>NaN</td>\n",
              "      <td>None</td>\n",
              "      <td>None</td>\n",
              "      <td>NaN</td>\n",
              "      <td>NaN</td>\n",
              "      <td>None</td>\n",
              "      <td>NaN</td>\n",
              "      <td>None</td>\n",
              "      <td>NaN</td>\n",
              "      <td>None</td>\n",
              "      <td>None</td>\n",
              "      <td>NaN</td>\n",
              "      <td>NaN</td>\n",
              "      <td>...</td>\n",
              "      <td>NaN</td>\n",
              "      <td>None</td>\n",
              "      <td>None</td>\n",
              "      <td>NaN</td>\n",
              "      <td>None</td>\n",
              "      <td>None</td>\n",
              "      <td>None</td>\n",
              "      <td>None</td>\n",
              "      <td>NaN</td>\n",
              "      <td>NaN</td>\n",
              "      <td>None</td>\n",
              "      <td>0.464378</td>\n",
              "      <td>None</td>\n",
              "      <td>None</td>\n",
              "      <td>None</td>\n",
              "      <td>None</td>\n",
              "      <td>None</td>\n",
              "      <td>NaN</td>\n",
              "      <td>None</td>\n",
              "      <td>None</td>\n",
              "      <td>None</td>\n",
              "      <td>None</td>\n",
              "      <td>0.212285</td>\n",
              "      <td>NaN</td>\n",
              "      <td>None</td>\n",
              "      <td>NaN</td>\n",
              "      <td>NaN</td>\n",
              "      <td>None</td>\n",
              "      <td>0.311073</td>\n",
              "      <td>NaN</td>\n",
              "      <td>None</td>\n",
              "      <td>None</td>\n",
              "      <td>0.088182</td>\n",
              "      <td>NaN</td>\n",
              "      <td>None</td>\n",
              "      <td>0.42925</td>\n",
              "      <td>NaN</td>\n",
              "      <td>None</td>\n",
              "      <td>NaN</td>\n",
              "      <td>None</td>\n",
              "    </tr>\n",
              "    <tr>\n",
              "      <th>2</th>\n",
              "      <td>13</td>\n",
              "      <td>None</td>\n",
              "      <td>None</td>\n",
              "      <td>NaN</td>\n",
              "      <td>None</td>\n",
              "      <td>None</td>\n",
              "      <td>None</td>\n",
              "      <td>None</td>\n",
              "      <td>NaN</td>\n",
              "      <td>None</td>\n",
              "      <td>None</td>\n",
              "      <td>None</td>\n",
              "      <td>None</td>\n",
              "      <td>None</td>\n",
              "      <td>NaN</td>\n",
              "      <td>None</td>\n",
              "      <td>None</td>\n",
              "      <td>None</td>\n",
              "      <td>None</td>\n",
              "      <td>NaN</td>\n",
              "      <td>NaN</td>\n",
              "      <td>None</td>\n",
              "      <td>None</td>\n",
              "      <td>None</td>\n",
              "      <td>None</td>\n",
              "      <td>NaN</td>\n",
              "      <td>NaN</td>\n",
              "      <td>NaN</td>\n",
              "      <td>None</td>\n",
              "      <td>None</td>\n",
              "      <td>NaN</td>\n",
              "      <td>NaN</td>\n",
              "      <td>None</td>\n",
              "      <td>NaN</td>\n",
              "      <td>None</td>\n",
              "      <td>0.783123</td>\n",
              "      <td>None</td>\n",
              "      <td>None</td>\n",
              "      <td>0.668454</td>\n",
              "      <td>0.641565</td>\n",
              "      <td>...</td>\n",
              "      <td>NaN</td>\n",
              "      <td>None</td>\n",
              "      <td>None</td>\n",
              "      <td>NaN</td>\n",
              "      <td>None</td>\n",
              "      <td>None</td>\n",
              "      <td>None</td>\n",
              "      <td>None</td>\n",
              "      <td>NaN</td>\n",
              "      <td>NaN</td>\n",
              "      <td>None</td>\n",
              "      <td>0.527621</td>\n",
              "      <td>None</td>\n",
              "      <td>None</td>\n",
              "      <td>None</td>\n",
              "      <td>None</td>\n",
              "      <td>None</td>\n",
              "      <td>NaN</td>\n",
              "      <td>None</td>\n",
              "      <td>None</td>\n",
              "      <td>None</td>\n",
              "      <td>None</td>\n",
              "      <td>NaN</td>\n",
              "      <td>0.218193</td>\n",
              "      <td>None</td>\n",
              "      <td>NaN</td>\n",
              "      <td>NaN</td>\n",
              "      <td>None</td>\n",
              "      <td>NaN</td>\n",
              "      <td>NaN</td>\n",
              "      <td>None</td>\n",
              "      <td>None</td>\n",
              "      <td>NaN</td>\n",
              "      <td>NaN</td>\n",
              "      <td>None</td>\n",
              "      <td>NaN</td>\n",
              "      <td>NaN</td>\n",
              "      <td>None</td>\n",
              "      <td>NaN</td>\n",
              "      <td>None</td>\n",
              "    </tr>\n",
              "    <tr>\n",
              "      <th>3</th>\n",
              "      <td>22</td>\n",
              "      <td>None</td>\n",
              "      <td>None</td>\n",
              "      <td>NaN</td>\n",
              "      <td>None</td>\n",
              "      <td>None</td>\n",
              "      <td>None</td>\n",
              "      <td>None</td>\n",
              "      <td>NaN</td>\n",
              "      <td>None</td>\n",
              "      <td>None</td>\n",
              "      <td>None</td>\n",
              "      <td>None</td>\n",
              "      <td>None</td>\n",
              "      <td>NaN</td>\n",
              "      <td>None</td>\n",
              "      <td>None</td>\n",
              "      <td>None</td>\n",
              "      <td>None</td>\n",
              "      <td>NaN</td>\n",
              "      <td>NaN</td>\n",
              "      <td>None</td>\n",
              "      <td>None</td>\n",
              "      <td>None</td>\n",
              "      <td>None</td>\n",
              "      <td>NaN</td>\n",
              "      <td>NaN</td>\n",
              "      <td>NaN</td>\n",
              "      <td>None</td>\n",
              "      <td>None</td>\n",
              "      <td>NaN</td>\n",
              "      <td>NaN</td>\n",
              "      <td>None</td>\n",
              "      <td>NaN</td>\n",
              "      <td>None</td>\n",
              "      <td>NaN</td>\n",
              "      <td>None</td>\n",
              "      <td>None</td>\n",
              "      <td>NaN</td>\n",
              "      <td>NaN</td>\n",
              "      <td>...</td>\n",
              "      <td>NaN</td>\n",
              "      <td>None</td>\n",
              "      <td>None</td>\n",
              "      <td>NaN</td>\n",
              "      <td>None</td>\n",
              "      <td>None</td>\n",
              "      <td>None</td>\n",
              "      <td>None</td>\n",
              "      <td>NaN</td>\n",
              "      <td>NaN</td>\n",
              "      <td>None</td>\n",
              "      <td>0.036240</td>\n",
              "      <td>None</td>\n",
              "      <td>None</td>\n",
              "      <td>None</td>\n",
              "      <td>None</td>\n",
              "      <td>None</td>\n",
              "      <td>NaN</td>\n",
              "      <td>None</td>\n",
              "      <td>None</td>\n",
              "      <td>None</td>\n",
              "      <td>None</td>\n",
              "      <td>0.086736</td>\n",
              "      <td>NaN</td>\n",
              "      <td>None</td>\n",
              "      <td>NaN</td>\n",
              "      <td>NaN</td>\n",
              "      <td>None</td>\n",
              "      <td>0.114178</td>\n",
              "      <td>NaN</td>\n",
              "      <td>None</td>\n",
              "      <td>None</td>\n",
              "      <td>0.274847</td>\n",
              "      <td>NaN</td>\n",
              "      <td>None</td>\n",
              "      <td>NaN</td>\n",
              "      <td>NaN</td>\n",
              "      <td>None</td>\n",
              "      <td>NaN</td>\n",
              "      <td>None</td>\n",
              "    </tr>\n",
              "    <tr>\n",
              "      <th>4</th>\n",
              "      <td>24</td>\n",
              "      <td>None</td>\n",
              "      <td>None</td>\n",
              "      <td>NaN</td>\n",
              "      <td>None</td>\n",
              "      <td>None</td>\n",
              "      <td>None</td>\n",
              "      <td>None</td>\n",
              "      <td>NaN</td>\n",
              "      <td>None</td>\n",
              "      <td>None</td>\n",
              "      <td>None</td>\n",
              "      <td>None</td>\n",
              "      <td>None</td>\n",
              "      <td>NaN</td>\n",
              "      <td>None</td>\n",
              "      <td>None</td>\n",
              "      <td>None</td>\n",
              "      <td>None</td>\n",
              "      <td>NaN</td>\n",
              "      <td>NaN</td>\n",
              "      <td>None</td>\n",
              "      <td>None</td>\n",
              "      <td>None</td>\n",
              "      <td>None</td>\n",
              "      <td>NaN</td>\n",
              "      <td>NaN</td>\n",
              "      <td>NaN</td>\n",
              "      <td>None</td>\n",
              "      <td>None</td>\n",
              "      <td>0.585309</td>\n",
              "      <td>NaN</td>\n",
              "      <td>None</td>\n",
              "      <td>NaN</td>\n",
              "      <td>None</td>\n",
              "      <td>0.086924</td>\n",
              "      <td>None</td>\n",
              "      <td>None</td>\n",
              "      <td>NaN</td>\n",
              "      <td>NaN</td>\n",
              "      <td>...</td>\n",
              "      <td>NaN</td>\n",
              "      <td>None</td>\n",
              "      <td>None</td>\n",
              "      <td>NaN</td>\n",
              "      <td>None</td>\n",
              "      <td>None</td>\n",
              "      <td>None</td>\n",
              "      <td>None</td>\n",
              "      <td>NaN</td>\n",
              "      <td>NaN</td>\n",
              "      <td>None</td>\n",
              "      <td>0.476201</td>\n",
              "      <td>None</td>\n",
              "      <td>None</td>\n",
              "      <td>None</td>\n",
              "      <td>None</td>\n",
              "      <td>None</td>\n",
              "      <td>NaN</td>\n",
              "      <td>None</td>\n",
              "      <td>None</td>\n",
              "      <td>None</td>\n",
              "      <td>None</td>\n",
              "      <td>NaN</td>\n",
              "      <td>NaN</td>\n",
              "      <td>None</td>\n",
              "      <td>0.21758</td>\n",
              "      <td>NaN</td>\n",
              "      <td>None</td>\n",
              "      <td>NaN</td>\n",
              "      <td>NaN</td>\n",
              "      <td>None</td>\n",
              "      <td>None</td>\n",
              "      <td>NaN</td>\n",
              "      <td>0.180703</td>\n",
              "      <td>None</td>\n",
              "      <td>NaN</td>\n",
              "      <td>NaN</td>\n",
              "      <td>None</td>\n",
              "      <td>NaN</td>\n",
              "      <td>None</td>\n",
              "    </tr>\n",
              "  </tbody>\n",
              "</table>\n",
              "<p>5 rows × 156 columns</p>\n",
              "</div>"
            ],
            "text/plain": [
              "   User_ID feelings-wendy-hotspot-1  ... clothes-roulette-1  farm-poiki-demovideo-2\n",
              "0        2                     None  ...                NaN                    None\n",
              "1        3                     None  ...                NaN                    None\n",
              "2       13                     None  ...                NaN                    None\n",
              "3       22                     None  ...                NaN                    None\n",
              "4       24                     None  ...                NaN                    None\n",
              "\n",
              "[5 rows x 156 columns]"
            ]
          },
          "metadata": {},
          "execution_count": 13
        }
      ]
    },
    {
      "cell_type": "markdown",
      "metadata": {
        "id": "rPVCZTfXhuNz"
      },
      "source": [
        "Level 2"
      ]
    },
    {
      "cell_type": "code",
      "metadata": {
        "colab": {
          "base_uri": "https://localhost:8080/",
          "height": 389
        },
        "id": "QSB774aPhveh",
        "outputId": "c9b11fcd-0b24-48fe-d939-3a930b5fd5ee"
      },
      "source": [
        "T_Level = 2\n",
        "list_students_l2 = []\n",
        "set_ages_l2 = set()\n",
        "for i in range(students_df.shape[0]):\n",
        "  if students_df['Translanguage_Level'].iloc[i] == T_Level:\n",
        "    list_students_l2.append(students_df['User_ID'].iloc[i])\n",
        "    set_ages_l2.add(students_df['Age'].iloc[i])\n",
        "print(len(list_students_l2))\n",
        "print((set_ages_l2))\n",
        "\n",
        "set_activities_l2 = set()\n",
        "\n",
        "for j in range(activities_df.shape[0]):\n",
        "  for item in set_ages_l2:\n",
        "    if activities_df[age_to_column_map[item]].iloc[j] == 1:\n",
        "      set_activities_l2.add(activities_df['Activity_ID'].iloc[j])\n",
        "\n",
        "print(len(set_activities_l2)) \n",
        "\n",
        "cols = ['User_ID']\n",
        "cols = cols + list(set_activities_l2)\n",
        "print((cols))\n",
        "\n",
        "list_usefullness_score_l2 = []\n",
        "for user in list_students_l2:\n",
        "  temp = []\n",
        "  temp.append(user)\n",
        "  for activity in set_activities_l2:\n",
        "    try:\n",
        "      temp.append(scores_df_train.loc[scores_df_train['User_ID'] == user].loc[scores_df_train['Activity_ID'] == activity, 'Usefulness_Score'].iloc[0])\n",
        "    except:\n",
        "      temp.append(None)\n",
        "  list_usefullness_score_l2.append(temp)\n",
        "\n",
        "df_matrix_l2 = pd.DataFrame(list_usefullness_score_l2, columns=cols)\n",
        "print(df_matrix_l2.shape)\n",
        "df_matrix_l2.head()"
      ],
      "execution_count": null,
      "outputs": [
        {
          "output_type": "stream",
          "name": "stdout",
          "text": [
            "87\n",
            "{2, 3, 4, 5, 6}\n",
            "155\n",
            "['User_ID', 'feelings-wendy-hotspot-1', 'theatre-all-videoclip-1', 'mycountryanimals-yasmin-flashcards-1', 'christmas-all-simulation-1', 'lab-wendy-colors-1', 'farm-wendy-identification-1', 'fruits-kevin-drawing-1', 'alphabet-poiki-tracing-1', 'pets-bingo-1', 'farm-poiki-book-2', 'pets-yasmin-flashcards-1', 'friends-all-hotspot-1', 'who-wendy-simulation-1', 'farm-poiki-videoclip-1', 'myself-bingo-1', 'farm-kevin-colors-1', 'farm-yasmin-tracing-1', 'mycountry-yasmin-tracing-1', 'mycountry-yasmin-coloring-1', 'foods-memory-1', 'veggies-poiki-drawing-1', 'sea-yasmin-puzzle-1', '2littlepigs-all-puzzle-1', 'farm-poiki-demovideo-4', 'who-wendy-demovideo-1', 'alphabet-kevin-tracing-1', 'farm-kevin-hotspot-1', 'jungle-yasmin-stickers-1', 'farm-wendy-hotspot-1', 'farm-poiki-book-1', 'lab-wendy-book-1', 'farmanimals-poiki-hotspot-1', 'colors-bingo-1', 'forest-kevin-stickers-1', 'country-wendy-videoclip-1', 'who-kevin-demovideo-1', 'sharing-wendy-hotspot-1', 'newbaby-poiki-hotspot-1', 'who-wendy-routine-2', 'fruits-yasmin-flashcards-1', 'toys-kevin-hotspot-1', 'farm-kevin-piano-1', 'farm-yasmin-flashcards-1', 'farm-none-demovideo-1', 'sleeping-poiki-game-1', 'farm-poiki-demovideo-3', 'mycountry-yasmin-puzzle-1', 'farm-poiki-simulation-1', 'lab-wendy-space-1', 'who-wendy-colors-1', 'foods-poiki-hotspot-1', 'farmanimals-bingo-1', 'country-none-book-1', 'country-none-book-3', 'who-kevin-hotspot-1', 'farm-poiki-videoclip-2', 'sleeping-kevin-simulation-1', 'numbers-poiki-video-2', 'numbers-poiki-video-1', 'farm-kevin-demovideo-2', 'jungle-yasmin-puzzle-1', 'foodsl-roulette-1', 'clothes-memory-1', 'farm-kevin-demovideo-1', 'who-yasmin-demovideo-1', 'shapes-memory-1', 'colors-memory-1', 'seaanimals-yasmin-flashcards-1', 'farm-poiki-puzzle-1', 'socialcode-wendy-video-1', 'home-kevin-book-1', 'dinosaurs-memory-1', 'body-yasmin-flashcards-1', 'dinosaurs-kevin-stickers-1', 'vehicles-yasmin-video-1', 'colors-yasmin-identification-1', 'who-wendy-hotspot-1', 'family-wendy-game-1', 'foods-poiki-naming-1', 'who-poiki-simulation-2', 'numbers-yasmin-video-1', 'country-none-book-4', 'farm-poiki-demovideo-1', 'travel-yasmin-book-1', 'country-none-book-2', 'farm-poiki-video-1', 'farm-poiki-identification-1', 'beach-yasmin-stickers-1', 'numbers-kevin-video-1', 'farm-kevin-identification-1', 'cooking-kevin-simulation-2', 'who-wendy-book-1', 'yho-yasmin-tracing-1', 'birthday-wendy-simulation-1', 'home-poiki-stickers-1', 'numbers-kevin-video-2', 'insects-roulette-1', 'country-yasmin-videoclip-1', 'country-birthday-game-1', 'who-kevin-simulation-1', 'seanimals-yasmin-hotspot-1', 'family-kevin-identification-1', 'farm-wendy-hotspot-2', 'fairtytales-wendy-coloring-1', 'forest-kevin-puzzle-1', 'lighthouse-yasmin-puzzle-1', 'veggies-yasmin-flashcards-1', 'veggies-poiki-hotspot-1', 'lab-wendy-demovideo-1', 'world-all-book-1', 'home-wendy-book-1', 'desert-yasmin-puzzle-1', 'greetings-yasmin-video-1', 'farm-yasmin-demovideo-1', 'lab-wendy-puzzle-1', 'newkinder-yasmin-hotspot-1', 'instruments-yasmin-flashcards-1', 'feelings-kevwen-video-1', 'shopping-roulette-1', 'farm-kevin-book-1', 'colors-yasmin-flashcards-1', 'body-wendy-stickers-2', 'farm-wendy-puzzle-1', 'desertanimals-memory-1', 'who-all-videoclip-1', 'farm-wendy-demovideo-1', 'farm-poiki-video-2', 'farm-poiki-stickers-1', 'who-wendy-puzzle-1', 'body-roulette-1', 'vehicles-yasmin-flashcards-1', 'daycare-all-book-1', 'cooking-yasmin-simulation-1', 'greetings-poiki-video-1', 'feelings-poiki-simulation-1', 'sea-yasmin-puzzle-2', 'diapers-kevin-game-1', 'lab-kevin-game-1', 'forestanimals-kevin-puzzle-1', 'cooking-kevin-simulation-1', 'feelings-memory-1', 'world-yasmin-hotspot-1', 'feelings-poiki-video-1', 'lab-wendy-shapes-1', 'cooking-poiki-simulation-1', 'country-yasmin-videoclip-2', 'body-wendy-stickers-1', 'shapes-poiki-sequence-1', 'who-wendy-book-2', 'sea-yasmin-stickers-1', 'farm-wendy-simulation-2', 'beach-bingo-1', 'farm-wendy-book-1', 'clothes-roulette-1', 'farm-poiki-demovideo-2']\n",
            "(87, 156)\n"
          ]
        },
        {
          "output_type": "execute_result",
          "data": {
            "text/html": [
              "<div>\n",
              "<style scoped>\n",
              "    .dataframe tbody tr th:only-of-type {\n",
              "        vertical-align: middle;\n",
              "    }\n",
              "\n",
              "    .dataframe tbody tr th {\n",
              "        vertical-align: top;\n",
              "    }\n",
              "\n",
              "    .dataframe thead th {\n",
              "        text-align: right;\n",
              "    }\n",
              "</style>\n",
              "<table border=\"1\" class=\"dataframe\">\n",
              "  <thead>\n",
              "    <tr style=\"text-align: right;\">\n",
              "      <th></th>\n",
              "      <th>User_ID</th>\n",
              "      <th>feelings-wendy-hotspot-1</th>\n",
              "      <th>theatre-all-videoclip-1</th>\n",
              "      <th>mycountryanimals-yasmin-flashcards-1</th>\n",
              "      <th>christmas-all-simulation-1</th>\n",
              "      <th>lab-wendy-colors-1</th>\n",
              "      <th>farm-wendy-identification-1</th>\n",
              "      <th>fruits-kevin-drawing-1</th>\n",
              "      <th>alphabet-poiki-tracing-1</th>\n",
              "      <th>pets-bingo-1</th>\n",
              "      <th>farm-poiki-book-2</th>\n",
              "      <th>pets-yasmin-flashcards-1</th>\n",
              "      <th>friends-all-hotspot-1</th>\n",
              "      <th>who-wendy-simulation-1</th>\n",
              "      <th>farm-poiki-videoclip-1</th>\n",
              "      <th>myself-bingo-1</th>\n",
              "      <th>farm-kevin-colors-1</th>\n",
              "      <th>farm-yasmin-tracing-1</th>\n",
              "      <th>mycountry-yasmin-tracing-1</th>\n",
              "      <th>mycountry-yasmin-coloring-1</th>\n",
              "      <th>foods-memory-1</th>\n",
              "      <th>veggies-poiki-drawing-1</th>\n",
              "      <th>sea-yasmin-puzzle-1</th>\n",
              "      <th>2littlepigs-all-puzzle-1</th>\n",
              "      <th>farm-poiki-demovideo-4</th>\n",
              "      <th>who-wendy-demovideo-1</th>\n",
              "      <th>alphabet-kevin-tracing-1</th>\n",
              "      <th>farm-kevin-hotspot-1</th>\n",
              "      <th>jungle-yasmin-stickers-1</th>\n",
              "      <th>farm-wendy-hotspot-1</th>\n",
              "      <th>farm-poiki-book-1</th>\n",
              "      <th>lab-wendy-book-1</th>\n",
              "      <th>farmanimals-poiki-hotspot-1</th>\n",
              "      <th>colors-bingo-1</th>\n",
              "      <th>forest-kevin-stickers-1</th>\n",
              "      <th>country-wendy-videoclip-1</th>\n",
              "      <th>who-kevin-demovideo-1</th>\n",
              "      <th>sharing-wendy-hotspot-1</th>\n",
              "      <th>newbaby-poiki-hotspot-1</th>\n",
              "      <th>who-wendy-routine-2</th>\n",
              "      <th>...</th>\n",
              "      <th>newkinder-yasmin-hotspot-1</th>\n",
              "      <th>instruments-yasmin-flashcards-1</th>\n",
              "      <th>feelings-kevwen-video-1</th>\n",
              "      <th>shopping-roulette-1</th>\n",
              "      <th>farm-kevin-book-1</th>\n",
              "      <th>colors-yasmin-flashcards-1</th>\n",
              "      <th>body-wendy-stickers-2</th>\n",
              "      <th>farm-wendy-puzzle-1</th>\n",
              "      <th>desertanimals-memory-1</th>\n",
              "      <th>who-all-videoclip-1</th>\n",
              "      <th>farm-wendy-demovideo-1</th>\n",
              "      <th>farm-poiki-video-2</th>\n",
              "      <th>farm-poiki-stickers-1</th>\n",
              "      <th>who-wendy-puzzle-1</th>\n",
              "      <th>body-roulette-1</th>\n",
              "      <th>vehicles-yasmin-flashcards-1</th>\n",
              "      <th>daycare-all-book-1</th>\n",
              "      <th>cooking-yasmin-simulation-1</th>\n",
              "      <th>greetings-poiki-video-1</th>\n",
              "      <th>feelings-poiki-simulation-1</th>\n",
              "      <th>sea-yasmin-puzzle-2</th>\n",
              "      <th>diapers-kevin-game-1</th>\n",
              "      <th>lab-kevin-game-1</th>\n",
              "      <th>forestanimals-kevin-puzzle-1</th>\n",
              "      <th>cooking-kevin-simulation-1</th>\n",
              "      <th>feelings-memory-1</th>\n",
              "      <th>world-yasmin-hotspot-1</th>\n",
              "      <th>feelings-poiki-video-1</th>\n",
              "      <th>lab-wendy-shapes-1</th>\n",
              "      <th>cooking-poiki-simulation-1</th>\n",
              "      <th>country-yasmin-videoclip-2</th>\n",
              "      <th>body-wendy-stickers-1</th>\n",
              "      <th>shapes-poiki-sequence-1</th>\n",
              "      <th>who-wendy-book-2</th>\n",
              "      <th>sea-yasmin-stickers-1</th>\n",
              "      <th>farm-wendy-simulation-2</th>\n",
              "      <th>beach-bingo-1</th>\n",
              "      <th>farm-wendy-book-1</th>\n",
              "      <th>clothes-roulette-1</th>\n",
              "      <th>farm-poiki-demovideo-2</th>\n",
              "    </tr>\n",
              "  </thead>\n",
              "  <tbody>\n",
              "    <tr>\n",
              "      <th>0</th>\n",
              "      <td>0</td>\n",
              "      <td>None</td>\n",
              "      <td>None</td>\n",
              "      <td>NaN</td>\n",
              "      <td>None</td>\n",
              "      <td>None</td>\n",
              "      <td>None</td>\n",
              "      <td>None</td>\n",
              "      <td>NaN</td>\n",
              "      <td>None</td>\n",
              "      <td>None</td>\n",
              "      <td>None</td>\n",
              "      <td>None</td>\n",
              "      <td>None</td>\n",
              "      <td>None</td>\n",
              "      <td>None</td>\n",
              "      <td>None</td>\n",
              "      <td>None</td>\n",
              "      <td>None</td>\n",
              "      <td>NaN</td>\n",
              "      <td>NaN</td>\n",
              "      <td>NaN</td>\n",
              "      <td>None</td>\n",
              "      <td>None</td>\n",
              "      <td>None</td>\n",
              "      <td>NaN</td>\n",
              "      <td>0.113232</td>\n",
              "      <td>NaN</td>\n",
              "      <td>None</td>\n",
              "      <td>None</td>\n",
              "      <td>NaN</td>\n",
              "      <td>NaN</td>\n",
              "      <td>None</td>\n",
              "      <td>0.258336</td>\n",
              "      <td>None</td>\n",
              "      <td>NaN</td>\n",
              "      <td>None</td>\n",
              "      <td>None</td>\n",
              "      <td>NaN</td>\n",
              "      <td>NaN</td>\n",
              "      <td>...</td>\n",
              "      <td>NaN</td>\n",
              "      <td>None</td>\n",
              "      <td>None</td>\n",
              "      <td>NaN</td>\n",
              "      <td>NaN</td>\n",
              "      <td>None</td>\n",
              "      <td>None</td>\n",
              "      <td>None</td>\n",
              "      <td>NaN</td>\n",
              "      <td>0.084622</td>\n",
              "      <td>None</td>\n",
              "      <td>0.064420</td>\n",
              "      <td>None</td>\n",
              "      <td>None</td>\n",
              "      <td>None</td>\n",
              "      <td>None</td>\n",
              "      <td>None</td>\n",
              "      <td>None</td>\n",
              "      <td>None</td>\n",
              "      <td>None</td>\n",
              "      <td>None</td>\n",
              "      <td>None</td>\n",
              "      <td>NaN</td>\n",
              "      <td>NaN</td>\n",
              "      <td>None</td>\n",
              "      <td>NaN</td>\n",
              "      <td>NaN</td>\n",
              "      <td>None</td>\n",
              "      <td>0.141203</td>\n",
              "      <td>NaN</td>\n",
              "      <td>None</td>\n",
              "      <td>None</td>\n",
              "      <td>NaN</td>\n",
              "      <td>NaN</td>\n",
              "      <td>None</td>\n",
              "      <td>NaN</td>\n",
              "      <td>0.00882</td>\n",
              "      <td>None</td>\n",
              "      <td>0.121265</td>\n",
              "      <td>None</td>\n",
              "    </tr>\n",
              "    <tr>\n",
              "      <th>1</th>\n",
              "      <td>1</td>\n",
              "      <td>None</td>\n",
              "      <td>None</td>\n",
              "      <td>NaN</td>\n",
              "      <td>None</td>\n",
              "      <td>None</td>\n",
              "      <td>None</td>\n",
              "      <td>None</td>\n",
              "      <td>NaN</td>\n",
              "      <td>None</td>\n",
              "      <td>None</td>\n",
              "      <td>None</td>\n",
              "      <td>None</td>\n",
              "      <td>None</td>\n",
              "      <td>None</td>\n",
              "      <td>None</td>\n",
              "      <td>None</td>\n",
              "      <td>None</td>\n",
              "      <td>None</td>\n",
              "      <td>0.197939</td>\n",
              "      <td>NaN</td>\n",
              "      <td>NaN</td>\n",
              "      <td>None</td>\n",
              "      <td>None</td>\n",
              "      <td>None</td>\n",
              "      <td>NaN</td>\n",
              "      <td>NaN</td>\n",
              "      <td>NaN</td>\n",
              "      <td>None</td>\n",
              "      <td>None</td>\n",
              "      <td>0.587788</td>\n",
              "      <td>NaN</td>\n",
              "      <td>None</td>\n",
              "      <td>NaN</td>\n",
              "      <td>None</td>\n",
              "      <td>NaN</td>\n",
              "      <td>None</td>\n",
              "      <td>None</td>\n",
              "      <td>0.332452</td>\n",
              "      <td>NaN</td>\n",
              "      <td>...</td>\n",
              "      <td>NaN</td>\n",
              "      <td>None</td>\n",
              "      <td>None</td>\n",
              "      <td>NaN</td>\n",
              "      <td>NaN</td>\n",
              "      <td>None</td>\n",
              "      <td>None</td>\n",
              "      <td>None</td>\n",
              "      <td>NaN</td>\n",
              "      <td>NaN</td>\n",
              "      <td>None</td>\n",
              "      <td>0.088745</td>\n",
              "      <td>None</td>\n",
              "      <td>None</td>\n",
              "      <td>None</td>\n",
              "      <td>None</td>\n",
              "      <td>None</td>\n",
              "      <td>None</td>\n",
              "      <td>None</td>\n",
              "      <td>None</td>\n",
              "      <td>None</td>\n",
              "      <td>None</td>\n",
              "      <td>NaN</td>\n",
              "      <td>NaN</td>\n",
              "      <td>None</td>\n",
              "      <td>NaN</td>\n",
              "      <td>NaN</td>\n",
              "      <td>None</td>\n",
              "      <td>NaN</td>\n",
              "      <td>0.476691</td>\n",
              "      <td>None</td>\n",
              "      <td>None</td>\n",
              "      <td>NaN</td>\n",
              "      <td>NaN</td>\n",
              "      <td>None</td>\n",
              "      <td>NaN</td>\n",
              "      <td>NaN</td>\n",
              "      <td>None</td>\n",
              "      <td>NaN</td>\n",
              "      <td>None</td>\n",
              "    </tr>\n",
              "    <tr>\n",
              "      <th>2</th>\n",
              "      <td>4</td>\n",
              "      <td>None</td>\n",
              "      <td>None</td>\n",
              "      <td>NaN</td>\n",
              "      <td>None</td>\n",
              "      <td>None</td>\n",
              "      <td>None</td>\n",
              "      <td>None</td>\n",
              "      <td>NaN</td>\n",
              "      <td>None</td>\n",
              "      <td>None</td>\n",
              "      <td>None</td>\n",
              "      <td>None</td>\n",
              "      <td>None</td>\n",
              "      <td>None</td>\n",
              "      <td>None</td>\n",
              "      <td>None</td>\n",
              "      <td>None</td>\n",
              "      <td>None</td>\n",
              "      <td>NaN</td>\n",
              "      <td>NaN</td>\n",
              "      <td>NaN</td>\n",
              "      <td>None</td>\n",
              "      <td>None</td>\n",
              "      <td>None</td>\n",
              "      <td>NaN</td>\n",
              "      <td>NaN</td>\n",
              "      <td>NaN</td>\n",
              "      <td>None</td>\n",
              "      <td>None</td>\n",
              "      <td>NaN</td>\n",
              "      <td>NaN</td>\n",
              "      <td>None</td>\n",
              "      <td>NaN</td>\n",
              "      <td>None</td>\n",
              "      <td>NaN</td>\n",
              "      <td>None</td>\n",
              "      <td>None</td>\n",
              "      <td>NaN</td>\n",
              "      <td>NaN</td>\n",
              "      <td>...</td>\n",
              "      <td>NaN</td>\n",
              "      <td>None</td>\n",
              "      <td>None</td>\n",
              "      <td>NaN</td>\n",
              "      <td>NaN</td>\n",
              "      <td>None</td>\n",
              "      <td>None</td>\n",
              "      <td>None</td>\n",
              "      <td>NaN</td>\n",
              "      <td>NaN</td>\n",
              "      <td>None</td>\n",
              "      <td>0.063900</td>\n",
              "      <td>None</td>\n",
              "      <td>None</td>\n",
              "      <td>None</td>\n",
              "      <td>None</td>\n",
              "      <td>None</td>\n",
              "      <td>None</td>\n",
              "      <td>None</td>\n",
              "      <td>None</td>\n",
              "      <td>None</td>\n",
              "      <td>None</td>\n",
              "      <td>0.036567</td>\n",
              "      <td>NaN</td>\n",
              "      <td>None</td>\n",
              "      <td>NaN</td>\n",
              "      <td>NaN</td>\n",
              "      <td>None</td>\n",
              "      <td>0.276124</td>\n",
              "      <td>NaN</td>\n",
              "      <td>None</td>\n",
              "      <td>None</td>\n",
              "      <td>0.119254</td>\n",
              "      <td>NaN</td>\n",
              "      <td>None</td>\n",
              "      <td>NaN</td>\n",
              "      <td>NaN</td>\n",
              "      <td>None</td>\n",
              "      <td>NaN</td>\n",
              "      <td>None</td>\n",
              "    </tr>\n",
              "    <tr>\n",
              "      <th>3</th>\n",
              "      <td>5</td>\n",
              "      <td>None</td>\n",
              "      <td>None</td>\n",
              "      <td>NaN</td>\n",
              "      <td>None</td>\n",
              "      <td>None</td>\n",
              "      <td>None</td>\n",
              "      <td>None</td>\n",
              "      <td>NaN</td>\n",
              "      <td>None</td>\n",
              "      <td>None</td>\n",
              "      <td>None</td>\n",
              "      <td>None</td>\n",
              "      <td>None</td>\n",
              "      <td>None</td>\n",
              "      <td>None</td>\n",
              "      <td>None</td>\n",
              "      <td>None</td>\n",
              "      <td>None</td>\n",
              "      <td>NaN</td>\n",
              "      <td>NaN</td>\n",
              "      <td>NaN</td>\n",
              "      <td>None</td>\n",
              "      <td>None</td>\n",
              "      <td>None</td>\n",
              "      <td>NaN</td>\n",
              "      <td>NaN</td>\n",
              "      <td>NaN</td>\n",
              "      <td>None</td>\n",
              "      <td>None</td>\n",
              "      <td>NaN</td>\n",
              "      <td>NaN</td>\n",
              "      <td>None</td>\n",
              "      <td>NaN</td>\n",
              "      <td>None</td>\n",
              "      <td>0.037923</td>\n",
              "      <td>None</td>\n",
              "      <td>None</td>\n",
              "      <td>0.112646</td>\n",
              "      <td>0.086036</td>\n",
              "      <td>...</td>\n",
              "      <td>NaN</td>\n",
              "      <td>None</td>\n",
              "      <td>None</td>\n",
              "      <td>NaN</td>\n",
              "      <td>NaN</td>\n",
              "      <td>None</td>\n",
              "      <td>None</td>\n",
              "      <td>None</td>\n",
              "      <td>NaN</td>\n",
              "      <td>NaN</td>\n",
              "      <td>None</td>\n",
              "      <td>0.370375</td>\n",
              "      <td>None</td>\n",
              "      <td>None</td>\n",
              "      <td>None</td>\n",
              "      <td>None</td>\n",
              "      <td>None</td>\n",
              "      <td>None</td>\n",
              "      <td>None</td>\n",
              "      <td>None</td>\n",
              "      <td>None</td>\n",
              "      <td>None</td>\n",
              "      <td>NaN</td>\n",
              "      <td>NaN</td>\n",
              "      <td>None</td>\n",
              "      <td>NaN</td>\n",
              "      <td>NaN</td>\n",
              "      <td>None</td>\n",
              "      <td>NaN</td>\n",
              "      <td>NaN</td>\n",
              "      <td>None</td>\n",
              "      <td>None</td>\n",
              "      <td>NaN</td>\n",
              "      <td>NaN</td>\n",
              "      <td>None</td>\n",
              "      <td>NaN</td>\n",
              "      <td>NaN</td>\n",
              "      <td>None</td>\n",
              "      <td>NaN</td>\n",
              "      <td>None</td>\n",
              "    </tr>\n",
              "    <tr>\n",
              "      <th>4</th>\n",
              "      <td>7</td>\n",
              "      <td>None</td>\n",
              "      <td>None</td>\n",
              "      <td>NaN</td>\n",
              "      <td>None</td>\n",
              "      <td>None</td>\n",
              "      <td>None</td>\n",
              "      <td>None</td>\n",
              "      <td>NaN</td>\n",
              "      <td>None</td>\n",
              "      <td>None</td>\n",
              "      <td>None</td>\n",
              "      <td>None</td>\n",
              "      <td>None</td>\n",
              "      <td>None</td>\n",
              "      <td>None</td>\n",
              "      <td>None</td>\n",
              "      <td>None</td>\n",
              "      <td>None</td>\n",
              "      <td>NaN</td>\n",
              "      <td>NaN</td>\n",
              "      <td>NaN</td>\n",
              "      <td>None</td>\n",
              "      <td>None</td>\n",
              "      <td>None</td>\n",
              "      <td>0.233623</td>\n",
              "      <td>NaN</td>\n",
              "      <td>NaN</td>\n",
              "      <td>None</td>\n",
              "      <td>None</td>\n",
              "      <td>0.274811</td>\n",
              "      <td>NaN</td>\n",
              "      <td>None</td>\n",
              "      <td>NaN</td>\n",
              "      <td>None</td>\n",
              "      <td>NaN</td>\n",
              "      <td>None</td>\n",
              "      <td>None</td>\n",
              "      <td>NaN</td>\n",
              "      <td>NaN</td>\n",
              "      <td>...</td>\n",
              "      <td>NaN</td>\n",
              "      <td>None</td>\n",
              "      <td>None</td>\n",
              "      <td>NaN</td>\n",
              "      <td>NaN</td>\n",
              "      <td>None</td>\n",
              "      <td>None</td>\n",
              "      <td>None</td>\n",
              "      <td>0.009529</td>\n",
              "      <td>NaN</td>\n",
              "      <td>None</td>\n",
              "      <td>NaN</td>\n",
              "      <td>None</td>\n",
              "      <td>None</td>\n",
              "      <td>None</td>\n",
              "      <td>None</td>\n",
              "      <td>None</td>\n",
              "      <td>None</td>\n",
              "      <td>None</td>\n",
              "      <td>None</td>\n",
              "      <td>None</td>\n",
              "      <td>None</td>\n",
              "      <td>NaN</td>\n",
              "      <td>NaN</td>\n",
              "      <td>None</td>\n",
              "      <td>0.117876</td>\n",
              "      <td>NaN</td>\n",
              "      <td>None</td>\n",
              "      <td>NaN</td>\n",
              "      <td>NaN</td>\n",
              "      <td>None</td>\n",
              "      <td>None</td>\n",
              "      <td>NaN</td>\n",
              "      <td>0.038794</td>\n",
              "      <td>None</td>\n",
              "      <td>0.087436</td>\n",
              "      <td>NaN</td>\n",
              "      <td>None</td>\n",
              "      <td>NaN</td>\n",
              "      <td>None</td>\n",
              "    </tr>\n",
              "  </tbody>\n",
              "</table>\n",
              "<p>5 rows × 156 columns</p>\n",
              "</div>"
            ],
            "text/plain": [
              "   User_ID feelings-wendy-hotspot-1  ... clothes-roulette-1  farm-poiki-demovideo-2\n",
              "0        0                     None  ...           0.121265                    None\n",
              "1        1                     None  ...                NaN                    None\n",
              "2        4                     None  ...                NaN                    None\n",
              "3        5                     None  ...                NaN                    None\n",
              "4        7                     None  ...                NaN                    None\n",
              "\n",
              "[5 rows x 156 columns]"
            ]
          },
          "metadata": {},
          "execution_count": 14
        }
      ]
    },
    {
      "cell_type": "markdown",
      "metadata": {
        "id": "yWK37cNmjTMh"
      },
      "source": [
        "Level 3"
      ]
    },
    {
      "cell_type": "code",
      "metadata": {
        "colab": {
          "base_uri": "https://localhost:8080/",
          "height": 389
        },
        "id": "sCCL_ghviiGD",
        "outputId": "062a703f-3fbe-4aff-a1db-de7c46c141fe"
      },
      "source": [
        "T_Level = 3\n",
        "list_students_l2 = []\n",
        "set_ages_l2 = set()\n",
        "for i in range(students_df.shape[0]):\n",
        "  if students_df['Translanguage_Level'].iloc[i] == T_Level:\n",
        "    list_students_l2.append(students_df['User_ID'].iloc[i])\n",
        "    set_ages_l2.add(students_df['Age'].iloc[i])\n",
        "print(len(list_students_l2))\n",
        "print((set_ages_l2))\n",
        "\n",
        "set_activities_l2 = set()\n",
        "\n",
        "for j in range(activities_df.shape[0]):\n",
        "  for item in set_ages_l2:\n",
        "    if activities_df[age_to_column_map[item]].iloc[j] == 1:\n",
        "      set_activities_l2.add(activities_df['Activity_ID'].iloc[j])\n",
        "\n",
        "print(len(set_activities_l2)) \n",
        "\n",
        "cols = ['User_ID']\n",
        "cols = cols + list(set_activities_l2)\n",
        "print((cols))\n",
        "\n",
        "list_usefullness_score_l2 = []\n",
        "for user in list_students_l2:\n",
        "  temp = []\n",
        "  temp.append(user)\n",
        "  for activity in set_activities_l2:\n",
        "    try:\n",
        "      temp.append(scores_df_train.loc[scores_df_train['User_ID'] == user].loc[scores_df_train['Activity_ID'] == activity, 'Usefulness_Score'].iloc[0])\n",
        "    except:\n",
        "      temp.append(None)\n",
        "  list_usefullness_score_l2.append(temp)\n",
        "\n",
        "df_matrix_l3 = pd.DataFrame(list_usefullness_score_l2, columns=cols)\n",
        "print(df_matrix_l3.shape)\n",
        "df_matrix_l3.head()"
      ],
      "execution_count": null,
      "outputs": [
        {
          "output_type": "stream",
          "name": "stdout",
          "text": [
            "72\n",
            "{2, 3, 4, 5, 6}\n",
            "155\n",
            "['User_ID', 'feelings-wendy-hotspot-1', 'theatre-all-videoclip-1', 'mycountryanimals-yasmin-flashcards-1', 'christmas-all-simulation-1', 'lab-wendy-colors-1', 'farm-wendy-identification-1', 'fruits-kevin-drawing-1', 'alphabet-poiki-tracing-1', 'pets-bingo-1', 'farm-poiki-book-2', 'pets-yasmin-flashcards-1', 'friends-all-hotspot-1', 'who-wendy-simulation-1', 'farm-poiki-videoclip-1', 'myself-bingo-1', 'farm-kevin-colors-1', 'farm-yasmin-tracing-1', 'mycountry-yasmin-tracing-1', 'mycountry-yasmin-coloring-1', 'foods-memory-1', 'veggies-poiki-drawing-1', 'sea-yasmin-puzzle-1', '2littlepigs-all-puzzle-1', 'farm-poiki-demovideo-4', 'who-wendy-demovideo-1', 'alphabet-kevin-tracing-1', 'farm-kevin-hotspot-1', 'jungle-yasmin-stickers-1', 'farm-wendy-hotspot-1', 'farm-poiki-book-1', 'lab-wendy-book-1', 'farmanimals-poiki-hotspot-1', 'colors-bingo-1', 'forest-kevin-stickers-1', 'country-wendy-videoclip-1', 'who-kevin-demovideo-1', 'sharing-wendy-hotspot-1', 'newbaby-poiki-hotspot-1', 'who-wendy-routine-2', 'fruits-yasmin-flashcards-1', 'toys-kevin-hotspot-1', 'farm-kevin-piano-1', 'farm-yasmin-flashcards-1', 'farm-none-demovideo-1', 'sleeping-poiki-game-1', 'farm-poiki-demovideo-3', 'mycountry-yasmin-puzzle-1', 'farm-poiki-simulation-1', 'lab-wendy-space-1', 'who-wendy-colors-1', 'foods-poiki-hotspot-1', 'farmanimals-bingo-1', 'country-none-book-1', 'country-none-book-3', 'who-kevin-hotspot-1', 'farm-poiki-videoclip-2', 'sleeping-kevin-simulation-1', 'numbers-poiki-video-2', 'numbers-poiki-video-1', 'farm-kevin-demovideo-2', 'jungle-yasmin-puzzle-1', 'foodsl-roulette-1', 'clothes-memory-1', 'farm-kevin-demovideo-1', 'who-yasmin-demovideo-1', 'shapes-memory-1', 'colors-memory-1', 'seaanimals-yasmin-flashcards-1', 'farm-poiki-puzzle-1', 'socialcode-wendy-video-1', 'home-kevin-book-1', 'dinosaurs-memory-1', 'body-yasmin-flashcards-1', 'dinosaurs-kevin-stickers-1', 'vehicles-yasmin-video-1', 'colors-yasmin-identification-1', 'who-wendy-hotspot-1', 'family-wendy-game-1', 'foods-poiki-naming-1', 'who-poiki-simulation-2', 'numbers-yasmin-video-1', 'country-none-book-4', 'farm-poiki-demovideo-1', 'travel-yasmin-book-1', 'country-none-book-2', 'farm-poiki-video-1', 'farm-poiki-identification-1', 'beach-yasmin-stickers-1', 'numbers-kevin-video-1', 'farm-kevin-identification-1', 'cooking-kevin-simulation-2', 'who-wendy-book-1', 'yho-yasmin-tracing-1', 'birthday-wendy-simulation-1', 'home-poiki-stickers-1', 'numbers-kevin-video-2', 'insects-roulette-1', 'country-yasmin-videoclip-1', 'country-birthday-game-1', 'who-kevin-simulation-1', 'seanimals-yasmin-hotspot-1', 'family-kevin-identification-1', 'farm-wendy-hotspot-2', 'fairtytales-wendy-coloring-1', 'forest-kevin-puzzle-1', 'lighthouse-yasmin-puzzle-1', 'veggies-yasmin-flashcards-1', 'veggies-poiki-hotspot-1', 'lab-wendy-demovideo-1', 'world-all-book-1', 'home-wendy-book-1', 'desert-yasmin-puzzle-1', 'greetings-yasmin-video-1', 'farm-yasmin-demovideo-1', 'lab-wendy-puzzle-1', 'newkinder-yasmin-hotspot-1', 'instruments-yasmin-flashcards-1', 'feelings-kevwen-video-1', 'shopping-roulette-1', 'farm-kevin-book-1', 'colors-yasmin-flashcards-1', 'body-wendy-stickers-2', 'farm-wendy-puzzle-1', 'desertanimals-memory-1', 'who-all-videoclip-1', 'farm-wendy-demovideo-1', 'farm-poiki-video-2', 'farm-poiki-stickers-1', 'who-wendy-puzzle-1', 'body-roulette-1', 'vehicles-yasmin-flashcards-1', 'daycare-all-book-1', 'cooking-yasmin-simulation-1', 'greetings-poiki-video-1', 'feelings-poiki-simulation-1', 'sea-yasmin-puzzle-2', 'diapers-kevin-game-1', 'lab-kevin-game-1', 'forestanimals-kevin-puzzle-1', 'cooking-kevin-simulation-1', 'feelings-memory-1', 'world-yasmin-hotspot-1', 'feelings-poiki-video-1', 'lab-wendy-shapes-1', 'cooking-poiki-simulation-1', 'country-yasmin-videoclip-2', 'body-wendy-stickers-1', 'shapes-poiki-sequence-1', 'who-wendy-book-2', 'sea-yasmin-stickers-1', 'farm-wendy-simulation-2', 'beach-bingo-1', 'farm-wendy-book-1', 'clothes-roulette-1', 'farm-poiki-demovideo-2']\n",
            "(72, 156)\n"
          ]
        },
        {
          "output_type": "execute_result",
          "data": {
            "text/html": [
              "<div>\n",
              "<style scoped>\n",
              "    .dataframe tbody tr th:only-of-type {\n",
              "        vertical-align: middle;\n",
              "    }\n",
              "\n",
              "    .dataframe tbody tr th {\n",
              "        vertical-align: top;\n",
              "    }\n",
              "\n",
              "    .dataframe thead th {\n",
              "        text-align: right;\n",
              "    }\n",
              "</style>\n",
              "<table border=\"1\" class=\"dataframe\">\n",
              "  <thead>\n",
              "    <tr style=\"text-align: right;\">\n",
              "      <th></th>\n",
              "      <th>User_ID</th>\n",
              "      <th>feelings-wendy-hotspot-1</th>\n",
              "      <th>theatre-all-videoclip-1</th>\n",
              "      <th>mycountryanimals-yasmin-flashcards-1</th>\n",
              "      <th>christmas-all-simulation-1</th>\n",
              "      <th>lab-wendy-colors-1</th>\n",
              "      <th>farm-wendy-identification-1</th>\n",
              "      <th>fruits-kevin-drawing-1</th>\n",
              "      <th>alphabet-poiki-tracing-1</th>\n",
              "      <th>pets-bingo-1</th>\n",
              "      <th>farm-poiki-book-2</th>\n",
              "      <th>pets-yasmin-flashcards-1</th>\n",
              "      <th>friends-all-hotspot-1</th>\n",
              "      <th>who-wendy-simulation-1</th>\n",
              "      <th>farm-poiki-videoclip-1</th>\n",
              "      <th>myself-bingo-1</th>\n",
              "      <th>farm-kevin-colors-1</th>\n",
              "      <th>farm-yasmin-tracing-1</th>\n",
              "      <th>mycountry-yasmin-tracing-1</th>\n",
              "      <th>mycountry-yasmin-coloring-1</th>\n",
              "      <th>foods-memory-1</th>\n",
              "      <th>veggies-poiki-drawing-1</th>\n",
              "      <th>sea-yasmin-puzzle-1</th>\n",
              "      <th>2littlepigs-all-puzzle-1</th>\n",
              "      <th>farm-poiki-demovideo-4</th>\n",
              "      <th>who-wendy-demovideo-1</th>\n",
              "      <th>alphabet-kevin-tracing-1</th>\n",
              "      <th>farm-kevin-hotspot-1</th>\n",
              "      <th>jungle-yasmin-stickers-1</th>\n",
              "      <th>farm-wendy-hotspot-1</th>\n",
              "      <th>farm-poiki-book-1</th>\n",
              "      <th>lab-wendy-book-1</th>\n",
              "      <th>farmanimals-poiki-hotspot-1</th>\n",
              "      <th>colors-bingo-1</th>\n",
              "      <th>forest-kevin-stickers-1</th>\n",
              "      <th>country-wendy-videoclip-1</th>\n",
              "      <th>who-kevin-demovideo-1</th>\n",
              "      <th>sharing-wendy-hotspot-1</th>\n",
              "      <th>newbaby-poiki-hotspot-1</th>\n",
              "      <th>who-wendy-routine-2</th>\n",
              "      <th>...</th>\n",
              "      <th>newkinder-yasmin-hotspot-1</th>\n",
              "      <th>instruments-yasmin-flashcards-1</th>\n",
              "      <th>feelings-kevwen-video-1</th>\n",
              "      <th>shopping-roulette-1</th>\n",
              "      <th>farm-kevin-book-1</th>\n",
              "      <th>colors-yasmin-flashcards-1</th>\n",
              "      <th>body-wendy-stickers-2</th>\n",
              "      <th>farm-wendy-puzzle-1</th>\n",
              "      <th>desertanimals-memory-1</th>\n",
              "      <th>who-all-videoclip-1</th>\n",
              "      <th>farm-wendy-demovideo-1</th>\n",
              "      <th>farm-poiki-video-2</th>\n",
              "      <th>farm-poiki-stickers-1</th>\n",
              "      <th>who-wendy-puzzle-1</th>\n",
              "      <th>body-roulette-1</th>\n",
              "      <th>vehicles-yasmin-flashcards-1</th>\n",
              "      <th>daycare-all-book-1</th>\n",
              "      <th>cooking-yasmin-simulation-1</th>\n",
              "      <th>greetings-poiki-video-1</th>\n",
              "      <th>feelings-poiki-simulation-1</th>\n",
              "      <th>sea-yasmin-puzzle-2</th>\n",
              "      <th>diapers-kevin-game-1</th>\n",
              "      <th>lab-kevin-game-1</th>\n",
              "      <th>forestanimals-kevin-puzzle-1</th>\n",
              "      <th>cooking-kevin-simulation-1</th>\n",
              "      <th>feelings-memory-1</th>\n",
              "      <th>world-yasmin-hotspot-1</th>\n",
              "      <th>feelings-poiki-video-1</th>\n",
              "      <th>lab-wendy-shapes-1</th>\n",
              "      <th>cooking-poiki-simulation-1</th>\n",
              "      <th>country-yasmin-videoclip-2</th>\n",
              "      <th>body-wendy-stickers-1</th>\n",
              "      <th>shapes-poiki-sequence-1</th>\n",
              "      <th>who-wendy-book-2</th>\n",
              "      <th>sea-yasmin-stickers-1</th>\n",
              "      <th>farm-wendy-simulation-2</th>\n",
              "      <th>beach-bingo-1</th>\n",
              "      <th>farm-wendy-book-1</th>\n",
              "      <th>clothes-roulette-1</th>\n",
              "      <th>farm-poiki-demovideo-2</th>\n",
              "    </tr>\n",
              "  </thead>\n",
              "  <tbody>\n",
              "    <tr>\n",
              "      <th>0</th>\n",
              "      <td>6</td>\n",
              "      <td>None</td>\n",
              "      <td>None</td>\n",
              "      <td>NaN</td>\n",
              "      <td>None</td>\n",
              "      <td>None</td>\n",
              "      <td>None</td>\n",
              "      <td>None</td>\n",
              "      <td>NaN</td>\n",
              "      <td>None</td>\n",
              "      <td>None</td>\n",
              "      <td>None</td>\n",
              "      <td>None</td>\n",
              "      <td>None</td>\n",
              "      <td>None</td>\n",
              "      <td>None</td>\n",
              "      <td>None</td>\n",
              "      <td>None</td>\n",
              "      <td>None</td>\n",
              "      <td>NaN</td>\n",
              "      <td>NaN</td>\n",
              "      <td>NaN</td>\n",
              "      <td>None</td>\n",
              "      <td>None</td>\n",
              "      <td>None</td>\n",
              "      <td>None</td>\n",
              "      <td>NaN</td>\n",
              "      <td>NaN</td>\n",
              "      <td>None</td>\n",
              "      <td>None</td>\n",
              "      <td>NaN</td>\n",
              "      <td>None</td>\n",
              "      <td>None</td>\n",
              "      <td>NaN</td>\n",
              "      <td>None</td>\n",
              "      <td>NaN</td>\n",
              "      <td>None</td>\n",
              "      <td>None</td>\n",
              "      <td>NaN</td>\n",
              "      <td>NaN</td>\n",
              "      <td>...</td>\n",
              "      <td>NaN</td>\n",
              "      <td>None</td>\n",
              "      <td>None</td>\n",
              "      <td>NaN</td>\n",
              "      <td>None</td>\n",
              "      <td>None</td>\n",
              "      <td>None</td>\n",
              "      <td>None</td>\n",
              "      <td>None</td>\n",
              "      <td>NaN</td>\n",
              "      <td>None</td>\n",
              "      <td>0.068116</td>\n",
              "      <td>None</td>\n",
              "      <td>None</td>\n",
              "      <td>None</td>\n",
              "      <td>None</td>\n",
              "      <td>None</td>\n",
              "      <td>None</td>\n",
              "      <td>None</td>\n",
              "      <td>None</td>\n",
              "      <td>None</td>\n",
              "      <td>None</td>\n",
              "      <td>0.037621</td>\n",
              "      <td>None</td>\n",
              "      <td>None</td>\n",
              "      <td>NaN</td>\n",
              "      <td>NaN</td>\n",
              "      <td>None</td>\n",
              "      <td>0.276780</td>\n",
              "      <td>NaN</td>\n",
              "      <td>None</td>\n",
              "      <td>None</td>\n",
              "      <td>0.118368</td>\n",
              "      <td>NaN</td>\n",
              "      <td>None</td>\n",
              "      <td>NaN</td>\n",
              "      <td>NaN</td>\n",
              "      <td>None</td>\n",
              "      <td>NaN</td>\n",
              "      <td>None</td>\n",
              "    </tr>\n",
              "    <tr>\n",
              "      <th>1</th>\n",
              "      <td>8</td>\n",
              "      <td>None</td>\n",
              "      <td>None</td>\n",
              "      <td>NaN</td>\n",
              "      <td>None</td>\n",
              "      <td>None</td>\n",
              "      <td>None</td>\n",
              "      <td>None</td>\n",
              "      <td>NaN</td>\n",
              "      <td>None</td>\n",
              "      <td>None</td>\n",
              "      <td>None</td>\n",
              "      <td>None</td>\n",
              "      <td>None</td>\n",
              "      <td>None</td>\n",
              "      <td>None</td>\n",
              "      <td>None</td>\n",
              "      <td>None</td>\n",
              "      <td>None</td>\n",
              "      <td>NaN</td>\n",
              "      <td>NaN</td>\n",
              "      <td>NaN</td>\n",
              "      <td>None</td>\n",
              "      <td>None</td>\n",
              "      <td>None</td>\n",
              "      <td>None</td>\n",
              "      <td>0.417540</td>\n",
              "      <td>NaN</td>\n",
              "      <td>None</td>\n",
              "      <td>None</td>\n",
              "      <td>NaN</td>\n",
              "      <td>None</td>\n",
              "      <td>None</td>\n",
              "      <td>NaN</td>\n",
              "      <td>None</td>\n",
              "      <td>NaN</td>\n",
              "      <td>None</td>\n",
              "      <td>None</td>\n",
              "      <td>NaN</td>\n",
              "      <td>NaN</td>\n",
              "      <td>...</td>\n",
              "      <td>NaN</td>\n",
              "      <td>None</td>\n",
              "      <td>None</td>\n",
              "      <td>NaN</td>\n",
              "      <td>None</td>\n",
              "      <td>None</td>\n",
              "      <td>None</td>\n",
              "      <td>None</td>\n",
              "      <td>None</td>\n",
              "      <td>0.403410</td>\n",
              "      <td>None</td>\n",
              "      <td>0.224812</td>\n",
              "      <td>None</td>\n",
              "      <td>None</td>\n",
              "      <td>None</td>\n",
              "      <td>None</td>\n",
              "      <td>None</td>\n",
              "      <td>None</td>\n",
              "      <td>None</td>\n",
              "      <td>None</td>\n",
              "      <td>None</td>\n",
              "      <td>None</td>\n",
              "      <td>NaN</td>\n",
              "      <td>None</td>\n",
              "      <td>None</td>\n",
              "      <td>NaN</td>\n",
              "      <td>NaN</td>\n",
              "      <td>None</td>\n",
              "      <td>0.642197</td>\n",
              "      <td>NaN</td>\n",
              "      <td>None</td>\n",
              "      <td>None</td>\n",
              "      <td>NaN</td>\n",
              "      <td>NaN</td>\n",
              "      <td>None</td>\n",
              "      <td>NaN</td>\n",
              "      <td>0.672459</td>\n",
              "      <td>None</td>\n",
              "      <td>NaN</td>\n",
              "      <td>None</td>\n",
              "    </tr>\n",
              "    <tr>\n",
              "      <th>2</th>\n",
              "      <td>9</td>\n",
              "      <td>None</td>\n",
              "      <td>None</td>\n",
              "      <td>NaN</td>\n",
              "      <td>None</td>\n",
              "      <td>None</td>\n",
              "      <td>None</td>\n",
              "      <td>None</td>\n",
              "      <td>NaN</td>\n",
              "      <td>None</td>\n",
              "      <td>None</td>\n",
              "      <td>None</td>\n",
              "      <td>None</td>\n",
              "      <td>None</td>\n",
              "      <td>None</td>\n",
              "      <td>None</td>\n",
              "      <td>None</td>\n",
              "      <td>None</td>\n",
              "      <td>None</td>\n",
              "      <td>0.085336</td>\n",
              "      <td>NaN</td>\n",
              "      <td>NaN</td>\n",
              "      <td>None</td>\n",
              "      <td>None</td>\n",
              "      <td>None</td>\n",
              "      <td>None</td>\n",
              "      <td>NaN</td>\n",
              "      <td>NaN</td>\n",
              "      <td>None</td>\n",
              "      <td>None</td>\n",
              "      <td>0.241228</td>\n",
              "      <td>None</td>\n",
              "      <td>None</td>\n",
              "      <td>NaN</td>\n",
              "      <td>None</td>\n",
              "      <td>NaN</td>\n",
              "      <td>None</td>\n",
              "      <td>None</td>\n",
              "      <td>0.118528</td>\n",
              "      <td>NaN</td>\n",
              "      <td>...</td>\n",
              "      <td>NaN</td>\n",
              "      <td>None</td>\n",
              "      <td>None</td>\n",
              "      <td>NaN</td>\n",
              "      <td>None</td>\n",
              "      <td>None</td>\n",
              "      <td>None</td>\n",
              "      <td>None</td>\n",
              "      <td>None</td>\n",
              "      <td>NaN</td>\n",
              "      <td>None</td>\n",
              "      <td>0.266920</td>\n",
              "      <td>None</td>\n",
              "      <td>None</td>\n",
              "      <td>None</td>\n",
              "      <td>None</td>\n",
              "      <td>None</td>\n",
              "      <td>None</td>\n",
              "      <td>None</td>\n",
              "      <td>None</td>\n",
              "      <td>None</td>\n",
              "      <td>None</td>\n",
              "      <td>NaN</td>\n",
              "      <td>None</td>\n",
              "      <td>None</td>\n",
              "      <td>NaN</td>\n",
              "      <td>NaN</td>\n",
              "      <td>None</td>\n",
              "      <td>NaN</td>\n",
              "      <td>0.067591</td>\n",
              "      <td>None</td>\n",
              "      <td>None</td>\n",
              "      <td>NaN</td>\n",
              "      <td>NaN</td>\n",
              "      <td>None</td>\n",
              "      <td>NaN</td>\n",
              "      <td>NaN</td>\n",
              "      <td>None</td>\n",
              "      <td>NaN</td>\n",
              "      <td>None</td>\n",
              "    </tr>\n",
              "    <tr>\n",
              "      <th>3</th>\n",
              "      <td>11</td>\n",
              "      <td>None</td>\n",
              "      <td>None</td>\n",
              "      <td>NaN</td>\n",
              "      <td>None</td>\n",
              "      <td>None</td>\n",
              "      <td>None</td>\n",
              "      <td>None</td>\n",
              "      <td>NaN</td>\n",
              "      <td>None</td>\n",
              "      <td>None</td>\n",
              "      <td>None</td>\n",
              "      <td>None</td>\n",
              "      <td>None</td>\n",
              "      <td>None</td>\n",
              "      <td>None</td>\n",
              "      <td>None</td>\n",
              "      <td>None</td>\n",
              "      <td>None</td>\n",
              "      <td>NaN</td>\n",
              "      <td>NaN</td>\n",
              "      <td>NaN</td>\n",
              "      <td>None</td>\n",
              "      <td>None</td>\n",
              "      <td>None</td>\n",
              "      <td>None</td>\n",
              "      <td>0.232467</td>\n",
              "      <td>NaN</td>\n",
              "      <td>None</td>\n",
              "      <td>None</td>\n",
              "      <td>NaN</td>\n",
              "      <td>None</td>\n",
              "      <td>None</td>\n",
              "      <td>NaN</td>\n",
              "      <td>None</td>\n",
              "      <td>NaN</td>\n",
              "      <td>None</td>\n",
              "      <td>None</td>\n",
              "      <td>NaN</td>\n",
              "      <td>NaN</td>\n",
              "      <td>...</td>\n",
              "      <td>NaN</td>\n",
              "      <td>None</td>\n",
              "      <td>None</td>\n",
              "      <td>NaN</td>\n",
              "      <td>None</td>\n",
              "      <td>None</td>\n",
              "      <td>None</td>\n",
              "      <td>None</td>\n",
              "      <td>None</td>\n",
              "      <td>0.132612</td>\n",
              "      <td>None</td>\n",
              "      <td>0.066525</td>\n",
              "      <td>None</td>\n",
              "      <td>None</td>\n",
              "      <td>None</td>\n",
              "      <td>None</td>\n",
              "      <td>None</td>\n",
              "      <td>None</td>\n",
              "      <td>None</td>\n",
              "      <td>None</td>\n",
              "      <td>None</td>\n",
              "      <td>None</td>\n",
              "      <td>NaN</td>\n",
              "      <td>None</td>\n",
              "      <td>None</td>\n",
              "      <td>NaN</td>\n",
              "      <td>NaN</td>\n",
              "      <td>None</td>\n",
              "      <td>0.083204</td>\n",
              "      <td>NaN</td>\n",
              "      <td>None</td>\n",
              "      <td>None</td>\n",
              "      <td>NaN</td>\n",
              "      <td>NaN</td>\n",
              "      <td>None</td>\n",
              "      <td>NaN</td>\n",
              "      <td>0.387869</td>\n",
              "      <td>None</td>\n",
              "      <td>NaN</td>\n",
              "      <td>None</td>\n",
              "    </tr>\n",
              "    <tr>\n",
              "      <th>4</th>\n",
              "      <td>12</td>\n",
              "      <td>None</td>\n",
              "      <td>None</td>\n",
              "      <td>0.371436</td>\n",
              "      <td>None</td>\n",
              "      <td>None</td>\n",
              "      <td>None</td>\n",
              "      <td>None</td>\n",
              "      <td>0.118938</td>\n",
              "      <td>None</td>\n",
              "      <td>None</td>\n",
              "      <td>None</td>\n",
              "      <td>None</td>\n",
              "      <td>None</td>\n",
              "      <td>None</td>\n",
              "      <td>None</td>\n",
              "      <td>None</td>\n",
              "      <td>None</td>\n",
              "      <td>None</td>\n",
              "      <td>NaN</td>\n",
              "      <td>NaN</td>\n",
              "      <td>NaN</td>\n",
              "      <td>None</td>\n",
              "      <td>None</td>\n",
              "      <td>None</td>\n",
              "      <td>None</td>\n",
              "      <td>NaN</td>\n",
              "      <td>NaN</td>\n",
              "      <td>None</td>\n",
              "      <td>None</td>\n",
              "      <td>0.039196</td>\n",
              "      <td>None</td>\n",
              "      <td>None</td>\n",
              "      <td>NaN</td>\n",
              "      <td>None</td>\n",
              "      <td>NaN</td>\n",
              "      <td>None</td>\n",
              "      <td>None</td>\n",
              "      <td>NaN</td>\n",
              "      <td>NaN</td>\n",
              "      <td>...</td>\n",
              "      <td>NaN</td>\n",
              "      <td>None</td>\n",
              "      <td>None</td>\n",
              "      <td>NaN</td>\n",
              "      <td>None</td>\n",
              "      <td>None</td>\n",
              "      <td>None</td>\n",
              "      <td>None</td>\n",
              "      <td>None</td>\n",
              "      <td>NaN</td>\n",
              "      <td>None</td>\n",
              "      <td>0.086386</td>\n",
              "      <td>None</td>\n",
              "      <td>None</td>\n",
              "      <td>None</td>\n",
              "      <td>None</td>\n",
              "      <td>None</td>\n",
              "      <td>None</td>\n",
              "      <td>None</td>\n",
              "      <td>None</td>\n",
              "      <td>None</td>\n",
              "      <td>None</td>\n",
              "      <td>NaN</td>\n",
              "      <td>None</td>\n",
              "      <td>None</td>\n",
              "      <td>0.274862</td>\n",
              "      <td>NaN</td>\n",
              "      <td>None</td>\n",
              "      <td>NaN</td>\n",
              "      <td>NaN</td>\n",
              "      <td>None</td>\n",
              "      <td>None</td>\n",
              "      <td>NaN</td>\n",
              "      <td>0.066016</td>\n",
              "      <td>None</td>\n",
              "      <td>NaN</td>\n",
              "      <td>NaN</td>\n",
              "      <td>None</td>\n",
              "      <td>NaN</td>\n",
              "      <td>None</td>\n",
              "    </tr>\n",
              "  </tbody>\n",
              "</table>\n",
              "<p>5 rows × 156 columns</p>\n",
              "</div>"
            ],
            "text/plain": [
              "   User_ID feelings-wendy-hotspot-1  ... clothes-roulette-1  farm-poiki-demovideo-2\n",
              "0        6                     None  ...                NaN                    None\n",
              "1        8                     None  ...                NaN                    None\n",
              "2        9                     None  ...                NaN                    None\n",
              "3       11                     None  ...                NaN                    None\n",
              "4       12                     None  ...                NaN                    None\n",
              "\n",
              "[5 rows x 156 columns]"
            ]
          },
          "metadata": {},
          "execution_count": 15
        }
      ]
    },
    {
      "cell_type": "code",
      "metadata": {
        "id": "WBa22P6LjeEv"
      },
      "source": [
        ""
      ],
      "execution_count": null,
      "outputs": []
    },
    {
      "cell_type": "code",
      "metadata": {
        "id": "GnAbZprwRc7_"
      },
      "source": [
        ""
      ],
      "execution_count": null,
      "outputs": []
    },
    {
      "cell_type": "code",
      "metadata": {
        "id": "XFkDWEUGRdA4"
      },
      "source": [
        ""
      ],
      "execution_count": null,
      "outputs": []
    },
    {
      "cell_type": "code",
      "metadata": {
        "id": "b0I_DzzURdDu"
      },
      "source": [
        ""
      ],
      "execution_count": null,
      "outputs": []
    },
    {
      "cell_type": "markdown",
      "metadata": {
        "id": "4P72e-C0RdUe"
      },
      "source": [
        "### Turicreate Model on Poikilingo Dataset"
      ]
    },
    {
      "cell_type": "code",
      "metadata": {
        "colab": {
          "base_uri": "https://localhost:8080/"
        },
        "id": "opDu73sLRnQY",
        "outputId": "9775c742-d252-4520-96d8-a3d866709934"
      },
      "source": [
        "!pip3 install turicreate"
      ],
      "execution_count": null,
      "outputs": [
        {
          "output_type": "stream",
          "name": "stdout",
          "text": [
            "Requirement already satisfied: turicreate in /usr/local/lib/python3.7/dist-packages (6.4.1)\n",
            "Requirement already satisfied: numba<0.51.0 in /usr/local/lib/python3.7/dist-packages (from turicreate) (0.50.1)\n",
            "Requirement already satisfied: numpy in /usr/local/lib/python3.7/dist-packages (from turicreate) (1.18.5)\n",
            "Requirement already satisfied: scipy>=1.1.0 in /usr/local/lib/python3.7/dist-packages (from turicreate) (1.4.1)\n",
            "Requirement already satisfied: decorator>=4.0.9 in /usr/local/lib/python3.7/dist-packages (from turicreate) (4.4.2)\n",
            "Requirement already satisfied: coremltools==3.3 in /usr/local/lib/python3.7/dist-packages (from turicreate) (3.3)\n",
            "Requirement already satisfied: six>=1.10.0 in /usr/local/lib/python3.7/dist-packages (from turicreate) (1.15.0)\n",
            "Requirement already satisfied: resampy==0.2.1 in /usr/local/lib/python3.7/dist-packages (from turicreate) (0.2.1)\n",
            "Requirement already satisfied: prettytable==0.7.2 in /usr/local/lib/python3.7/dist-packages (from turicreate) (0.7.2)\n",
            "Requirement already satisfied: pandas>=0.23.2 in /usr/local/lib/python3.7/dist-packages (from turicreate) (1.1.5)\n",
            "Requirement already satisfied: requests>=2.9.1 in /usr/local/lib/python3.7/dist-packages (from turicreate) (2.23.0)\n",
            "Requirement already satisfied: pillow>=5.2.0 in /usr/local/lib/python3.7/dist-packages (from turicreate) (7.1.2)\n",
            "Requirement already satisfied: tensorflow<2.1.0,>=2.0.0 in /usr/local/lib/python3.7/dist-packages (from turicreate) (2.0.4)\n",
            "Requirement already satisfied: protobuf>=3.1.0 in /usr/local/lib/python3.7/dist-packages (from coremltools==3.3->turicreate) (3.17.3)\n",
            "Requirement already satisfied: llvmlite<0.34,>=0.33.0.dev0 in /usr/local/lib/python3.7/dist-packages (from numba<0.51.0->turicreate) (0.33.0)\n",
            "Requirement already satisfied: setuptools in /usr/local/lib/python3.7/dist-packages (from numba<0.51.0->turicreate) (57.4.0)\n",
            "Requirement already satisfied: python-dateutil>=2.7.3 in /usr/local/lib/python3.7/dist-packages (from pandas>=0.23.2->turicreate) (2.8.2)\n",
            "Requirement already satisfied: pytz>=2017.2 in /usr/local/lib/python3.7/dist-packages (from pandas>=0.23.2->turicreate) (2018.9)\n",
            "Requirement already satisfied: certifi>=2017.4.17 in /usr/local/lib/python3.7/dist-packages (from requests>=2.9.1->turicreate) (2021.5.30)\n",
            "Requirement already satisfied: chardet<4,>=3.0.2 in /usr/local/lib/python3.7/dist-packages (from requests>=2.9.1->turicreate) (3.0.4)\n",
            "Requirement already satisfied: idna<3,>=2.5 in /usr/local/lib/python3.7/dist-packages (from requests>=2.9.1->turicreate) (2.10)\n",
            "Requirement already satisfied: urllib3!=1.25.0,!=1.25.1,<1.26,>=1.21.1 in /usr/local/lib/python3.7/dist-packages (from requests>=2.9.1->turicreate) (1.24.3)\n",
            "Requirement already satisfied: grpcio>=1.8.6 in /usr/local/lib/python3.7/dist-packages (from tensorflow<2.1.0,>=2.0.0->turicreate) (1.39.0)\n",
            "Requirement already satisfied: astor>=0.6.0 in /usr/local/lib/python3.7/dist-packages (from tensorflow<2.1.0,>=2.0.0->turicreate) (0.8.1)\n",
            "Requirement already satisfied: keras-applications>=1.0.8 in /usr/local/lib/python3.7/dist-packages (from tensorflow<2.1.0,>=2.0.0->turicreate) (1.0.8)\n",
            "Requirement already satisfied: tensorflow-estimator<2.1.0,>=2.0.0 in /usr/local/lib/python3.7/dist-packages (from tensorflow<2.1.0,>=2.0.0->turicreate) (2.0.1)\n",
            "Requirement already satisfied: google-pasta>=0.1.6 in /usr/local/lib/python3.7/dist-packages (from tensorflow<2.1.0,>=2.0.0->turicreate) (0.2.0)\n",
            "Requirement already satisfied: tensorboard<2.1.0,>=2.0.0 in /usr/local/lib/python3.7/dist-packages (from tensorflow<2.1.0,>=2.0.0->turicreate) (2.0.2)\n",
            "Requirement already satisfied: wrapt>=1.11.1 in /usr/local/lib/python3.7/dist-packages (from tensorflow<2.1.0,>=2.0.0->turicreate) (1.12.1)\n",
            "Requirement already satisfied: h5py<=2.10.0 in /usr/local/lib/python3.7/dist-packages (from tensorflow<2.1.0,>=2.0.0->turicreate) (2.10.0)\n",
            "Requirement already satisfied: gast==0.2.2 in /usr/local/lib/python3.7/dist-packages (from tensorflow<2.1.0,>=2.0.0->turicreate) (0.2.2)\n",
            "Requirement already satisfied: wheel>=0.26 in /usr/local/lib/python3.7/dist-packages (from tensorflow<2.1.0,>=2.0.0->turicreate) (0.37.0)\n",
            "Requirement already satisfied: keras-preprocessing>=1.0.5 in /usr/local/lib/python3.7/dist-packages (from tensorflow<2.1.0,>=2.0.0->turicreate) (1.1.2)\n",
            "Requirement already satisfied: opt-einsum>=2.3.2 in /usr/local/lib/python3.7/dist-packages (from tensorflow<2.1.0,>=2.0.0->turicreate) (3.3.0)\n",
            "Requirement already satisfied: absl-py>=0.7.0 in /usr/local/lib/python3.7/dist-packages (from tensorflow<2.1.0,>=2.0.0->turicreate) (0.12.0)\n",
            "Requirement already satisfied: termcolor>=1.1.0 in /usr/local/lib/python3.7/dist-packages (from tensorflow<2.1.0,>=2.0.0->turicreate) (1.1.0)\n",
            "Requirement already satisfied: google-auth-oauthlib<0.5,>=0.4.1 in /usr/local/lib/python3.7/dist-packages (from tensorboard<2.1.0,>=2.0.0->tensorflow<2.1.0,>=2.0.0->turicreate) (0.4.5)\n",
            "Requirement already satisfied: markdown>=2.6.8 in /usr/local/lib/python3.7/dist-packages (from tensorboard<2.1.0,>=2.0.0->tensorflow<2.1.0,>=2.0.0->turicreate) (3.3.4)\n",
            "Requirement already satisfied: werkzeug>=0.11.15 in /usr/local/lib/python3.7/dist-packages (from tensorboard<2.1.0,>=2.0.0->tensorflow<2.1.0,>=2.0.0->turicreate) (1.0.1)\n",
            "Requirement already satisfied: google-auth<2,>=1.6.3 in /usr/local/lib/python3.7/dist-packages (from tensorboard<2.1.0,>=2.0.0->tensorflow<2.1.0,>=2.0.0->turicreate) (1.34.0)\n",
            "Requirement already satisfied: rsa<5,>=3.1.4 in /usr/local/lib/python3.7/dist-packages (from google-auth<2,>=1.6.3->tensorboard<2.1.0,>=2.0.0->tensorflow<2.1.0,>=2.0.0->turicreate) (4.7.2)\n",
            "Requirement already satisfied: pyasn1-modules>=0.2.1 in /usr/local/lib/python3.7/dist-packages (from google-auth<2,>=1.6.3->tensorboard<2.1.0,>=2.0.0->tensorflow<2.1.0,>=2.0.0->turicreate) (0.2.8)\n",
            "Requirement already satisfied: cachetools<5.0,>=2.0.0 in /usr/local/lib/python3.7/dist-packages (from google-auth<2,>=1.6.3->tensorboard<2.1.0,>=2.0.0->tensorflow<2.1.0,>=2.0.0->turicreate) (4.2.2)\n",
            "Requirement already satisfied: requests-oauthlib>=0.7.0 in /usr/local/lib/python3.7/dist-packages (from google-auth-oauthlib<0.5,>=0.4.1->tensorboard<2.1.0,>=2.0.0->tensorflow<2.1.0,>=2.0.0->turicreate) (1.3.0)\n",
            "Requirement already satisfied: importlib-metadata in /usr/local/lib/python3.7/dist-packages (from markdown>=2.6.8->tensorboard<2.1.0,>=2.0.0->tensorflow<2.1.0,>=2.0.0->turicreate) (4.6.4)\n",
            "Requirement already satisfied: pyasn1<0.5.0,>=0.4.6 in /usr/local/lib/python3.7/dist-packages (from pyasn1-modules>=0.2.1->google-auth<2,>=1.6.3->tensorboard<2.1.0,>=2.0.0->tensorflow<2.1.0,>=2.0.0->turicreate) (0.4.8)\n",
            "Requirement already satisfied: oauthlib>=3.0.0 in /usr/local/lib/python3.7/dist-packages (from requests-oauthlib>=0.7.0->google-auth-oauthlib<0.5,>=0.4.1->tensorboard<2.1.0,>=2.0.0->tensorflow<2.1.0,>=2.0.0->turicreate) (3.1.1)\n",
            "Requirement already satisfied: zipp>=0.5 in /usr/local/lib/python3.7/dist-packages (from importlib-metadata->markdown>=2.6.8->tensorboard<2.1.0,>=2.0.0->tensorflow<2.1.0,>=2.0.0->turicreate) (3.5.0)\n",
            "Requirement already satisfied: typing-extensions>=3.6.4 in /usr/local/lib/python3.7/dist-packages (from importlib-metadata->markdown>=2.6.8->tensorboard<2.1.0,>=2.0.0->tensorflow<2.1.0,>=2.0.0->turicreate) (3.7.4.3)\n"
          ]
        }
      ]
    },
    {
      "cell_type": "code",
      "metadata": {
        "id": "nWlCzjzkVtOy"
      },
      "source": [
        "import turicreate as tc"
      ],
      "execution_count": null,
      "outputs": []
    },
    {
      "cell_type": "code",
      "metadata": {
        "colab": {
          "base_uri": "https://localhost:8080/",
          "height": 204
        },
        "id": "Q1AjXBRPRwVq",
        "outputId": "979d83bf-55ab-49c5-d81a-051783a3134e"
      },
      "source": [
        "scores_df_train.head()"
      ],
      "execution_count": null,
      "outputs": [
        {
          "output_type": "execute_result",
          "data": {
            "text/html": [
              "<div>\n",
              "<style scoped>\n",
              "    .dataframe tbody tr th:only-of-type {\n",
              "        vertical-align: middle;\n",
              "    }\n",
              "\n",
              "    .dataframe tbody tr th {\n",
              "        vertical-align: top;\n",
              "    }\n",
              "\n",
              "    .dataframe thead th {\n",
              "        text-align: right;\n",
              "    }\n",
              "</style>\n",
              "<table border=\"1\" class=\"dataframe\">\n",
              "  <thead>\n",
              "    <tr style=\"text-align: right;\">\n",
              "      <th></th>\n",
              "      <th>User_ID</th>\n",
              "      <th>Activity_ID</th>\n",
              "      <th>No_of_attempts</th>\n",
              "      <th>Time_taken</th>\n",
              "      <th>Translanguage_Level</th>\n",
              "      <th>Usefulness_Score</th>\n",
              "    </tr>\n",
              "  </thead>\n",
              "  <tbody>\n",
              "    <tr>\n",
              "      <th>0</th>\n",
              "      <td>0</td>\n",
              "      <td>lab-wendy-shapes-1</td>\n",
              "      <td>1</td>\n",
              "      <td>265.786380</td>\n",
              "      <td>3.093985</td>\n",
              "      <td>0.141203</td>\n",
              "    </tr>\n",
              "    <tr>\n",
              "      <th>1</th>\n",
              "      <td>0</td>\n",
              "      <td>who-all-videoclip-1</td>\n",
              "      <td>3</td>\n",
              "      <td>261.729561</td>\n",
              "      <td>2.829898</td>\n",
              "      <td>0.084622</td>\n",
              "    </tr>\n",
              "    <tr>\n",
              "      <th>2</th>\n",
              "      <td>0</td>\n",
              "      <td>farm-poiki-video-2</td>\n",
              "      <td>3</td>\n",
              "      <td>254.504227</td>\n",
              "      <td>2.789455</td>\n",
              "      <td>0.064420</td>\n",
              "    </tr>\n",
              "    <tr>\n",
              "      <th>3</th>\n",
              "      <td>0</td>\n",
              "      <td>beach-bingo-1</td>\n",
              "      <td>3</td>\n",
              "      <td>258.097252</td>\n",
              "      <td>3.016948</td>\n",
              "      <td>0.008820</td>\n",
              "    </tr>\n",
              "    <tr>\n",
              "      <th>4</th>\n",
              "      <td>0</td>\n",
              "      <td>farm-poiki-video-1</td>\n",
              "      <td>2</td>\n",
              "      <td>267.432200</td>\n",
              "      <td>2.736853</td>\n",
              "      <td>0.037040</td>\n",
              "    </tr>\n",
              "  </tbody>\n",
              "</table>\n",
              "</div>"
            ],
            "text/plain": [
              "   User_ID          Activity_ID  ...  Translanguage_Level  Usefulness_Score\n",
              "0        0   lab-wendy-shapes-1  ...             3.093985          0.141203\n",
              "1        0  who-all-videoclip-1  ...             2.829898          0.084622\n",
              "2        0   farm-poiki-video-2  ...             2.789455          0.064420\n",
              "3        0        beach-bingo-1  ...             3.016948          0.008820\n",
              "4        0   farm-poiki-video-1  ...             2.736853          0.037040\n",
              "\n",
              "[5 rows x 6 columns]"
            ]
          },
          "metadata": {},
          "execution_count": 16
        }
      ]
    },
    {
      "cell_type": "code",
      "metadata": {
        "id": "5x8tWG_SVX8E"
      },
      "source": [
        "train_data = tc.SFrame(scores_df_train) "
      ],
      "execution_count": null,
      "outputs": []
    },
    {
      "cell_type": "code",
      "metadata": {
        "id": "7RUDDYquXJkg"
      },
      "source": [
        "test_data = tc.SFrame(scores_df_test) "
      ],
      "execution_count": null,
      "outputs": []
    },
    {
      "cell_type": "code",
      "metadata": {
        "colab": {
          "base_uri": "https://localhost:8080/",
          "height": 1000
        },
        "id": "tEehktdqVm98",
        "outputId": "3d8bfadf-95de-4181-aef2-703178fd5cc7"
      },
      "source": [
        "train_data.show()"
      ],
      "execution_count": null,
      "outputs": [
        {
          "output_type": "display_data",
          "data": {
            "text/html": [
              "<pre>Materializing SFrame</pre>"
            ],
            "text/plain": [
              "Materializing SFrame"
            ]
          },
          "metadata": {}
        },
        {
          "output_type": "display_data",
          "data": {
            "text/html": [
              "<html>                 <body>                     <iframe style=\"border:0;margin:0\" width=\"1000\" height=\"2100\" srcdoc='<html lang=\"en\">                         <head>                             <script src=\"https://cdnjs.cloudflare.com/ajax/libs/vega/5.4.0/vega.js\"></script>                             <script src=\"https://cdnjs.cloudflare.com/ajax/libs/vega-embed/4.0.0/vega-embed.js\"></script>                             <script src=\"https://cdnjs.cloudflare.com/ajax/libs/vega-tooltip/0.5.1/vega-tooltip.min.js\"></script>                             <link rel=\"stylesheet\" type=\"text/css\" href=\"https://cdnjs.cloudflare.com/ajax/libs/vega-tooltip/0.5.1/vega-tooltip.min.css\">                             <style>                             .vega-actions > a{                                 color:white;                                 text-decoration: none;                                 font-family: \"Arial\";                                 cursor:pointer;                                 padding:5px;                                 background:#AAAAAA;                                 border-radius:4px;                                 padding-left:10px;                                 padding-right:10px;                                 margin-right:5px;                             }                             .vega-actions{                                 margin-top:20px;                                 text-align:center                             }                            .vega-actions > a{                                 background:#999999;                            }                             </style>                         </head>                         <body>                             <div id=\"vis\">                             </div>                             <script>                                 var vega_json = \"{\\\"$schema\\\": \\\"https://vega.github.io/schema/vega/v4.json\\\", \\\"metadata\\\": {\\\"bubbleOpts\\\": {\\\"showAllFields\\\": false, \\\"fields\\\": [{\\\"field\\\": \\\"left\\\"}, {\\\"field\\\": \\\"right\\\"}, {\\\"field\\\": \\\"count\\\"}, {\\\"field\\\": \\\"label\\\"}]}}, \\\"width\\\": 800, \\\"height\\\": 1880, \\\"padding\\\": 8, \\\"data\\\": [{\\\"name\\\": \\\"pts_store\\\"}, {\\\"name\\\": \\\"source_2\\\", \\\"values\\\": [{\\\"a\\\": 0, \\\"title\\\": \\\"User_ID\\\", \\\"num_row\\\": 2300, \\\"type\\\": \\\"integer\\\", \\\"num_unique\\\": 230, \\\"num_missing\\\": 0, \\\"mean\\\": 114.5, \\\"min\\\": 0.0, \\\"max\\\": 229.0, \\\"median\\\": 115.0, \\\"stdev\\\": 66.394653, \\\"numeric\\\": [{\\\"left\\\": -5, \\\"right\\\": 7, \\\"count\\\": 70}, {\\\"left\\\": 7, \\\"right\\\": 19, \\\"count\\\": 120}, {\\\"left\\\": 19, \\\"right\\\": 31, \\\"count\\\": 120}, {\\\"left\\\": 31, \\\"right\\\": 43, \\\"count\\\": 120}, {\\\"left\\\": 43, \\\"right\\\": 55, \\\"count\\\": 120}, {\\\"left\\\": 55, \\\"right\\\": 67, \\\"count\\\": 120}, {\\\"left\\\": 67, \\\"right\\\": 79, \\\"count\\\": 120}, {\\\"left\\\": 79, \\\"right\\\": 91, \\\"count\\\": 120}, {\\\"left\\\": 91, \\\"right\\\": 103, \\\"count\\\": 120}, {\\\"left\\\": 103, \\\"right\\\": 115, \\\"count\\\": 120}, {\\\"left\\\": 115, \\\"right\\\": 127, \\\"count\\\": 120}, {\\\"left\\\": 127, \\\"right\\\": 139, \\\"count\\\": 120}, {\\\"left\\\": 139, \\\"right\\\": 151, \\\"count\\\": 120}, {\\\"left\\\": 151, \\\"right\\\": 163, \\\"count\\\": 120}, {\\\"left\\\": 163, \\\"right\\\": 175, \\\"count\\\": 120}, {\\\"left\\\": 175, \\\"right\\\": 187, \\\"count\\\": 120}, {\\\"left\\\": 187, \\\"right\\\": 199, \\\"count\\\": 120}, {\\\"left\\\": 199, \\\"right\\\": 211, \\\"count\\\": 120}, {\\\"left\\\": 211, \\\"right\\\": 223, \\\"count\\\": 120}, {\\\"left\\\": 223, \\\"right\\\": 235, \\\"count\\\": 70}, {\\\"start\\\": -5, \\\"stop\\\": 235, \\\"step\\\": 12}], \\\"categorical\\\": []}, {\\\"a\\\": 1, \\\"title\\\": \\\"Activity_ID\\\", \\\"num_row\\\": 2300, \\\"type\\\": \\\"str\\\", \\\"num_unique\\\": 60, \\\"num_missing\\\": 0, \\\"categorical\\\": [{\\\"label\\\": \\\"farm-poiki-video-2\\\", \\\"label_idx\\\": 0, \\\"count\\\": 263, \\\"percentage\\\": \\\"11.4348%\\\"}, {\\\"label\\\": \\\"farm-poiki-video-1\\\", \\\"label_idx\\\": 1, \\\"count\\\": 238, \\\"percentage\\\": \\\"10.3478%\\\"}, {\\\"label\\\": \\\"farm-poiki-book-1\\\", \\\"label_idx\\\": 2, \\\"count\\\": 95, \\\"percentage\\\": \\\"4.13043%\\\"}, {\\\"label\\\": \\\"lab-wendy-shapes-1\\\", \\\"label_idx\\\": 3, \\\"count\\\": 95, \\\"percentage\\\": \\\"4.13043%\\\"}, {\\\"label\\\": \\\"newbaby-poiki-hotspot-1\\\", \\\"label_idx\\\": 4, \\\"count\\\": 94, \\\"percentage\\\": \\\"4.08696%\\\"}, {\\\"label\\\": \\\"birthday-wendy-simulation-1\\\", \\\"label_idx\\\": 5, \\\"count\\\": 91, \\\"percentage\\\": \\\"3.95652%\\\"}, {\\\"label\\\": \\\"who-wendy-book-2\\\", \\\"label_idx\\\": 6, \\\"count\\\": 82, \\\"percentage\\\": \\\"3.56522%\\\"}, {\\\"label\\\": \\\"country-none-book-1\\\", \\\"label_idx\\\": 7, \\\"count\\\": 73, \\\"percentage\\\": \\\"3.17391%\\\"}, {\\\"label\\\": \\\"country-wendy-videoclip-1\\\", \\\"label_idx\\\": 8, \\\"count\\\": 64, \\\"percentage\\\": \\\"2.78261%\\\"}, {\\\"label\\\": \\\"alphabet-kevin-tracing-1\\\", \\\"label_idx\\\": 9, \\\"count\\\": 60, \\\"percentage\\\": \\\"2.6087%\\\"}, {\\\"label\\\": \\\"Other (50 labels)\\\", \\\"label_idx\\\": 10, \\\"count\\\": 1145, \\\"percentage\\\": \\\"49.7826%\\\"}], \\\"numeric\\\": []}, {\\\"a\\\": 2, \\\"title\\\": \\\"No_of_attempts\\\", \\\"num_row\\\": 2300, \\\"type\\\": \\\"integer\\\", \\\"num_unique\\\": 4, \\\"num_missing\\\": 0, \\\"mean\\\": 2.116522, \\\"min\\\": 1.0, \\\"max\\\": 4.0, \\\"median\\\": 2.0, \\\"stdev\\\": 0.98174, \\\"numeric\\\": [{\\\"left\\\": -7, \\\"right\\\": -6, \\\"count\\\": 0}, {\\\"left\\\": -6, \\\"right\\\": -5, \\\"count\\\": 0}, {\\\"left\\\": -5, \\\"right\\\": -4, \\\"count\\\": 0}, {\\\"left\\\": -4, \\\"right\\\": -3, \\\"count\\\": 0}, {\\\"left\\\": -3, \\\"right\\\": -2, \\\"count\\\": 0}, {\\\"left\\\": -2, \\\"right\\\": -1, \\\"count\\\": 0}, {\\\"left\\\": -1, \\\"right\\\": 0, \\\"count\\\": 0}, {\\\"left\\\": 0, \\\"right\\\": 1, \\\"count\\\": 0}, {\\\"left\\\": 1, \\\"right\\\": 2, \\\"count\\\": 755}, {\\\"left\\\": 2, \\\"right\\\": 3, \\\"count\\\": 757}, {\\\"left\\\": 3, \\\"right\\\": 4, \\\"count\\\": 553}, {\\\"left\\\": 4, \\\"right\\\": 5, \\\"count\\\": 235}, {\\\"left\\\": 5, \\\"right\\\": 6, \\\"count\\\": 0}, {\\\"left\\\": 6, \\\"right\\\": 7, \\\"count\\\": 0}, {\\\"left\\\": 7, \\\"right\\\": 8, \\\"count\\\": 0}, {\\\"left\\\": 8, \\\"right\\\": 9, \\\"count\\\": 0}, {\\\"left\\\": 9, \\\"right\\\": 10, \\\"count\\\": 0}, {\\\"left\\\": 10, \\\"right\\\": 11, \\\"count\\\": 0}, {\\\"left\\\": 11, \\\"right\\\": 12, \\\"count\\\": 0}, {\\\"left\\\": 12, \\\"right\\\": 13, \\\"count\\\": 0}, {\\\"start\\\": -7, \\\"stop\\\": 13, \\\"step\\\": 1}], \\\"categorical\\\": []}, {\\\"a\\\": 3, \\\"title\\\": \\\"Time_taken\\\", \\\"num_row\\\": 2300, \\\"type\\\": \\\"float\\\", \\\"num_unique\\\": 323, \\\"num_missing\\\": 0, \\\"mean\\\": 293.066782, \\\"min\\\": 232.303027, \\\"max\\\": 356.978557, \\\"median\\\": 289.78638, \\\"stdev\\\": 30.711778, \\\"numeric\\\": [{\\\"left\\\": 229.746, \\\"right\\\": 236.237, \\\"count\\\": 8}, {\\\"left\\\": 236.237, \\\"right\\\": 242.727, \\\"count\\\": 45}, {\\\"left\\\": 242.727, \\\"right\\\": 249.218, \\\"count\\\": 126}, {\\\"left\\\": 249.218, \\\"right\\\": 255.709, \\\"count\\\": 152}, {\\\"left\\\": 255.709, \\\"right\\\": 262.2, \\\"count\\\": 107}, {\\\"left\\\": 262.2, \\\"right\\\": 268.691, \\\"count\\\": 153}, {\\\"left\\\": 268.691, \\\"right\\\": 275.182, \\\"count\\\": 156}, {\\\"left\\\": 275.182, \\\"right\\\": 281.673, \\\"count\\\": 134}, {\\\"left\\\": 281.673, \\\"right\\\": 288.164, \\\"count\\\": 232}, {\\\"left\\\": 288.164, \\\"right\\\": 294.655, \\\"count\\\": 127}, {\\\"left\\\": 294.655, \\\"right\\\": 301.146, \\\"count\\\": 119}, {\\\"left\\\": 301.146, \\\"right\\\": 307.637, \\\"count\\\": 117}, {\\\"left\\\": 307.637, \\\"right\\\": 314.127, \\\"count\\\": 175}, {\\\"left\\\": 314.127, \\\"right\\\": 320.618, \\\"count\\\": 192}, {\\\"left\\\": 320.618, \\\"right\\\": 327.109, \\\"count\\\": 128}, {\\\"left\\\": 327.109, \\\"right\\\": 333.6, \\\"count\\\": 74}, {\\\"left\\\": 333.6, \\\"right\\\": 340.091, \\\"count\\\": 19}, {\\\"left\\\": 340.091, \\\"right\\\": 346.582, \\\"count\\\": 106}, {\\\"left\\\": 346.582, \\\"right\\\": 353.073, \\\"count\\\": 105}, {\\\"left\\\": 353.073, \\\"right\\\": 359.564, \\\"count\\\": 25}, {\\\"start\\\": 229.746, \\\"stop\\\": 359.564, \\\"step\\\": 6.49091}], \\\"categorical\\\": []}, {\\\"a\\\": 4, \\\"title\\\": \\\"Translanguage_Level\\\", \\\"num_row\\\": 2300, \\\"type\\\": \\\"float\\\", \\\"num_unique\\\": 685, \\\"num_missing\\\": 0, \\\"mean\\\": 2.449399, \\\"min\\\": 0.913359, \\\"max\\\": 4.108055, \\\"median\\\": 2.415828, \\\"stdev\\\": 0.860416, \\\"numeric\\\": [{\\\"left\\\": 0.908403, \\\"right\\\": 1.06897, \\\"count\\\": 25}, {\\\"left\\\": 1.06897, \\\"right\\\": 1.22953, \\\"count\\\": 105}, {\\\"left\\\": 1.22953, \\\"right\\\": 1.3901, \\\"count\\\": 166}, {\\\"left\\\": 1.3901, \\\"right\\\": 1.55066, \\\"count\\\": 158}, {\\\"left\\\": 1.55066, \\\"right\\\": 1.71123, \\\"count\\\": 190}, {\\\"left\\\": 1.71123, \\\"right\\\": 1.87179, \\\"count\\\": 124}, {\\\"left\\\": 1.87179, \\\"right\\\": 2.03236, \\\"count\\\": 85}, {\\\"left\\\": 2.03236, \\\"right\\\": 2.19292, \\\"count\\\": 101}, {\\\"left\\\": 2.19292, \\\"right\\\": 2.35349, \\\"count\\\": 142}, {\\\"left\\\": 2.35349, \\\"right\\\": 2.51405, \\\"count\\\": 123}, {\\\"left\\\": 2.51405, \\\"right\\\": 2.67462, \\\"count\\\": 153}, {\\\"left\\\": 2.67462, \\\"right\\\": 2.83518, \\\"count\\\": 164}, {\\\"left\\\": 2.83518, \\\"right\\\": 2.99574, \\\"count\\\": 45}, {\\\"left\\\": 2.99574, \\\"right\\\": 3.15631, \\\"count\\\": 123}, {\\\"left\\\": 3.15631, \\\"right\\\": 3.31687, \\\"count\\\": 75}, {\\\"left\\\": 3.31687, \\\"right\\\": 3.47744, \\\"count\\\": 119}, {\\\"left\\\": 3.47744, \\\"right\\\": 3.638, \\\"count\\\": 183}, {\\\"left\\\": 3.638, \\\"right\\\": 3.79857, \\\"count\\\": 99}, {\\\"left\\\": 3.79857, \\\"right\\\": 3.95913, \\\"count\\\": 68}, {\\\"left\\\": 3.95913, \\\"right\\\": 4.1197, \\\"count\\\": 52}, {\\\"start\\\": 0.908403, \\\"stop\\\": 4.1197, \\\"step\\\": 0.160565}], \\\"categorical\\\": []}, {\\\"a\\\": 5, \\\"title\\\": \\\"Usefulness_Score\\\", \\\"num_row\\\": 2300, \\\"type\\\": \\\"float\\\", \\\"num_unique\\\": 1917, \\\"num_missing\\\": 0, \\\"mean\\\": 0.29701, \\\"min\\\": 0.008622, \\\"max\\\": 0.787412, \\\"median\\\": 0.234755, \\\"stdev\\\": 0.198692, \\\"numeric\\\": [{\\\"left\\\": 0.000655495, \\\"right\\\": 0.0404886, \\\"count\\\": 173}, {\\\"left\\\": 0.0404886, \\\"right\\\": 0.0803217, \\\"count\\\": 88}, {\\\"left\\\": 0.0803217, \\\"right\\\": 0.120155, \\\"count\\\": 255}, {\\\"left\\\": 0.120155, \\\"right\\\": 0.159988, \\\"count\\\": 166}, {\\\"left\\\": 0.159988, \\\"right\\\": 0.199821, \\\"count\\\": 148}, {\\\"left\\\": 0.199821, \\\"right\\\": 0.239654, \\\"count\\\": 340}, {\\\"left\\\": 0.239654, \\\"right\\\": 0.279487, \\\"count\\\": 118}, {\\\"left\\\": 0.279487, \\\"right\\\": 0.31932, \\\"count\\\": 72}, {\\\"left\\\": 0.31932, \\\"right\\\": 0.359154, \\\"count\\\": 74}, {\\\"left\\\": 0.359154, \\\"right\\\": 0.398987, \\\"count\\\": 168}, {\\\"left\\\": 0.398987, \\\"right\\\": 0.43882, \\\"count\\\": 170}, {\\\"left\\\": 0.43882, \\\"right\\\": 0.478653, \\\"count\\\": 105}, {\\\"left\\\": 0.478653, \\\"right\\\": 0.518486, \\\"count\\\": 51}, {\\\"left\\\": 0.518486, \\\"right\\\": 0.558319, \\\"count\\\": 89}, {\\\"left\\\": 0.558319, \\\"right\\\": 0.598152, \\\"count\\\": 73}, {\\\"left\\\": 0.598152, \\\"right\\\": 0.637985, \\\"count\\\": 9}, {\\\"left\\\": 0.637985, \\\"right\\\": 0.677818, \\\"count\\\": 131}, {\\\"left\\\": 0.677818, \\\"right\\\": 0.717652, \\\"count\\\": 0}, {\\\"left\\\": 0.717652, \\\"right\\\": 0.757485, \\\"count\\\": 0}, {\\\"left\\\": 0.757485, \\\"right\\\": 0.797318, \\\"count\\\": 70}, {\\\"start\\\": 0.000655495, \\\"stop\\\": 0.797318, \\\"step\\\": 0.0398331}], \\\"categorical\\\": []}]}, {\\\"name\\\": \\\"data_2\\\", \\\"source\\\": \\\"source_2\\\", \\\"transform\\\": [{\\\"type\\\": \\\"formula\\\", \\\"expr\\\": \\\"20\\\", \\\"as\\\": \\\"c_x_axis_back\\\"}, {\\\"type\\\": \\\"formula\\\", \\\"expr\\\": \\\"toNumber(datum[\\\\\\\"a\\\\\\\"])*300+66\\\", \\\"as\\\": \\\"c_main_background\\\"}, {\\\"type\\\": \\\"formula\\\", \\\"expr\\\": \\\"toNumber(datum[\\\\\\\"a\\\\\\\"])*300+43\\\", \\\"as\\\": \\\"c_top_bar\\\"}, {\\\"type\\\": \\\"formula\\\", \\\"expr\\\": \\\"toNumber(datum[\\\\\\\"a\\\\\\\"])*300+59\\\", \\\"as\\\": \\\"c_top_title\\\"}, {\\\"type\\\": \\\"formula\\\", \\\"expr\\\": \\\"toNumber(datum[\\\\\\\"a\\\\\\\"])*300+58\\\", \\\"as\\\": \\\"c_top_type\\\"}, {\\\"type\\\": \\\"formula\\\", \\\"expr\\\": \\\"toNumber(datum[\\\\\\\"a\\\\\\\"])*300+178\\\", \\\"as\\\": \\\"c_rule\\\"}, {\\\"type\\\": \\\"formula\\\", \\\"expr\\\": \\\"toNumber(datum[\\\\\\\"a\\\\\\\"])*300+106\\\", \\\"as\\\": \\\"c_num_rows\\\"}, {\\\"type\\\": \\\"formula\\\", \\\"expr\\\": \\\"toNumber(datum[\\\\\\\"a\\\\\\\"])*300+130\\\", \\\"as\\\": \\\"c_num_unique\\\"}, {\\\"type\\\": \\\"formula\\\", \\\"expr\\\": \\\"toNumber(datum[\\\\\\\"a\\\\\\\"])*300+154\\\", \\\"as\\\": \\\"c_missing\\\"}, {\\\"type\\\": \\\"formula\\\", \\\"expr\\\": \\\"toNumber(datum[\\\\\\\"a\\\\\\\"])*300+105\\\", \\\"as\\\": \\\"c_num_rows_val\\\"}, {\\\"type\\\": \\\"formula\\\", \\\"expr\\\": \\\"toNumber(datum[\\\\\\\"a\\\\\\\"])*300+130\\\", \\\"as\\\": \\\"c_num_unique_val\\\"}, {\\\"type\\\": \\\"formula\\\", \\\"expr\\\": \\\"toNumber(datum[\\\\\\\"a\\\\\\\"])*300+154\\\", \\\"as\\\": \\\"c_missing_val\\\"}, {\\\"type\\\": \\\"formula\\\", \\\"expr\\\": \\\"toNumber(datum[\\\\\\\"a\\\\\\\"])*300+195\\\", \\\"as\\\": \\\"c_frequent_items\\\"}, {\\\"type\\\": \\\"formula\\\", \\\"expr\\\": \\\"toNumber(datum[\\\\\\\"a\\\\\\\"])*300+218\\\", \\\"as\\\": \\\"c_first_item\\\"}, {\\\"type\\\": \\\"formula\\\", \\\"expr\\\": \\\"toNumber(datum[\\\\\\\"a\\\\\\\"])*300+235\\\", \\\"as\\\": \\\"c_second_item\\\"}, {\\\"type\\\": \\\"formula\\\", \\\"expr\\\": \\\"toNumber(datum[\\\\\\\"a\\\\\\\"])*300+252\\\", \\\"as\\\": \\\"c_third_item\\\"}, {\\\"type\\\": \\\"formula\\\", \\\"expr\\\": \\\"toNumber(datum[\\\\\\\"a\\\\\\\"])*300+269\\\", \\\"as\\\": \\\"c_fourth_item\\\"}, {\\\"type\\\": \\\"formula\\\", \\\"expr\\\": \\\"toNumber(datum[\\\\\\\"a\\\\\\\"])*300+286\\\", \\\"as\\\": \\\"c_fifth_item\\\"}, {\\\"type\\\": \\\"formula\\\", \\\"expr\\\": \\\"toNumber(datum[\\\\\\\"a\\\\\\\"])*300+200\\\", \\\"as\\\": \\\"c_mean\\\"}, {\\\"type\\\": \\\"formula\\\", \\\"expr\\\": \\\"toNumber(datum[\\\\\\\"a\\\\\\\"])*300+220\\\", \\\"as\\\": \\\"c_min\\\"}, {\\\"type\\\": \\\"formula\\\", \\\"expr\\\": \\\"toNumber(datum[\\\\\\\"a\\\\\\\"])*300+240\\\", \\\"as\\\": \\\"c_max\\\"}, {\\\"type\\\": \\\"formula\\\", \\\"expr\\\": \\\"toNumber(datum[\\\\\\\"a\\\\\\\"])*300+260\\\", \\\"as\\\": \\\"c_median\\\"}, {\\\"type\\\": \\\"formula\\\", \\\"expr\\\": \\\"toNumber(datum[\\\\\\\"a\\\\\\\"])*300+280\\\", \\\"as\\\": \\\"c_stdev\\\"}, {\\\"type\\\": \\\"formula\\\", \\\"expr\\\": \\\"toNumber(datum[\\\\\\\"a\\\\\\\"])*300+198\\\", \\\"as\\\": \\\"c_mean_val\\\"}, {\\\"type\\\": \\\"formula\\\", \\\"expr\\\": \\\"toNumber(datum[\\\\\\\"a\\\\\\\"])*300+218\\\", \\\"as\\\": \\\"c_min_val\\\"}, {\\\"type\\\": \\\"formula\\\", \\\"expr\\\": \\\"toNumber(datum[\\\\\\\"a\\\\\\\"])*300+238\\\", \\\"as\\\": \\\"c_max_val\\\"}, {\\\"type\\\": \\\"formula\\\", \\\"expr\\\": \\\"toNumber(datum[\\\\\\\"a\\\\\\\"])*300+258\\\", \\\"as\\\": \\\"c_median_val\\\"}, {\\\"type\\\": \\\"formula\\\", \\\"expr\\\": \\\"toNumber(datum[\\\\\\\"a\\\\\\\"])*300+278\\\", \\\"as\\\": \\\"c_stdev_val\\\"}, {\\\"type\\\": \\\"formula\\\", \\\"expr\\\": \\\"toNumber(datum[\\\\\\\"a\\\\\\\"])*300+106\\\", \\\"as\\\": \\\"graph_offset\\\"}, {\\\"type\\\": \\\"formula\\\", \\\"expr\\\": \\\"toNumber(datum[\\\\\\\"a\\\\\\\"])*300+132\\\", \\\"as\\\": \\\"graph_offset_categorical\\\"}, {\\\"type\\\": \\\"formula\\\", \\\"expr\\\": \\\"(toString(datum[\\\\\\\"type\\\\\\\"]) == \\\\\\\"integer\\\\\\\" || toString(datum[\\\\\\\"type\\\\\\\"]) == \\\\\\\"float\\\\\\\")?false:true\\\", \\\"as\\\": \\\"c_clip_val\\\"}, {\\\"type\\\": \\\"formula\\\", \\\"expr\\\": \\\"(toString(datum[\\\\\\\"type\\\\\\\"]) == \\\\\\\"integer\\\\\\\" || toString(datum[\\\\\\\"type\\\\\\\"]) == \\\\\\\"float\\\\\\\")?250:0\\\", \\\"as\\\": \\\"c_width_numeric_val\\\"}, {\\\"type\\\": \\\"formula\\\", \\\"expr\\\": \\\"(toString(datum[\\\\\\\"type\\\\\\\"]) == \\\\\\\"str\\\\\\\")?false:true\\\", \\\"as\\\": \\\"c_clip_val_cat\\\"}, {\\\"type\\\": \\\"formula\\\", \\\"expr\\\": \\\"(toString(datum[\\\\\\\"type\\\\\\\"]) == \\\\\\\"str\\\\\\\")?250:0\\\", \\\"as\\\": \\\"c_width_numeric_val_cat\\\"}]}], \\\"marks\\\": [{\\\"encode\\\": {\\\"enter\\\": {\\\"x\\\": {\\\"value\\\": 0}, \\\"width\\\": {\\\"value\\\": 734}, \\\"y\\\": {\\\"value\\\": 0}, \\\"height\\\": {\\\"value\\\": 366}, \\\"clip\\\": {\\\"value\\\": 0}, \\\"fill\\\": {\\\"value\\\": \\\"#ffffff\\\"}, \\\"fillOpacity\\\": {\\\"value\\\": 0}, \\\"stroke\\\": {\\\"value\\\": \\\"#000000\\\"}, \\\"strokeWidth\\\": {\\\"value\\\": 0}}}, \\\"marks\\\": [{\\\"encode\\\": {\\\"enter\\\": {\\\"x\\\": {\\\"value\\\": 0}, \\\"width\\\": {\\\"value\\\": 734}, \\\"y\\\": {\\\"value\\\": 0}, \\\"height\\\": {\\\"value\\\": 366}, \\\"clip\\\": {\\\"value\\\": 0}, \\\"fill\\\": {\\\"value\\\": \\\"#ffffff\\\"}, \\\"fillOpacity\\\": {\\\"value\\\": 0}, \\\"stroke\\\": {\\\"value\\\": \\\"#000000\\\"}, \\\"strokeWidth\\\": {\\\"value\\\": 0}}}, \\\"scales\\\": [], \\\"axes\\\": [], \\\"marks\\\": [{\\\"from\\\": {\\\"data\\\": \\\"data_2\\\"}, \\\"encode\\\": {\\\"enter\\\": {\\\"x\\\": {\\\"value\\\": 33}, \\\"width\\\": {\\\"value\\\": 700}, \\\"y\\\": {\\\"value\\\": 66}, \\\"height\\\": {\\\"value\\\": 250}, \\\"fill\\\": {\\\"value\\\": \\\"#FEFEFE\\\"}, \\\"fillOpacity\\\": {\\\"value\\\": 1}, \\\"stroke\\\": {\\\"value\\\": \\\"#DEDEDE\\\"}, \\\"strokeWidth\\\": {\\\"value\\\": 0.5}}, \\\"update\\\": {\\\"x\\\": {\\\"signal\\\": \\\"datum[\\\\\\\"c_x_axis_back\\\\\\\"]\\\"}, \\\"y\\\": {\\\"field\\\": \\\"c_main_background\\\"}}}, \\\"type\\\": \\\"rect\\\"}, {\\\"from\\\": {\\\"data\\\": \\\"data_2\\\"}, \\\"encode\\\": {\\\"enter\\\": {\\\"x\\\": {\\\"value\\\": 33}, \\\"width\\\": {\\\"value\\\": 700}, \\\"y\\\": {\\\"value\\\": 43}, \\\"height\\\": {\\\"value\\\": 30}, \\\"fill\\\": {\\\"value\\\": \\\"#F5F5F5\\\"}, \\\"fillOpacity\\\": {\\\"value\\\": 1}, \\\"stroke\\\": {\\\"value\\\": \\\"#DEDEDE\\\"}, \\\"strokeWidth\\\": {\\\"value\\\": 0.5}}, \\\"update\\\": {\\\"x\\\": {\\\"signal\\\": \\\"datum[\\\\\\\"c_x_axis_back\\\\\\\"]\\\"}, \\\"y\\\": {\\\"field\\\": \\\"c_top_bar\\\"}}}, \\\"type\\\": \\\"rect\\\"}, {\\\"from\\\": {\\\"data\\\": \\\"data_2\\\"}, \\\"encode\\\": {\\\"enter\\\": {\\\"x\\\": {\\\"value\\\": 720}, \\\"y\\\": {\\\"value\\\": 58}, \\\"text\\\": {\\\"signal\\\": \\\"&apos;&apos;+datum[\\\\\\\"type\\\\\\\"]\\\"}, \\\"align\\\": {\\\"value\\\": \\\"right\\\"}, \\\"baseline\\\": {\\\"value\\\": \\\"middle\\\"}, \\\"dx\\\": {\\\"value\\\": 0, \\\"offset\\\": 0}, \\\"dy\\\": {\\\"value\\\": 0, \\\"offset\\\": 0}, \\\"angle\\\": {\\\"value\\\": 0}, \\\"font\\\": {\\\"value\\\": \\\"AvenirNext-Medium\\\"}, \\\"fontSize\\\": {\\\"value\\\": 12}, \\\"fontWeight\\\": {\\\"value\\\": \\\"normal\\\"}, \\\"fontStyle\\\": {\\\"value\\\": \\\"normal\\\"}, \\\"fill\\\": {\\\"value\\\": \\\"#595859\\\"}}, \\\"update\\\": {\\\"x\\\": {\\\"signal\\\": \\\"datum[\\\\\\\"c_x_axis_back\\\\\\\"]+687\\\"}, \\\"y\\\": {\\\"field\\\": \\\"c_top_type\\\"}}}, \\\"type\\\": \\\"text\\\"}, {\\\"from\\\": {\\\"data\\\": \\\"data_2\\\"}, \\\"encode\\\": {\\\"enter\\\": {\\\"x\\\": {\\\"value\\\": 44}, \\\"y\\\": {\\\"value\\\": 59}, \\\"text\\\": {\\\"signal\\\": \\\"&apos;&apos;+datum[\\\\\\\"title\\\\\\\"]\\\"}, \\\"align\\\": {\\\"value\\\": \\\"left\\\"}, \\\"baseline\\\": {\\\"value\\\": \\\"middle\\\"}, \\\"dx\\\": {\\\"value\\\": 0, \\\"offset\\\": 0}, \\\"dy\\\": {\\\"value\\\": 0, \\\"offset\\\": 0}, \\\"angle\\\": {\\\"value\\\": 0}, \\\"font\\\": {\\\"value\\\": \\\"AvenirNext-Medium\\\"}, \\\"fontSize\\\": {\\\"value\\\": 15}, \\\"fontWeight\\\": {\\\"value\\\": \\\"normal\\\"}, \\\"fontStyle\\\": {\\\"value\\\": \\\"normal\\\"}, \\\"fill\\\": {\\\"value\\\": \\\"#9B9B9B\\\"}}, \\\"update\\\": {\\\"x\\\": {\\\"signal\\\": \\\"datum[\\\\\\\"c_x_axis_back\\\\\\\"]+11\\\"}, \\\"y\\\": {\\\"field\\\": \\\"c_top_title\\\"}}}, \\\"type\\\": \\\"text\\\"}, {\\\"from\\\": {\\\"data\\\": \\\"data_2\\\"}, \\\"encode\\\": {\\\"enter\\\": {\\\"x\\\": {\\\"value\\\": 500}, \\\"y\\\": {\\\"value\\\": 178}, \\\"stroke\\\": {\\\"value\\\": \\\"#EDEDEB\\\"}, \\\"strokeWidth\\\": {\\\"value\\\": 1}, \\\"strokeCap\\\": {\\\"value\\\": \\\"butt\\\"}, \\\"x2\\\": {\\\"value\\\": 720}, \\\"y2\\\": {\\\"value\\\": 178}}, \\\"update\\\": {\\\"x\\\": {\\\"signal\\\": \\\"datum[\\\\\\\"c_x_axis_back\\\\\\\"]+467\\\"}, \\\"x2\\\": {\\\"signal\\\": \\\"datum[\\\\\\\"c_x_axis_back\\\\\\\"]+687\\\"}, \\\"y\\\": {\\\"field\\\": \\\"c_rule\\\"}, \\\"y2\\\": {\\\"field\\\": \\\"c_rule\\\"}}}, \\\"type\\\": \\\"rule\\\"}, {\\\"from\\\": {\\\"data\\\": \\\"data_2\\\"}, \\\"encode\\\": {\\\"enter\\\": {\\\"x\\\": {\\\"value\\\": 500}, \\\"y\\\": {\\\"value\\\": 106}, \\\"text\\\": {\\\"value\\\": \\\"Num. Rows:\\\"}, \\\"align\\\": {\\\"value\\\": \\\"left\\\"}, \\\"baseline\\\": {\\\"value\\\": \\\"middle\\\"}, \\\"dx\\\": {\\\"value\\\": 0, \\\"offset\\\": 0}, \\\"dy\\\": {\\\"value\\\": 0, \\\"offset\\\": 0}, \\\"angle\\\": {\\\"value\\\": 0}, \\\"font\\\": {\\\"value\\\": \\\"AvenirNext-Medium\\\"}, \\\"fontSize\\\": {\\\"value\\\": 12}, \\\"fontWeight\\\": {\\\"value\\\": \\\"normal\\\"}, \\\"fontStyle\\\": {\\\"value\\\": \\\"normal\\\"}, \\\"fill\\\": {\\\"value\\\": \\\"#4A4A4A\\\"}}, \\\"update\\\": {\\\"x\\\": {\\\"signal\\\": \\\"datum[\\\\\\\"c_x_axis_back\\\\\\\"]+467\\\"}, \\\"y\\\": {\\\"field\\\": \\\"c_num_rows\\\"}}}, \\\"type\\\": \\\"text\\\"}, {\\\"from\\\": {\\\"data\\\": \\\"data_2\\\"}, \\\"encode\\\": {\\\"enter\\\": {\\\"x\\\": {\\\"value\\\": 500}, \\\"y\\\": {\\\"value\\\": 130}, \\\"text\\\": {\\\"value\\\": \\\"Num. Unique:\\\"}, \\\"align\\\": {\\\"value\\\": \\\"left\\\"}, \\\"baseline\\\": {\\\"value\\\": \\\"middle\\\"}, \\\"dx\\\": {\\\"value\\\": 0, \\\"offset\\\": 0}, \\\"dy\\\": {\\\"value\\\": 0, \\\"offset\\\": 0}, \\\"angle\\\": {\\\"value\\\": 0}, \\\"font\\\": {\\\"value\\\": \\\"AvenirNext-Medium\\\"}, \\\"fontSize\\\": {\\\"value\\\": 12}, \\\"fontWeight\\\": {\\\"value\\\": \\\"normal\\\"}, \\\"fontStyle\\\": {\\\"value\\\": \\\"normal\\\"}, \\\"fill\\\": {\\\"value\\\": \\\"#4A4A4A\\\"}}, \\\"update\\\": {\\\"x\\\": {\\\"signal\\\": \\\"datum[\\\\\\\"c_x_axis_back\\\\\\\"]+467\\\"}, \\\"y\\\": {\\\"field\\\": \\\"c_num_unique\\\"}}}, \\\"type\\\": \\\"text\\\"}, {\\\"from\\\": {\\\"data\\\": \\\"data_2\\\"}, \\\"encode\\\": {\\\"enter\\\": {\\\"x\\\": {\\\"value\\\": 500}, \\\"y\\\": {\\\"value\\\": 154}, \\\"text\\\": {\\\"value\\\": \\\"Missing:\\\"}, \\\"align\\\": {\\\"value\\\": \\\"left\\\"}, \\\"baseline\\\": {\\\"value\\\": \\\"middle\\\"}, \\\"dx\\\": {\\\"value\\\": 0, \\\"offset\\\": 0}, \\\"dy\\\": {\\\"value\\\": 0, \\\"offset\\\": 0}, \\\"angle\\\": {\\\"value\\\": 0}, \\\"font\\\": {\\\"value\\\": \\\"AvenirNext-Medium\\\"}, \\\"fontSize\\\": {\\\"value\\\": 12}, \\\"fontWeight\\\": {\\\"value\\\": \\\"normal\\\"}, \\\"fontStyle\\\": {\\\"value\\\": \\\"normal\\\"}, \\\"fill\\\": {\\\"value\\\": \\\"#4A4A4A\\\"}}, \\\"update\\\": {\\\"x\\\": {\\\"signal\\\": \\\"datum[\\\\\\\"c_x_axis_back\\\\\\\"]+467\\\"}, \\\"y\\\": {\\\"field\\\": \\\"c_missing\\\"}}}, \\\"type\\\": \\\"text\\\"}, {\\\"from\\\": {\\\"data\\\": \\\"data_2\\\"}, \\\"encode\\\": {\\\"enter\\\": {\\\"x\\\": {\\\"value\\\": 700}, \\\"y\\\": {\\\"value\\\": 105}, \\\"text\\\": {\\\"signal\\\": \\\"toString(format(datum[\\\\\\\"num_row\\\\\\\"], \\\\\\\",\\\\\\\"))\\\"}, \\\"align\\\": {\\\"value\\\": \\\"right\\\"}, \\\"baseline\\\": {\\\"value\\\": \\\"middle\\\"}, \\\"dx\\\": {\\\"value\\\": 0, \\\"offset\\\": 0}, \\\"dy\\\": {\\\"value\\\": 0, \\\"offset\\\": 0}, \\\"angle\\\": {\\\"value\\\": 0}, \\\"font\\\": {\\\"value\\\": \\\"AvenirNext-Medium\\\"}, \\\"fontSize\\\": {\\\"value\\\": 12}, \\\"fontWeight\\\": {\\\"value\\\": \\\"normal\\\"}, \\\"fontStyle\\\": {\\\"value\\\": \\\"normal\\\"}, \\\"fill\\\": {\\\"value\\\": \\\"#5A5A5A\\\"}}, \\\"update\\\": {\\\"x\\\": {\\\"signal\\\": \\\"datum[\\\\\\\"c_x_axis_back\\\\\\\"]+667\\\"}, \\\"y\\\": {\\\"field\\\": \\\"c_num_rows_val\\\"}}}, \\\"type\\\": \\\"text\\\"}, {\\\"from\\\": {\\\"data\\\": \\\"data_2\\\"}, \\\"encode\\\": {\\\"enter\\\": {\\\"x\\\": {\\\"value\\\": 700}, \\\"y\\\": {\\\"value\\\": 130}, \\\"text\\\": {\\\"signal\\\": \\\"toString(format(datum[\\\\\\\"num_unique\\\\\\\"], \\\\\\\",\\\\\\\"))\\\"}, \\\"align\\\": {\\\"value\\\": \\\"right\\\"}, \\\"baseline\\\": {\\\"value\\\": \\\"middle\\\"}, \\\"dx\\\": {\\\"value\\\": 0, \\\"offset\\\": 0}, \\\"dy\\\": {\\\"value\\\": 0, \\\"offset\\\": 0}, \\\"angle\\\": {\\\"value\\\": 0}, \\\"font\\\": {\\\"value\\\": \\\"AvenirNext-Medium\\\"}, \\\"fontSize\\\": {\\\"value\\\": 12}, \\\"fontWeight\\\": {\\\"value\\\": \\\"normal\\\"}, \\\"fontStyle\\\": {\\\"value\\\": \\\"normal\\\"}, \\\"fill\\\": {\\\"value\\\": \\\"#5A5A5A\\\"}}, \\\"update\\\": {\\\"x\\\": {\\\"signal\\\": \\\"datum[\\\\\\\"c_x_axis_back\\\\\\\"]+667\\\"}, \\\"y\\\": {\\\"field\\\": \\\"c_num_unique_val\\\"}}}, \\\"type\\\": \\\"text\\\"}, {\\\"from\\\": {\\\"data\\\": \\\"data_2\\\"}, \\\"encode\\\": {\\\"enter\\\": {\\\"x\\\": {\\\"value\\\": 700}, \\\"y\\\": {\\\"value\\\": 154}, \\\"text\\\": {\\\"signal\\\": \\\"toString(format(datum[\\\\\\\"num_missing\\\\\\\"], \\\\\\\",\\\\\\\"))\\\"}, \\\"align\\\": {\\\"value\\\": \\\"right\\\"}, \\\"baseline\\\": {\\\"value\\\": \\\"middle\\\"}, \\\"dx\\\": {\\\"value\\\": 0, \\\"offset\\\": 0}, \\\"dy\\\": {\\\"value\\\": 0, \\\"offset\\\": 0}, \\\"angle\\\": {\\\"value\\\": 0}, \\\"font\\\": {\\\"value\\\": \\\"AvenirNext-Medium\\\"}, \\\"fontSize\\\": {\\\"value\\\": 12}, \\\"fontWeight\\\": {\\\"value\\\": \\\"normal\\\"}, \\\"fontStyle\\\": {\\\"value\\\": \\\"normal\\\"}, \\\"fill\\\": {\\\"value\\\": \\\"#5A5A5A\\\"}}, \\\"update\\\": {\\\"x\\\": {\\\"signal\\\": \\\"datum[\\\\\\\"c_x_axis_back\\\\\\\"]+667\\\"}, \\\"y\\\": {\\\"field\\\": \\\"c_missing_val\\\"}}}, \\\"type\\\": \\\"text\\\"}, {\\\"from\\\": {\\\"data\\\": \\\"data_2\\\"}, \\\"encode\\\": {\\\"enter\\\": {\\\"x\\\": {\\\"value\\\": 500}, \\\"y\\\": {\\\"value\\\": 200}, \\\"text\\\": {\\\"signal\\\": \\\"(toString(datum[\\\\\\\"type\\\\\\\"]) == \\\\\\\"str\\\\\\\")? \\\\\\\"Frequent Items\\\\\\\":\\\\\\\"\\\\\\\"\\\"}, \\\"align\\\": {\\\"value\\\": \\\"left\\\"}, \\\"baseline\\\": {\\\"value\\\": \\\"middle\\\"}, \\\"dx\\\": {\\\"value\\\": 0, \\\"offset\\\": 0}, \\\"dy\\\": {\\\"value\\\": 0, \\\"offset\\\": 0}, \\\"angle\\\": {\\\"value\\\": 0}, \\\"clip\\\": {\\\"value\\\": true}, \\\"font\\\": {\\\"value\\\": \\\"AvenirNext-Medium\\\"}, \\\"fontSize\\\": {\\\"value\\\": 11}, \\\"fontWeight\\\": {\\\"value\\\": \\\"bold\\\"}, \\\"fontStyle\\\": {\\\"value\\\": \\\"normal\\\"}, \\\"fill\\\": {\\\"value\\\": \\\"#4A4A4A\\\"}}, \\\"update\\\": {\\\"x\\\": {\\\"signal\\\": \\\"datum[\\\\\\\"c_x_axis_back\\\\\\\"]+467\\\"}, \\\"y\\\": {\\\"field\\\": \\\"c_frequent_items\\\"}}}, \\\"type\\\": \\\"text\\\"}, {\\\"from\\\": {\\\"data\\\": \\\"data_2\\\"}, \\\"encode\\\": {\\\"enter\\\": {\\\"x\\\": {\\\"value\\\": 520}, \\\"y\\\": {\\\"value\\\": 200}, \\\"text\\\": {\\\"signal\\\": \\\"((datum[\\\\\\\"categorical\\\\\\\"].length >= 1) &amp;&amp; (toString(datum[\\\\\\\"type\\\\\\\"]) == \\\\\\\"str\\\\\\\"))? toString(datum[\\\\\\\"categorical\\\\\\\"][0][\\\\\\\"label\\\\\\\"]):\\\\\\\"\\\\\\\"\\\"}, \\\"align\\\": {\\\"value\\\": \\\"left\\\"}, \\\"baseline\\\": {\\\"value\\\": \\\"middle\\\"}, \\\"dx\\\": {\\\"value\\\": 0, \\\"offset\\\": 0}, \\\"dy\\\": {\\\"value\\\": 0, \\\"offset\\\": 0}, \\\"angle\\\": {\\\"value\\\": 0}, \\\"clip\\\": {\\\"value\\\": true}, \\\"font\\\": {\\\"value\\\": \\\"AvenirNext-Medium\\\"}, \\\"fontSize\\\": {\\\"value\\\": 11}, \\\"fontWeight\\\": {\\\"value\\\": \\\"normal\\\"}, \\\"fontStyle\\\": {\\\"value\\\": \\\"normal\\\"}, \\\"fill\\\": {\\\"value\\\": \\\"#4A4A4A\\\"}}, \\\"update\\\": {\\\"x\\\": {\\\"signal\\\": \\\"datum[\\\\\\\"c_x_axis_back\\\\\\\"]+487\\\"}, \\\"y\\\": {\\\"field\\\": \\\"c_first_item\\\"}}}, \\\"type\\\": \\\"text\\\"}, {\\\"from\\\": {\\\"data\\\": \\\"data_2\\\"}, \\\"encode\\\": {\\\"enter\\\": {\\\"x\\\": {\\\"value\\\": 520}, \\\"y\\\": {\\\"value\\\": 200}, \\\"text\\\": {\\\"signal\\\": \\\"((datum[\\\\\\\"categorical\\\\\\\"].length >= 2) &amp;&amp; (toString(datum[\\\\\\\"type\\\\\\\"]) == \\\\\\\"str\\\\\\\"))? toString(datum[\\\\\\\"categorical\\\\\\\"][1][\\\\\\\"label\\\\\\\"]):\\\\\\\"\\\\\\\"\\\"}, \\\"align\\\": {\\\"value\\\": \\\"left\\\"}, \\\"baseline\\\": {\\\"value\\\": \\\"middle\\\"}, \\\"dx\\\": {\\\"value\\\": 0, \\\"offset\\\": 0}, \\\"dy\\\": {\\\"value\\\": 0, \\\"offset\\\": 0}, \\\"angle\\\": {\\\"value\\\": 0}, \\\"clip\\\": {\\\"value\\\": true}, \\\"font\\\": {\\\"value\\\": \\\"AvenirNext-Medium\\\"}, \\\"fontSize\\\": {\\\"value\\\": 11}, \\\"fontWeight\\\": {\\\"value\\\": \\\"normal\\\"}, \\\"fontStyle\\\": {\\\"value\\\": \\\"normal\\\"}, \\\"fill\\\": {\\\"value\\\": \\\"#4A4A4A\\\"}}, \\\"update\\\": {\\\"x\\\": {\\\"signal\\\": \\\"datum[\\\\\\\"c_x_axis_back\\\\\\\"]+487\\\"}, \\\"y\\\": {\\\"field\\\": \\\"c_second_item\\\"}}}, \\\"type\\\": \\\"text\\\"}, {\\\"from\\\": {\\\"data\\\": \\\"data_2\\\"}, \\\"encode\\\": {\\\"enter\\\": {\\\"x\\\": {\\\"value\\\": 520}, \\\"y\\\": {\\\"value\\\": 200}, \\\"text\\\": {\\\"signal\\\": \\\"((datum[\\\\\\\"categorical\\\\\\\"].length >= 3) &amp;&amp; (toString(datum[\\\\\\\"type\\\\\\\"]) == \\\\\\\"str\\\\\\\"))? toString(datum[\\\\\\\"categorical\\\\\\\"][2][\\\\\\\"label\\\\\\\"]):\\\\\\\"\\\\\\\"\\\"}, \\\"align\\\": {\\\"value\\\": \\\"left\\\"}, \\\"baseline\\\": {\\\"value\\\": \\\"middle\\\"}, \\\"dx\\\": {\\\"value\\\": 0, \\\"offset\\\": 0}, \\\"dy\\\": {\\\"value\\\": 0, \\\"offset\\\": 0}, \\\"angle\\\": {\\\"value\\\": 0}, \\\"clip\\\": {\\\"value\\\": true}, \\\"font\\\": {\\\"value\\\": \\\"AvenirNext-Medium\\\"}, \\\"fontSize\\\": {\\\"value\\\": 11}, \\\"fontWeight\\\": {\\\"value\\\": \\\"normal\\\"}, \\\"fontStyle\\\": {\\\"value\\\": \\\"normal\\\"}, \\\"fill\\\": {\\\"value\\\": \\\"#4A4A4A\\\"}}, \\\"update\\\": {\\\"x\\\": {\\\"signal\\\": \\\"datum[\\\\\\\"c_x_axis_back\\\\\\\"]+487\\\"}, \\\"y\\\": {\\\"field\\\": \\\"c_third_item\\\"}}}, \\\"type\\\": \\\"text\\\"}, {\\\"from\\\": {\\\"data\\\": \\\"data_2\\\"}, \\\"encode\\\": {\\\"enter\\\": {\\\"x\\\": {\\\"value\\\": 520}, \\\"y\\\": {\\\"value\\\": 200}, \\\"text\\\": {\\\"signal\\\": \\\"((datum[\\\\\\\"categorical\\\\\\\"].length >= 4) &amp;&amp; (toString(datum[\\\\\\\"type\\\\\\\"]) == \\\\\\\"str\\\\\\\"))? toString(datum[\\\\\\\"categorical\\\\\\\"][3][\\\\\\\"label\\\\\\\"]):\\\\\\\"\\\\\\\"\\\"}, \\\"align\\\": {\\\"value\\\": \\\"left\\\"}, \\\"baseline\\\": {\\\"value\\\": \\\"middle\\\"}, \\\"dx\\\": {\\\"value\\\": 0, \\\"offset\\\": 0}, \\\"dy\\\": {\\\"value\\\": 0, \\\"offset\\\": 0}, \\\"angle\\\": {\\\"value\\\": 0}, \\\"clip\\\": {\\\"value\\\": true}, \\\"font\\\": {\\\"value\\\": \\\"AvenirNext-Medium\\\"}, \\\"fontSize\\\": {\\\"value\\\": 11}, \\\"fontWeight\\\": {\\\"value\\\": \\\"normal\\\"}, \\\"fontStyle\\\": {\\\"value\\\": \\\"normal\\\"}, \\\"fill\\\": {\\\"value\\\": \\\"#4A4A4A\\\"}}, \\\"update\\\": {\\\"x\\\": {\\\"signal\\\": \\\"datum[\\\\\\\"c_x_axis_back\\\\\\\"]+487\\\"}, \\\"y\\\": {\\\"field\\\": \\\"c_fourth_item\\\"}}}, \\\"type\\\": \\\"text\\\"}, {\\\"from\\\": {\\\"data\\\": \\\"data_2\\\"}, \\\"encode\\\": {\\\"enter\\\": {\\\"x\\\": {\\\"value\\\": 520}, \\\"y\\\": {\\\"value\\\": 200}, \\\"text\\\": {\\\"signal\\\": \\\"((datum[\\\\\\\"categorical\\\\\\\"].length >= 5) &amp;&amp; (toString(datum[\\\\\\\"type\\\\\\\"]) == \\\\\\\"str\\\\\\\"))? toString(datum[\\\\\\\"categorical\\\\\\\"][4][\\\\\\\"label\\\\\\\"]):\\\\\\\"\\\\\\\"\\\"}, \\\"align\\\": {\\\"value\\\": \\\"left\\\"}, \\\"baseline\\\": {\\\"value\\\": \\\"middle\\\"}, \\\"dx\\\": {\\\"value\\\": 0, \\\"offset\\\": 0}, \\\"dy\\\": {\\\"value\\\": 0, \\\"offset\\\": 0}, \\\"angle\\\": {\\\"value\\\": 0}, \\\"clip\\\": {\\\"value\\\": true}, \\\"font\\\": {\\\"value\\\": \\\"AvenirNext-Medium\\\"}, \\\"fontSize\\\": {\\\"value\\\": 11}, \\\"fontWeight\\\": {\\\"value\\\": \\\"normal\\\"}, \\\"fontStyle\\\": {\\\"value\\\": \\\"normal\\\"}, \\\"fill\\\": {\\\"value\\\": \\\"#4A4A4A\\\"}}, \\\"update\\\": {\\\"x\\\": {\\\"signal\\\": \\\"datum[\\\\\\\"c_x_axis_back\\\\\\\"]+487\\\"}, \\\"y\\\": {\\\"field\\\": \\\"c_fifth_item\\\"}}}, \\\"type\\\": \\\"text\\\"}, {\\\"from\\\": {\\\"data\\\": \\\"data_2\\\"}, \\\"encode\\\": {\\\"enter\\\": {\\\"x\\\": {\\\"value\\\": 700}, \\\"y\\\": {\\\"value\\\": 200}, \\\"text\\\": {\\\"signal\\\": \\\"((datum[\\\\\\\"categorical\\\\\\\"].length >= 1) &amp;&amp; (toString(datum[\\\\\\\"type\\\\\\\"]) == \\\\\\\"str\\\\\\\"))? toString(datum[\\\\\\\"categorical\\\\\\\"][0][\\\\\\\"count\\\\\\\"]):\\\\\\\"\\\\\\\"\\\"}, \\\"align\\\": {\\\"value\\\": \\\"right\\\"}, \\\"baseline\\\": {\\\"value\\\": \\\"middle\\\"}, \\\"dx\\\": {\\\"value\\\": 0, \\\"offset\\\": 0}, \\\"dy\\\": {\\\"value\\\": 0, \\\"offset\\\": 0}, \\\"angle\\\": {\\\"value\\\": 0}, \\\"clip\\\": {\\\"value\\\": true}, \\\"font\\\": {\\\"value\\\": \\\"AvenirNext-Medium\\\"}, \\\"fontSize\\\": {\\\"value\\\": 11}, \\\"fontWeight\\\": {\\\"value\\\": \\\"normal\\\"}, \\\"fontStyle\\\": {\\\"value\\\": \\\"normal\\\"}, \\\"fill\\\": {\\\"value\\\": \\\"#7A7A7A\\\"}}, \\\"update\\\": {\\\"x\\\": {\\\"signal\\\": \\\"datum[\\\\\\\"c_x_axis_back\\\\\\\"]+667\\\"}, \\\"y\\\": {\\\"field\\\": \\\"c_first_item\\\"}}}, \\\"type\\\": \\\"text\\\"}, {\\\"from\\\": {\\\"data\\\": \\\"data_2\\\"}, \\\"encode\\\": {\\\"enter\\\": {\\\"x\\\": {\\\"value\\\": 700}, \\\"y\\\": {\\\"value\\\": 200}, \\\"text\\\": {\\\"signal\\\": \\\"((datum[\\\\\\\"categorical\\\\\\\"].length >= 2) &amp;&amp; (toString(datum[\\\\\\\"type\\\\\\\"]) == \\\\\\\"str\\\\\\\"))? toString(datum[\\\\\\\"categorical\\\\\\\"][1][\\\\\\\"count\\\\\\\"]):\\\\\\\"\\\\\\\"\\\"}, \\\"align\\\": {\\\"value\\\": \\\"right\\\"}, \\\"baseline\\\": {\\\"value\\\": \\\"middle\\\"}, \\\"dx\\\": {\\\"value\\\": 0, \\\"offset\\\": 0}, \\\"dy\\\": {\\\"value\\\": 0, \\\"offset\\\": 0}, \\\"angle\\\": {\\\"value\\\": 0}, \\\"clip\\\": {\\\"value\\\": true}, \\\"font\\\": {\\\"value\\\": \\\"AvenirNext-Medium\\\"}, \\\"fontSize\\\": {\\\"value\\\": 10}, \\\"fontWeight\\\": {\\\"value\\\": \\\"normal\\\"}, \\\"fontStyle\\\": {\\\"value\\\": \\\"normal\\\"}, \\\"fill\\\": {\\\"value\\\": \\\"#7A7A7A\\\"}}, \\\"update\\\": {\\\"x\\\": {\\\"signal\\\": \\\"datum[\\\\\\\"c_x_axis_back\\\\\\\"]+667\\\"}, \\\"y\\\": {\\\"field\\\": \\\"c_second_item\\\"}}}, \\\"type\\\": \\\"text\\\"}, {\\\"from\\\": {\\\"data\\\": \\\"data_2\\\"}, \\\"encode\\\": {\\\"enter\\\": {\\\"x\\\": {\\\"value\\\": 700}, \\\"y\\\": {\\\"value\\\": 200}, \\\"text\\\": {\\\"signal\\\": \\\"((datum[\\\\\\\"categorical\\\\\\\"].length >= 3) &amp;&amp; (toString(datum[\\\\\\\"type\\\\\\\"]) == \\\\\\\"str\\\\\\\"))? toString(datum[\\\\\\\"categorical\\\\\\\"][2][\\\\\\\"count\\\\\\\"]):\\\\\\\"\\\\\\\"\\\"}, \\\"align\\\": {\\\"value\\\": \\\"right\\\"}, \\\"baseline\\\": {\\\"value\\\": \\\"middle\\\"}, \\\"dx\\\": {\\\"value\\\": 0, \\\"offset\\\": 0}, \\\"dy\\\": {\\\"value\\\": 0, \\\"offset\\\": 0}, \\\"angle\\\": {\\\"value\\\": 0}, \\\"clip\\\": {\\\"value\\\": true}, \\\"font\\\": {\\\"value\\\": \\\"AvenirNext-Medium\\\"}, \\\"fontSize\\\": {\\\"value\\\": 10}, \\\"fontWeight\\\": {\\\"value\\\": \\\"normal\\\"}, \\\"fontStyle\\\": {\\\"value\\\": \\\"normal\\\"}, \\\"fill\\\": {\\\"value\\\": \\\"#7A7A7A\\\"}}, \\\"update\\\": {\\\"x\\\": {\\\"signal\\\": \\\"datum[\\\\\\\"c_x_axis_back\\\\\\\"]+667\\\"}, \\\"y\\\": {\\\"field\\\": \\\"c_third_item\\\"}}}, \\\"type\\\": \\\"text\\\"}, {\\\"from\\\": {\\\"data\\\": \\\"data_2\\\"}, \\\"encode\\\": {\\\"enter\\\": {\\\"x\\\": {\\\"value\\\": 700}, \\\"y\\\": {\\\"value\\\": 200}, \\\"text\\\": {\\\"signal\\\": \\\"((datum[\\\\\\\"categorical\\\\\\\"].length >= 4) &amp;&amp; (toString(datum[\\\\\\\"type\\\\\\\"]) == \\\\\\\"str\\\\\\\"))? toString(datum[\\\\\\\"categorical\\\\\\\"][3][\\\\\\\"count\\\\\\\"]):\\\\\\\"\\\\\\\"\\\"}, \\\"align\\\": {\\\"value\\\": \\\"right\\\"}, \\\"baseline\\\": {\\\"value\\\": \\\"middle\\\"}, \\\"dx\\\": {\\\"value\\\": 0, \\\"offset\\\": 0}, \\\"dy\\\": {\\\"value\\\": 0, \\\"offset\\\": 0}, \\\"angle\\\": {\\\"value\\\": 0}, \\\"clip\\\": {\\\"value\\\": true}, \\\"font\\\": {\\\"value\\\": \\\"AvenirNext-Medium\\\"}, \\\"fontSize\\\": {\\\"value\\\": 10}, \\\"fontWeight\\\": {\\\"value\\\": \\\"normal\\\"}, \\\"fontStyle\\\": {\\\"value\\\": \\\"normal\\\"}, \\\"fill\\\": {\\\"value\\\": \\\"#7A7A7A\\\"}}, \\\"update\\\": {\\\"x\\\": {\\\"signal\\\": \\\"datum[\\\\\\\"c_x_axis_back\\\\\\\"]+667\\\"}, \\\"y\\\": {\\\"field\\\": \\\"c_fourth_item\\\"}}}, \\\"type\\\": \\\"text\\\"}, {\\\"from\\\": {\\\"data\\\": \\\"data_2\\\"}, \\\"encode\\\": {\\\"enter\\\": {\\\"x\\\": {\\\"value\\\": 700}, \\\"y\\\": {\\\"value\\\": 200}, \\\"text\\\": {\\\"signal\\\": \\\"((datum[\\\\\\\"categorical\\\\\\\"].length >= 5) &amp;&amp; (toString(datum[\\\\\\\"type\\\\\\\"]) == \\\\\\\"str\\\\\\\"))? toString(datum[\\\\\\\"categorical\\\\\\\"][4][\\\\\\\"count\\\\\\\"]):\\\\\\\"\\\\\\\"\\\"}, \\\"align\\\": {\\\"value\\\": \\\"right\\\"}, \\\"baseline\\\": {\\\"value\\\": \\\"middle\\\"}, \\\"dx\\\": {\\\"value\\\": 0, \\\"offset\\\": 0}, \\\"dy\\\": {\\\"value\\\": 0, \\\"offset\\\": 0}, \\\"angle\\\": {\\\"value\\\": 0}, \\\"clip\\\": {\\\"value\\\": true}, \\\"font\\\": {\\\"value\\\": \\\"AvenirNext-Medium\\\"}, \\\"fontSize\\\": {\\\"value\\\": 10}, \\\"fontWeight\\\": {\\\"value\\\": \\\"normal\\\"}, \\\"fontStyle\\\": {\\\"value\\\": \\\"normal\\\"}, \\\"fill\\\": {\\\"value\\\": \\\"#7A7A7A\\\"}}, \\\"update\\\": {\\\"x\\\": {\\\"signal\\\": \\\"datum[\\\\\\\"c_x_axis_back\\\\\\\"]+667\\\"}, \\\"y\\\": {\\\"field\\\": \\\"c_fifth_item\\\"}}}, \\\"type\\\": \\\"text\\\"}, {\\\"from\\\": {\\\"data\\\": \\\"data_2\\\"}, \\\"encode\\\": {\\\"enter\\\": {\\\"x\\\": {\\\"value\\\": 500}, \\\"y\\\": {\\\"value\\\": 200}, \\\"text\\\": {\\\"signal\\\": \\\"(toString(datum[\\\\\\\"type\\\\\\\"]) == \\\\\\\"integer\\\\\\\" || toString(datum[\\\\\\\"type\\\\\\\"]) == \\\\\\\"float\\\\\\\")? \\\\\\\"Mean:\\\\\\\":\\\\\\\"\\\\\\\"\\\"}, \\\"align\\\": {\\\"value\\\": \\\"left\\\"}, \\\"baseline\\\": {\\\"value\\\": \\\"middle\\\"}, \\\"dx\\\": {\\\"value\\\": 0, \\\"offset\\\": 0}, \\\"dy\\\": {\\\"value\\\": 0, \\\"offset\\\": 0}, \\\"angle\\\": {\\\"value\\\": 0}, \\\"clip\\\": {\\\"value\\\": true}, \\\"font\\\": {\\\"value\\\": \\\"AvenirNext-Medium\\\"}, \\\"fontSize\\\": {\\\"value\\\": 11}, \\\"fontWeight\\\": {\\\"value\\\": \\\"bold\\\"}, \\\"fontStyle\\\": {\\\"value\\\": \\\"normal\\\"}, \\\"fill\\\": {\\\"value\\\": \\\"#4A4A4A\\\"}}, \\\"update\\\": {\\\"x\\\": {\\\"signal\\\": \\\"datum[\\\\\\\"c_x_axis_back\\\\\\\"]+467\\\"}, \\\"y\\\": {\\\"field\\\": \\\"c_mean\\\"}}}, \\\"type\\\": \\\"text\\\"}, {\\\"from\\\": {\\\"data\\\": \\\"data_2\\\"}, \\\"encode\\\": {\\\"enter\\\": {\\\"x\\\": {\\\"value\\\": 500}, \\\"y\\\": {\\\"value\\\": 220}, \\\"text\\\": {\\\"signal\\\": \\\"(toString(datum[\\\\\\\"type\\\\\\\"]) == \\\\\\\"integer\\\\\\\" || toString(datum[\\\\\\\"type\\\\\\\"]) == \\\\\\\"float\\\\\\\")? \\\\\\\"Min:\\\\\\\":\\\\\\\"\\\\\\\"\\\"}, \\\"align\\\": {\\\"value\\\": \\\"left\\\"}, \\\"baseline\\\": {\\\"value\\\": \\\"middle\\\"}, \\\"dx\\\": {\\\"value\\\": 0, \\\"offset\\\": 0}, \\\"dy\\\": {\\\"value\\\": 0, \\\"offset\\\": 0}, \\\"angle\\\": {\\\"value\\\": 0}, \\\"font\\\": {\\\"value\\\": \\\"AvenirNext-Medium\\\"}, \\\"fontSize\\\": {\\\"value\\\": 11}, \\\"fontWeight\\\": {\\\"value\\\": \\\"bold\\\"}, \\\"fontStyle\\\": {\\\"value\\\": \\\"normal\\\"}, \\\"fill\\\": {\\\"value\\\": \\\"#4A4A4A\\\"}}, \\\"update\\\": {\\\"x\\\": {\\\"signal\\\": \\\"datum[\\\\\\\"c_x_axis_back\\\\\\\"]+467\\\"}, \\\"y\\\": {\\\"field\\\": \\\"c_min\\\"}}}, \\\"type\\\": \\\"text\\\"}, {\\\"from\\\": {\\\"data\\\": \\\"data_2\\\"}, \\\"encode\\\": {\\\"enter\\\": {\\\"x\\\": {\\\"value\\\": 500}, \\\"y\\\": {\\\"value\\\": 240}, \\\"text\\\": {\\\"signal\\\": \\\"(toString(datum[\\\\\\\"type\\\\\\\"]) == \\\\\\\"integer\\\\\\\" || toString(datum[\\\\\\\"type\\\\\\\"]) == \\\\\\\"float\\\\\\\")? \\\\\\\"Max:\\\\\\\":\\\\\\\"\\\\\\\"\\\"}, \\\"align\\\": {\\\"value\\\": \\\"left\\\"}, \\\"baseline\\\": {\\\"value\\\": \\\"middle\\\"}, \\\"dx\\\": {\\\"value\\\": 0, \\\"offset\\\": 0}, \\\"dy\\\": {\\\"value\\\": 0, \\\"offset\\\": 0}, \\\"angle\\\": {\\\"value\\\": 0}, \\\"font\\\": {\\\"value\\\": \\\"AvenirNext-Medium\\\"}, \\\"fontSize\\\": {\\\"value\\\": 11}, \\\"fontWeight\\\": {\\\"value\\\": \\\"bold\\\"}, \\\"fontStyle\\\": {\\\"value\\\": \\\"normal\\\"}, \\\"fill\\\": {\\\"value\\\": \\\"#4A4A4A\\\"}}, \\\"update\\\": {\\\"x\\\": {\\\"signal\\\": \\\"datum[\\\\\\\"c_x_axis_back\\\\\\\"]+467\\\"}, \\\"y\\\": {\\\"field\\\": \\\"c_max\\\"}}}, \\\"type\\\": \\\"text\\\"}, {\\\"from\\\": {\\\"data\\\": \\\"data_2\\\"}, \\\"encode\\\": {\\\"enter\\\": {\\\"x\\\": {\\\"value\\\": 500}, \\\"y\\\": {\\\"value\\\": 260}, \\\"text\\\": {\\\"signal\\\": \\\"(toString(datum[\\\\\\\"type\\\\\\\"]) == \\\\\\\"integer\\\\\\\" || toString(datum[\\\\\\\"type\\\\\\\"]) == \\\\\\\"float\\\\\\\")? \\\\\\\"Median:\\\\\\\":\\\\\\\"\\\\\\\"\\\"}, \\\"align\\\": {\\\"value\\\": \\\"left\\\"}, \\\"baseline\\\": {\\\"value\\\": \\\"middle\\\"}, \\\"dx\\\": {\\\"value\\\": 0, \\\"offset\\\": 0}, \\\"dy\\\": {\\\"value\\\": 0, \\\"offset\\\": 0}, \\\"angle\\\": {\\\"value\\\": 0}, \\\"font\\\": {\\\"value\\\": \\\"AvenirNext-Medium\\\"}, \\\"fontSize\\\": {\\\"value\\\": 11}, \\\"fontWeight\\\": {\\\"value\\\": \\\"bold\\\"}, \\\"fontStyle\\\": {\\\"value\\\": \\\"normal\\\"}, \\\"fill\\\": {\\\"value\\\": \\\"#4A4A4A\\\"}}, \\\"update\\\": {\\\"x\\\": {\\\"signal\\\": \\\"datum[\\\\\\\"c_x_axis_back\\\\\\\"]+467\\\"}, \\\"y\\\": {\\\"field\\\": \\\"c_median\\\"}}}, \\\"type\\\": \\\"text\\\"}, {\\\"from\\\": {\\\"data\\\": \\\"data_2\\\"}, \\\"encode\\\": {\\\"enter\\\": {\\\"x\\\": {\\\"value\\\": 500}, \\\"y\\\": {\\\"value\\\": 280}, \\\"text\\\": {\\\"signal\\\": \\\"(toString(datum[\\\\\\\"type\\\\\\\"]) == \\\\\\\"integer\\\\\\\" || toString(datum[\\\\\\\"type\\\\\\\"]) == \\\\\\\"float\\\\\\\")? \\\\\\\"St. Dev:\\\\\\\":\\\\\\\"\\\\\\\"\\\"}, \\\"align\\\": {\\\"value\\\": \\\"left\\\"}, \\\"baseline\\\": {\\\"value\\\": \\\"middle\\\"}, \\\"dx\\\": {\\\"value\\\": 0, \\\"offset\\\": 0}, \\\"dy\\\": {\\\"value\\\": 0, \\\"offset\\\": 0}, \\\"angle\\\": {\\\"value\\\": 0}, \\\"font\\\": {\\\"value\\\": \\\"AvenirNext-Medium\\\"}, \\\"fontSize\\\": {\\\"value\\\": 11}, \\\"fontWeight\\\": {\\\"value\\\": \\\"bold\\\"}, \\\"fontStyle\\\": {\\\"value\\\": \\\"normal\\\"}, \\\"fill\\\": {\\\"value\\\": \\\"#4A4A4A\\\"}}, \\\"update\\\": {\\\"x\\\": {\\\"signal\\\": \\\"datum[\\\\\\\"c_x_axis_back\\\\\\\"]+467\\\"}, \\\"y\\\": {\\\"field\\\": \\\"c_stdev\\\"}}}, \\\"type\\\": \\\"text\\\"}, {\\\"from\\\": {\\\"data\\\": \\\"data_2\\\"}, \\\"encode\\\": {\\\"enter\\\": {\\\"x\\\": {\\\"value\\\": 700}, \\\"y\\\": {\\\"value\\\": 198}, \\\"text\\\": {\\\"signal\\\": \\\"(toString(datum[\\\\\\\"type\\\\\\\"]) == \\\\\\\"integer\\\\\\\" || toString(datum[\\\\\\\"type\\\\\\\"]) == \\\\\\\"float\\\\\\\")?toString(format(datum[\\\\\\\"mean\\\\\\\"], \\\\\\\",\\\\\\\")):\\\\\\\"\\\\\\\"\\\"}, \\\"align\\\": {\\\"value\\\": \\\"right\\\"}, \\\"baseline\\\": {\\\"value\\\": \\\"middle\\\"}, \\\"dx\\\": {\\\"value\\\": 0, \\\"offset\\\": 0}, \\\"dy\\\": {\\\"value\\\": 0, \\\"offset\\\": 0}, \\\"angle\\\": {\\\"value\\\": 0}, \\\"font\\\": {\\\"value\\\": \\\"AvenirNext-Medium\\\"}, \\\"fontSize\\\": {\\\"value\\\": 10}, \\\"fontWeight\\\": {\\\"value\\\": \\\"normal\\\"}, \\\"fontStyle\\\": {\\\"value\\\": \\\"normal\\\"}, \\\"fill\\\": {\\\"value\\\": \\\"#6A6A6A\\\"}}, \\\"update\\\": {\\\"x\\\": {\\\"signal\\\": \\\"datum[\\\\\\\"c_x_axis_back\\\\\\\"]+667\\\"}, \\\"y\\\": {\\\"field\\\": \\\"c_mean_val\\\"}}}, \\\"type\\\": \\\"text\\\"}, {\\\"from\\\": {\\\"data\\\": \\\"data_2\\\"}, \\\"encode\\\": {\\\"enter\\\": {\\\"x\\\": {\\\"value\\\": 700}, \\\"y\\\": {\\\"value\\\": 218}, \\\"text\\\": {\\\"signal\\\": \\\"(toString(datum[\\\\\\\"type\\\\\\\"]) == \\\\\\\"integer\\\\\\\" || toString(datum[\\\\\\\"type\\\\\\\"]) == \\\\\\\"float\\\\\\\")?toString(format(datum[\\\\\\\"min\\\\\\\"], \\\\\\\",\\\\\\\")):\\\\\\\"\\\\\\\"\\\"}, \\\"align\\\": {\\\"value\\\": \\\"right\\\"}, \\\"baseline\\\": {\\\"value\\\": \\\"middle\\\"}, \\\"dx\\\": {\\\"value\\\": 0, \\\"offset\\\": 0}, \\\"dy\\\": {\\\"value\\\": 0, \\\"offset\\\": 0}, \\\"angle\\\": {\\\"value\\\": 0}, \\\"font\\\": {\\\"value\\\": \\\"AvenirNext-Medium\\\"}, \\\"fontSize\\\": {\\\"value\\\": 10}, \\\"fontWeight\\\": {\\\"value\\\": \\\"normal\\\"}, \\\"fontStyle\\\": {\\\"value\\\": \\\"normal\\\"}, \\\"fill\\\": {\\\"value\\\": \\\"#6A6A6A\\\"}}, \\\"update\\\": {\\\"x\\\": {\\\"signal\\\": \\\"datum[\\\\\\\"c_x_axis_back\\\\\\\"]+667\\\"}, \\\"y\\\": {\\\"field\\\": \\\"c_min_val\\\"}}}, \\\"type\\\": \\\"text\\\"}, {\\\"from\\\": {\\\"data\\\": \\\"data_2\\\"}, \\\"encode\\\": {\\\"enter\\\": {\\\"x\\\": {\\\"value\\\": 700}, \\\"y\\\": {\\\"value\\\": 238}, \\\"text\\\": {\\\"signal\\\": \\\"(toString(datum[\\\\\\\"type\\\\\\\"]) == \\\\\\\"integer\\\\\\\" || toString(datum[\\\\\\\"type\\\\\\\"]) == \\\\\\\"float\\\\\\\")?toString(format(datum[\\\\\\\"max\\\\\\\"], \\\\\\\",\\\\\\\")):\\\\\\\"\\\\\\\"\\\"}, \\\"align\\\": {\\\"value\\\": \\\"right\\\"}, \\\"baseline\\\": {\\\"value\\\": \\\"middle\\\"}, \\\"dx\\\": {\\\"value\\\": 0, \\\"offset\\\": 0}, \\\"dy\\\": {\\\"value\\\": 0, \\\"offset\\\": 0}, \\\"angle\\\": {\\\"value\\\": 0}, \\\"font\\\": {\\\"value\\\": \\\"AvenirNext-Medium\\\"}, \\\"fontSize\\\": {\\\"value\\\": 10}, \\\"fontWeight\\\": {\\\"value\\\": \\\"normal\\\"}, \\\"fontStyle\\\": {\\\"value\\\": \\\"normal\\\"}, \\\"fill\\\": {\\\"value\\\": \\\"#6A6A6A\\\"}}, \\\"update\\\": {\\\"x\\\": {\\\"signal\\\": \\\"datum[\\\\\\\"c_x_axis_back\\\\\\\"]+667\\\"}, \\\"y\\\": {\\\"field\\\": \\\"c_max_val\\\"}}}, \\\"type\\\": \\\"text\\\"}, {\\\"from\\\": {\\\"data\\\": \\\"data_2\\\"}, \\\"encode\\\": {\\\"enter\\\": {\\\"x\\\": {\\\"value\\\": 700}, \\\"y\\\": {\\\"value\\\": 258}, \\\"text\\\": {\\\"signal\\\": \\\"(toString(datum[\\\\\\\"type\\\\\\\"]) == \\\\\\\"integer\\\\\\\" || toString(datum[\\\\\\\"type\\\\\\\"]) == \\\\\\\"float\\\\\\\")?toString(format(datum[\\\\\\\"median\\\\\\\"], \\\\\\\",\\\\\\\")):\\\\\\\"\\\\\\\"\\\"}, \\\"align\\\": {\\\"value\\\": \\\"right\\\"}, \\\"baseline\\\": {\\\"value\\\": \\\"middle\\\"}, \\\"dx\\\": {\\\"value\\\": 0, \\\"offset\\\": 0}, \\\"dy\\\": {\\\"value\\\": 0, \\\"offset\\\": 0}, \\\"angle\\\": {\\\"value\\\": 0}, \\\"font\\\": {\\\"value\\\": \\\"AvenirNext-Medium\\\"}, \\\"fontSize\\\": {\\\"value\\\": 10}, \\\"fontWeight\\\": {\\\"value\\\": \\\"normal\\\"}, \\\"fontStyle\\\": {\\\"value\\\": \\\"normal\\\"}, \\\"fill\\\": {\\\"value\\\": \\\"#6A6A6A\\\"}}, \\\"update\\\": {\\\"x\\\": {\\\"signal\\\": \\\"datum[\\\\\\\"c_x_axis_back\\\\\\\"]+667\\\"}, \\\"y\\\": {\\\"field\\\": \\\"c_median_val\\\"}}}, \\\"type\\\": \\\"text\\\"}, {\\\"from\\\": {\\\"data\\\": \\\"data_2\\\"}, \\\"encode\\\": {\\\"enter\\\": {\\\"x\\\": {\\\"value\\\": 700}, \\\"y\\\": {\\\"value\\\": 278}, \\\"text\\\": {\\\"signal\\\": \\\"(toString(datum[\\\\\\\"type\\\\\\\"]) == \\\\\\\"integer\\\\\\\" || toString(datum[\\\\\\\"type\\\\\\\"]) == \\\\\\\"float\\\\\\\")?toString(format(datum[\\\\\\\"stdev\\\\\\\"], \\\\\\\",\\\\\\\")):\\\\\\\"\\\\\\\"\\\"}, \\\"align\\\": {\\\"value\\\": \\\"right\\\"}, \\\"baseline\\\": {\\\"value\\\": \\\"middle\\\"}, \\\"dx\\\": {\\\"value\\\": 0, \\\"offset\\\": 0}, \\\"dy\\\": {\\\"value\\\": 0, \\\"offset\\\": 0}, \\\"angle\\\": {\\\"value\\\": 0}, \\\"font\\\": {\\\"value\\\": \\\"AvenirNext-Medium\\\"}, \\\"fontSize\\\": {\\\"value\\\": 10}, \\\"fontWeight\\\": {\\\"value\\\": \\\"normal\\\"}, \\\"fontStyle\\\": {\\\"value\\\": \\\"normal\\\"}, \\\"fill\\\": {\\\"value\\\": \\\"#6A6A6A\\\"}}, \\\"update\\\": {\\\"x\\\": {\\\"signal\\\": \\\"datum[\\\\\\\"c_x_axis_back\\\\\\\"]+667\\\"}, \\\"y\\\": {\\\"field\\\": \\\"c_stdev_val\\\"}}}, \\\"type\\\": \\\"text\\\"}, {\\\"from\\\": {\\\"facet\\\": {\\\"name\\\": \\\"new_data\\\", \\\"data\\\": \\\"data_2\\\", \\\"field\\\": \\\"numeric\\\"}}, \\\"encode\\\": {\\\"enter\\\": {\\\"x\\\": {\\\"value\\\": 120}, \\\"width\\\": {\\\"value\\\": 250}, \\\"y\\\": {\\\"field\\\": \\\"graph_offset\\\"}, \\\"height\\\": {\\\"value\\\": 150}, \\\"fill\\\": {\\\"value\\\": \\\"#ffffff\\\"}, \\\"fillOpacity\\\": {\\\"value\\\": 0}, \\\"stroke\\\": {\\\"value\\\": \\\"#000000\\\"}, \\\"strokeWidth\\\": {\\\"value\\\": 0}}, \\\"update\\\": {\\\"x\\\": {\\\"signal\\\": \\\"datum[\\\\\\\"c_x_axis_back\\\\\\\"]+87\\\"}, \\\"clip\\\": {\\\"field\\\": \\\"c_clip_val\\\"}, \\\"width\\\": {\\\"field\\\": \\\"c_width_numeric_val\\\"}}}, \\\"type\\\": \\\"group\\\", \\\"scales\\\": [{\\\"name\\\": \\\"x\\\", \\\"type\\\": \\\"linear\\\", \\\"domain\\\": {\\\"data\\\": \\\"new_data\\\", \\\"fields\\\": [\\\"left\\\", \\\"right\\\"], \\\"sort\\\": true}, \\\"range\\\": [0, {\\\"signal\\\": \\\"width\\\"}], \\\"nice\\\": true, \\\"zero\\\": true}, {\\\"name\\\": \\\"y\\\", \\\"type\\\": \\\"linear\\\", \\\"domain\\\": {\\\"data\\\": \\\"new_data\\\", \\\"field\\\": \\\"count\\\"}, \\\"range\\\": [{\\\"signal\\\": \\\"height\\\"}, 0], \\\"nice\\\": true, \\\"zero\\\": true}], \\\"axes\\\": [{\\\"title\\\": \\\"Values\\\", \\\"scale\\\": \\\"x\\\", \\\"labelOverlap\\\": true, \\\"orient\\\": \\\"bottom\\\", \\\"tickCount\\\": {\\\"signal\\\": \\\"ceil(width/40)\\\"}, \\\"zindex\\\": 1}, {\\\"scale\\\": \\\"x\\\", \\\"domain\\\": false, \\\"grid\\\": true, \\\"labels\\\": false, \\\"maxExtent\\\": 0, \\\"minExtent\\\": 0, \\\"orient\\\": \\\"bottom\\\", \\\"tickCount\\\": {\\\"signal\\\": \\\"ceil(width/40)\\\"}, \\\"ticks\\\": false, \\\"zindex\\\": 0, \\\"gridScale\\\": \\\"y\\\"}, {\\\"title\\\": \\\"Count\\\", \\\"scale\\\": \\\"y\\\", \\\"labelOverlap\\\": true, \\\"orient\\\": \\\"left\\\", \\\"tickCount\\\": {\\\"signal\\\": \\\"ceil(height/40)\\\"}, \\\"zindex\\\": 1}, {\\\"scale\\\": \\\"y\\\", \\\"domain\\\": false, \\\"grid\\\": true, \\\"labels\\\": false, \\\"maxExtent\\\": 0, \\\"minExtent\\\": 0, \\\"orient\\\": \\\"left\\\", \\\"tickCount\\\": {\\\"signal\\\": \\\"ceil(height/40)\\\"}, \\\"ticks\\\": false, \\\"zindex\\\": 0, \\\"gridScale\\\": \\\"x\\\"}], \\\"style\\\": \\\"cell\\\", \\\"signals\\\": [{\\\"name\\\": \\\"width\\\", \\\"update\\\": \\\"250\\\"}, {\\\"name\\\": \\\"height\\\", \\\"update\\\": \\\"150\\\"}], \\\"marks\\\": [{\\\"name\\\": \\\"marks\\\", \\\"type\\\": \\\"rect\\\", \\\"style\\\": [\\\"rect\\\"], \\\"from\\\": {\\\"data\\\": \\\"new_data\\\"}, \\\"encode\\\": {\\\"hover\\\": {\\\"fill\\\": {\\\"value\\\": \\\"#7EC2F3\\\"}}, \\\"update\\\": {\\\"x\\\": {\\\"scale\\\": \\\"x\\\", \\\"field\\\": \\\"left\\\"}, \\\"x2\\\": {\\\"scale\\\": \\\"x\\\", \\\"field\\\": \\\"right\\\"}, \\\"y\\\": {\\\"scale\\\": \\\"y\\\", \\\"field\\\": \\\"count\\\"}, \\\"y2\\\": {\\\"scale\\\": \\\"y\\\", \\\"value\\\": 0}, \\\"fill\\\": {\\\"value\\\": \\\"#108EE9\\\"}}}}]}, {\\\"from\\\": {\\\"facet\\\": {\\\"name\\\": \\\"data_5\\\", \\\"data\\\": \\\"data_2\\\", \\\"field\\\": \\\"categorical\\\"}}, \\\"encode\\\": {\\\"enter\\\": {\\\"x\\\": {\\\"value\\\": 170}, \\\"width\\\": {\\\"value\\\": 250}, \\\"y\\\": {\\\"field\\\": \\\"graph_offset_categorical\\\"}, \\\"height\\\": {\\\"value\\\": 150}, \\\"fill\\\": {\\\"value\\\": \\\"#ffffff\\\"}, \\\"fillOpacity\\\": {\\\"value\\\": 0}, \\\"stroke\\\": {\\\"value\\\": \\\"#000000\\\"}, \\\"strokeWidth\\\": {\\\"value\\\": 0}}, \\\"update\\\": {\\\"x\\\": {\\\"signal\\\": \\\"datum[\\\\\\\"c_x_axis_back\\\\\\\"]+137\\\"}, \\\"clip\\\": {\\\"field\\\": \\\"c_clip_val_cat\\\"}, \\\"width\\\": {\\\"field\\\": \\\"c_width_numeric_val_cat\\\"}}}, \\\"type\\\": \\\"group\\\", \\\"style\\\": \\\"cell\\\", \\\"signals\\\": [{\\\"name\\\": \\\"unit\\\", \\\"value\\\": {}, \\\"on\\\": [{\\\"events\\\": \\\"mousemove\\\", \\\"update\\\": \\\"isTuple(group()) ? group() : unit\\\"}]}, {\\\"name\\\": \\\"pts\\\", \\\"update\\\": \\\"data(\\\\\\\"pts_store\\\\\\\").length &amp;&amp; {count: data(\\\\\\\"pts_store\\\\\\\")[0].values[0]}\\\"}, {\\\"name\\\": \\\"pts_tuple\\\", \\\"value\\\": {}, \\\"on\\\": [{\\\"events\\\": [{\\\"source\\\": \\\"scope\\\", \\\"type\\\": \\\"click\\\"}], \\\"update\\\": \\\"datum &amp;&amp; item().mark.marktype !== &apos;group&apos; ? {unit: \\\\\\\"\\\\\\\", encodings: [\\\\\\\"x\\\\\\\"], fields: [\\\\\\\"count\\\\\\\"], values: [datum[\\\\\\\"count\\\\\\\"]]} : null\\\", \\\"force\\\": true}]}, {\\\"name\\\": \\\"pts_modify\\\", \\\"on\\\": [{\\\"events\\\": {\\\"signal\\\": \\\"pts_tuple\\\"}, \\\"update\\\": \\\"modify(\\\\\\\"pts_store\\\\\\\", pts_tuple, true)\\\"}]}], \\\"marks\\\": [{\\\"name\\\": \\\"marks\\\", \\\"type\\\": \\\"rect\\\", \\\"style\\\": [\\\"bar\\\"], \\\"from\\\": {\\\"data\\\": \\\"data_5\\\"}, \\\"encode\\\": {\\\"hover\\\": {\\\"fill\\\": {\\\"value\\\": \\\"#7EC2F3\\\"}}, \\\"update\\\": {\\\"x\\\": {\\\"scale\\\": \\\"x\\\", \\\"field\\\": \\\"count\\\"}, \\\"x2\\\": {\\\"scale\\\": \\\"x\\\", \\\"value\\\": 0}, \\\"y\\\": {\\\"scale\\\": \\\"y\\\", \\\"field\\\": \\\"label\\\"}, \\\"height\\\": {\\\"scale\\\": \\\"y\\\", \\\"band\\\": true}, \\\"fill\\\": {\\\"value\\\": \\\"#108EE9\\\"}}}}], \\\"scales\\\": [{\\\"name\\\": \\\"x\\\", \\\"type\\\": \\\"linear\\\", \\\"domain\\\": {\\\"data\\\": \\\"data_5\\\", \\\"field\\\": \\\"count\\\"}, \\\"range\\\": [0, 250], \\\"nice\\\": true, \\\"zero\\\": true}, {\\\"name\\\": \\\"y\\\", \\\"type\\\": \\\"band\\\", \\\"domain\\\": {\\\"data\\\": \\\"data_5\\\", \\\"field\\\": \\\"label\\\", \\\"sort\\\": {\\\"op\\\": \\\"mean\\\", \\\"field\\\": \\\"label_idx\\\", \\\"order\\\": \\\"descending\\\"}}, \\\"range\\\": [150, 0], \\\"paddingInner\\\": 0.1, \\\"paddingOuter\\\": 0.05}], \\\"axes\\\": [{\\\"orient\\\": \\\"top\\\", \\\"scale\\\": \\\"x\\\", \\\"labelOverlap\\\": true, \\\"tickCount\\\": {\\\"signal\\\": \\\"ceil(width/40)\\\"}, \\\"title\\\": \\\"Count\\\", \\\"zindex\\\": 1}, {\\\"orient\\\": \\\"top\\\", \\\"scale\\\": \\\"x\\\", \\\"domain\\\": false, \\\"grid\\\": true, \\\"labels\\\": false, \\\"maxExtent\\\": 0, \\\"minExtent\\\": 0, \\\"tickCount\\\": {\\\"signal\\\": \\\"ceil(width/40)\\\"}, \\\"ticks\\\": false, \\\"zindex\\\": 0, \\\"gridScale\\\": \\\"y\\\"}, {\\\"scale\\\": \\\"y\\\", \\\"labelOverlap\\\": true, \\\"orient\\\": \\\"left\\\", \\\"title\\\": \\\"Label\\\", \\\"zindex\\\": 1}]}], \\\"type\\\": \\\"group\\\"}], \\\"type\\\": \\\"group\\\"}], \\\"config\\\": {\\\"axis\\\": {\\\"labelFont\\\": \\\"HelveticaNeue-Light, Arial\\\", \\\"labelFontSize\\\": 7, \\\"labelPadding\\\": 10, \\\"labelColor\\\": \\\"#595959\\\", \\\"titleFont\\\": \\\"HelveticaNeue-Light, Arial\\\", \\\"titleFontWeight\\\": \\\"normal\\\", \\\"titlePadding\\\": 9, \\\"titleFontSize\\\": 12, \\\"titleColor\\\": \\\"#595959\\\"}, \\\"axisY\\\": {\\\"minExtent\\\": 30}, \\\"style\\\": {\\\"rect\\\": {\\\"stroke\\\": \\\"rgba(200, 200, 200, 0.5)\\\"}, \\\"group-title\\\": {\\\"fontSize\\\": 20, \\\"font\\\": \\\"HelveticaNeue-Light, Arial\\\", \\\"fontWeight\\\": \\\"normal\\\", \\\"fill\\\": \\\"#595959\\\"}}}}\";                                 var vega_json_parsed = JSON.parse(vega_json);                                 var toolTipOpts = {                                     showAllFields: true                                 };                                 if(vega_json_parsed[\"metadata\"] != null){                                     if(vega_json_parsed[\"metadata\"][\"bubbleOpts\"] != null){                                         toolTipOpts = vega_json_parsed[\"metadata\"][\"bubbleOpts\"];                                     };                                 };                                 vegaEmbed(\"#vis\", vega_json_parsed).then(function (result) {                                     vegaTooltip.vega(result.view, toolTipOpts);                                  });                             </script>                         </body>                     </html>' src=\"demo_iframe_srcdoc.htm\">                         <p>Your browser does not support iframes.</p>                     </iframe>                 </body>             </html>"
            ],
            "text/plain": [
              "<IPython.core.display.HTML object>"
            ]
          },
          "metadata": {}
        }
      ]
    },
    {
      "cell_type": "code",
      "metadata": {
        "colab": {
          "base_uri": "https://localhost:8080/",
          "height": 408
        },
        "id": "v2JIfszZVzbY",
        "outputId": "9e8d2e36-694e-4b24-c84f-f8ccd5d7fc18"
      },
      "source": [
        "item_similarity_model = tc.item_similarity_recommender.create(train_data, user_id='User_ID', item_id='Activity_ID', target='Usefulness_Score', similarity_type='cosine')"
      ],
      "execution_count": null,
      "outputs": [
        {
          "output_type": "display_data",
          "data": {
            "text/html": [
              "<pre>Warning: Ignoring columns No_of_attempts, Time_taken, Translanguage_Level;</pre>"
            ],
            "text/plain": [
              "Warning: Ignoring columns No_of_attempts, Time_taken, Translanguage_Level;"
            ]
          },
          "metadata": {}
        },
        {
          "output_type": "display_data",
          "data": {
            "text/html": [
              "<pre>    To use these columns in scoring predictions, use a model that allows the use of additional features.</pre>"
            ],
            "text/plain": [
              "    To use these columns in scoring predictions, use a model that allows the use of additional features."
            ]
          },
          "metadata": {}
        },
        {
          "output_type": "display_data",
          "data": {
            "text/html": [
              "<pre>Preparing data set.</pre>"
            ],
            "text/plain": [
              "Preparing data set."
            ]
          },
          "metadata": {}
        },
        {
          "output_type": "display_data",
          "data": {
            "text/html": [
              "<pre>    Data has 2300 observations with 230 users and 60 items.</pre>"
            ],
            "text/plain": [
              "    Data has 2300 observations with 230 users and 60 items."
            ]
          },
          "metadata": {}
        },
        {
          "output_type": "display_data",
          "data": {
            "text/html": [
              "<pre>    Data prepared in: 0.010618s</pre>"
            ],
            "text/plain": [
              "    Data prepared in: 0.010618s"
            ]
          },
          "metadata": {}
        },
        {
          "output_type": "display_data",
          "data": {
            "text/html": [
              "<pre>Training model from provided data.</pre>"
            ],
            "text/plain": [
              "Training model from provided data."
            ]
          },
          "metadata": {}
        },
        {
          "output_type": "display_data",
          "data": {
            "text/html": [
              "<pre>Gathering per-item and per-user statistics.</pre>"
            ],
            "text/plain": [
              "Gathering per-item and per-user statistics."
            ]
          },
          "metadata": {}
        },
        {
          "output_type": "display_data",
          "data": {
            "text/html": [
              "<pre>+--------------------------------+------------+</pre>"
            ],
            "text/plain": [
              "+--------------------------------+------------+"
            ]
          },
          "metadata": {}
        },
        {
          "output_type": "display_data",
          "data": {
            "text/html": [
              "<pre>| Elapsed Time (Item Statistics) | % Complete |</pre>"
            ],
            "text/plain": [
              "| Elapsed Time (Item Statistics) | % Complete |"
            ]
          },
          "metadata": {}
        },
        {
          "output_type": "display_data",
          "data": {
            "text/html": [
              "<pre>+--------------------------------+------------+</pre>"
            ],
            "text/plain": [
              "+--------------------------------+------------+"
            ]
          },
          "metadata": {}
        },
        {
          "output_type": "display_data",
          "data": {
            "text/html": [
              "<pre>| 545us                          | 100        |</pre>"
            ],
            "text/plain": [
              "| 545us                          | 100        |"
            ]
          },
          "metadata": {}
        },
        {
          "output_type": "display_data",
          "data": {
            "text/html": [
              "<pre>+--------------------------------+------------+</pre>"
            ],
            "text/plain": [
              "+--------------------------------+------------+"
            ]
          },
          "metadata": {}
        },
        {
          "output_type": "display_data",
          "data": {
            "text/html": [
              "<pre>Setting up lookup tables.</pre>"
            ],
            "text/plain": [
              "Setting up lookup tables."
            ]
          },
          "metadata": {}
        },
        {
          "output_type": "display_data",
          "data": {
            "text/html": [
              "<pre>Processing data in one pass using dense lookup tables.</pre>"
            ],
            "text/plain": [
              "Processing data in one pass using dense lookup tables."
            ]
          },
          "metadata": {}
        },
        {
          "output_type": "display_data",
          "data": {
            "text/html": [
              "<pre>+-------------------------------------+------------------+-----------------+</pre>"
            ],
            "text/plain": [
              "+-------------------------------------+------------------+-----------------+"
            ]
          },
          "metadata": {}
        },
        {
          "output_type": "display_data",
          "data": {
            "text/html": [
              "<pre>| Elapsed Time (Constructing Lookups) | Total % Complete | Items Processed |</pre>"
            ],
            "text/plain": [
              "| Elapsed Time (Constructing Lookups) | Total % Complete | Items Processed |"
            ]
          },
          "metadata": {}
        },
        {
          "output_type": "display_data",
          "data": {
            "text/html": [
              "<pre>+-------------------------------------+------------------+-----------------+</pre>"
            ],
            "text/plain": [
              "+-------------------------------------+------------------+-----------------+"
            ]
          },
          "metadata": {}
        },
        {
          "output_type": "display_data",
          "data": {
            "text/html": [
              "<pre>| 1.028ms                             | 0.5              | 0               |</pre>"
            ],
            "text/plain": [
              "| 1.028ms                             | 0.5              | 0               |"
            ]
          },
          "metadata": {}
        },
        {
          "output_type": "display_data",
          "data": {
            "text/html": [
              "<pre>| 1.963ms                             | 100              | 60              |</pre>"
            ],
            "text/plain": [
              "| 1.963ms                             | 100              | 60              |"
            ]
          },
          "metadata": {}
        },
        {
          "output_type": "display_data",
          "data": {
            "text/html": [
              "<pre>+-------------------------------------+------------------+-----------------+</pre>"
            ],
            "text/plain": [
              "+-------------------------------------+------------------+-----------------+"
            ]
          },
          "metadata": {}
        },
        {
          "output_type": "display_data",
          "data": {
            "text/html": [
              "<pre>Finalizing lookup tables.</pre>"
            ],
            "text/plain": [
              "Finalizing lookup tables."
            ]
          },
          "metadata": {}
        },
        {
          "output_type": "display_data",
          "data": {
            "text/html": [
              "<pre>Generating candidate set for working with new users.</pre>"
            ],
            "text/plain": [
              "Generating candidate set for working with new users."
            ]
          },
          "metadata": {}
        },
        {
          "output_type": "display_data",
          "data": {
            "text/html": [
              "<pre>Finished training in 1.00324s</pre>"
            ],
            "text/plain": [
              "Finished training in 1.00324s"
            ]
          },
          "metadata": {}
        }
      ]
    },
    {
      "cell_type": "code",
      "metadata": {
        "colab": {
          "base_uri": "https://localhost:8080/"
        },
        "id": "Qw-mOnxVWUyi",
        "outputId": "2817993a-517a-41d7-aeee-500bc6b91a1b"
      },
      "source": [
        "# making top 10 recommendations for the first three users\n",
        "item_similarity_recomm = item_similarity_model.recommend(users=[0,1,2], k=10)\n",
        "item_similarity_recomm.print_rows(num_rows=30)"
      ],
      "execution_count": null,
      "outputs": [
        {
          "output_type": "stream",
          "name": "stdout",
          "text": [
            "+---------+-----------------------------+----------------------+------+\n",
            "| User_ID |         Activity_ID         |        score         | rank |\n",
            "+---------+-----------------------------+----------------------+------+\n",
            "|    0    |       lab-wendy-book-1      | 0.04231299757957459  |  1   |\n",
            "|    0    |      foodsl-roulette-1      | 0.037198036909103394 |  2   |\n",
            "|    0    |      who-wendy-colors-1     | 0.03474452495574951  |  3   |\n",
            "|    0    |     shopping-roulette-1     | 0.015957093238830565 |  4   |\n",
            "|    0    |   shapes-poiki-sequence-1   | 0.015618085861206055 |  5   |\n",
            "|    0    |       lab-kevin-game-1      | 0.01466914415359497  |  6   |\n",
            "|    0    |     country-none-book-1     | 0.012998545169830322 |  7   |\n",
            "|    0    |  cooking-kevin-simulation-2 |  0.0120744526386261  |  8   |\n",
            "|    0    |    farm-poiki-videoclip-1   | 0.011144858598709107 |  9   |\n",
            "|    0    |     yho-yasmin-tracing-1    | 0.01029166579246521  |  10  |\n",
            "|    1    |     farm-kevin-hotspot-1    | 0.08574618101119995  |  1   |\n",
            "|    1    | farm-poiki-identification-1 | 0.08266052603721619  |  2   |\n",
            "|    1    |      home-kevin-book-1      |  0.0818121612071991  |  3   |\n",
            "|    1    |   greetings-yasmin-video-1  | 0.07558009624481202  |  4   |\n",
            "|    1    |  country-wendy-videoclip-1  | 0.05788023471832275  |  5   |\n",
            "|    1    |     who-wendy-routine-2     | 0.052695900201797485 |  6   |\n",
            "|    1    |    jungle-yasmin-puzzle-1   | 0.05123717188835144  |  7   |\n",
            "|    1    |      lab-wendy-puzzle-1     | 0.048386919498443606 |  8   |\n",
            "|    1    |       who-wendy-book-2      | 0.04780672192573547  |  9   |\n",
            "|    1    |    world-yasmin-hotspot-1   | 0.04593929648399353  |  10  |\n",
            "|    2    |     country-none-book-1     | 0.033672068800245016 |  1   |\n",
            "|    2    |     yho-yasmin-tracing-1    | 0.03343991722379412  |  2   |\n",
            "|    2    |  cooking-kevin-simulation-2 | 0.03233648197991507  |  3   |\n",
            "|    2    |       who-wendy-book-1      | 0.027769693306514194 |  4   |\n",
            "|    2    |   alphabet-poiki-tracing-1  | 0.027074779782976423 |  5   |\n",
            "|    2    |      insects-roulette-1     | 0.02646392583847046  |  6   |\n",
            "|    2    |      farm-poiki-book-1      | 0.025861927441188266 |  7   |\n",
            "|    2    |   farm-wendy-simulation-2   | 0.02466350793838501  |  8   |\n",
            "|    2    |     country-none-book-4     | 0.024024026734488352 |  9   |\n",
            "|    2    |     who-all-videoclip-1     | 0.023548134735652378 |  10  |\n",
            "+---------+-----------------------------+----------------------+------+\n",
            "[30 rows x 4 columns]\n",
            "\n"
          ]
        }
      ]
    },
    {
      "cell_type": "code",
      "metadata": {
        "colab": {
          "base_uri": "https://localhost:8080/"
        },
        "id": "8ILN1Y50W56K",
        "outputId": "a3b25d98-1339-4853-8401-656ef95908c6"
      },
      "source": [
        "item_similarity_model_performance = item_similarity_model.evaluate(test_data)"
      ],
      "execution_count": null,
      "outputs": [
        {
          "output_type": "stream",
          "name": "stdout",
          "text": [
            "\n",
            "Precision and recall summary statistics by cutoff\n",
            "+--------+---------------------+---------------------+\n",
            "| cutoff |    mean_precision   |     mean_recall     |\n",
            "+--------+---------------------+---------------------+\n",
            "|   1    |         1.0         |         0.1         |\n",
            "|   2    |        0.725        | 0.14500000000000002 |\n",
            "|   3    |  0.6333333333333333 |         0.19        |\n",
            "|   4    |        0.6125       | 0.24499999999999997 |\n",
            "|   5    |         0.56        |         0.28        |\n",
            "|   6    |  0.5083333333333334 | 0.30500000000000005 |\n",
            "|   7    | 0.49285714285714277 | 0.34500000000000003 |\n",
            "|   8    |       0.45625       | 0.36500000000000005 |\n",
            "|   9    |  0.4333333333333333 | 0.38999999999999996 |\n",
            "|   10   |         0.41        |         0.41        |\n",
            "+--------+---------------------+---------------------+\n",
            "[10 rows x 3 columns]\n",
            "\n",
            "\n",
            "Overall RMSE: 0.29589783031766953\n",
            "\n",
            "Per User RMSE (best)\n",
            "+---------+---------------------+-------+\n",
            "| User_ID |         rmse        | count |\n",
            "+---------+---------------------+-------+\n",
            "|   234   | 0.13926733083468995 |   10  |\n",
            "+---------+---------------------+-------+\n",
            "[1 rows x 3 columns]\n",
            "\n",
            "\n",
            "Per User RMSE (worst)\n",
            "+---------+--------------------+-------+\n",
            "| User_ID |        rmse        | count |\n",
            "+---------+--------------------+-------+\n",
            "|   246   | 0.4706381575403939 |   10  |\n",
            "+---------+--------------------+-------+\n",
            "[1 rows x 3 columns]\n",
            "\n",
            "\n",
            "Per Item RMSE (best)\n",
            "+----------------------+---------------------+-------+\n",
            "|     Activity_ID      |         rmse        | count |\n",
            "+----------------------+---------------------+-------+\n",
            "| farm-kevin-hotspot-1 | 0.09836493296420616 |   2   |\n",
            "+----------------------+---------------------+-------+\n",
            "[1 rows x 3 columns]\n",
            "\n",
            "\n",
            "Per Item RMSE (worst)\n",
            "+----------------+--------------------+-------+\n",
            "|  Activity_ID   |        rmse        | count |\n",
            "+----------------+--------------------+-------+\n",
            "| foods-memory-1 | 0.7635337490581771 |   1   |\n",
            "+----------------+--------------------+-------+\n",
            "[1 rows x 3 columns]\n",
            "\n"
          ]
        }
      ]
    },
    {
      "cell_type": "code",
      "metadata": {
        "colab": {
          "base_uri": "https://localhost:8080/"
        },
        "id": "nZ05POdCXRX5",
        "outputId": "1f2d1c15-7e1d-4e19-b209-db674c224272"
      },
      "source": [
        "item_similarity_model_performance['rmse_overall']"
      ],
      "execution_count": null,
      "outputs": [
        {
          "output_type": "execute_result",
          "data": {
            "text/plain": [
              "0.29589783031766953"
            ]
          },
          "metadata": {},
          "execution_count": 25
        }
      ]
    },
    {
      "cell_type": "code",
      "metadata": {
        "id": "fos79AggXfEp"
      },
      "source": [
        "user1_recomm = item_similarity_model.recommend(users=[0], k=10)\n",
        "df_user1_recomm = user1_recomm.to_dataframe()"
      ],
      "execution_count": null,
      "outputs": []
    },
    {
      "cell_type": "code",
      "metadata": {
        "colab": {
          "base_uri": "https://localhost:8080/",
          "height": 359
        },
        "id": "n8242QlKX4HL",
        "outputId": "50801314-c7b5-4256-8cf1-ccc98dba2747"
      },
      "source": [
        "df_user1_recomm"
      ],
      "execution_count": null,
      "outputs": [
        {
          "output_type": "execute_result",
          "data": {
            "text/html": [
              "<div>\n",
              "<style scoped>\n",
              "    .dataframe tbody tr th:only-of-type {\n",
              "        vertical-align: middle;\n",
              "    }\n",
              "\n",
              "    .dataframe tbody tr th {\n",
              "        vertical-align: top;\n",
              "    }\n",
              "\n",
              "    .dataframe thead th {\n",
              "        text-align: right;\n",
              "    }\n",
              "</style>\n",
              "<table border=\"1\" class=\"dataframe\">\n",
              "  <thead>\n",
              "    <tr style=\"text-align: right;\">\n",
              "      <th></th>\n",
              "      <th>User_ID</th>\n",
              "      <th>Activity_ID</th>\n",
              "      <th>score</th>\n",
              "      <th>rank</th>\n",
              "    </tr>\n",
              "  </thead>\n",
              "  <tbody>\n",
              "    <tr>\n",
              "      <th>0</th>\n",
              "      <td>0</td>\n",
              "      <td>lab-wendy-book-1</td>\n",
              "      <td>0.042313</td>\n",
              "      <td>1</td>\n",
              "    </tr>\n",
              "    <tr>\n",
              "      <th>1</th>\n",
              "      <td>0</td>\n",
              "      <td>foodsl-roulette-1</td>\n",
              "      <td>0.037198</td>\n",
              "      <td>2</td>\n",
              "    </tr>\n",
              "    <tr>\n",
              "      <th>2</th>\n",
              "      <td>0</td>\n",
              "      <td>who-wendy-colors-1</td>\n",
              "      <td>0.034745</td>\n",
              "      <td>3</td>\n",
              "    </tr>\n",
              "    <tr>\n",
              "      <th>3</th>\n",
              "      <td>0</td>\n",
              "      <td>shopping-roulette-1</td>\n",
              "      <td>0.015957</td>\n",
              "      <td>4</td>\n",
              "    </tr>\n",
              "    <tr>\n",
              "      <th>4</th>\n",
              "      <td>0</td>\n",
              "      <td>shapes-poiki-sequence-1</td>\n",
              "      <td>0.015618</td>\n",
              "      <td>5</td>\n",
              "    </tr>\n",
              "    <tr>\n",
              "      <th>5</th>\n",
              "      <td>0</td>\n",
              "      <td>lab-kevin-game-1</td>\n",
              "      <td>0.014669</td>\n",
              "      <td>6</td>\n",
              "    </tr>\n",
              "    <tr>\n",
              "      <th>6</th>\n",
              "      <td>0</td>\n",
              "      <td>country-none-book-1</td>\n",
              "      <td>0.012999</td>\n",
              "      <td>7</td>\n",
              "    </tr>\n",
              "    <tr>\n",
              "      <th>7</th>\n",
              "      <td>0</td>\n",
              "      <td>cooking-kevin-simulation-2</td>\n",
              "      <td>0.012074</td>\n",
              "      <td>8</td>\n",
              "    </tr>\n",
              "    <tr>\n",
              "      <th>8</th>\n",
              "      <td>0</td>\n",
              "      <td>farm-poiki-videoclip-1</td>\n",
              "      <td>0.011145</td>\n",
              "      <td>9</td>\n",
              "    </tr>\n",
              "    <tr>\n",
              "      <th>9</th>\n",
              "      <td>0</td>\n",
              "      <td>yho-yasmin-tracing-1</td>\n",
              "      <td>0.010292</td>\n",
              "      <td>10</td>\n",
              "    </tr>\n",
              "  </tbody>\n",
              "</table>\n",
              "</div>"
            ],
            "text/plain": [
              "   User_ID                 Activity_ID     score  rank\n",
              "0        0            lab-wendy-book-1  0.042313     1\n",
              "1        0           foodsl-roulette-1  0.037198     2\n",
              "2        0          who-wendy-colors-1  0.034745     3\n",
              "3        0         shopping-roulette-1  0.015957     4\n",
              "4        0     shapes-poiki-sequence-1  0.015618     5\n",
              "5        0            lab-kevin-game-1  0.014669     6\n",
              "6        0         country-none-book-1  0.012999     7\n",
              "7        0  cooking-kevin-simulation-2  0.012074     8\n",
              "8        0      farm-poiki-videoclip-1  0.011145     9\n",
              "9        0        yho-yasmin-tracing-1  0.010292    10"
            ]
          },
          "metadata": {},
          "execution_count": 28
        }
      ]
    },
    {
      "cell_type": "code",
      "metadata": {
        "id": "OyASiK4IYEB1"
      },
      "source": [
        ""
      ],
      "execution_count": null,
      "outputs": []
    },
    {
      "cell_type": "code",
      "metadata": {
        "id": "TOVC8TF5Y5FT"
      },
      "source": [
        ""
      ],
      "execution_count": null,
      "outputs": []
    },
    {
      "cell_type": "code",
      "metadata": {
        "id": "8yLEA8EXY5H3"
      },
      "source": [
        ""
      ],
      "execution_count": null,
      "outputs": []
    },
    {
      "cell_type": "code",
      "metadata": {
        "id": "IrhaWgC2Y5KY"
      },
      "source": [
        ""
      ],
      "execution_count": null,
      "outputs": []
    },
    {
      "cell_type": "code",
      "metadata": {
        "id": "qYzRKjdSY5M2"
      },
      "source": [
        ""
      ],
      "execution_count": null,
      "outputs": []
    },
    {
      "cell_type": "markdown",
      "metadata": {
        "id": "ZSkBVgynY5rl"
      },
      "source": [
        "### Matrix Factorization based model"
      ]
    },
    {
      "cell_type": "code",
      "metadata": {
        "colab": {
          "base_uri": "https://localhost:8080/",
          "height": 867
        },
        "id": "3_Kago2SY-IV",
        "outputId": "61902367-64eb-48b0-fccb-cda2a57c36e4"
      },
      "source": [
        "factorization_model = tc.factorization_recommender.create(train_data, user_id='User_ID', item_id='Activity_ID', target='Usefulness_Score')"
      ],
      "execution_count": null,
      "outputs": [
        {
          "output_type": "display_data",
          "data": {
            "text/html": [
              "<pre>Preparing data set.</pre>"
            ],
            "text/plain": [
              "Preparing data set."
            ]
          },
          "metadata": {}
        },
        {
          "output_type": "display_data",
          "data": {
            "text/html": [
              "<pre>    Data has 2300 observations with 230 users and 60 items.</pre>"
            ],
            "text/plain": [
              "    Data has 2300 observations with 230 users and 60 items."
            ]
          },
          "metadata": {}
        },
        {
          "output_type": "display_data",
          "data": {
            "text/html": [
              "<pre>    Data prepared in: 0.02007s</pre>"
            ],
            "text/plain": [
              "    Data prepared in: 0.02007s"
            ]
          },
          "metadata": {}
        },
        {
          "output_type": "display_data",
          "data": {
            "text/html": [
              "<pre>Training factorization_recommender for recommendations.</pre>"
            ],
            "text/plain": [
              "Training factorization_recommender for recommendations."
            ]
          },
          "metadata": {}
        },
        {
          "output_type": "display_data",
          "data": {
            "text/html": [
              "<pre>+--------------------------------+--------------------------------------------------+----------+</pre>"
            ],
            "text/plain": [
              "+--------------------------------+--------------------------------------------------+----------+"
            ]
          },
          "metadata": {}
        },
        {
          "output_type": "display_data",
          "data": {
            "text/html": [
              "<pre>| Parameter                      | Description                                      | Value    |</pre>"
            ],
            "text/plain": [
              "| Parameter                      | Description                                      | Value    |"
            ]
          },
          "metadata": {}
        },
        {
          "output_type": "display_data",
          "data": {
            "text/html": [
              "<pre>+--------------------------------+--------------------------------------------------+----------+</pre>"
            ],
            "text/plain": [
              "+--------------------------------+--------------------------------------------------+----------+"
            ]
          },
          "metadata": {}
        },
        {
          "output_type": "display_data",
          "data": {
            "text/html": [
              "<pre>| num_factors                    | Factor Dimension                                 | 8        |</pre>"
            ],
            "text/plain": [
              "| num_factors                    | Factor Dimension                                 | 8        |"
            ]
          },
          "metadata": {}
        },
        {
          "output_type": "display_data",
          "data": {
            "text/html": [
              "<pre>| regularization                 | L2 Regularization on Factors                     | 1e-08    |</pre>"
            ],
            "text/plain": [
              "| regularization                 | L2 Regularization on Factors                     | 1e-08    |"
            ]
          },
          "metadata": {}
        },
        {
          "output_type": "display_data",
          "data": {
            "text/html": [
              "<pre>| solver                         | Solver used for training                         | adagrad  |</pre>"
            ],
            "text/plain": [
              "| solver                         | Solver used for training                         | adagrad  |"
            ]
          },
          "metadata": {}
        },
        {
          "output_type": "display_data",
          "data": {
            "text/html": [
              "<pre>| linear_regularization          | L2 Regularization on Linear Coefficients         | 1e-10    |</pre>"
            ],
            "text/plain": [
              "| linear_regularization          | L2 Regularization on Linear Coefficients         | 1e-10    |"
            ]
          },
          "metadata": {}
        },
        {
          "output_type": "display_data",
          "data": {
            "text/html": [
              "<pre>| max_iterations                 | Maximum Number of Iterations                     | 50       |</pre>"
            ],
            "text/plain": [
              "| max_iterations                 | Maximum Number of Iterations                     | 50       |"
            ]
          },
          "metadata": {}
        },
        {
          "output_type": "display_data",
          "data": {
            "text/html": [
              "<pre>+--------------------------------+--------------------------------------------------+----------+</pre>"
            ],
            "text/plain": [
              "+--------------------------------+--------------------------------------------------+----------+"
            ]
          },
          "metadata": {}
        },
        {
          "output_type": "display_data",
          "data": {
            "text/html": [
              "<pre>  Optimizing model using SGD; tuning step size.</pre>"
            ],
            "text/plain": [
              "  Optimizing model using SGD; tuning step size."
            ]
          },
          "metadata": {}
        },
        {
          "output_type": "display_data",
          "data": {
            "text/html": [
              "<pre>  Using 2300 / 2300 points for tuning the step size.</pre>"
            ],
            "text/plain": [
              "  Using 2300 / 2300 points for tuning the step size."
            ]
          },
          "metadata": {}
        },
        {
          "output_type": "display_data",
          "data": {
            "text/html": [
              "<pre>+---------+-------------------+------------------------------------------+</pre>"
            ],
            "text/plain": [
              "+---------+-------------------+------------------------------------------+"
            ]
          },
          "metadata": {}
        },
        {
          "output_type": "display_data",
          "data": {
            "text/html": [
              "<pre>| Attempt | Initial Step Size | Estimated Objective Value                |</pre>"
            ],
            "text/plain": [
              "| Attempt | Initial Step Size | Estimated Objective Value                |"
            ]
          },
          "metadata": {}
        },
        {
          "output_type": "display_data",
          "data": {
            "text/html": [
              "<pre>+---------+-------------------+------------------------------------------+</pre>"
            ],
            "text/plain": [
              "+---------+-------------------+------------------------------------------+"
            ]
          },
          "metadata": {}
        },
        {
          "output_type": "display_data",
          "data": {
            "text/html": [
              "<pre>| 0       | 10                | Not Viable                               |</pre>"
            ],
            "text/plain": [
              "| 0       | 10                | Not Viable                               |"
            ]
          },
          "metadata": {}
        },
        {
          "output_type": "display_data",
          "data": {
            "text/html": [
              "<pre>| 1       | 2.5               | Not Viable                               |</pre>"
            ],
            "text/plain": [
              "| 1       | 2.5               | Not Viable                               |"
            ]
          },
          "metadata": {}
        },
        {
          "output_type": "display_data",
          "data": {
            "text/html": [
              "<pre>| 2       | 0.625             | Not Viable                               |</pre>"
            ],
            "text/plain": [
              "| 2       | 0.625             | Not Viable                               |"
            ]
          },
          "metadata": {}
        },
        {
          "output_type": "display_data",
          "data": {
            "text/html": [
              "<pre>| 3       | 0.15625           | Not Viable                               |</pre>"
            ],
            "text/plain": [
              "| 3       | 0.15625           | Not Viable                               |"
            ]
          },
          "metadata": {}
        },
        {
          "output_type": "display_data",
          "data": {
            "text/html": [
              "<pre>| 4       | 0.0390625         | 0.0122506                                |</pre>"
            ],
            "text/plain": [
              "| 4       | 0.0390625         | 0.0122506                                |"
            ]
          },
          "metadata": {}
        },
        {
          "output_type": "display_data",
          "data": {
            "text/html": [
              "<pre>| 5       | 0.0195312         | 0.0146098                                |</pre>"
            ],
            "text/plain": [
              "| 5       | 0.0195312         | 0.0146098                                |"
            ]
          },
          "metadata": {}
        },
        {
          "output_type": "display_data",
          "data": {
            "text/html": [
              "<pre>| 6       | 0.00976562        | 0.0170304                                |</pre>"
            ],
            "text/plain": [
              "| 6       | 0.00976562        | 0.0170304                                |"
            ]
          },
          "metadata": {}
        },
        {
          "output_type": "display_data",
          "data": {
            "text/html": [
              "<pre>| 7       | 0.00488281        | 0.019777                                 |</pre>"
            ],
            "text/plain": [
              "| 7       | 0.00488281        | 0.019777                                 |"
            ]
          },
          "metadata": {}
        },
        {
          "output_type": "display_data",
          "data": {
            "text/html": [
              "<pre>+---------+-------------------+------------------------------------------+</pre>"
            ],
            "text/plain": [
              "+---------+-------------------+------------------------------------------+"
            ]
          },
          "metadata": {}
        },
        {
          "output_type": "display_data",
          "data": {
            "text/html": [
              "<pre>| Final   | 0.0390625         | 0.0122506                                |</pre>"
            ],
            "text/plain": [
              "| Final   | 0.0390625         | 0.0122506                                |"
            ]
          },
          "metadata": {}
        },
        {
          "output_type": "display_data",
          "data": {
            "text/html": [
              "<pre>+---------+-------------------+------------------------------------------+</pre>"
            ],
            "text/plain": [
              "+---------+-------------------+------------------------------------------+"
            ]
          },
          "metadata": {}
        },
        {
          "output_type": "display_data",
          "data": {
            "text/html": [
              "<pre>Starting Optimization.</pre>"
            ],
            "text/plain": [
              "Starting Optimization."
            ]
          },
          "metadata": {}
        },
        {
          "output_type": "display_data",
          "data": {
            "text/html": [
              "<pre>+---------+--------------+-------------------+-----------------------+-------------+</pre>"
            ],
            "text/plain": [
              "+---------+--------------+-------------------+-----------------------+-------------+"
            ]
          },
          "metadata": {}
        },
        {
          "output_type": "display_data",
          "data": {
            "text/html": [
              "<pre>| Iter.   | Elapsed Time | Approx. Objective | Approx. Training RMSE | Step Size   |</pre>"
            ],
            "text/plain": [
              "| Iter.   | Elapsed Time | Approx. Objective | Approx. Training RMSE | Step Size   |"
            ]
          },
          "metadata": {}
        },
        {
          "output_type": "display_data",
          "data": {
            "text/html": [
              "<pre>+---------+--------------+-------------------+-----------------------+-------------+</pre>"
            ],
            "text/plain": [
              "+---------+--------------+-------------------+-----------------------+-------------+"
            ]
          },
          "metadata": {}
        },
        {
          "output_type": "display_data",
          "data": {
            "text/html": [
              "<pre>| Initial | 165us        | 0.0395313         | 0.198825              |             |</pre>"
            ],
            "text/plain": [
              "| Initial | 165us        | 0.0395313         | 0.198825              |             |"
            ]
          },
          "metadata": {}
        },
        {
          "output_type": "display_data",
          "data": {
            "text/html": [
              "<pre>+---------+--------------+-------------------+-----------------------+-------------+</pre>"
            ],
            "text/plain": [
              "+---------+--------------+-------------------+-----------------------+-------------+"
            ]
          },
          "metadata": {}
        },
        {
          "output_type": "display_data",
          "data": {
            "text/html": [
              "<pre>| 1       | 16.15ms      | 0.031422          | 0.177262              | 0.0390625   |</pre>"
            ],
            "text/plain": [
              "| 1       | 16.15ms      | 0.031422          | 0.177262              | 0.0390625   |"
            ]
          },
          "metadata": {}
        },
        {
          "output_type": "display_data",
          "data": {
            "text/html": [
              "<pre>| 2       | 28.177ms     | 0.0374347         | 0.19348               | 0.0390625   |</pre>"
            ],
            "text/plain": [
              "| 2       | 28.177ms     | 0.0374347         | 0.19348               | 0.0390625   |"
            ]
          },
          "metadata": {}
        },
        {
          "output_type": "display_data",
          "data": {
            "text/html": [
              "<pre>| 3       | 47.567ms     | 0.0504198         | 0.224543              | 0.0390625   |</pre>"
            ],
            "text/plain": [
              "| 3       | 47.567ms     | 0.0504198         | 0.224543              | 0.0390625   |"
            ]
          },
          "metadata": {}
        },
        {
          "output_type": "display_data",
          "data": {
            "text/html": [
              "<pre>| 4       | 71.801ms     | 0.0517382         | 0.22746               | 0.0390625   |</pre>"
            ],
            "text/plain": [
              "| 4       | 71.801ms     | 0.0517382         | 0.22746               | 0.0390625   |"
            ]
          },
          "metadata": {}
        },
        {
          "output_type": "display_data",
          "data": {
            "text/html": [
              "<pre>| 5       | 87.329ms     | 0.0628584         | 0.250715              | 0.0390625   |</pre>"
            ],
            "text/plain": [
              "| 5       | 87.329ms     | 0.0628584         | 0.250715              | 0.0390625   |"
            ]
          },
          "metadata": {}
        },
        {
          "output_type": "display_data",
          "data": {
            "text/html": [
              "<pre>| 10      | 148.613ms    | 0.0523447         | 0.228789              | 0.0390625   |</pre>"
            ],
            "text/plain": [
              "| 10      | 148.613ms    | 0.0523447         | 0.228789              | 0.0390625   |"
            ]
          },
          "metadata": {}
        },
        {
          "output_type": "display_data",
          "data": {
            "text/html": [
              "<pre>| 34      | 347.919ms    | DIVERGED          | DIVERGED              | 0.0390625   |</pre>"
            ],
            "text/plain": [
              "| 34      | 347.919ms    | DIVERGED          | DIVERGED              | 0.0390625   |"
            ]
          },
          "metadata": {}
        },
        {
          "output_type": "display_data",
          "data": {
            "text/html": [
              "<pre>| RESET   | 349.307ms    | 0.0395293         | 0.19882               |             |</pre>"
            ],
            "text/plain": [
              "| RESET   | 349.307ms    | 0.0395293         | 0.19882               |             |"
            ]
          },
          "metadata": {}
        },
        {
          "output_type": "display_data",
          "data": {
            "text/html": [
              "<pre>| 16      | 478.879ms    | 0.0184197         | 0.135719              | 0.0195312   |</pre>"
            ],
            "text/plain": [
              "| 16      | 478.879ms    | 0.0184197         | 0.135719              | 0.0195312   |"
            ]
          },
          "metadata": {}
        },
        {
          "output_type": "display_data",
          "data": {
            "text/html": [
              "<pre>| 21      | 519.95ms     | 0.0228206         | 0.151065              | 0.0195312   |</pre>"
            ],
            "text/plain": [
              "| 21      | 519.95ms     | 0.0228206         | 0.151065              | 0.0195312   |"
            ]
          },
          "metadata": {}
        },
        {
          "output_type": "display_data",
          "data": {
            "text/html": [
              "<pre>+---------+--------------+-------------------+-----------------------+-------------+</pre>"
            ],
            "text/plain": [
              "+---------+--------------+-------------------+-----------------------+-------------+"
            ]
          },
          "metadata": {}
        },
        {
          "output_type": "display_data",
          "data": {
            "text/html": [
              "<pre>Optimization Complete: Maximum number of passes through the data reached (hard limit).</pre>"
            ],
            "text/plain": [
              "Optimization Complete: Maximum number of passes through the data reached (hard limit)."
            ]
          },
          "metadata": {}
        },
        {
          "output_type": "display_data",
          "data": {
            "text/html": [
              "<pre>Computing final objective value and training RMSE.</pre>"
            ],
            "text/plain": [
              "Computing final objective value and training RMSE."
            ]
          },
          "metadata": {}
        },
        {
          "output_type": "display_data",
          "data": {
            "text/html": [
              "<pre>       Final objective value: 0.0228679</pre>"
            ],
            "text/plain": [
              "       Final objective value: 0.0228679"
            ]
          },
          "metadata": {}
        },
        {
          "output_type": "display_data",
          "data": {
            "text/html": [
              "<pre>       Final training RMSE: 0.151221</pre>"
            ],
            "text/plain": [
              "       Final training RMSE: 0.151221"
            ]
          },
          "metadata": {}
        }
      ]
    },
    {
      "cell_type": "code",
      "metadata": {
        "colab": {
          "base_uri": "https://localhost:8080/"
        },
        "id": "5CrA7BQbZenV",
        "outputId": "566e3200-3b47-4e75-a21f-1cf049c66bc7"
      },
      "source": [
        "factorization_recomm = factorization_model.recommend(users=[0,1,2],k=10)\n",
        "factorization_recomm.print_rows(num_rows=30)"
      ],
      "execution_count": null,
      "outputs": [
        {
          "output_type": "stream",
          "name": "stdout",
          "text": [
            "+---------+-----------------------------+---------------------+------+\n",
            "| User_ID |         Activity_ID         |        score        | rank |\n",
            "+---------+-----------------------------+---------------------+------+\n",
            "|    0    |   veggies-poiki-drawing-1   |  0.4132403227480453 |  1   |\n",
            "|    0    |   greetings-yasmin-video-1  |  0.3972825639861029 |  2   |\n",
            "|    0    |   alphabet-poiki-tracing-1  | 0.39554569115660604 |  3   |\n",
            "|    0    |      home-kevin-book-1      |  0.3892475877868336 |  4   |\n",
            "|    0    |   country-birthday-game-1   |  0.3819515126737159 |  5   |\n",
            "|    0    |   farm-poiki-simulation-1   | 0.37803572965584215 |  6   |\n",
            "|    0    |    foods-poiki-hotspot-1    |  0.3714262651259404 |  7   |\n",
            "|    0    |      farm-poiki-book-1      |  0.3683173506500524 |  8   |\n",
            "|    0    |    who-wendy-demovideo-1    |  0.3678756779039603 |  9   |\n",
            "|    0    |   newbaby-poiki-hotspot-1   |  0.3654930137776163 |  10  |\n",
            "|    1    |   veggies-poiki-drawing-1   |  0.4728749025592905 |  1   |\n",
            "|    1    |   alphabet-poiki-tracing-1  |  0.4619415699484151 |  2   |\n",
            "|    1    |   greetings-yasmin-video-1  |  0.4606595820727151 |  3   |\n",
            "|    1    |      home-kevin-book-1      |  0.4525171349736255 |  4   |\n",
            "|    1    |   country-birthday-game-1   |  0.4446249910610121 |  5   |\n",
            "|    1    |     who-all-videoclip-1     |  0.4298641145209175 |  6   |\n",
            "|    1    |    who-wendy-demovideo-1    |  0.4287180624882084 |  7   |\n",
            "|    1    |      clothes-roulette-1     |  0.4227594979087215 |  8   |\n",
            "|    1    |       who-wendy-book-1      | 0.41771664938222136 |  9   |\n",
            "|    1    | farm-poiki-identification-1 | 0.41580297136477645 |  10  |\n",
            "|    2    |   veggies-poiki-drawing-1   | 0.32301184141341116 |  1   |\n",
            "|    2    |   greetings-yasmin-video-1  | 0.29668660871482905 |  2   |\n",
            "|    2    |      home-kevin-book-1      | 0.28906444590337094 |  3   |\n",
            "|    2    |   alphabet-poiki-tracing-1  |  0.2865984341109496 |  4   |\n",
            "|    2    |   farm-poiki-simulation-1   | 0.28454867170456316 |  5   |\n",
            "|    2    |   country-birthday-game-1   | 0.28360221013225134 |  6   |\n",
            "|    2    |    foods-poiki-hotspot-1    | 0.27973928944937404 |  7   |\n",
            "|    2    |      farm-poiki-book-1      |  0.2771767785519686 |  8   |\n",
            "|    2    |     who-all-videoclip-1     | 0.27667145107205476 |  9   |\n",
            "|    2    |   newbaby-poiki-hotspot-1   | 0.27654918122369315 |  10  |\n",
            "+---------+-----------------------------+---------------------+------+\n",
            "[30 rows x 4 columns]\n",
            "\n"
          ]
        }
      ]
    },
    {
      "cell_type": "code",
      "metadata": {
        "colab": {
          "base_uri": "https://localhost:8080/"
        },
        "id": "l84vkq-9Zt73",
        "outputId": "605856d5-a8cc-4109-cfa5-31302416c938"
      },
      "source": [
        "factorization_model_performance = factorization_model.evaluate(test_data)"
      ],
      "execution_count": null,
      "outputs": [
        {
          "output_type": "stream",
          "name": "stdout",
          "text": [
            "\n",
            "Precision and recall summary statistics by cutoff\n",
            "+--------+---------------------+----------------------+\n",
            "| cutoff |    mean_precision   |     mean_recall      |\n",
            "+--------+---------------------+----------------------+\n",
            "|   1    |         0.05        |        0.005         |\n",
            "|   2    |        0.025        |        0.005         |\n",
            "|   3    | 0.06666666666666667 |         0.02         |\n",
            "|   4    |         0.1         | 0.039999999999999994 |\n",
            "|   5    | 0.07999999999999999 | 0.039999999999999994 |\n",
            "|   6    | 0.08333333333333334 | 0.05000000000000001  |\n",
            "|   7    | 0.08571428571428572 | 0.06000000000000001  |\n",
            "|   8    |       0.13125       | 0.10500000000000002  |\n",
            "|   9    | 0.15555555555555556 | 0.14000000000000004  |\n",
            "|   10   |        0.165        |        0.165         |\n",
            "+--------+---------------------+----------------------+\n",
            "[10 rows x 3 columns]\n",
            "\n",
            "\n",
            "Overall RMSE: 0.2010945287858746\n",
            "\n",
            "Per User RMSE (best)\n",
            "+---------+---------------------+-------+\n",
            "| User_ID |         rmse        | count |\n",
            "+---------+---------------------+-------+\n",
            "|   247   | 0.09197668077164445 |   10  |\n",
            "+---------+---------------------+-------+\n",
            "[1 rows x 3 columns]\n",
            "\n",
            "\n",
            "Per User RMSE (worst)\n",
            "+---------+--------------------+-------+\n",
            "| User_ID |        rmse        | count |\n",
            "+---------+--------------------+-------+\n",
            "|   232   | 0.3003943006786098 |   10  |\n",
            "+---------+--------------------+-------+\n",
            "[1 rows x 3 columns]\n",
            "\n",
            "\n",
            "Per Item RMSE (best)\n",
            "+------------------------+-------------------+-------+\n",
            "|      Activity_ID       |        rmse       | count |\n",
            "+------------------------+-------------------+-------+\n",
            "| world-yasmin-hotspot-1 | 0.065339945167709 |   2   |\n",
            "+------------------------+-------------------+-------+\n",
            "[1 rows x 3 columns]\n",
            "\n",
            "\n",
            "Per Item RMSE (worst)\n",
            "+----------------+---------------------+-------+\n",
            "|  Activity_ID   |         rmse        | count |\n",
            "+----------------+---------------------+-------+\n",
            "| foods-memory-1 | 0.39323751098814785 |   1   |\n",
            "+----------------+---------------------+-------+\n",
            "[1 rows x 3 columns]\n",
            "\n"
          ]
        }
      ]
    },
    {
      "cell_type": "code",
      "metadata": {
        "colab": {
          "base_uri": "https://localhost:8080/"
        },
        "id": "VvVFCKAzZ6xx",
        "outputId": "11d403b0-790c-4d7f-d587-d422005b1a9f"
      },
      "source": [
        "factorization_model_performance['rmse_overall']"
      ],
      "execution_count": null,
      "outputs": [
        {
          "output_type": "execute_result",
          "data": {
            "text/plain": [
              "0.2010945287858746"
            ]
          },
          "metadata": {},
          "execution_count": 36
        }
      ]
    },
    {
      "cell_type": "code",
      "metadata": {
        "colab": {
          "base_uri": "https://localhost:8080/",
          "height": 359
        },
        "id": "08evCm_ZZ_es",
        "outputId": "2e423dd4-ef7c-41b6-ef0b-f064c809d818"
      },
      "source": [
        "user1_recomm_fact_model = factorization_model.recommend(users=[0], k=10)\n",
        "df_user1_recomm_fact_model = user1_recomm_fact_model.to_dataframe()\n",
        "df_user1_recomm_fact_model"
      ],
      "execution_count": null,
      "outputs": [
        {
          "output_type": "execute_result",
          "data": {
            "text/html": [
              "<div>\n",
              "<style scoped>\n",
              "    .dataframe tbody tr th:only-of-type {\n",
              "        vertical-align: middle;\n",
              "    }\n",
              "\n",
              "    .dataframe tbody tr th {\n",
              "        vertical-align: top;\n",
              "    }\n",
              "\n",
              "    .dataframe thead th {\n",
              "        text-align: right;\n",
              "    }\n",
              "</style>\n",
              "<table border=\"1\" class=\"dataframe\">\n",
              "  <thead>\n",
              "    <tr style=\"text-align: right;\">\n",
              "      <th></th>\n",
              "      <th>User_ID</th>\n",
              "      <th>Activity_ID</th>\n",
              "      <th>score</th>\n",
              "      <th>rank</th>\n",
              "    </tr>\n",
              "  </thead>\n",
              "  <tbody>\n",
              "    <tr>\n",
              "      <th>0</th>\n",
              "      <td>0</td>\n",
              "      <td>veggies-poiki-drawing-1</td>\n",
              "      <td>0.413240</td>\n",
              "      <td>1</td>\n",
              "    </tr>\n",
              "    <tr>\n",
              "      <th>1</th>\n",
              "      <td>0</td>\n",
              "      <td>greetings-yasmin-video-1</td>\n",
              "      <td>0.397283</td>\n",
              "      <td>2</td>\n",
              "    </tr>\n",
              "    <tr>\n",
              "      <th>2</th>\n",
              "      <td>0</td>\n",
              "      <td>alphabet-poiki-tracing-1</td>\n",
              "      <td>0.395546</td>\n",
              "      <td>3</td>\n",
              "    </tr>\n",
              "    <tr>\n",
              "      <th>3</th>\n",
              "      <td>0</td>\n",
              "      <td>home-kevin-book-1</td>\n",
              "      <td>0.389248</td>\n",
              "      <td>4</td>\n",
              "    </tr>\n",
              "    <tr>\n",
              "      <th>4</th>\n",
              "      <td>0</td>\n",
              "      <td>country-birthday-game-1</td>\n",
              "      <td>0.381952</td>\n",
              "      <td>5</td>\n",
              "    </tr>\n",
              "    <tr>\n",
              "      <th>5</th>\n",
              "      <td>0</td>\n",
              "      <td>farm-poiki-simulation-1</td>\n",
              "      <td>0.378036</td>\n",
              "      <td>6</td>\n",
              "    </tr>\n",
              "    <tr>\n",
              "      <th>6</th>\n",
              "      <td>0</td>\n",
              "      <td>foods-poiki-hotspot-1</td>\n",
              "      <td>0.371426</td>\n",
              "      <td>7</td>\n",
              "    </tr>\n",
              "    <tr>\n",
              "      <th>7</th>\n",
              "      <td>0</td>\n",
              "      <td>farm-poiki-book-1</td>\n",
              "      <td>0.368317</td>\n",
              "      <td>8</td>\n",
              "    </tr>\n",
              "    <tr>\n",
              "      <th>8</th>\n",
              "      <td>0</td>\n",
              "      <td>who-wendy-demovideo-1</td>\n",
              "      <td>0.367876</td>\n",
              "      <td>9</td>\n",
              "    </tr>\n",
              "    <tr>\n",
              "      <th>9</th>\n",
              "      <td>0</td>\n",
              "      <td>newbaby-poiki-hotspot-1</td>\n",
              "      <td>0.365493</td>\n",
              "      <td>10</td>\n",
              "    </tr>\n",
              "  </tbody>\n",
              "</table>\n",
              "</div>"
            ],
            "text/plain": [
              "   User_ID               Activity_ID     score  rank\n",
              "0        0   veggies-poiki-drawing-1  0.413240     1\n",
              "1        0  greetings-yasmin-video-1  0.397283     2\n",
              "2        0  alphabet-poiki-tracing-1  0.395546     3\n",
              "3        0         home-kevin-book-1  0.389248     4\n",
              "4        0   country-birthday-game-1  0.381952     5\n",
              "5        0   farm-poiki-simulation-1  0.378036     6\n",
              "6        0     foods-poiki-hotspot-1  0.371426     7\n",
              "7        0         farm-poiki-book-1  0.368317     8\n",
              "8        0     who-wendy-demovideo-1  0.367876     9\n",
              "9        0   newbaby-poiki-hotspot-1  0.365493    10"
            ]
          },
          "metadata": {},
          "execution_count": 37
        }
      ]
    },
    {
      "cell_type": "code",
      "metadata": {
        "id": "SX35V0lZaHWE"
      },
      "source": [
        ""
      ],
      "execution_count": null,
      "outputs": []
    }
  ]
}