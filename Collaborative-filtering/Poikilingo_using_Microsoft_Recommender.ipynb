{
  "nbformat": 4,
  "nbformat_minor": 0,
  "metadata": {
    "colab": {
      "name": "Collaborative_Filtering_ALS_Example_Poikilingo_using_Microsoft_Recommender_[Samad_Farooq_and_Lakshmi_Raghavi].ipynb",
      "provenance": [],
      "collapsed_sections": []
    },
    "kernelspec": {
      "name": "python3",
      "display_name": "Python 3"
    },
    "language_info": {
      "name": "python"
    }
  },
  "cells": [
    {
      "cell_type": "code",
      "metadata": {
        "colab": {
          "base_uri": "https://localhost:8080/"
        },
        "id": "W7MStyuH-uZR",
        "outputId": "ea620fab-c083-4e57-9df7-3069bc530b57"
      },
      "source": [
        "pip install git+https://github.com/microsoft/recommenders.git"
      ],
      "execution_count": null,
      "outputs": [
        {
          "output_type": "stream",
          "name": "stdout",
          "text": [
            "Collecting git+https://github.com/microsoft/recommenders.git\n",
            "  Cloning https://github.com/microsoft/recommenders.git to /tmp/pip-req-build-h3zjlwko\n",
            "  Running command git clone -q https://github.com/microsoft/recommenders.git /tmp/pip-req-build-h3zjlwko\n",
            "  Installing build dependencies ... \u001b[?25l\u001b[?25hdone\n",
            "  Getting requirements to build wheel ... \u001b[?25l\u001b[?25hdone\n",
            "    Preparing wheel metadata ... \u001b[?25l\u001b[?25hdone\n",
            "Requirement already satisfied: pandas<2,>1.0.3 in /usr/local/lib/python3.7/dist-packages (from recommenders==0.7.0) (1.1.5)\n",
            "Collecting category-encoders<2,>=1.3.0\n",
            "  Downloading category_encoders-1.3.0-py2.py3-none-any.whl (61 kB)\n",
            "\u001b[K     |████████████████████████████████| 61 kB 7.4 MB/s \n",
            "\u001b[?25hRequirement already satisfied: retrying>=1.3.3 in /usr/local/lib/python3.7/dist-packages (from recommenders==0.7.0) (1.3.3)\n",
            "Requirement already satisfied: requests<3,>=2.0.0 in /usr/local/lib/python3.7/dist-packages (from recommenders==0.7.0) (2.23.0)\n",
            "Requirement already satisfied: seaborn<1,>=0.8.1 in /usr/local/lib/python3.7/dist-packages (from recommenders==0.7.0) (0.11.1)\n",
            "Collecting memory-profiler<1,>=0.54.0\n",
            "  Downloading memory_profiler-0.58.0.tar.gz (36 kB)\n",
            "Requirement already satisfied: jinja2<3,>=2 in /usr/local/lib/python3.7/dist-packages (from recommenders==0.7.0) (2.11.3)\n",
            "Requirement already satisfied: lightgbm<3,>=2.2.1 in /usr/local/lib/python3.7/dist-packages (from recommenders==0.7.0) (2.2.3)\n",
            "Collecting transformers<5,>=2.5.0\n",
            "  Downloading transformers-4.10.2-py3-none-any.whl (2.8 MB)\n",
            "\u001b[K     |████████████████████████████████| 2.8 MB 40.9 MB/s \n",
            "\u001b[?25hRequirement already satisfied: scikit-learn<1,>=0.22.1 in /usr/local/lib/python3.7/dist-packages (from recommenders==0.7.0) (0.22.2.post1)\n",
            "Requirement already satisfied: matplotlib<4,>=2.2.2 in /usr/local/lib/python3.7/dist-packages (from recommenders==0.7.0) (3.2.2)\n",
            "Collecting nltk<4,>=3.4\n",
            "  Downloading nltk-3.6.2-py3-none-any.whl (1.5 MB)\n",
            "\u001b[K     |████████████████████████████████| 1.5 MB 39.0 MB/s \n",
            "\u001b[?25hCollecting pyyaml<6,>=5.4.1\n",
            "  Downloading PyYAML-5.4.1-cp37-cp37m-manylinux1_x86_64.whl (636 kB)\n",
            "\u001b[K     |████████████████████████████████| 636 kB 34.8 MB/s \n",
            "\u001b[?25hRequirement already satisfied: numba<1,>=0.38.1 in /usr/local/lib/python3.7/dist-packages (from recommenders==0.7.0) (0.51.2)\n",
            "Requirement already satisfied: bottleneck<2,>=1.2.1 in /usr/local/lib/python3.7/dist-packages (from recommenders==0.7.0) (1.3.2)\n",
            "Requirement already satisfied: tqdm<5,>=4.31.1 in /usr/local/lib/python3.7/dist-packages (from recommenders==0.7.0) (4.62.0)\n",
            "Collecting lightfm<2,>=1.15\n",
            "  Downloading lightfm-1.16.tar.gz (310 kB)\n",
            "\u001b[K     |████████████████████████████████| 310 kB 44.6 MB/s \n",
            "\u001b[?25hCollecting scikit-surprise<=1.1.1,>=0.19.1\n",
            "  Downloading scikit-surprise-1.1.1.tar.gz (11.8 MB)\n",
            "\u001b[K     |████████████████████████████████| 11.8 MB 51 kB/s \n",
            "\u001b[?25hCollecting pymanopt<1,>=0.2.5\n",
            "  Downloading pymanopt-0.2.5-py3-none-any.whl (59 kB)\n",
            "\u001b[K     |████████████████████████████████| 59 kB 7.0 MB/s \n",
            "\u001b[?25hRequirement already satisfied: numpy>=1.14 in /usr/local/lib/python3.7/dist-packages (from recommenders==0.7.0) (1.19.5)\n",
            "Collecting pydocumentdb>=2.3.3<3\n",
            "  Downloading pydocumentdb-2.3.5-py3-none-any.whl (93 kB)\n",
            "\u001b[K     |████████████████████████████████| 93 kB 2.3 MB/s \n",
            "\u001b[?25hRequirement already satisfied: scipy<2,>=1.0.0 in /usr/local/lib/python3.7/dist-packages (from recommenders==0.7.0) (1.4.1)\n",
            "Collecting cornac<2,>=1.1.2\n",
            "  Downloading cornac-1.13.5-cp37-cp37m-manylinux1_x86_64.whl (12.4 MB)\n",
            "\u001b[K     |████████████████████████████████| 12.4 MB 33 kB/s \n",
            "\u001b[?25hRequirement already satisfied: patsy>=0.4.1 in /usr/local/lib/python3.7/dist-packages (from category-encoders<2,>=1.3.0->recommenders==0.7.0) (0.5.1)\n",
            "Requirement already satisfied: statsmodels>=0.6.1 in /usr/local/lib/python3.7/dist-packages (from category-encoders<2,>=1.3.0->recommenders==0.7.0) (0.10.2)\n",
            "Collecting powerlaw\n",
            "  Downloading powerlaw-1.5-py3-none-any.whl (24 kB)\n",
            "Requirement already satisfied: MarkupSafe>=0.23 in /usr/local/lib/python3.7/dist-packages (from jinja2<3,>=2->recommenders==0.7.0) (2.0.1)\n",
            "Requirement already satisfied: python-dateutil>=2.1 in /usr/local/lib/python3.7/dist-packages (from matplotlib<4,>=2.2.2->recommenders==0.7.0) (2.8.2)\n",
            "Requirement already satisfied: pyparsing!=2.0.4,!=2.1.2,!=2.1.6,>=2.0.1 in /usr/local/lib/python3.7/dist-packages (from matplotlib<4,>=2.2.2->recommenders==0.7.0) (2.4.7)\n",
            "Requirement already satisfied: kiwisolver>=1.0.1 in /usr/local/lib/python3.7/dist-packages (from matplotlib<4,>=2.2.2->recommenders==0.7.0) (1.3.1)\n",
            "Requirement already satisfied: cycler>=0.10 in /usr/local/lib/python3.7/dist-packages (from matplotlib<4,>=2.2.2->recommenders==0.7.0) (0.10.0)\n",
            "Requirement already satisfied: six in /usr/local/lib/python3.7/dist-packages (from cycler>=0.10->matplotlib<4,>=2.2.2->recommenders==0.7.0) (1.15.0)\n",
            "Requirement already satisfied: psutil in /usr/local/lib/python3.7/dist-packages (from memory-profiler<1,>=0.54.0->recommenders==0.7.0) (5.4.8)\n",
            "Requirement already satisfied: joblib in /usr/local/lib/python3.7/dist-packages (from nltk<4,>=3.4->recommenders==0.7.0) (1.0.1)\n",
            "Requirement already satisfied: click in /usr/local/lib/python3.7/dist-packages (from nltk<4,>=3.4->recommenders==0.7.0) (7.1.2)\n",
            "Requirement already satisfied: regex in /usr/local/lib/python3.7/dist-packages (from nltk<4,>=3.4->recommenders==0.7.0) (2019.12.20)\n",
            "Requirement already satisfied: llvmlite<0.35,>=0.34.0.dev0 in /usr/local/lib/python3.7/dist-packages (from numba<1,>=0.38.1->recommenders==0.7.0) (0.34.0)\n",
            "Requirement already satisfied: setuptools in /usr/local/lib/python3.7/dist-packages (from numba<1,>=0.38.1->recommenders==0.7.0) (57.4.0)\n",
            "Requirement already satisfied: pytz>=2017.2 in /usr/local/lib/python3.7/dist-packages (from pandas<2,>1.0.3->recommenders==0.7.0) (2018.9)\n",
            "Requirement already satisfied: chardet<4,>=3.0.2 in /usr/local/lib/python3.7/dist-packages (from requests<3,>=2.0.0->recommenders==0.7.0) (3.0.4)\n",
            "Requirement already satisfied: urllib3!=1.25.0,!=1.25.1,<1.26,>=1.21.1 in /usr/local/lib/python3.7/dist-packages (from requests<3,>=2.0.0->recommenders==0.7.0) (1.24.3)\n",
            "Requirement already satisfied: certifi>=2017.4.17 in /usr/local/lib/python3.7/dist-packages (from requests<3,>=2.0.0->recommenders==0.7.0) (2021.5.30)\n",
            "Requirement already satisfied: idna<3,>=2.5 in /usr/local/lib/python3.7/dist-packages (from requests<3,>=2.0.0->recommenders==0.7.0) (2.10)\n",
            "Requirement already satisfied: packaging in /usr/local/lib/python3.7/dist-packages (from transformers<5,>=2.5.0->recommenders==0.7.0) (21.0)\n",
            "Collecting sacremoses\n",
            "  Downloading sacremoses-0.0.45-py3-none-any.whl (895 kB)\n",
            "\u001b[K     |████████████████████████████████| 895 kB 39.9 MB/s \n",
            "\u001b[?25hCollecting huggingface-hub>=0.0.12\n",
            "  Downloading huggingface_hub-0.0.17-py3-none-any.whl (52 kB)\n",
            "\u001b[K     |████████████████████████████████| 52 kB 1.6 MB/s \n",
            "\u001b[?25hRequirement already satisfied: filelock in /usr/local/lib/python3.7/dist-packages (from transformers<5,>=2.5.0->recommenders==0.7.0) (3.0.12)\n",
            "Requirement already satisfied: importlib-metadata in /usr/local/lib/python3.7/dist-packages (from transformers<5,>=2.5.0->recommenders==0.7.0) (4.6.4)\n",
            "Collecting tokenizers<0.11,>=0.10.1\n",
            "  Downloading tokenizers-0.10.3-cp37-cp37m-manylinux_2_5_x86_64.manylinux1_x86_64.manylinux_2_12_x86_64.manylinux2010_x86_64.whl (3.3 MB)\n",
            "\u001b[K     |████████████████████████████████| 3.3 MB 32.6 MB/s \n",
            "\u001b[?25hRequirement already satisfied: typing-extensions in /usr/local/lib/python3.7/dist-packages (from huggingface-hub>=0.0.12->transformers<5,>=2.5.0->recommenders==0.7.0) (3.7.4.3)\n",
            "Requirement already satisfied: zipp>=0.5 in /usr/local/lib/python3.7/dist-packages (from importlib-metadata->transformers<5,>=2.5.0->recommenders==0.7.0) (3.5.0)\n",
            "Requirement already satisfied: mpmath in /usr/local/lib/python3.7/dist-packages (from powerlaw->cornac<2,>=1.1.2->recommenders==0.7.0) (1.2.1)\n",
            "Building wheels for collected packages: recommenders, lightfm, memory-profiler, scikit-surprise\n",
            "  Building wheel for recommenders (PEP 517) ... \u001b[?25l\u001b[?25hdone\n",
            "  Created wheel for recommenders: filename=recommenders-0.7.0-py3-none-any.whl size=313338 sha256=3b7f6be5b222391c3022f44732a7b5c4d903fe8295b924e294619b28d2d204d1\n",
            "  Stored in directory: /tmp/pip-ephem-wheel-cache-j0c0eu56/wheels/b9/06/d5/12342ff81379a3bbafda343950b5c64869d2e5dbfd348685ea\n",
            "  Building wheel for lightfm (setup.py) ... \u001b[?25l\u001b[?25hdone\n",
            "  Created wheel for lightfm: filename=lightfm-1.16-cp37-cp37m-linux_x86_64.whl size=705363 sha256=c93c0ebfb6b3bad6c77c48778ee901ffde8b933ba9998982fc9f319cdbf07b93\n",
            "  Stored in directory: /root/.cache/pip/wheels/f8/56/28/5772a3bd3413d65f03aa452190b00898b680b10028a1021914\n",
            "  Building wheel for memory-profiler (setup.py) ... \u001b[?25l\u001b[?25hdone\n",
            "  Created wheel for memory-profiler: filename=memory_profiler-0.58.0-py3-none-any.whl size=30190 sha256=fc9e502435a35eb11d20f95902387d165db350178b17e086ecbf079d04a60bfe\n",
            "  Stored in directory: /root/.cache/pip/wheels/56/19/d5/8cad06661aec65a04a0d6785b1a5ad035cb645b1772a4a0882\n",
            "  Building wheel for scikit-surprise (setup.py) ... \u001b[?25l\u001b[?25hdone\n",
            "  Created wheel for scikit-surprise: filename=scikit_surprise-1.1.1-cp37-cp37m-linux_x86_64.whl size=1619392 sha256=1e7e28d9767c46752d8e25f150aa47a836480649fdd3b957c7aa3288c9c50c24\n",
            "  Stored in directory: /root/.cache/pip/wheels/76/44/74/b498c42be47b2406bd27994e16c5188e337c657025ab400c1c\n",
            "Successfully built recommenders lightfm memory-profiler scikit-surprise\n",
            "Installing collected packages: tokenizers, sacremoses, pyyaml, powerlaw, huggingface-hub, transformers, scikit-surprise, pymanopt, pydocumentdb, nltk, memory-profiler, lightfm, cornac, category-encoders, recommenders\n",
            "  Attempting uninstall: pyyaml\n",
            "    Found existing installation: PyYAML 3.13\n",
            "    Uninstalling PyYAML-3.13:\n",
            "      Successfully uninstalled PyYAML-3.13\n",
            "  Attempting uninstall: nltk\n",
            "    Found existing installation: nltk 3.2.5\n",
            "    Uninstalling nltk-3.2.5:\n",
            "      Successfully uninstalled nltk-3.2.5\n",
            "Successfully installed category-encoders-1.3.0 cornac-1.13.5 huggingface-hub-0.0.17 lightfm-1.16 memory-profiler-0.58.0 nltk-3.6.2 powerlaw-1.5 pydocumentdb-2.3.5 pymanopt-0.2.5 pyyaml-5.4.1 recommenders-0.7.0 sacremoses-0.0.45 scikit-surprise-1.1.1 tokenizers-0.10.3 transformers-4.10.2\n"
          ]
        }
      ]
    },
    {
      "cell_type": "code",
      "metadata": {
        "id": "cu_wX1PybjDj",
        "colab": {
          "base_uri": "https://localhost:8080/"
        },
        "outputId": "aaa1b465-cd7c-47e7-a7e5-adb5246a5d67"
      },
      "source": [
        "pip install pyspark"
      ],
      "execution_count": null,
      "outputs": [
        {
          "output_type": "stream",
          "name": "stdout",
          "text": [
            "Collecting pyspark\n",
            "  Downloading pyspark-3.1.2.tar.gz (212.4 MB)\n",
            "\u001b[K     |████████████████████████████████| 212.4 MB 55 kB/s \n",
            "\u001b[?25hCollecting py4j==0.10.9\n",
            "  Downloading py4j-0.10.9-py2.py3-none-any.whl (198 kB)\n",
            "\u001b[K     |████████████████████████████████| 198 kB 50.7 MB/s \n",
            "\u001b[?25hBuilding wheels for collected packages: pyspark\n",
            "  Building wheel for pyspark (setup.py) ... \u001b[?25l\u001b[?25hdone\n",
            "  Created wheel for pyspark: filename=pyspark-3.1.2-py2.py3-none-any.whl size=212880768 sha256=f5278b3558c23a8801533ea6591239c3864ba1f9f7b8b247c179d76380ccff1b\n",
            "  Stored in directory: /root/.cache/pip/wheels/a5/0a/c1/9561f6fecb759579a7d863dcd846daaa95f598744e71b02c77\n",
            "Successfully built pyspark\n",
            "Installing collected packages: py4j, pyspark\n",
            "Successfully installed py4j-0.10.9 pyspark-3.1.2\n"
          ]
        }
      ]
    },
    {
      "cell_type": "markdown",
      "metadata": {
        "id": "_0wAcqqeYvyD"
      },
      "source": [
        "### Global Setup"
      ]
    },
    {
      "cell_type": "code",
      "metadata": {
        "colab": {
          "base_uri": "https://localhost:8080/"
        },
        "id": "iaq602R4dvxx",
        "outputId": "2c8cb09d-1763-495d-8746-798ee6d95f44"
      },
      "source": [
        "import numpy as np\n",
        "import pandas as pd\n",
        "import recommenders\n",
        "\n",
        "import sys\n",
        "import pyspark\n",
        "from pyspark.ml.recommendation import ALS\n",
        "import pyspark.sql.functions as F\n",
        "from pyspark.sql import SparkSession\n",
        "from pyspark.sql.types import StructType, StructField\n",
        "from pyspark.sql.types import StringType, FloatType, IntegerType, LongType\n",
        "\n",
        "from recommenders.utils.timer import Timer\n",
        "from recommenders.datasets import movielens\n",
        "from recommenders.utils.notebook_utils import is_jupyter\n",
        "from recommenders.datasets.spark_splitters import spark_random_split\n",
        "from recommenders.evaluation.spark_evaluation import SparkRatingEvaluation, SparkRankingEvaluation\n",
        "from recommenders.utils.spark_utils import start_or_get_spark\n",
        "\n",
        "print(\"System version: {}\".format(sys.version))\n",
        "print(\"Spark version: {}\".format(pyspark.__version__))"
      ],
      "execution_count": null,
      "outputs": [
        {
          "output_type": "stream",
          "name": "stdout",
          "text": [
            "System version: 3.7.11 (default, Jul  3 2021, 18:01:19) \n",
            "[GCC 7.5.0]\n",
            "Spark version: 3.1.2\n"
          ]
        }
      ]
    },
    {
      "cell_type": "code",
      "metadata": {
        "id": "vNrqo1oCDhPa"
      },
      "source": [
        ""
      ],
      "execution_count": null,
      "outputs": []
    },
    {
      "cell_type": "markdown",
      "metadata": {
        "id": "EBA1aAm4_Ll4"
      },
      "source": [
        "Getting Data from drive. Not critical to overall project, but a helpful if running only on colab. Otherwise, local files are ok"
      ]
    },
    {
      "cell_type": "code",
      "metadata": {
        "colab": {
          "base_uri": "https://localhost:8080/",
          "height": 307
        },
        "id": "m8YoLvzjArwu",
        "outputId": "f937b71e-6681-4edd-ebde-8c2028500841"
      },
      "source": [
        "import gdown\n",
        "activity_raw_url = 'https://drive.google.com/file/d/1GZ7Pg06hoMGdfDtcAPPNPnQ_ZwIFcEh7/view?usp=sharing'\n",
        "activity_url     ='https://drive.google.com/uc?id=' + activity_raw_url.split('/')[-2] #Do not change\n",
        "gdown.download(activity_url, 'activity.csv',quiet=False)\n",
        "\n",
        "student_info_raw_url = 'https://drive.google.com/file/d/1Y0EmJMalLuoSSe4_CHzf7aSWBV4BEcH4/view?usp=sharing'\n",
        "student_info_url     ='https://drive.google.com/uc?id=' + student_info_raw_url.split('/')[-2] #Do not change\n",
        "gdown.download(student_info_url, 'student_info.csv',quiet=False)\n",
        "\n",
        "student_activity_train_raw_url = 'https://drive.google.com/file/d/1xaXuFboFYe4fwxUBr9ygWlcfaIX-cTbc/view?usp=sharing'\n",
        "student_activity_train_url     ='https://drive.google.com/uc?id=' + student_activity_train_raw_url.split('/')[-2] #Do not change\n",
        "gdown.download(student_activity_train_url, 'student_activity_train.csv',quiet=False)\n",
        "\n",
        "student_activity_test_raw_url = 'https://drive.google.com/file/d/17Rd0DTaQ4APmD0L4sZTHJWMhfdflI5N7/view?usp=sharing'\n",
        "student_activity_test_url     ='https://drive.google.com/uc?id=' + student_activity_test_raw_url.split('/')[-2] #Do not change\n",
        "gdown.download(student_activity_test_url, 'student_activity_test.csv',quiet=False)"
      ],
      "execution_count": null,
      "outputs": [
        {
          "output_type": "stream",
          "name": "stderr",
          "text": [
            "Downloading...\n",
            "From: https://drive.google.com/uc?id=1GZ7Pg06hoMGdfDtcAPPNPnQ_ZwIFcEh7\n",
            "To: /content/activity.csv\n",
            "100%|██████████| 18.9k/18.9k [00:00<00:00, 9.93MB/s]\n",
            "Downloading...\n",
            "From: https://drive.google.com/uc?id=1Y0EmJMalLuoSSe4_CHzf7aSWBV4BEcH4\n",
            "To: /content/student_info.csv\n",
            "100%|██████████| 24.9k/24.9k [00:00<00:00, 33.9MB/s]\n",
            "Downloading...\n",
            "From: https://drive.google.com/uc?id=1xaXuFboFYe4fwxUBr9ygWlcfaIX-cTbc\n",
            "To: /content/student_activity_train.csv\n",
            "100%|██████████| 1.06M/1.06M [00:00<00:00, 24.7MB/s]\n",
            "Downloading...\n",
            "From: https://drive.google.com/uc?id=17Rd0DTaQ4APmD0L4sZTHJWMhfdflI5N7\n",
            "To: /content/student_activity_test.csv\n",
            "100%|██████████| 222k/222k [00:00<00:00, 10.4MB/s]\n"
          ]
        },
        {
          "output_type": "execute_result",
          "data": {
            "application/vnd.google.colaboratory.intrinsic+json": {
              "type": "string"
            },
            "text/plain": [
              "'student_activity_test.csv'"
            ]
          },
          "metadata": {},
          "execution_count": 4
        }
      ]
    },
    {
      "cell_type": "markdown",
      "metadata": {
        "id": "BzjVJn-ODA9o"
      },
      "source": [
        "### Data Exploration"
      ]
    },
    {
      "cell_type": "code",
      "metadata": {
        "colab": {
          "base_uri": "https://localhost:8080/",
          "height": 360
        },
        "id": "ORQT_wxBDD4x",
        "outputId": "3210ef65-6857-4a8e-b0f1-665318bf43ce"
      },
      "source": [
        "df_activity = pd.read_csv(\"activity.csv\", index_col=0)\n",
        "print(df_activity.shape)\n",
        "df_activity.head()"
      ],
      "execution_count": null,
      "outputs": [
        {
          "output_type": "stream",
          "name": "stdout",
          "text": [
            "(155, 25)\n"
          ]
        },
        {
          "output_type": "execute_result",
          "data": {
            "text/html": [
              "<div>\n",
              "<style scoped>\n",
              "    .dataframe tbody tr th:only-of-type {\n",
              "        vertical-align: middle;\n",
              "    }\n",
              "\n",
              "    .dataframe tbody tr th {\n",
              "        vertical-align: top;\n",
              "    }\n",
              "\n",
              "    .dataframe thead th {\n",
              "        text-align: right;\n",
              "    }\n",
              "</style>\n",
              "<table border=\"1\" class=\"dataframe\">\n",
              "  <thead>\n",
              "    <tr style=\"text-align: right;\">\n",
              "      <th></th>\n",
              "      <th>Activity_ID</th>\n",
              "      <th>Activity_Name</th>\n",
              "      <th>Activity_Content</th>\n",
              "      <th>Activity_Type</th>\n",
              "      <th>GameType</th>\n",
              "      <th>Ages_2yo</th>\n",
              "      <th>Ages_3yo</th>\n",
              "      <th>Ages_4yo</th>\n",
              "      <th>Ages_5yo</th>\n",
              "      <th>Ages_6yo</th>\n",
              "      <th>Ages_7yo</th>\n",
              "      <th>Cultures_None</th>\n",
              "      <th>Cultures_Brazil</th>\n",
              "      <th>Cultures_US</th>\n",
              "      <th>Cultures_UK</th>\n",
              "      <th>Cultures_Denmark</th>\n",
              "      <th>Cultures_Spain</th>\n",
              "      <th>Cultures_Mexico</th>\n",
              "      <th>Cultures_Canada</th>\n",
              "      <th>Cultures_Portugal</th>\n",
              "      <th>Cultures_Australia</th>\n",
              "      <th>Cultures_France</th>\n",
              "      <th>Cultures_Italy</th>\n",
              "      <th>Cultures_Germany</th>\n",
              "      <th>Activity_Level</th>\n",
              "    </tr>\n",
              "  </thead>\n",
              "  <tbody>\n",
              "    <tr>\n",
              "      <th>0</th>\n",
              "      <td>farm-poiki-book-1</td>\n",
              "      <td>Book: Poiki, the farmer</td>\n",
              "      <td>farm</td>\n",
              "      <td>standard</td>\n",
              "      <td>reading-book</td>\n",
              "      <td>1</td>\n",
              "      <td>1</td>\n",
              "      <td>1</td>\n",
              "      <td>0</td>\n",
              "      <td>0</td>\n",
              "      <td>0</td>\n",
              "      <td>1</td>\n",
              "      <td>0</td>\n",
              "      <td>0</td>\n",
              "      <td>0</td>\n",
              "      <td>0</td>\n",
              "      <td>0</td>\n",
              "      <td>0</td>\n",
              "      <td>0</td>\n",
              "      <td>0</td>\n",
              "      <td>0</td>\n",
              "      <td>0</td>\n",
              "      <td>0</td>\n",
              "      <td>0</td>\n",
              "      <td>0</td>\n",
              "    </tr>\n",
              "    <tr>\n",
              "      <th>1</th>\n",
              "      <td>farm-poiki-book-2</td>\n",
              "      <td>Book: The animals in the farm</td>\n",
              "      <td>farm-animals</td>\n",
              "      <td>standard</td>\n",
              "      <td>reading-book</td>\n",
              "      <td>1</td>\n",
              "      <td>1</td>\n",
              "      <td>1</td>\n",
              "      <td>0</td>\n",
              "      <td>0</td>\n",
              "      <td>0</td>\n",
              "      <td>1</td>\n",
              "      <td>0</td>\n",
              "      <td>0</td>\n",
              "      <td>0</td>\n",
              "      <td>0</td>\n",
              "      <td>0</td>\n",
              "      <td>0</td>\n",
              "      <td>0</td>\n",
              "      <td>0</td>\n",
              "      <td>0</td>\n",
              "      <td>0</td>\n",
              "      <td>0</td>\n",
              "      <td>0</td>\n",
              "      <td>0</td>\n",
              "    </tr>\n",
              "    <tr>\n",
              "      <th>2</th>\n",
              "      <td>farm-wendy-book-1</td>\n",
              "      <td>Book: Colors in the farm</td>\n",
              "      <td>colors</td>\n",
              "      <td>standard</td>\n",
              "      <td>reading-book</td>\n",
              "      <td>1</td>\n",
              "      <td>1</td>\n",
              "      <td>0</td>\n",
              "      <td>0</td>\n",
              "      <td>0</td>\n",
              "      <td>0</td>\n",
              "      <td>1</td>\n",
              "      <td>0</td>\n",
              "      <td>0</td>\n",
              "      <td>0</td>\n",
              "      <td>0</td>\n",
              "      <td>0</td>\n",
              "      <td>0</td>\n",
              "      <td>0</td>\n",
              "      <td>0</td>\n",
              "      <td>0</td>\n",
              "      <td>0</td>\n",
              "      <td>0</td>\n",
              "      <td>0</td>\n",
              "      <td>0</td>\n",
              "    </tr>\n",
              "    <tr>\n",
              "      <th>3</th>\n",
              "      <td>farm-kevin-book-1</td>\n",
              "      <td>Book: Shapes in the farm</td>\n",
              "      <td>shapes</td>\n",
              "      <td>standard</td>\n",
              "      <td>reading-book</td>\n",
              "      <td>1</td>\n",
              "      <td>1</td>\n",
              "      <td>0</td>\n",
              "      <td>0</td>\n",
              "      <td>0</td>\n",
              "      <td>0</td>\n",
              "      <td>1</td>\n",
              "      <td>0</td>\n",
              "      <td>0</td>\n",
              "      <td>0</td>\n",
              "      <td>0</td>\n",
              "      <td>0</td>\n",
              "      <td>0</td>\n",
              "      <td>0</td>\n",
              "      <td>0</td>\n",
              "      <td>0</td>\n",
              "      <td>0</td>\n",
              "      <td>0</td>\n",
              "      <td>0</td>\n",
              "      <td>0</td>\n",
              "    </tr>\n",
              "    <tr>\n",
              "      <th>4</th>\n",
              "      <td>country-none-book-1</td>\n",
              "      <td>How are the farms in my country?</td>\n",
              "      <td>my-country</td>\n",
              "      <td>cultural</td>\n",
              "      <td>reading-book</td>\n",
              "      <td>1</td>\n",
              "      <td>1</td>\n",
              "      <td>1</td>\n",
              "      <td>1</td>\n",
              "      <td>0</td>\n",
              "      <td>0</td>\n",
              "      <td>0</td>\n",
              "      <td>1</td>\n",
              "      <td>1</td>\n",
              "      <td>1</td>\n",
              "      <td>1</td>\n",
              "      <td>1</td>\n",
              "      <td>1</td>\n",
              "      <td>1</td>\n",
              "      <td>1</td>\n",
              "      <td>1</td>\n",
              "      <td>0</td>\n",
              "      <td>0</td>\n",
              "      <td>0</td>\n",
              "      <td>0</td>\n",
              "    </tr>\n",
              "  </tbody>\n",
              "</table>\n",
              "</div>"
            ],
            "text/plain": [
              "           Activity_ID  ... Activity_Level\n",
              "0    farm-poiki-book-1  ...              0\n",
              "1    farm-poiki-book-2  ...              0\n",
              "2    farm-wendy-book-1  ...              0\n",
              "3    farm-kevin-book-1  ...              0\n",
              "4  country-none-book-1  ...              0\n",
              "\n",
              "[5 rows x 25 columns]"
            ]
          },
          "metadata": {},
          "execution_count": 5
        }
      ]
    },
    {
      "cell_type": "code",
      "metadata": {
        "colab": {
          "base_uri": "https://localhost:8080/",
          "height": 221
        },
        "id": "KcLCsdC8DZ3K",
        "outputId": "08cf412c-151a-4ca2-daf9-608fdd383928"
      },
      "source": [
        "df_students = pd.read_csv(\"student_info.csv\", index_col=0)\n",
        "print(df_students.shape)\n",
        "df_students.head()"
      ],
      "execution_count": null,
      "outputs": [
        {
          "output_type": "stream",
          "name": "stdout",
          "text": [
            "(250, 13)\n"
          ]
        },
        {
          "output_type": "execute_result",
          "data": {
            "text/html": [
              "<div>\n",
              "<style scoped>\n",
              "    .dataframe tbody tr th:only-of-type {\n",
              "        vertical-align: middle;\n",
              "    }\n",
              "\n",
              "    .dataframe tbody tr th {\n",
              "        vertical-align: top;\n",
              "    }\n",
              "\n",
              "    .dataframe thead th {\n",
              "        text-align: right;\n",
              "    }\n",
              "</style>\n",
              "<table border=\"1\" class=\"dataframe\">\n",
              "  <thead>\n",
              "    <tr style=\"text-align: right;\">\n",
              "      <th></th>\n",
              "      <th>User_ID</th>\n",
              "      <th>Gender</th>\n",
              "      <th>User_Name</th>\n",
              "      <th>Age</th>\n",
              "      <th>Translanguage_Level</th>\n",
              "      <th>Literate</th>\n",
              "      <th>Learning_Rate</th>\n",
              "      <th>Country_of_Birth</th>\n",
              "      <th>Country_of_Residence</th>\n",
              "      <th>Cultural_Heritage</th>\n",
              "      <th>Main_Language</th>\n",
              "      <th>Learning_Language</th>\n",
              "      <th>Learning_Profile</th>\n",
              "    </tr>\n",
              "  </thead>\n",
              "  <tbody>\n",
              "    <tr>\n",
              "      <th>0</th>\n",
              "      <td>0</td>\n",
              "      <td>F</td>\n",
              "      <td>Norma Fisher</td>\n",
              "      <td>5</td>\n",
              "      <td>2</td>\n",
              "      <td>Complete</td>\n",
              "      <td>Slow</td>\n",
              "      <td>Denmark</td>\n",
              "      <td>Canada</td>\n",
              "      <td>['Portugal', 'Australia']</td>\n",
              "      <td>Portuguese</td>\n",
              "      <td>English</td>\n",
              "      <td>HL</td>\n",
              "    </tr>\n",
              "    <tr>\n",
              "      <th>1</th>\n",
              "      <td>1</td>\n",
              "      <td>F</td>\n",
              "      <td>Kayla Sullivan</td>\n",
              "      <td>6</td>\n",
              "      <td>1</td>\n",
              "      <td>Not_Started</td>\n",
              "      <td>Fast</td>\n",
              "      <td>UK</td>\n",
              "      <td>Canada</td>\n",
              "      <td>['France']</td>\n",
              "      <td>French</td>\n",
              "      <td>English</td>\n",
              "      <td>BTB</td>\n",
              "    </tr>\n",
              "    <tr>\n",
              "      <th>2</th>\n",
              "      <td>2</td>\n",
              "      <td>F</td>\n",
              "      <td>Elizabeth Woods</td>\n",
              "      <td>6</td>\n",
              "      <td>2</td>\n",
              "      <td>Not_Started</td>\n",
              "      <td>Slow</td>\n",
              "      <td>Brazil</td>\n",
              "      <td>Canada</td>\n",
              "      <td>['Portugal']</td>\n",
              "      <td>Portuguese</td>\n",
              "      <td>French</td>\n",
              "      <td>IL</td>\n",
              "    </tr>\n",
              "    <tr>\n",
              "      <th>3</th>\n",
              "      <td>3</td>\n",
              "      <td>F</td>\n",
              "      <td>Susan Wagner</td>\n",
              "      <td>4</td>\n",
              "      <td>3</td>\n",
              "      <td>Complete</td>\n",
              "      <td>Fast</td>\n",
              "      <td>UK</td>\n",
              "      <td>Portugal</td>\n",
              "      <td>['France', 'Canada']</td>\n",
              "      <td>French</td>\n",
              "      <td>English</td>\n",
              "      <td>HL</td>\n",
              "    </tr>\n",
              "    <tr>\n",
              "      <th>4</th>\n",
              "      <td>4</td>\n",
              "      <td>M</td>\n",
              "      <td>Peter Montgomery</td>\n",
              "      <td>3</td>\n",
              "      <td>2</td>\n",
              "      <td>Complete</td>\n",
              "      <td>Fast</td>\n",
              "      <td>France</td>\n",
              "      <td>Brazil</td>\n",
              "      <td>['Germany', 'Spain', 'Italy']</td>\n",
              "      <td>German</td>\n",
              "      <td>Spanish</td>\n",
              "      <td>HL</td>\n",
              "    </tr>\n",
              "  </tbody>\n",
              "</table>\n",
              "</div>"
            ],
            "text/plain": [
              "   User_ID Gender  ... Learning_Language  Learning_Profile\n",
              "0        0      F  ...           English                HL\n",
              "1        1      F  ...           English               BTB\n",
              "2        2      F  ...            French                IL\n",
              "3        3      F  ...           English                HL\n",
              "4        4      M  ...           Spanish                HL\n",
              "\n",
              "[5 rows x 13 columns]"
            ]
          },
          "metadata": {},
          "execution_count": 6
        }
      ]
    },
    {
      "cell_type": "code",
      "metadata": {
        "colab": {
          "base_uri": "https://localhost:8080/",
          "height": 221
        },
        "id": "pV3tdVjnbGnR",
        "outputId": "98d2c509-ae06-4ecb-b130-0c27f8d1cc10"
      },
      "source": [
        "df_scores_train = pd.read_csv(\"student_activity_train.csv\", index_col=0)\n",
        "print(df_scores_train.shape)\n",
        "df_scores_train.head()"
      ],
      "execution_count": null,
      "outputs": [
        {
          "output_type": "stream",
          "name": "stdout",
          "text": [
            "(11880, 7)\n"
          ]
        },
        {
          "output_type": "execute_result",
          "data": {
            "text/html": [
              "<div>\n",
              "<style scoped>\n",
              "    .dataframe tbody tr th:only-of-type {\n",
              "        vertical-align: middle;\n",
              "    }\n",
              "\n",
              "    .dataframe tbody tr th {\n",
              "        vertical-align: top;\n",
              "    }\n",
              "\n",
              "    .dataframe thead th {\n",
              "        text-align: right;\n",
              "    }\n",
              "</style>\n",
              "<table border=\"1\" class=\"dataframe\">\n",
              "  <thead>\n",
              "    <tr style=\"text-align: right;\">\n",
              "      <th></th>\n",
              "      <th>User_ID</th>\n",
              "      <th>Activity_ID</th>\n",
              "      <th>No_of_attempts</th>\n",
              "      <th>Time_taken</th>\n",
              "      <th>Translanguage_Level</th>\n",
              "      <th>Usefulness_Score</th>\n",
              "      <th>_Translanguage_Level_Before_Course_Plan</th>\n",
              "    </tr>\n",
              "  </thead>\n",
              "  <tbody>\n",
              "    <tr>\n",
              "      <th>0</th>\n",
              "      <td>0</td>\n",
              "      <td>country-wendy-videoclip-1</td>\n",
              "      <td>3</td>\n",
              "      <td>278.055180</td>\n",
              "      <td>3.101002</td>\n",
              "      <td>0.139800</td>\n",
              "      <td>2</td>\n",
              "    </tr>\n",
              "    <tr>\n",
              "      <th>1</th>\n",
              "      <td>0</td>\n",
              "      <td>country-yasmin-videoclip-1</td>\n",
              "      <td>4</td>\n",
              "      <td>281.867673</td>\n",
              "      <td>2.826381</td>\n",
              "      <td>0.084624</td>\n",
              "      <td>2</td>\n",
              "    </tr>\n",
              "    <tr>\n",
              "      <th>2</th>\n",
              "      <td>0</td>\n",
              "      <td>lab-wendy-colors-1</td>\n",
              "      <td>3</td>\n",
              "      <td>277.465027</td>\n",
              "      <td>2.782403</td>\n",
              "      <td>0.065831</td>\n",
              "      <td>2</td>\n",
              "    </tr>\n",
              "    <tr>\n",
              "      <th>3</th>\n",
              "      <td>0</td>\n",
              "      <td>who-wendy-colors-1</td>\n",
              "      <td>2</td>\n",
              "      <td>283.909252</td>\n",
              "      <td>3.006378</td>\n",
              "      <td>0.011640</td>\n",
              "      <td>2</td>\n",
              "    </tr>\n",
              "    <tr>\n",
              "      <th>4</th>\n",
              "      <td>0</td>\n",
              "      <td>farm-poiki-video-1</td>\n",
              "      <td>3</td>\n",
              "      <td>285.101000</td>\n",
              "      <td>2.736871</td>\n",
              "      <td>0.038446</td>\n",
              "      <td>2</td>\n",
              "    </tr>\n",
              "  </tbody>\n",
              "</table>\n",
              "</div>"
            ],
            "text/plain": [
              "   User_ID  ... _Translanguage_Level_Before_Course_Plan\n",
              "0        0  ...                                       2\n",
              "1        0  ...                                       2\n",
              "2        0  ...                                       2\n",
              "3        0  ...                                       2\n",
              "4        0  ...                                       2\n",
              "\n",
              "[5 rows x 7 columns]"
            ]
          },
          "metadata": {},
          "execution_count": 7
        }
      ]
    },
    {
      "cell_type": "code",
      "metadata": {
        "colab": {
          "base_uri": "https://localhost:8080/",
          "height": 221
        },
        "id": "PNejP0BHbdXr",
        "outputId": "163e044c-bdd0-4aec-8bac-0806b9c953a1"
      },
      "source": [
        "df_scores_test = pd.read_csv(\"student_activity_test.csv\", index_col=0)\n",
        "print(df_scores_test.shape)\n",
        "df_scores_test.head()"
      ],
      "execution_count": null,
      "outputs": [
        {
          "output_type": "stream",
          "name": "stdout",
          "text": [
            "(2500, 7)\n"
          ]
        },
        {
          "output_type": "execute_result",
          "data": {
            "text/html": [
              "<div>\n",
              "<style scoped>\n",
              "    .dataframe tbody tr th:only-of-type {\n",
              "        vertical-align: middle;\n",
              "    }\n",
              "\n",
              "    .dataframe tbody tr th {\n",
              "        vertical-align: top;\n",
              "    }\n",
              "\n",
              "    .dataframe thead th {\n",
              "        text-align: right;\n",
              "    }\n",
              "</style>\n",
              "<table border=\"1\" class=\"dataframe\">\n",
              "  <thead>\n",
              "    <tr style=\"text-align: right;\">\n",
              "      <th></th>\n",
              "      <th>User_ID</th>\n",
              "      <th>Activity_ID</th>\n",
              "      <th>No_of_attempts</th>\n",
              "      <th>Time_taken</th>\n",
              "      <th>Translanguage_Level</th>\n",
              "      <th>Usefulness_Score</th>\n",
              "      <th>_Translanguage_Level_Before_Course_Plan</th>\n",
              "    </tr>\n",
              "  </thead>\n",
              "  <tbody>\n",
              "    <tr>\n",
              "      <th>0</th>\n",
              "      <td>0</td>\n",
              "      <td>cooking-yasmin-simulation-1</td>\n",
              "      <td>4</td>\n",
              "      <td>276.452842</td>\n",
              "      <td>3.487373</td>\n",
              "      <td>0.390101</td>\n",
              "      <td>3</td>\n",
              "    </tr>\n",
              "    <tr>\n",
              "      <th>1</th>\n",
              "      <td>0</td>\n",
              "      <td>farm-poiki-video-2</td>\n",
              "      <td>1</td>\n",
              "      <td>292.072599</td>\n",
              "      <td>3.711785</td>\n",
              "      <td>0.168906</td>\n",
              "      <td>3</td>\n",
              "    </tr>\n",
              "    <tr>\n",
              "      <th>2</th>\n",
              "      <td>0</td>\n",
              "      <td>lab-kevin-game-1</td>\n",
              "      <td>1</td>\n",
              "      <td>280.767327</td>\n",
              "      <td>3.860060</td>\n",
              "      <td>0.092441</td>\n",
              "      <td>3</td>\n",
              "    </tr>\n",
              "    <tr>\n",
              "      <th>3</th>\n",
              "      <td>0</td>\n",
              "      <td>insects-roulette-1</td>\n",
              "      <td>2</td>\n",
              "      <td>286.974125</td>\n",
              "      <td>3.731912</td>\n",
              "      <td>0.079838</td>\n",
              "      <td>3</td>\n",
              "    </tr>\n",
              "    <tr>\n",
              "      <th>4</th>\n",
              "      <td>0</td>\n",
              "      <td>cooking-yasmin-simulation-1</td>\n",
              "      <td>3</td>\n",
              "      <td>286.916326</td>\n",
              "      <td>3.823462</td>\n",
              "      <td>0.055227</td>\n",
              "      <td>3</td>\n",
              "    </tr>\n",
              "  </tbody>\n",
              "</table>\n",
              "</div>"
            ],
            "text/plain": [
              "   User_ID  ... _Translanguage_Level_Before_Course_Plan\n",
              "0        0  ...                                       3\n",
              "1        0  ...                                       3\n",
              "2        0  ...                                       3\n",
              "3        0  ...                                       3\n",
              "4        0  ...                                       3\n",
              "\n",
              "[5 rows x 7 columns]"
            ]
          },
          "metadata": {},
          "execution_count": 8
        }
      ]
    },
    {
      "cell_type": "markdown",
      "metadata": {
        "id": "zj2rWP93aYEv"
      },
      "source": [
        "### Build a numerical activity ID as the ALS currently only supports integers for user and item ids."
      ]
    },
    {
      "cell_type": "markdown",
      "metadata": {
        "id": "3yXLrVLwc_YH"
      },
      "source": [
        "### Build a mapping Activity_ID -> encoded (numerical) activity ID"
      ]
    },
    {
      "cell_type": "code",
      "metadata": {
        "colab": {
          "base_uri": "https://localhost:8080/"
        },
        "id": "pB_HAatQdB33",
        "outputId": "1d2bbbbc-c814-4d48-9c5e-c69a39d17356"
      },
      "source": [
        "# make sure `Activity_ID` in `df_activity` is unique\n",
        "assert len(df_activity) == len(df_activity[\"Activity_ID\"].unique())\n",
        "\n",
        "activity_id_to_encoded_id_dict = df_activity[\"Activity_ID\"].to_dict()\n",
        "print(activity_id_to_encoded_id_dict)\n",
        "1encoded_id_to_activity_dict = {v: k for k, v in activity_id_to_encoded_id_dict.items()}  #inverted\n",
        "print(encoded_id_to_activity_dict)"
      ],
      "execution_count": null,
      "outputs": [
        {
          "output_type": "stream",
          "name": "stdout",
          "text": [
            "{0: 'farm-poiki-book-1', 1: 'farm-poiki-book-2', 2: 'farm-wendy-book-1', 3: 'farm-kevin-book-1', 4: 'country-none-book-1', 5: 'country-none-book-2', 6: 'country-none-book-3', 7: 'country-none-book-4', 8: 'home-kevin-book-1', 9: 'daycare-all-book-1', 10: 'world-all-book-1', 11: 'home-wendy-book-1', 12: 'travel-yasmin-book-1', 13: 'who-wendy-book-1', 14: 'who-wendy-book-2', 15: 'lab-wendy-book-1', 16: 'farm-poiki-videoclip-1', 17: 'farm-poiki-videoclip-2', 18: 'theatre-all-videoclip-1', 19: 'country-yasmin-videoclip-1', 20: 'country-wendy-videoclip-1', 21: 'country-yasmin-videoclip-2', 22: 'who-all-videoclip-1', 23: 'farm-yasmin-demovideo-1', 24: 'farm-poiki-demovideo-1', 25: 'farm-kevin-demovideo-1', 26: 'farm-wendy-demovideo-1', 27: 'farm-kevin-demovideo-2', 28: 'farm-poiki-demovideo-2', 29: 'farm-poiki-demovideo-3', 30: 'farm-none-demovideo-1', 31: 'farm-poiki-demovideo-4', 32: 'lab-wendy-demovideo-1', 33: 'who-wendy-demovideo-1', 34: 'who-yasmin-demovideo-1', 35: 'who-kevin-demovideo-1', 36: 'farm-yasmin-flashcards-1', 37: 'vehicles-yasmin-flashcards-1', 38: 'body-yasmin-flashcards-1', 39: 'pets-yasmin-flashcards-1', 40: 'colors-yasmin-flashcards-1', 41: 'seaanimals-yasmin-flashcards-1', 42: 'mycountryanimals-yasmin-flashcards-1', 43: 'instruments-yasmin-flashcards-1', 44: 'fruits-yasmin-flashcards-1', 45: 'veggies-yasmin-flashcards-1', 46: 'sea-yasmin-stickers-1', 47: 'farm-poiki-stickers-1', 48: 'jungle-yasmin-stickers-1', 49: 'forest-kevin-stickers-1', 50: 'body-wendy-stickers-1', 51: 'body-wendy-stickers-2', 52: 'dinosaurs-kevin-stickers-1', 53: 'beach-yasmin-stickers-1', 54: 'home-poiki-stickers-1', 55: 'greetings-poiki-video-1', 56: 'numbers-kevin-video-1', 57: 'numbers-poiki-video-1', 58: 'numbers-kevin-video-2', 59: 'numbers-yasmin-video-1', 60: 'numbers-poiki-video-2', 61: 'vehicles-yasmin-video-1', 62: 'feelings-poiki-video-1', 63: 'greetings-yasmin-video-1', 64: 'socialcode-wendy-video-1', 65: 'feelings-kevwen-video-1', 66: 'farm-poiki-video-1', 67: 'farm-poiki-video-2', 68: 'forestanimals-kevin-puzzle-1', 69: 'farm-wendy-puzzle-1', 70: 'who-wendy-puzzle-1', 71: 'sea-yasmin-puzzle-1', 72: 'jungle-yasmin-puzzle-1', 73: 'desert-yasmin-puzzle-1', 74: '2littlepigs-all-puzzle-1', 75: 'lab-wendy-puzzle-1', 76: 'farm-poiki-puzzle-1', 77: 'lighthouse-yasmin-puzzle-1', 78: 'mycountry-yasmin-puzzle-1', 79: 'forest-kevin-puzzle-1', 80: 'sea-yasmin-puzzle-2', 81: 'veggies-poiki-hotspot-1', 82: 'toys-kevin-hotspot-1', 83: 'farm-wendy-hotspot-1', 84: 'farmanimals-poiki-hotspot-1', 85: 'seanimals-yasmin-hotspot-1', 86: 'who-wendy-hotspot-1', 87: 'farm-wendy-hotspot-2', 88: 'farm-kevin-hotspot-1', 89: 'world-yasmin-hotspot-1', 90: 'sharing-wendy-hotspot-1', 91: 'newkinder-yasmin-hotspot-1', 92: 'newbaby-poiki-hotspot-1', 93: 'foods-poiki-hotspot-1', 94: 'friends-all-hotspot-1', 95: 'feelings-wendy-hotspot-1', 96: 'who-kevin-hotspot-1', 97: 'who-wendy-simulation-1', 98: 'farm-poiki-simulation-1', 99: 'farm-wendy-simulation-2', 100: 'cooking-kevin-simulation-1', 101: 'cooking-poiki-simulation-1', 102: 'cooking-yasmin-simulation-1', 103: 'feelings-poiki-simulation-1', 104: 'sleeping-kevin-simulation-1', 105: 'birthday-wendy-simulation-1', 106: 'christmas-all-simulation-1', 107: 'cooking-kevin-simulation-2', 108: 'who-kevin-simulation-1', 109: 'who-poiki-simulation-2', 110: 'lab-wendy-colors-1', 111: 'who-wendy-routine-2', 112: 'farm-kevin-identification-1', 113: 'farm-wendy-identification-1', 114: 'farm-kevin-piano-1', 115: 'farm-poiki-identification-1', 116: 'family-kevin-identification-1', 117: 'colors-yasmin-identification-1', 118: 'lab-wendy-shapes-1', 119: 'lab-wendy-space-1', 120: 'veggies-poiki-drawing-1', 121: 'fruits-kevin-drawing-1', 122: 'mycountry-yasmin-coloring-1', 123: 'fairtytales-wendy-coloring-1', 124: 'foods-poiki-naming-1', 125: 'mycountry-yasmin-tracing-1', 126: 'alphabet-poiki-tracing-1', 127: 'farm-yasmin-tracing-1', 128: 'alphabet-kevin-tracing-1', 129: 'yho-yasmin-tracing-1', 130: 'farm-kevin-colors-1', 131: 'family-wendy-game-1', 132: 'diapers-kevin-game-1', 133: 'sleeping-poiki-game-1', 134: 'country-birthday-game-1', 135: 'who-wendy-colors-1', 136: 'lab-kevin-game-1', 137: 'pets-bingo-1', 138: 'farmanimals-bingo-1', 139: 'colors-bingo-1', 140: 'myself-bingo-1', 141: 'beach-bingo-1', 142: 'body-roulette-1', 143: 'clothes-roulette-1', 144: 'foodsl-roulette-1', 145: 'shopping-roulette-1', 146: 'insects-roulette-1', 147: 'shapes-poiki-sequence-1', 148: 'shapes-memory-1', 149: 'clothes-memory-1', 150: 'colors-memory-1', 151: 'desertanimals-memory-1', 152: 'dinosaurs-memory-1', 153: 'feelings-memory-1', 154: 'foods-memory-1'}\n",
            "{'farm-poiki-book-1': 0, 'farm-poiki-book-2': 1, 'farm-wendy-book-1': 2, 'farm-kevin-book-1': 3, 'country-none-book-1': 4, 'country-none-book-2': 5, 'country-none-book-3': 6, 'country-none-book-4': 7, 'home-kevin-book-1': 8, 'daycare-all-book-1': 9, 'world-all-book-1': 10, 'home-wendy-book-1': 11, 'travel-yasmin-book-1': 12, 'who-wendy-book-1': 13, 'who-wendy-book-2': 14, 'lab-wendy-book-1': 15, 'farm-poiki-videoclip-1': 16, 'farm-poiki-videoclip-2': 17, 'theatre-all-videoclip-1': 18, 'country-yasmin-videoclip-1': 19, 'country-wendy-videoclip-1': 20, 'country-yasmin-videoclip-2': 21, 'who-all-videoclip-1': 22, 'farm-yasmin-demovideo-1': 23, 'farm-poiki-demovideo-1': 24, 'farm-kevin-demovideo-1': 25, 'farm-wendy-demovideo-1': 26, 'farm-kevin-demovideo-2': 27, 'farm-poiki-demovideo-2': 28, 'farm-poiki-demovideo-3': 29, 'farm-none-demovideo-1': 30, 'farm-poiki-demovideo-4': 31, 'lab-wendy-demovideo-1': 32, 'who-wendy-demovideo-1': 33, 'who-yasmin-demovideo-1': 34, 'who-kevin-demovideo-1': 35, 'farm-yasmin-flashcards-1': 36, 'vehicles-yasmin-flashcards-1': 37, 'body-yasmin-flashcards-1': 38, 'pets-yasmin-flashcards-1': 39, 'colors-yasmin-flashcards-1': 40, 'seaanimals-yasmin-flashcards-1': 41, 'mycountryanimals-yasmin-flashcards-1': 42, 'instruments-yasmin-flashcards-1': 43, 'fruits-yasmin-flashcards-1': 44, 'veggies-yasmin-flashcards-1': 45, 'sea-yasmin-stickers-1': 46, 'farm-poiki-stickers-1': 47, 'jungle-yasmin-stickers-1': 48, 'forest-kevin-stickers-1': 49, 'body-wendy-stickers-1': 50, 'body-wendy-stickers-2': 51, 'dinosaurs-kevin-stickers-1': 52, 'beach-yasmin-stickers-1': 53, 'home-poiki-stickers-1': 54, 'greetings-poiki-video-1': 55, 'numbers-kevin-video-1': 56, 'numbers-poiki-video-1': 57, 'numbers-kevin-video-2': 58, 'numbers-yasmin-video-1': 59, 'numbers-poiki-video-2': 60, 'vehicles-yasmin-video-1': 61, 'feelings-poiki-video-1': 62, 'greetings-yasmin-video-1': 63, 'socialcode-wendy-video-1': 64, 'feelings-kevwen-video-1': 65, 'farm-poiki-video-1': 66, 'farm-poiki-video-2': 67, 'forestanimals-kevin-puzzle-1': 68, 'farm-wendy-puzzle-1': 69, 'who-wendy-puzzle-1': 70, 'sea-yasmin-puzzle-1': 71, 'jungle-yasmin-puzzle-1': 72, 'desert-yasmin-puzzle-1': 73, '2littlepigs-all-puzzle-1': 74, 'lab-wendy-puzzle-1': 75, 'farm-poiki-puzzle-1': 76, 'lighthouse-yasmin-puzzle-1': 77, 'mycountry-yasmin-puzzle-1': 78, 'forest-kevin-puzzle-1': 79, 'sea-yasmin-puzzle-2': 80, 'veggies-poiki-hotspot-1': 81, 'toys-kevin-hotspot-1': 82, 'farm-wendy-hotspot-1': 83, 'farmanimals-poiki-hotspot-1': 84, 'seanimals-yasmin-hotspot-1': 85, 'who-wendy-hotspot-1': 86, 'farm-wendy-hotspot-2': 87, 'farm-kevin-hotspot-1': 88, 'world-yasmin-hotspot-1': 89, 'sharing-wendy-hotspot-1': 90, 'newkinder-yasmin-hotspot-1': 91, 'newbaby-poiki-hotspot-1': 92, 'foods-poiki-hotspot-1': 93, 'friends-all-hotspot-1': 94, 'feelings-wendy-hotspot-1': 95, 'who-kevin-hotspot-1': 96, 'who-wendy-simulation-1': 97, 'farm-poiki-simulation-1': 98, 'farm-wendy-simulation-2': 99, 'cooking-kevin-simulation-1': 100, 'cooking-poiki-simulation-1': 101, 'cooking-yasmin-simulation-1': 102, 'feelings-poiki-simulation-1': 103, 'sleeping-kevin-simulation-1': 104, 'birthday-wendy-simulation-1': 105, 'christmas-all-simulation-1': 106, 'cooking-kevin-simulation-2': 107, 'who-kevin-simulation-1': 108, 'who-poiki-simulation-2': 109, 'lab-wendy-colors-1': 110, 'who-wendy-routine-2': 111, 'farm-kevin-identification-1': 112, 'farm-wendy-identification-1': 113, 'farm-kevin-piano-1': 114, 'farm-poiki-identification-1': 115, 'family-kevin-identification-1': 116, 'colors-yasmin-identification-1': 117, 'lab-wendy-shapes-1': 118, 'lab-wendy-space-1': 119, 'veggies-poiki-drawing-1': 120, 'fruits-kevin-drawing-1': 121, 'mycountry-yasmin-coloring-1': 122, 'fairtytales-wendy-coloring-1': 123, 'foods-poiki-naming-1': 124, 'mycountry-yasmin-tracing-1': 125, 'alphabet-poiki-tracing-1': 126, 'farm-yasmin-tracing-1': 127, 'alphabet-kevin-tracing-1': 128, 'yho-yasmin-tracing-1': 129, 'farm-kevin-colors-1': 130, 'family-wendy-game-1': 131, 'diapers-kevin-game-1': 132, 'sleeping-poiki-game-1': 133, 'country-birthday-game-1': 134, 'who-wendy-colors-1': 135, 'lab-kevin-game-1': 136, 'pets-bingo-1': 137, 'farmanimals-bingo-1': 138, 'colors-bingo-1': 139, 'myself-bingo-1': 140, 'beach-bingo-1': 141, 'body-roulette-1': 142, 'clothes-roulette-1': 143, 'foodsl-roulette-1': 144, 'shopping-roulette-1': 145, 'insects-roulette-1': 146, 'shapes-poiki-sequence-1': 147, 'shapes-memory-1': 148, 'clothes-memory-1': 149, 'colors-memory-1': 150, 'desertanimals-memory-1': 151, 'dinosaurs-memory-1': 152, 'feelings-memory-1': 153, 'foods-memory-1': 154}\n"
          ]
        }
      ]
    },
    {
      "cell_type": "markdown",
      "metadata": {
        "id": "48cfyEjNYNxq"
      },
      "source": [
        "### Add the encoded (numerical) activity id to `df_activitiy`"
      ]
    },
    {
      "cell_type": "code",
      "metadata": {
        "colab": {
          "base_uri": "https://localhost:8080/",
          "height": 343
        },
        "id": "yaQaM5yAdPW_",
        "outputId": "809f128f-463d-422c-d8ad-8f047a92b0af"
      },
      "source": [
        "df_activity['Activity_Num_ID'] = df_activity['Activity_ID'].map(encoded_id_to_activity_dict)\n",
        "df_activity.head()"
      ],
      "execution_count": null,
      "outputs": [
        {
          "output_type": "execute_result",
          "data": {
            "text/html": [
              "<div>\n",
              "<style scoped>\n",
              "    .dataframe tbody tr th:only-of-type {\n",
              "        vertical-align: middle;\n",
              "    }\n",
              "\n",
              "    .dataframe tbody tr th {\n",
              "        vertical-align: top;\n",
              "    }\n",
              "\n",
              "    .dataframe thead th {\n",
              "        text-align: right;\n",
              "    }\n",
              "</style>\n",
              "<table border=\"1\" class=\"dataframe\">\n",
              "  <thead>\n",
              "    <tr style=\"text-align: right;\">\n",
              "      <th></th>\n",
              "      <th>Activity_ID</th>\n",
              "      <th>Activity_Name</th>\n",
              "      <th>Activity_Content</th>\n",
              "      <th>Activity_Type</th>\n",
              "      <th>GameType</th>\n",
              "      <th>Ages_2yo</th>\n",
              "      <th>Ages_3yo</th>\n",
              "      <th>Ages_4yo</th>\n",
              "      <th>Ages_5yo</th>\n",
              "      <th>Ages_6yo</th>\n",
              "      <th>Ages_7yo</th>\n",
              "      <th>Cultures_None</th>\n",
              "      <th>Cultures_Brazil</th>\n",
              "      <th>Cultures_US</th>\n",
              "      <th>Cultures_UK</th>\n",
              "      <th>Cultures_Denmark</th>\n",
              "      <th>Cultures_Spain</th>\n",
              "      <th>Cultures_Mexico</th>\n",
              "      <th>Cultures_Canada</th>\n",
              "      <th>Cultures_Portugal</th>\n",
              "      <th>Cultures_Australia</th>\n",
              "      <th>Cultures_France</th>\n",
              "      <th>Cultures_Italy</th>\n",
              "      <th>Cultures_Germany</th>\n",
              "      <th>Activity_Level</th>\n",
              "      <th>Activity_Num_ID</th>\n",
              "    </tr>\n",
              "  </thead>\n",
              "  <tbody>\n",
              "    <tr>\n",
              "      <th>0</th>\n",
              "      <td>farm-poiki-book-1</td>\n",
              "      <td>Book: Poiki, the farmer</td>\n",
              "      <td>farm</td>\n",
              "      <td>standard</td>\n",
              "      <td>reading-book</td>\n",
              "      <td>1</td>\n",
              "      <td>1</td>\n",
              "      <td>1</td>\n",
              "      <td>0</td>\n",
              "      <td>0</td>\n",
              "      <td>0</td>\n",
              "      <td>1</td>\n",
              "      <td>0</td>\n",
              "      <td>0</td>\n",
              "      <td>0</td>\n",
              "      <td>0</td>\n",
              "      <td>0</td>\n",
              "      <td>0</td>\n",
              "      <td>0</td>\n",
              "      <td>0</td>\n",
              "      <td>0</td>\n",
              "      <td>0</td>\n",
              "      <td>0</td>\n",
              "      <td>0</td>\n",
              "      <td>0</td>\n",
              "      <td>0</td>\n",
              "    </tr>\n",
              "    <tr>\n",
              "      <th>1</th>\n",
              "      <td>farm-poiki-book-2</td>\n",
              "      <td>Book: The animals in the farm</td>\n",
              "      <td>farm-animals</td>\n",
              "      <td>standard</td>\n",
              "      <td>reading-book</td>\n",
              "      <td>1</td>\n",
              "      <td>1</td>\n",
              "      <td>1</td>\n",
              "      <td>0</td>\n",
              "      <td>0</td>\n",
              "      <td>0</td>\n",
              "      <td>1</td>\n",
              "      <td>0</td>\n",
              "      <td>0</td>\n",
              "      <td>0</td>\n",
              "      <td>0</td>\n",
              "      <td>0</td>\n",
              "      <td>0</td>\n",
              "      <td>0</td>\n",
              "      <td>0</td>\n",
              "      <td>0</td>\n",
              "      <td>0</td>\n",
              "      <td>0</td>\n",
              "      <td>0</td>\n",
              "      <td>0</td>\n",
              "      <td>1</td>\n",
              "    </tr>\n",
              "    <tr>\n",
              "      <th>2</th>\n",
              "      <td>farm-wendy-book-1</td>\n",
              "      <td>Book: Colors in the farm</td>\n",
              "      <td>colors</td>\n",
              "      <td>standard</td>\n",
              "      <td>reading-book</td>\n",
              "      <td>1</td>\n",
              "      <td>1</td>\n",
              "      <td>0</td>\n",
              "      <td>0</td>\n",
              "      <td>0</td>\n",
              "      <td>0</td>\n",
              "      <td>1</td>\n",
              "      <td>0</td>\n",
              "      <td>0</td>\n",
              "      <td>0</td>\n",
              "      <td>0</td>\n",
              "      <td>0</td>\n",
              "      <td>0</td>\n",
              "      <td>0</td>\n",
              "      <td>0</td>\n",
              "      <td>0</td>\n",
              "      <td>0</td>\n",
              "      <td>0</td>\n",
              "      <td>0</td>\n",
              "      <td>0</td>\n",
              "      <td>2</td>\n",
              "    </tr>\n",
              "    <tr>\n",
              "      <th>3</th>\n",
              "      <td>farm-kevin-book-1</td>\n",
              "      <td>Book: Shapes in the farm</td>\n",
              "      <td>shapes</td>\n",
              "      <td>standard</td>\n",
              "      <td>reading-book</td>\n",
              "      <td>1</td>\n",
              "      <td>1</td>\n",
              "      <td>0</td>\n",
              "      <td>0</td>\n",
              "      <td>0</td>\n",
              "      <td>0</td>\n",
              "      <td>1</td>\n",
              "      <td>0</td>\n",
              "      <td>0</td>\n",
              "      <td>0</td>\n",
              "      <td>0</td>\n",
              "      <td>0</td>\n",
              "      <td>0</td>\n",
              "      <td>0</td>\n",
              "      <td>0</td>\n",
              "      <td>0</td>\n",
              "      <td>0</td>\n",
              "      <td>0</td>\n",
              "      <td>0</td>\n",
              "      <td>0</td>\n",
              "      <td>3</td>\n",
              "    </tr>\n",
              "    <tr>\n",
              "      <th>4</th>\n",
              "      <td>country-none-book-1</td>\n",
              "      <td>How are the farms in my country?</td>\n",
              "      <td>my-country</td>\n",
              "      <td>cultural</td>\n",
              "      <td>reading-book</td>\n",
              "      <td>1</td>\n",
              "      <td>1</td>\n",
              "      <td>1</td>\n",
              "      <td>1</td>\n",
              "      <td>0</td>\n",
              "      <td>0</td>\n",
              "      <td>0</td>\n",
              "      <td>1</td>\n",
              "      <td>1</td>\n",
              "      <td>1</td>\n",
              "      <td>1</td>\n",
              "      <td>1</td>\n",
              "      <td>1</td>\n",
              "      <td>1</td>\n",
              "      <td>1</td>\n",
              "      <td>1</td>\n",
              "      <td>0</td>\n",
              "      <td>0</td>\n",
              "      <td>0</td>\n",
              "      <td>0</td>\n",
              "      <td>4</td>\n",
              "    </tr>\n",
              "  </tbody>\n",
              "</table>\n",
              "</div>"
            ],
            "text/plain": [
              "           Activity_ID  ... Activity_Num_ID\n",
              "0    farm-poiki-book-1  ...               0\n",
              "1    farm-poiki-book-2  ...               1\n",
              "2    farm-wendy-book-1  ...               2\n",
              "3    farm-kevin-book-1  ...               3\n",
              "4  country-none-book-1  ...               4\n",
              "\n",
              "[5 rows x 26 columns]"
            ]
          },
          "metadata": {},
          "execution_count": 10
        }
      ]
    },
    {
      "cell_type": "markdown",
      "metadata": {
        "id": "iHMfq-wtYSxj"
      },
      "source": [
        "### Add the encoded (numerical) activity id to `df_scores_train`"
      ]
    },
    {
      "cell_type": "code",
      "metadata": {
        "colab": {
          "base_uri": "https://localhost:8080/",
          "height": 204
        },
        "id": "U_BpBVjMdXYO",
        "outputId": "31c5457f-66ac-4a8b-8fb6-4a302ba4fb3b"
      },
      "source": [
        "df_scores_train['Activity_Num_ID'] = df_scores_train['Activity_ID'].map(encoded_id_to_activity_dict)\n",
        "df_scores_train.head()"
      ],
      "execution_count": null,
      "outputs": [
        {
          "output_type": "execute_result",
          "data": {
            "text/html": [
              "<div>\n",
              "<style scoped>\n",
              "    .dataframe tbody tr th:only-of-type {\n",
              "        vertical-align: middle;\n",
              "    }\n",
              "\n",
              "    .dataframe tbody tr th {\n",
              "        vertical-align: top;\n",
              "    }\n",
              "\n",
              "    .dataframe thead th {\n",
              "        text-align: right;\n",
              "    }\n",
              "</style>\n",
              "<table border=\"1\" class=\"dataframe\">\n",
              "  <thead>\n",
              "    <tr style=\"text-align: right;\">\n",
              "      <th></th>\n",
              "      <th>User_ID</th>\n",
              "      <th>Activity_ID</th>\n",
              "      <th>No_of_attempts</th>\n",
              "      <th>Time_taken</th>\n",
              "      <th>Translanguage_Level</th>\n",
              "      <th>Usefulness_Score</th>\n",
              "      <th>_Translanguage_Level_Before_Course_Plan</th>\n",
              "      <th>Activity_Num_ID</th>\n",
              "    </tr>\n",
              "  </thead>\n",
              "  <tbody>\n",
              "    <tr>\n",
              "      <th>0</th>\n",
              "      <td>0</td>\n",
              "      <td>country-wendy-videoclip-1</td>\n",
              "      <td>3</td>\n",
              "      <td>278.055180</td>\n",
              "      <td>3.101002</td>\n",
              "      <td>0.139800</td>\n",
              "      <td>2</td>\n",
              "      <td>20</td>\n",
              "    </tr>\n",
              "    <tr>\n",
              "      <th>1</th>\n",
              "      <td>0</td>\n",
              "      <td>country-yasmin-videoclip-1</td>\n",
              "      <td>4</td>\n",
              "      <td>281.867673</td>\n",
              "      <td>2.826381</td>\n",
              "      <td>0.084624</td>\n",
              "      <td>2</td>\n",
              "      <td>19</td>\n",
              "    </tr>\n",
              "    <tr>\n",
              "      <th>2</th>\n",
              "      <td>0</td>\n",
              "      <td>lab-wendy-colors-1</td>\n",
              "      <td>3</td>\n",
              "      <td>277.465027</td>\n",
              "      <td>2.782403</td>\n",
              "      <td>0.065831</td>\n",
              "      <td>2</td>\n",
              "      <td>110</td>\n",
              "    </tr>\n",
              "    <tr>\n",
              "      <th>3</th>\n",
              "      <td>0</td>\n",
              "      <td>who-wendy-colors-1</td>\n",
              "      <td>2</td>\n",
              "      <td>283.909252</td>\n",
              "      <td>3.006378</td>\n",
              "      <td>0.011640</td>\n",
              "      <td>2</td>\n",
              "      <td>135</td>\n",
              "    </tr>\n",
              "    <tr>\n",
              "      <th>4</th>\n",
              "      <td>0</td>\n",
              "      <td>farm-poiki-video-1</td>\n",
              "      <td>3</td>\n",
              "      <td>285.101000</td>\n",
              "      <td>2.736871</td>\n",
              "      <td>0.038446</td>\n",
              "      <td>2</td>\n",
              "      <td>66</td>\n",
              "    </tr>\n",
              "  </tbody>\n",
              "</table>\n",
              "</div>"
            ],
            "text/plain": [
              "   User_ID  ... Activity_Num_ID\n",
              "0        0  ...              20\n",
              "1        0  ...              19\n",
              "2        0  ...             110\n",
              "3        0  ...             135\n",
              "4        0  ...              66\n",
              "\n",
              "[5 rows x 8 columns]"
            ]
          },
          "metadata": {},
          "execution_count": 11
        }
      ]
    },
    {
      "cell_type": "markdown",
      "metadata": {
        "id": "eZFx4qCgYWCb"
      },
      "source": [
        "### Add the encoded (numerical) activity id to `df_scores_test`"
      ]
    },
    {
      "cell_type": "code",
      "metadata": {
        "colab": {
          "base_uri": "https://localhost:8080/",
          "height": 204
        },
        "id": "itvkuaGUdf2-",
        "outputId": "65c30a10-9667-45be-ade3-105fb8fa8ad7"
      },
      "source": [
        "df_scores_test['Activity_Num_ID'] = df_scores_test['Activity_ID'].map(encoded_id_to_activity_dict)\n",
        "df_scores_test.head()"
      ],
      "execution_count": null,
      "outputs": [
        {
          "output_type": "execute_result",
          "data": {
            "text/html": [
              "<div>\n",
              "<style scoped>\n",
              "    .dataframe tbody tr th:only-of-type {\n",
              "        vertical-align: middle;\n",
              "    }\n",
              "\n",
              "    .dataframe tbody tr th {\n",
              "        vertical-align: top;\n",
              "    }\n",
              "\n",
              "    .dataframe thead th {\n",
              "        text-align: right;\n",
              "    }\n",
              "</style>\n",
              "<table border=\"1\" class=\"dataframe\">\n",
              "  <thead>\n",
              "    <tr style=\"text-align: right;\">\n",
              "      <th></th>\n",
              "      <th>User_ID</th>\n",
              "      <th>Activity_ID</th>\n",
              "      <th>No_of_attempts</th>\n",
              "      <th>Time_taken</th>\n",
              "      <th>Translanguage_Level</th>\n",
              "      <th>Usefulness_Score</th>\n",
              "      <th>_Translanguage_Level_Before_Course_Plan</th>\n",
              "      <th>Activity_Num_ID</th>\n",
              "    </tr>\n",
              "  </thead>\n",
              "  <tbody>\n",
              "    <tr>\n",
              "      <th>0</th>\n",
              "      <td>0</td>\n",
              "      <td>cooking-yasmin-simulation-1</td>\n",
              "      <td>4</td>\n",
              "      <td>276.452842</td>\n",
              "      <td>3.487373</td>\n",
              "      <td>0.390101</td>\n",
              "      <td>3</td>\n",
              "      <td>102</td>\n",
              "    </tr>\n",
              "    <tr>\n",
              "      <th>1</th>\n",
              "      <td>0</td>\n",
              "      <td>farm-poiki-video-2</td>\n",
              "      <td>1</td>\n",
              "      <td>292.072599</td>\n",
              "      <td>3.711785</td>\n",
              "      <td>0.168906</td>\n",
              "      <td>3</td>\n",
              "      <td>67</td>\n",
              "    </tr>\n",
              "    <tr>\n",
              "      <th>2</th>\n",
              "      <td>0</td>\n",
              "      <td>lab-kevin-game-1</td>\n",
              "      <td>1</td>\n",
              "      <td>280.767327</td>\n",
              "      <td>3.860060</td>\n",
              "      <td>0.092441</td>\n",
              "      <td>3</td>\n",
              "      <td>136</td>\n",
              "    </tr>\n",
              "    <tr>\n",
              "      <th>3</th>\n",
              "      <td>0</td>\n",
              "      <td>insects-roulette-1</td>\n",
              "      <td>2</td>\n",
              "      <td>286.974125</td>\n",
              "      <td>3.731912</td>\n",
              "      <td>0.079838</td>\n",
              "      <td>3</td>\n",
              "      <td>146</td>\n",
              "    </tr>\n",
              "    <tr>\n",
              "      <th>4</th>\n",
              "      <td>0</td>\n",
              "      <td>cooking-yasmin-simulation-1</td>\n",
              "      <td>3</td>\n",
              "      <td>286.916326</td>\n",
              "      <td>3.823462</td>\n",
              "      <td>0.055227</td>\n",
              "      <td>3</td>\n",
              "      <td>102</td>\n",
              "    </tr>\n",
              "  </tbody>\n",
              "</table>\n",
              "</div>"
            ],
            "text/plain": [
              "   User_ID  ... Activity_Num_ID\n",
              "0        0  ...             102\n",
              "1        0  ...              67\n",
              "2        0  ...             136\n",
              "3        0  ...             146\n",
              "4        0  ...             102\n",
              "\n",
              "[5 rows x 8 columns]"
            ]
          },
          "metadata": {},
          "execution_count": 12
        }
      ]
    },
    {
      "cell_type": "markdown",
      "metadata": {
        "id": "-Tdiyho3XtgF"
      },
      "source": [
        "### Set up Spark context"
      ]
    },
    {
      "cell_type": "code",
      "metadata": {
        "id": "w6L68jUrgJk5"
      },
      "source": [
        "# the following settings work well for debugging locally on VM - change when running on a cluster\n",
        "# set up a giant single executor with many threads and specify memory cap\n",
        "spark = start_or_get_spark(\"ALS PySpark\", memory=\"16g\")"
      ],
      "execution_count": null,
      "outputs": []
    },
    {
      "cell_type": "code",
      "metadata": {
        "id": "1QGm_L4rd8p9"
      },
      "source": [
        "# top k items to recommend\n",
        "TOP_K = 10"
      ],
      "execution_count": null,
      "outputs": []
    },
    {
      "cell_type": "markdown",
      "metadata": {
        "id": "Uek6CIiSZpj5"
      },
      "source": [
        "### Create the train and test dataset using spark"
      ]
    },
    {
      "cell_type": "code",
      "metadata": {
        "id": "LE0u6gj7cWEN"
      },
      "source": [
        "# Note: The DataFrame-based API for ALS currently only supports integers for user and item ids.\n",
        "schema = StructType(\n",
        "    (\n",
        "        StructField(\"User_ID\", IntegerType()),\n",
        "        StructField(\"Activity_Num_ID\", IntegerType()),\n",
        "        StructField(\"Usefulness_Score\", FloatType()),\n",
        "        # StructField(\"Timestamp\", LongType()),\n",
        "    )\n",
        ")\n"
      ],
      "execution_count": null,
      "outputs": []
    },
    {
      "cell_type": "code",
      "metadata": {
        "colab": {
          "base_uri": "https://localhost:8080/"
        },
        "id": "GZhXzjXLeCNK",
        "outputId": "7d0fd826-e541-43c2-9bbb-c4f137274ee0"
      },
      "source": [
        "train = spark.createDataFrame(df_scores_train[['User_ID', 'Activity_Num_ID', 'Usefulness_Score']], schema=schema)\n",
        "train.show()"
      ],
      "execution_count": null,
      "outputs": [
        {
          "output_type": "stream",
          "name": "stdout",
          "text": [
            "+-------+---------------+----------------+\n",
            "|User_ID|Activity_Num_ID|Usefulness_Score|\n",
            "+-------+---------------+----------------+\n",
            "|      0|             20|      0.13979952|\n",
            "|      0|             19|      0.08462363|\n",
            "|      0|            110|      0.06583124|\n",
            "|      0|            135|     0.011639966|\n",
            "|      0|             66|      0.03844588|\n",
            "|      0|            140|      0.12760982|\n",
            "|      0|              4|      0.38467258|\n",
            "|      0|             67|       0.2677407|\n",
            "|      0|            142|      0.23321155|\n",
            "|      0|              6|      0.11221865|\n",
            "|      0|            144|      0.49340522|\n",
            "|      0|            102|      0.18139784|\n",
            "|      0|            146|      0.23465453|\n",
            "|      0|            140|      0.08161085|\n",
            "|      0|            102|       0.1039794|\n",
            "|      0|             14|     0.042830396|\n",
            "|      0|             66|     0.043932125|\n",
            "|      0|            119|     0.023190195|\n",
            "|      0|             67|            -0.0|\n",
            "|      0|            136|     9.232206E-4|\n",
            "+-------+---------------+----------------+\n",
            "only showing top 20 rows\n",
            "\n"
          ]
        }
      ]
    },
    {
      "cell_type": "code",
      "metadata": {
        "colab": {
          "base_uri": "https://localhost:8080/"
        },
        "id": "GJZ726jndkPj",
        "outputId": "c04ffe10-d3ca-4b36-dc87-e87f161a6f0f"
      },
      "source": [
        "test = spark.createDataFrame(df_scores_test[['User_ID', 'Activity_Num_ID', 'Usefulness_Score']], schema=schema)\n",
        "test.show()"
      ],
      "execution_count": null,
      "outputs": [
        {
          "output_type": "stream",
          "name": "stdout",
          "text": [
            "+-------+---------------+----------------+\n",
            "|User_ID|Activity_Num_ID|Usefulness_Score|\n",
            "+-------+---------------+----------------+\n",
            "|      0|            102|      0.39010146|\n",
            "|      0|             67|      0.16890566|\n",
            "|      0|            136|      0.09244091|\n",
            "|      0|            146|     0.079837985|\n",
            "|      0|            102|      0.05522651|\n",
            "|      0|             14|       0.5059616|\n",
            "|      0|             66|      0.11612179|\n",
            "|      0|            140|     0.096445695|\n",
            "|      0|            144|      0.26811612|\n",
            "|      0|            119|      0.12221528|\n",
            "|      1|            140|      0.55767816|\n",
            "|      1|            135|      0.46363315|\n",
            "|      1|            145|      0.21864375|\n",
            "|      1|            147|       0.5606937|\n",
            "|      1|             14|      0.47170857|\n",
            "|      1|            137|       0.5093477|\n",
            "|      1|             67|       0.4523332|\n",
            "|      1|             15|       0.4884733|\n",
            "|      1|            119|      0.45285666|\n",
            "|      1|            136|      0.48469877|\n",
            "+-------+---------------+----------------+\n",
            "only showing top 20 rows\n",
            "\n"
          ]
        }
      ]
    },
    {
      "cell_type": "markdown",
      "metadata": {
        "id": "mgeLowUJg5Yo"
      },
      "source": [
        "### Train the ALS model on the training data, and get the top-k recommendations for our testing data"
      ]
    },
    {
      "cell_type": "code",
      "metadata": {
        "id": "O3crlWfuhyoQ"
      },
      "source": [
        "header = {\n",
        "    \"userCol\": \"User_ID\",\n",
        "    \"itemCol\": \"Activity_Num_ID\",\n",
        "    \"ratingCol\": \"Usefulness_Score\",\n",
        "}\n",
        "\n",
        "\n",
        "als = ALS(\n",
        "    rank=10,\n",
        "    maxIter=15,\n",
        "    implicitPrefs=False,\n",
        "    regParam=0.05,\n",
        "    coldStartStrategy='drop',\n",
        "    nonnegative=False,\n",
        "    seed=42,\n",
        "    **header\n",
        ")"
      ],
      "execution_count": null,
      "outputs": []
    },
    {
      "cell_type": "code",
      "metadata": {
        "colab": {
          "base_uri": "https://localhost:8080/"
        },
        "id": "hXSKG8G6h_7K",
        "outputId": "4b4fbc21-6a43-498a-dae9-1f3d59410e33"
      },
      "source": [
        "with Timer() as train_time:\n",
        "    model = als.fit(train)\n",
        "\n",
        "print(\"Took {} seconds for training.\".format(train_time.interval))"
      ],
      "execution_count": null,
      "outputs": [
        {
          "output_type": "stream",
          "name": "stdout",
          "text": [
            "Took 12.719900020000011 seconds for training.\n"
          ]
        }
      ]
    },
    {
      "cell_type": "code",
      "metadata": {
        "colab": {
          "base_uri": "https://localhost:8080/"
        },
        "id": "HEuYfM-_iEn-",
        "outputId": "d744e0e4-7e65-4224-ab24-6cb15d030d53"
      },
      "source": [
        "with Timer() as test_time:\n",
        "\n",
        "    # Get the cross join of all user-item pairs and score them.\n",
        "    users = train.select('User_ID').distinct()\n",
        "    items = train.select('Activity_Num_ID').distinct()\n",
        "    user_item = users.crossJoin(items)\n",
        "    dfs_pred = model.transform(user_item)\n",
        "\n",
        "    # Remove seen items.\n",
        "    dfs_pred_exclude_train = dfs_pred.alias(\"pred\").join(\n",
        "        train.alias(\"train\"),\n",
        "        (dfs_pred['User_ID'] == train['User_ID']) & (dfs_pred['Activity_Num_ID'] == train['Activity_Num_ID']),\n",
        "        how='outer'\n",
        "    )\n",
        "\n",
        "    top_all = dfs_pred_exclude_train.filter(dfs_pred_exclude_train[\"train.Usefulness_Score\"].isNull()) \\\n",
        "        .select('pred.' + 'User_ID', 'pred.' + 'Activity_Num_ID', 'pred.' + \"prediction\")\n",
        "\n",
        "    # In Spark, transformations are lazy evaluation\n",
        "    # Use an action to force execute and measure the test time \n",
        "    top_all.cache().count()\n",
        "\n",
        "print(\"Took {} seconds for prediction.\".format(test_time.interval))"
      ],
      "execution_count": null,
      "outputs": [
        {
          "output_type": "stream",
          "name": "stdout",
          "text": [
            "Took 259.79947379699996 seconds for prediction.\n"
          ]
        }
      ]
    },
    {
      "cell_type": "code",
      "metadata": {
        "colab": {
          "base_uri": "https://localhost:8080/"
        },
        "id": "Lg1AzOfkiZ-s",
        "outputId": "deedc678-e249-47ea-a3c2-9373916e621d"
      },
      "source": [
        "top_all.show()"
      ],
      "execution_count": null,
      "outputs": [
        {
          "output_type": "stream",
          "name": "stdout",
          "text": [
            "+-------+---------------+-----------+\n",
            "|User_ID|Activity_Num_ID| prediction|\n",
            "+-------+---------------+-----------+\n",
            "|      3|             22| 0.20239624|\n",
            "|      3|             89| 0.15910716|\n",
            "|     12|            115| 0.12566525|\n",
            "|     17|            138| 0.22016704|\n",
            "|     18|             68| 0.47474045|\n",
            "|     20|            121|  0.1408331|\n",
            "|     21|            140|   0.251435|\n",
            "|     25|             61|   0.451927|\n",
            "|     27|             65|  0.5214742|\n",
            "|     28|             63| 0.33487332|\n",
            "|     32|             26| 0.37788752|\n",
            "|     35|             45|  0.5765959|\n",
            "|     37|            138| 0.22469497|\n",
            "|     43|            100| 0.49194843|\n",
            "|     56|             26| 0.11153958|\n",
            "|     58|             34|0.048314597|\n",
            "|     58|             81|0.096042395|\n",
            "|     58|             93| 0.06463966|\n",
            "|     60|             84| 0.40883777|\n",
            "|     61|             13|  0.2476313|\n",
            "+-------+---------------+-----------+\n",
            "only showing top 20 rows\n",
            "\n"
          ]
        }
      ]
    },
    {
      "cell_type": "markdown",
      "metadata": {
        "id": "sR9DaSXileHG"
      },
      "source": [
        "### Evaluate how well ALS performs"
      ]
    },
    {
      "cell_type": "code",
      "metadata": {
        "id": "U0jxgi2Kl1eE"
      },
      "source": [
        "rank_eval = SparkRankingEvaluation(test, top_all, k = TOP_K, col_user=\"User_ID\", col_item=\"Activity_Num_ID\", \n",
        "                                    col_rating=\"Usefulness_Score\", col_prediction=\"prediction\", \n",
        "                                    relevancy_method=\"top_k\")"
      ],
      "execution_count": null,
      "outputs": []
    },
    {
      "cell_type": "code",
      "metadata": {
        "colab": {
          "base_uri": "https://localhost:8080/"
        },
        "id": "zWDqxAlOmEsR",
        "outputId": "86a05f8e-d2f1-4d45-fd91-1988244a529d"
      },
      "source": [
        "print(\"Model:\\tALS\",\n",
        "      \"Top K:\\t%d\" % rank_eval.k,\n",
        "      \"MAP:\\t%f\" % rank_eval.map_at_k(),\n",
        "      \"NDCG:\\t%f\" % rank_eval.ndcg_at_k(),\n",
        "      \"Precision@K:\\t%f\" % rank_eval.precision_at_k(),\n",
        "      \"Recall@K:\\t%f\" % rank_eval.recall_at_k(), sep='\\n')"
      ],
      "execution_count": null,
      "outputs": [
        {
          "output_type": "stream",
          "name": "stdout",
          "text": [
            "Model:\tALS\n",
            "Top K:\t10\n",
            "MAP:\t0.000050\n",
            "NDCG:\t0.000278\n",
            "Precision@K:\t0.000400\n",
            "Recall@K:\t0.000400\n"
          ]
        }
      ]
    },
    {
      "cell_type": "markdown",
      "metadata": {
        "id": "xUa7fvmAml3G"
      },
      "source": [
        "### Evaluate rating prediction"
      ]
    },
    {
      "cell_type": "code",
      "metadata": {
        "colab": {
          "base_uri": "https://localhost:8080/"
        },
        "id": "9QJN4brGnh3R",
        "outputId": "4264a6cc-2ef5-45d1-dfd5-6825e2d347ef"
      },
      "source": [
        "# Generate predicted ratings.\n",
        "prediction = model.transform(test)\n",
        "prediction.cache().show()"
      ],
      "execution_count": null,
      "outputs": [
        {
          "output_type": "stream",
          "name": "stdout",
          "text": [
            "+-------+---------------+----------------+----------+\n",
            "|User_ID|Activity_Num_ID|Usefulness_Score|prediction|\n",
            "+-------+---------------+----------------+----------+\n",
            "|     27|            137|       0.6228585| 0.5683333|\n",
            "|    192|            137|      0.17410272|0.54196334|\n",
            "|      1|            137|       0.5093477| 0.6442136|\n",
            "|    117|            137|     0.039939724| 0.1382233|\n",
            "|    179|            137|      0.11204991|0.21670061|\n",
            "|     17|            137|      0.23561443| 0.3843096|\n",
            "|     55|            137|       0.4837254| 0.3977306|\n",
            "|    181|            137|      0.40124723|0.22585054|\n",
            "|    157|             65|      0.12371699|0.28512174|\n",
            "|     47|             65|      0.11421632|0.26712978|\n",
            "|     54|             65|      0.27657962| 0.6711551|\n",
            "|     87|             65|      0.01716716| 0.4087825|\n",
            "|    141|             65|       0.4039578|0.10350898|\n",
            "|    145|             65|       0.5833708| 0.6785665|\n",
            "|    188|             65|       0.3424083|0.73829913|\n",
            "|    118|             65|     0.014484879|0.38851273|\n",
            "|    153|             65|     0.013191804|0.14111768|\n",
            "|     85|             78|      0.35171524| 0.6805432|\n",
            "|    140|             78|      0.24776399| 0.4313154|\n",
            "|     52|             78|       0.6071835|0.72306633|\n",
            "+-------+---------------+----------------+----------+\n",
            "only showing top 20 rows\n",
            "\n"
          ]
        }
      ]
    },
    {
      "cell_type": "code",
      "metadata": {
        "colab": {
          "base_uri": "https://localhost:8080/"
        },
        "id": "pmfD9ublpC8T",
        "outputId": "6322213e-c396-4f24-8408-ebdf9c4081d7"
      },
      "source": [
        "rating_eval = SparkRatingEvaluation(test, prediction, col_user=\"User_ID\", col_item=\"Activity_Num_ID\", \n",
        "                                    col_rating=\"Usefulness_Score\", col_prediction=\"prediction\")\n",
        "\n",
        "print(\"Model:\\tALS rating prediction\",\n",
        "      \"RMSE:\\t%f\" % rating_eval.rmse(),\n",
        "      \"MAE:\\t%f\" % rating_eval.mae(),\n",
        "      \"Explained variance:\\t%f\" % rating_eval.exp_var(),\n",
        "      \"R squared:\\t%f\" % rating_eval.rsquared(), sep='\\n')"
      ],
      "execution_count": null,
      "outputs": [
        {
          "output_type": "stream",
          "name": "stdout",
          "text": [
            "Model:\tALS rating prediction\n",
            "RMSE:\t0.263660\n",
            "MAE:\t0.189872\n",
            "Explained variance:\t-0.579172\n",
            "R squared:\t-0.825282\n"
          ]
        }
      ]
    },
    {
      "cell_type": "markdown",
      "metadata": {
        "id": "yQgebGYkueLv"
      },
      "source": [
        "### Show predictions in pandas"
      ]
    },
    {
      "cell_type": "code",
      "metadata": {
        "id": "6tJXp9HbpQmS"
      },
      "source": [
        "# prediction for user 0\n",
        "resultUser0 = top_all[top_all['User_ID'] == 0]"
      ],
      "execution_count": null,
      "outputs": []
    },
    {
      "cell_type": "code",
      "metadata": {
        "id": "sSiEnsLJqdny"
      },
      "source": [
        "resultUser0 = resultUser0.sort(resultUser0.prediction.desc())"
      ],
      "execution_count": null,
      "outputs": []
    },
    {
      "cell_type": "code",
      "metadata": {
        "colab": {
          "base_uri": "https://localhost:8080/"
        },
        "id": "D_vKZJeSsjdZ",
        "outputId": "8cee2bb2-6899-4b40-9b71-a249fb161cdb"
      },
      "source": [
        "resultUser0.show()"
      ],
      "execution_count": null,
      "outputs": [
        {
          "output_type": "stream",
          "name": "stdout",
          "text": [
            "+-------+---------------+----------+\n",
            "|User_ID|Activity_Num_ID|prediction|\n",
            "+-------+---------------+----------+\n",
            "|      0|             44|0.20318745|\n",
            "|      0|            100| 0.1760679|\n",
            "|      0|             78| 0.1742489|\n",
            "|      0|             35|0.17127803|\n",
            "|      0|             43| 0.1711221|\n",
            "|      0|             13|0.16606975|\n",
            "|      0|            126|0.16470516|\n",
            "|      0|            153|0.16429436|\n",
            "|      0|            115|0.16416253|\n",
            "|      0|            143|0.16398223|\n",
            "|      0|             45|0.16283046|\n",
            "|      0|             21|0.16138808|\n",
            "|      0|            147|0.15896507|\n",
            "|      0|             22|0.15882505|\n",
            "|      0|             26|0.15817665|\n",
            "|      0|            154|0.15670955|\n",
            "|      0|            118| 0.1562823|\n",
            "|      0|            128|0.14911705|\n",
            "|      0|             34|0.14782806|\n",
            "|      0|            152| 0.1471505|\n",
            "+-------+---------------+----------+\n",
            "only showing top 20 rows\n",
            "\n"
          ]
        }
      ]
    },
    {
      "cell_type": "code",
      "metadata": {
        "id": "GpybwPtrqfSV"
      },
      "source": [
        "df_resultUser0 = resultUser0.select(\"*\").toPandas()"
      ],
      "execution_count": null,
      "outputs": []
    },
    {
      "cell_type": "code",
      "metadata": {
        "colab": {
          "base_uri": "https://localhost:8080/",
          "height": 359
        },
        "id": "jwreleehtO0F",
        "outputId": "ced6ae2f-0ddd-4c95-ec71-073a79e35b77"
      },
      "source": [
        "df_resultUser0.head(n=10)"
      ],
      "execution_count": null,
      "outputs": [
        {
          "output_type": "execute_result",
          "data": {
            "text/html": [
              "<div>\n",
              "<style scoped>\n",
              "    .dataframe tbody tr th:only-of-type {\n",
              "        vertical-align: middle;\n",
              "    }\n",
              "\n",
              "    .dataframe tbody tr th {\n",
              "        vertical-align: top;\n",
              "    }\n",
              "\n",
              "    .dataframe thead th {\n",
              "        text-align: right;\n",
              "    }\n",
              "</style>\n",
              "<table border=\"1\" class=\"dataframe\">\n",
              "  <thead>\n",
              "    <tr style=\"text-align: right;\">\n",
              "      <th></th>\n",
              "      <th>User_ID</th>\n",
              "      <th>Activity_Num_ID</th>\n",
              "      <th>prediction</th>\n",
              "    </tr>\n",
              "  </thead>\n",
              "  <tbody>\n",
              "    <tr>\n",
              "      <th>0</th>\n",
              "      <td>0</td>\n",
              "      <td>44</td>\n",
              "      <td>0.203187</td>\n",
              "    </tr>\n",
              "    <tr>\n",
              "      <th>1</th>\n",
              "      <td>0</td>\n",
              "      <td>100</td>\n",
              "      <td>0.176068</td>\n",
              "    </tr>\n",
              "    <tr>\n",
              "      <th>2</th>\n",
              "      <td>0</td>\n",
              "      <td>78</td>\n",
              "      <td>0.174249</td>\n",
              "    </tr>\n",
              "    <tr>\n",
              "      <th>3</th>\n",
              "      <td>0</td>\n",
              "      <td>35</td>\n",
              "      <td>0.171278</td>\n",
              "    </tr>\n",
              "    <tr>\n",
              "      <th>4</th>\n",
              "      <td>0</td>\n",
              "      <td>43</td>\n",
              "      <td>0.171122</td>\n",
              "    </tr>\n",
              "    <tr>\n",
              "      <th>5</th>\n",
              "      <td>0</td>\n",
              "      <td>13</td>\n",
              "      <td>0.166070</td>\n",
              "    </tr>\n",
              "    <tr>\n",
              "      <th>6</th>\n",
              "      <td>0</td>\n",
              "      <td>126</td>\n",
              "      <td>0.164705</td>\n",
              "    </tr>\n",
              "    <tr>\n",
              "      <th>7</th>\n",
              "      <td>0</td>\n",
              "      <td>153</td>\n",
              "      <td>0.164294</td>\n",
              "    </tr>\n",
              "    <tr>\n",
              "      <th>8</th>\n",
              "      <td>0</td>\n",
              "      <td>115</td>\n",
              "      <td>0.164163</td>\n",
              "    </tr>\n",
              "    <tr>\n",
              "      <th>9</th>\n",
              "      <td>0</td>\n",
              "      <td>143</td>\n",
              "      <td>0.163982</td>\n",
              "    </tr>\n",
              "  </tbody>\n",
              "</table>\n",
              "</div>"
            ],
            "text/plain": [
              "   User_ID  Activity_Num_ID  prediction\n",
              "0        0               44    0.203187\n",
              "1        0              100    0.176068\n",
              "2        0               78    0.174249\n",
              "3        0               35    0.171278\n",
              "4        0               43    0.171122\n",
              "5        0               13    0.166070\n",
              "6        0              126    0.164705\n",
              "7        0              153    0.164294\n",
              "8        0              115    0.164163\n",
              "9        0              143    0.163982"
            ]
          },
          "metadata": {},
          "execution_count": 38
        }
      ]
    },
    {
      "cell_type": "code",
      "metadata": {
        "id": "o9Yu_5zDtSHs"
      },
      "source": [
        "# merge top 10 prediction with activities dataframe\n",
        "df_resultUser0 = pd.merge(df_resultUser0, df_activity, on='Activity_Num_ID', how='left')"
      ],
      "execution_count": null,
      "outputs": []
    },
    {
      "cell_type": "code",
      "metadata": {
        "colab": {
          "base_uri": "https://localhost:8080/",
          "height": 376
        },
        "id": "TLKdFeqzuHqy",
        "outputId": "2c298108-cd49-48be-cbaa-6b71f1026ac9"
      },
      "source": [
        "print(\"User 0 top 10 predictions\")\n",
        "df_resultUser0[['prediction', 'User_ID', 'Activity_Num_ID', 'Activity_Name']].head(n=10)"
      ],
      "execution_count": null,
      "outputs": [
        {
          "output_type": "stream",
          "name": "stdout",
          "text": [
            "User 0 top 10 predictions\n"
          ]
        },
        {
          "output_type": "execute_result",
          "data": {
            "text/html": [
              "<div>\n",
              "<style scoped>\n",
              "    .dataframe tbody tr th:only-of-type {\n",
              "        vertical-align: middle;\n",
              "    }\n",
              "\n",
              "    .dataframe tbody tr th {\n",
              "        vertical-align: top;\n",
              "    }\n",
              "\n",
              "    .dataframe thead th {\n",
              "        text-align: right;\n",
              "    }\n",
              "</style>\n",
              "<table border=\"1\" class=\"dataframe\">\n",
              "  <thead>\n",
              "    <tr style=\"text-align: right;\">\n",
              "      <th></th>\n",
              "      <th>prediction</th>\n",
              "      <th>User_ID</th>\n",
              "      <th>Activity_Num_ID</th>\n",
              "      <th>Activity_Name</th>\n",
              "    </tr>\n",
              "  </thead>\n",
              "  <tbody>\n",
              "    <tr>\n",
              "      <th>0</th>\n",
              "      <td>0.203187</td>\n",
              "      <td>0</td>\n",
              "      <td>44</td>\n",
              "      <td>Flashcards - fruits</td>\n",
              "    </tr>\n",
              "    <tr>\n",
              "      <th>1</th>\n",
              "      <td>0.176068</td>\n",
              "      <td>0</td>\n",
              "      <td>100</td>\n",
              "      <td>Preparing some food from my country</td>\n",
              "    </tr>\n",
              "    <tr>\n",
              "      <th>2</th>\n",
              "      <td>0.174249</td>\n",
              "      <td>0</td>\n",
              "      <td>78</td>\n",
              "      <td>6-pieces puzzle: Yasmin in my country</td>\n",
              "    </tr>\n",
              "    <tr>\n",
              "      <th>3</th>\n",
              "      <td>0.171278</td>\n",
              "      <td>0</td>\n",
              "      <td>35</td>\n",
              "      <td>Demo vídeo: decorating the cake</td>\n",
              "    </tr>\n",
              "    <tr>\n",
              "      <th>4</th>\n",
              "      <td>0.171122</td>\n",
              "      <td>0</td>\n",
              "      <td>43</td>\n",
              "      <td>Flashcards - musical instruments</td>\n",
              "    </tr>\n",
              "    <tr>\n",
              "      <th>5</th>\n",
              "      <td>0.166070</td>\n",
              "      <td>0</td>\n",
              "      <td>13</td>\n",
              "      <td>Book: Wendy is a scientist</td>\n",
              "    </tr>\n",
              "    <tr>\n",
              "      <th>6</th>\n",
              "      <td>0.164705</td>\n",
              "      <td>0</td>\n",
              "      <td>126</td>\n",
              "      <td>My name</td>\n",
              "    </tr>\n",
              "    <tr>\n",
              "      <th>7</th>\n",
              "      <td>0.164294</td>\n",
              "      <td>0</td>\n",
              "      <td>153</td>\n",
              "      <td>4 pairs memory game</td>\n",
              "    </tr>\n",
              "    <tr>\n",
              "      <th>8</th>\n",
              "      <td>0.164163</td>\n",
              "      <td>0</td>\n",
              "      <td>115</td>\n",
              "      <td>Poiki is harvesting with his tractor</td>\n",
              "    </tr>\n",
              "    <tr>\n",
              "      <th>9</th>\n",
              "      <td>0.163982</td>\n",
              "      <td>0</td>\n",
              "      <td>143</td>\n",
              "      <td>Roulette - get the right clothes</td>\n",
              "    </tr>\n",
              "  </tbody>\n",
              "</table>\n",
              "</div>"
            ],
            "text/plain": [
              "   prediction  User_ID  Activity_Num_ID                          Activity_Name\n",
              "0    0.203187        0               44                   Flashcards - fruits \n",
              "1    0.176068        0              100    Preparing some food from my country\n",
              "2    0.174249        0               78  6-pieces puzzle: Yasmin in my country\n",
              "3    0.171278        0               35        Demo vídeo: decorating the cake\n",
              "4    0.171122        0               43      Flashcards - musical instruments \n",
              "5    0.166070        0               13             Book: Wendy is a scientist\n",
              "6    0.164705        0              126                                My name\n",
              "7    0.164294        0              153                    4 pairs memory game\n",
              "8    0.164163        0              115   Poiki is harvesting with his tractor\n",
              "9    0.163982        0              143       Roulette - get the right clothes"
            ]
          },
          "metadata": {},
          "execution_count": 42
        }
      ]
    },
    {
      "cell_type": "code",
      "metadata": {
        "id": "98m5hc9tuJGY"
      },
      "source": [
        ""
      ],
      "execution_count": null,
      "outputs": []
    }
  ]
}