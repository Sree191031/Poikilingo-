{
  "nbformat": 4,
  "nbformat_minor": 0,
  "metadata": {
    "colab": {
      "name": "Surprise_Singular_Value_Decomposition_(SVD)_Collaborative_Filtering_Poikilingo_using_Microsoft_Recommender_[Samad_Farooq_and_Lakshmi_Raghavi].ipynb",
      "provenance": [],
      "collapsed_sections": []
    },
    "kernelspec": {
      "name": "python3",
      "display_name": "Python 3"
    },
    "language_info": {
      "name": "python"
    }
  },
  "cells": [
    {
      "cell_type": "code",
      "metadata": {
        "colab": {
          "base_uri": "https://localhost:8080/"
        },
        "id": "sL_kf_-2lWd9",
        "outputId": "eeab0944-3e67-412d-e9a8-60415aa5a8da"
      },
      "source": [
        "pip install git+https://github.com/microsoft/recommenders.git"
      ],
      "execution_count": null,
      "outputs": [
        {
          "output_type": "stream",
          "name": "stdout",
          "text": [
            "Collecting git+https://github.com/microsoft/recommenders.git\n",
            "  Cloning https://github.com/microsoft/recommenders.git to /tmp/pip-req-build-chflw5ta\n",
            "  Running command git clone -q https://github.com/microsoft/recommenders.git /tmp/pip-req-build-chflw5ta\n",
            "  Installing build dependencies ... \u001b[?25l\u001b[?25hdone\n",
            "  Getting requirements to build wheel ... \u001b[?25l\u001b[?25hdone\n",
            "    Preparing wheel metadata ... \u001b[?25l\u001b[?25hdone\n",
            "Collecting scikit-surprise<=1.1.1,>=0.19.1\n",
            "  Downloading scikit-surprise-1.1.1.tar.gz (11.8 MB)\n",
            "\u001b[K     |████████████████████████████████| 11.8 MB 4.5 MB/s \n",
            "\u001b[?25hCollecting cornac<2,>=1.1.2\n",
            "  Downloading cornac-1.14.0-cp37-cp37m-manylinux1_x86_64.whl (12.4 MB)\n",
            "\u001b[K     |████████████████████████████████| 12.4 MB 31 kB/s \n",
            "\u001b[?25hRequirement already satisfied: scikit-learn<1,>=0.22.1 in /usr/local/lib/python3.7/dist-packages (from recommenders==0.7.0) (0.22.2.post1)\n",
            "Requirement already satisfied: matplotlib<4,>=2.2.2 in /usr/local/lib/python3.7/dist-packages (from recommenders==0.7.0) (3.2.2)\n",
            "Collecting category-encoders<2,>=1.3.0\n",
            "  Downloading category_encoders-1.3.0-py2.py3-none-any.whl (61 kB)\n",
            "\u001b[K     |████████████████████████████████| 61 kB 8.6 MB/s \n",
            "\u001b[?25hCollecting memory-profiler<1,>=0.54.0\n",
            "  Downloading memory_profiler-0.58.0.tar.gz (36 kB)\n",
            "Collecting transformers<5,>=2.5.0\n",
            "  Downloading transformers-4.10.2-py3-none-any.whl (2.8 MB)\n",
            "\u001b[K     |████████████████████████████████| 2.8 MB 21.9 MB/s \n",
            "\u001b[?25hCollecting pyyaml<6,>=5.4.1\n",
            "  Downloading PyYAML-5.4.1-cp37-cp37m-manylinux1_x86_64.whl (636 kB)\n",
            "\u001b[K     |████████████████████████████████| 636 kB 54.2 MB/s \n",
            "\u001b[?25hRequirement already satisfied: pandas<2,>1.0.3 in /usr/local/lib/python3.7/dist-packages (from recommenders==0.7.0) (1.1.5)\n",
            "Collecting pydocumentdb>=2.3.3<3\n",
            "  Downloading pydocumentdb-2.3.5-py3-none-any.whl (93 kB)\n",
            "\u001b[K     |████████████████████████████████| 93 kB 2.5 MB/s \n",
            "\u001b[?25hRequirement already satisfied: bottleneck<2,>=1.2.1 in /usr/local/lib/python3.7/dist-packages (from recommenders==0.7.0) (1.3.2)\n",
            "Requirement already satisfied: jinja2<3,>=2 in /usr/local/lib/python3.7/dist-packages (from recommenders==0.7.0) (2.11.3)\n",
            "Requirement already satisfied: requests<3,>=2.0.0 in /usr/local/lib/python3.7/dist-packages (from recommenders==0.7.0) (2.23.0)\n",
            "Requirement already satisfied: lightgbm<3,>=2.2.1 in /usr/local/lib/python3.7/dist-packages (from recommenders==0.7.0) (2.2.3)\n",
            "Collecting nltk<4,>=3.4\n",
            "  Downloading nltk-3.6.2-py3-none-any.whl (1.5 MB)\n",
            "\u001b[K     |████████████████████████████████| 1.5 MB 67.0 MB/s \n",
            "\u001b[?25hRequirement already satisfied: retrying>=1.3.3 in /usr/local/lib/python3.7/dist-packages (from recommenders==0.7.0) (1.3.3)\n",
            "Collecting lightfm<2,>=1.15\n",
            "  Downloading lightfm-1.16.tar.gz (310 kB)\n",
            "\u001b[K     |████████████████████████████████| 310 kB 66.3 MB/s \n",
            "\u001b[?25hRequirement already satisfied: numba<1,>=0.38.1 in /usr/local/lib/python3.7/dist-packages (from recommenders==0.7.0) (0.51.2)\n",
            "Collecting pymanopt<1,>=0.2.5\n",
            "  Downloading pymanopt-0.2.5-py3-none-any.whl (59 kB)\n",
            "\u001b[K     |████████████████████████████████| 59 kB 7.3 MB/s \n",
            "\u001b[?25hRequirement already satisfied: tqdm<5,>=4.31.1 in /usr/local/lib/python3.7/dist-packages (from recommenders==0.7.0) (4.62.2)\n",
            "Requirement already satisfied: numpy>=1.14 in /usr/local/lib/python3.7/dist-packages (from recommenders==0.7.0) (1.19.5)\n",
            "Requirement already satisfied: seaborn<1,>=0.8.1 in /usr/local/lib/python3.7/dist-packages (from recommenders==0.7.0) (0.11.2)\n",
            "Requirement already satisfied: scipy<2,>=1.0.0 in /usr/local/lib/python3.7/dist-packages (from recommenders==0.7.0) (1.4.1)\n",
            "Requirement already satisfied: patsy>=0.4.1 in /usr/local/lib/python3.7/dist-packages (from category-encoders<2,>=1.3.0->recommenders==0.7.0) (0.5.1)\n",
            "Requirement already satisfied: statsmodels>=0.6.1 in /usr/local/lib/python3.7/dist-packages (from category-encoders<2,>=1.3.0->recommenders==0.7.0) (0.10.2)\n",
            "Collecting powerlaw\n",
            "  Downloading powerlaw-1.5-py3-none-any.whl (24 kB)\n",
            "Requirement already satisfied: MarkupSafe>=0.23 in /usr/local/lib/python3.7/dist-packages (from jinja2<3,>=2->recommenders==0.7.0) (2.0.1)\n",
            "Requirement already satisfied: cycler>=0.10 in /usr/local/lib/python3.7/dist-packages (from matplotlib<4,>=2.2.2->recommenders==0.7.0) (0.10.0)\n",
            "Requirement already satisfied: kiwisolver>=1.0.1 in /usr/local/lib/python3.7/dist-packages (from matplotlib<4,>=2.2.2->recommenders==0.7.0) (1.3.2)\n",
            "Requirement already satisfied: python-dateutil>=2.1 in /usr/local/lib/python3.7/dist-packages (from matplotlib<4,>=2.2.2->recommenders==0.7.0) (2.8.2)\n",
            "Requirement already satisfied: pyparsing!=2.0.4,!=2.1.2,!=2.1.6,>=2.0.1 in /usr/local/lib/python3.7/dist-packages (from matplotlib<4,>=2.2.2->recommenders==0.7.0) (2.4.7)\n",
            "Requirement already satisfied: six in /usr/local/lib/python3.7/dist-packages (from cycler>=0.10->matplotlib<4,>=2.2.2->recommenders==0.7.0) (1.15.0)\n",
            "Requirement already satisfied: psutil in /usr/local/lib/python3.7/dist-packages (from memory-profiler<1,>=0.54.0->recommenders==0.7.0) (5.4.8)\n",
            "Requirement already satisfied: click in /usr/local/lib/python3.7/dist-packages (from nltk<4,>=3.4->recommenders==0.7.0) (7.1.2)\n",
            "Requirement already satisfied: regex in /usr/local/lib/python3.7/dist-packages (from nltk<4,>=3.4->recommenders==0.7.0) (2019.12.20)\n",
            "Requirement already satisfied: joblib in /usr/local/lib/python3.7/dist-packages (from nltk<4,>=3.4->recommenders==0.7.0) (1.0.1)\n",
            "Requirement already satisfied: setuptools in /usr/local/lib/python3.7/dist-packages (from numba<1,>=0.38.1->recommenders==0.7.0) (57.4.0)\n",
            "Requirement already satisfied: llvmlite<0.35,>=0.34.0.dev0 in /usr/local/lib/python3.7/dist-packages (from numba<1,>=0.38.1->recommenders==0.7.0) (0.34.0)\n",
            "Requirement already satisfied: pytz>=2017.2 in /usr/local/lib/python3.7/dist-packages (from pandas<2,>1.0.3->recommenders==0.7.0) (2018.9)\n",
            "Requirement already satisfied: urllib3!=1.25.0,!=1.25.1,<1.26,>=1.21.1 in /usr/local/lib/python3.7/dist-packages (from requests<3,>=2.0.0->recommenders==0.7.0) (1.24.3)\n",
            "Requirement already satisfied: idna<3,>=2.5 in /usr/local/lib/python3.7/dist-packages (from requests<3,>=2.0.0->recommenders==0.7.0) (2.10)\n",
            "Requirement already satisfied: chardet<4,>=3.0.2 in /usr/local/lib/python3.7/dist-packages (from requests<3,>=2.0.0->recommenders==0.7.0) (3.0.4)\n",
            "Requirement already satisfied: certifi>=2017.4.17 in /usr/local/lib/python3.7/dist-packages (from requests<3,>=2.0.0->recommenders==0.7.0) (2021.5.30)\n",
            "Collecting sacremoses\n",
            "  Downloading sacremoses-0.0.45-py3-none-any.whl (895 kB)\n",
            "\u001b[K     |████████████████████████████████| 895 kB 65.4 MB/s \n",
            "\u001b[?25hCollecting tokenizers<0.11,>=0.10.1\n",
            "  Downloading tokenizers-0.10.3-cp37-cp37m-manylinux_2_5_x86_64.manylinux1_x86_64.manylinux_2_12_x86_64.manylinux2010_x86_64.whl (3.3 MB)\n",
            "\u001b[K     |████████████████████████████████| 3.3 MB 49.9 MB/s \n",
            "\u001b[?25hRequirement already satisfied: packaging in /usr/local/lib/python3.7/dist-packages (from transformers<5,>=2.5.0->recommenders==0.7.0) (21.0)\n",
            "Requirement already satisfied: filelock in /usr/local/lib/python3.7/dist-packages (from transformers<5,>=2.5.0->recommenders==0.7.0) (3.0.12)\n",
            "Requirement already satisfied: importlib-metadata in /usr/local/lib/python3.7/dist-packages (from transformers<5,>=2.5.0->recommenders==0.7.0) (4.8.1)\n",
            "Collecting huggingface-hub>=0.0.12\n",
            "  Downloading huggingface_hub-0.0.17-py3-none-any.whl (52 kB)\n",
            "\u001b[K     |████████████████████████████████| 52 kB 1.8 MB/s \n",
            "\u001b[?25hRequirement already satisfied: typing-extensions in /usr/local/lib/python3.7/dist-packages (from huggingface-hub>=0.0.12->transformers<5,>=2.5.0->recommenders==0.7.0) (3.7.4.3)\n",
            "Requirement already satisfied: zipp>=0.5 in /usr/local/lib/python3.7/dist-packages (from importlib-metadata->transformers<5,>=2.5.0->recommenders==0.7.0) (3.5.0)\n",
            "Requirement already satisfied: mpmath in /usr/local/lib/python3.7/dist-packages (from powerlaw->cornac<2,>=1.1.2->recommenders==0.7.0) (1.2.1)\n",
            "Building wheels for collected packages: recommenders, lightfm, memory-profiler, scikit-surprise\n",
            "  Building wheel for recommenders (PEP 517) ... \u001b[?25l\u001b[?25hdone\n",
            "  Created wheel for recommenders: filename=recommenders-0.7.0-py3-none-any.whl size=313338 sha256=d0f63d024925fb0ae46a4afd89e9f80a682c180d4a5f4ada204f1bcd456cd99d\n",
            "  Stored in directory: /tmp/pip-ephem-wheel-cache-qtbkx31e/wheels/b9/06/d5/12342ff81379a3bbafda343950b5c64869d2e5dbfd348685ea\n",
            "  Building wheel for lightfm (setup.py) ... \u001b[?25l\u001b[?25hdone\n",
            "  Created wheel for lightfm: filename=lightfm-1.16-cp37-cp37m-linux_x86_64.whl size=705379 sha256=3132ab9ef70566a68b170ab9418de01a3291bd58b50e267709c31191b4f8ba5b\n",
            "  Stored in directory: /root/.cache/pip/wheels/f8/56/28/5772a3bd3413d65f03aa452190b00898b680b10028a1021914\n",
            "  Building wheel for memory-profiler (setup.py) ... \u001b[?25l\u001b[?25hdone\n",
            "  Created wheel for memory-profiler: filename=memory_profiler-0.58.0-py3-none-any.whl size=30190 sha256=12ca43a755e266b4c72ec821e29d31f324d97291b61ab3fa78ee80d094ec78c1\n",
            "  Stored in directory: /root/.cache/pip/wheels/56/19/d5/8cad06661aec65a04a0d6785b1a5ad035cb645b1772a4a0882\n",
            "  Building wheel for scikit-surprise (setup.py) ... \u001b[?25l\u001b[?25hdone\n",
            "  Created wheel for scikit-surprise: filename=scikit_surprise-1.1.1-cp37-cp37m-linux_x86_64.whl size=1619417 sha256=f8445ae7b6beebe00eaf291b7ccdece3ce80766fca9c0f7eb07477d4037b661b\n",
            "  Stored in directory: /root/.cache/pip/wheels/76/44/74/b498c42be47b2406bd27994e16c5188e337c657025ab400c1c\n",
            "Successfully built recommenders lightfm memory-profiler scikit-surprise\n",
            "Installing collected packages: tokenizers, sacremoses, pyyaml, powerlaw, huggingface-hub, transformers, scikit-surprise, pymanopt, pydocumentdb, nltk, memory-profiler, lightfm, cornac, category-encoders, recommenders\n",
            "  Attempting uninstall: pyyaml\n",
            "    Found existing installation: PyYAML 3.13\n",
            "    Uninstalling PyYAML-3.13:\n",
            "      Successfully uninstalled PyYAML-3.13\n",
            "  Attempting uninstall: nltk\n",
            "    Found existing installation: nltk 3.2.5\n",
            "    Uninstalling nltk-3.2.5:\n",
            "      Successfully uninstalled nltk-3.2.5\n",
            "Successfully installed category-encoders-1.3.0 cornac-1.14.0 huggingface-hub-0.0.17 lightfm-1.16 memory-profiler-0.58.0 nltk-3.6.2 powerlaw-1.5 pydocumentdb-2.3.5 pymanopt-0.2.5 pyyaml-5.4.1 recommenders-0.7.0 sacremoses-0.0.45 scikit-surprise-1.1.1 tokenizers-0.10.3 transformers-4.10.2\n"
          ]
        }
      ]
    },
    {
      "cell_type": "markdown",
      "metadata": {
        "id": "XBMBW8NIKQLB"
      },
      "source": [
        "### Surprise implementation of SVD"
      ]
    },
    {
      "cell_type": "markdown",
      "metadata": {
        "id": "gtmQcoObKQRT"
      },
      "source": [
        "SVD is implemented in the [Surprise](https://surprise.readthedocs.io/en/stable/) library as a recommender module.\n",
        "* Detailed documentations of the SVD module in Surprise can be found [here](https://surprise.readthedocs.io/en/stable/matrix_factorization.html#surprise.prediction_algorithms.matrix_factorization.SVD)\n",
        "* Source codes of the SVD implementation is available on the Surprise Github repository, which can be found [here](https://github.com/NicolasHug/Surprise/blob/master/surprise/prediction_algorithms/matrix_factorization.pyx)."
      ]
    },
    {
      "cell_type": "markdown",
      "metadata": {
        "id": "6xySK9ulnWa3"
      },
      "source": [
        "### Surprise SVD"
      ]
    },
    {
      "cell_type": "markdown",
      "metadata": {
        "id": "aZuB9R-CnX4v"
      },
      "source": [
        "Surprise supports dataframes as long as they have three colums reprensenting the user ids, item ids, and the ratings (in this order)."
      ]
    },
    {
      "cell_type": "markdown",
      "metadata": {
        "id": "m0ujm1WkiaSf"
      },
      "source": [
        "### Global Setup"
      ]
    },
    {
      "cell_type": "code",
      "metadata": {
        "colab": {
          "base_uri": "https://localhost:8080/"
        },
        "id": "AMrPs9c0CRo_",
        "outputId": "afa13d45-f63d-447a-fea3-357f49aadeec"
      },
      "source": [
        "import sys\n",
        "import os\n",
        "import surprise\n",
        "import pandas as pd\n",
        "import numpy as np\n",
        "\n",
        "import recommenders\n",
        "from recommenders.utils.timer import Timer\n",
        "from recommenders.datasets.python_splitters import python_random_split\n",
        "from recommenders.evaluation.python_evaluation import (rmse, mae, rsquared, exp_var, map_at_k, ndcg_at_k, precision_at_k, \n",
        "                                                     recall_at_k, get_top_k_items)\n",
        "from recommenders.models.surprise.surprise_utils import predict, compute_ranking_predictions\n",
        "\n",
        "print(\"System version: {}\".format(sys.version))\n",
        "print(\"Surprise version: {}\".format(surprise.__version__))"
      ],
      "execution_count": null,
      "outputs": [
        {
          "output_type": "stream",
          "name": "stdout",
          "text": [
            "System version: 3.7.12 (default, Sep 10 2021, 00:21:48) \n",
            "[GCC 7.5.0]\n",
            "Surprise version: 1.1.1\n"
          ]
        }
      ]
    },
    {
      "cell_type": "markdown",
      "metadata": {
        "id": "avcC_2hwhw4K"
      },
      "source": [
        "Getting Data from drive. Not critical to overall project, but a helpful if running only on colab. Otherwise, local files are ok"
      ]
    },
    {
      "cell_type": "code",
      "metadata": {
        "colab": {
          "base_uri": "https://localhost:8080/",
          "height": 307
        },
        "id": "e67ueeWe94Yc",
        "outputId": "98f7977f-d077-4a83-9303-a6c925d991ca"
      },
      "source": [
        "import gdown\n",
        "activity_raw_url = 'https://drive.google.com/file/d/1GZ7Pg06hoMGdfDtcAPPNPnQ_ZwIFcEh7/view?usp=sharing'\n",
        "activity_url     ='https://drive.google.com/uc?id=' + activity_raw_url.split('/')[-2] #Do not change\n",
        "gdown.download(activity_url, 'activity.csv',quiet=False)\n",
        "\n",
        "student_info_raw_url = 'https://drive.google.com/file/d/1Y0EmJMalLuoSSe4_CHzf7aSWBV4BEcH4/view?usp=sharing'\n",
        "student_info_url     ='https://drive.google.com/uc?id=' + student_info_raw_url.split('/')[-2] #Do not change\n",
        "gdown.download(student_info_url, 'student_info.csv',quiet=False)\n",
        "\n",
        "student_activity_train_raw_url = 'https://drive.google.com/file/d/1xaXuFboFYe4fwxUBr9ygWlcfaIX-cTbc/view?usp=sharing'\n",
        "student_activity_train_url     ='https://drive.google.com/uc?id=' + student_activity_train_raw_url.split('/')[-2] #Do not change\n",
        "gdown.download(student_activity_train_url, 'student_activity_train.csv',quiet=False)\n",
        "\n",
        "student_activity_test_raw_url = 'https://drive.google.com/file/d/17Rd0DTaQ4APmD0L4sZTHJWMhfdflI5N7/view?usp=sharing'\n",
        "student_activity_test_url     ='https://drive.google.com/uc?id=' + student_activity_test_raw_url.split('/')[-2] #Do not change\n",
        "gdown.download(student_activity_test_url, 'student_activity_test.csv',quiet=False)"
      ],
      "execution_count": null,
      "outputs": [
        {
          "output_type": "stream",
          "name": "stderr",
          "text": [
            "Downloading...\n",
            "From: https://drive.google.com/uc?id=1GZ7Pg06hoMGdfDtcAPPNPnQ_ZwIFcEh7\n",
            "To: /content/activity.csv\n",
            "100%|██████████| 18.9k/18.9k [00:00<00:00, 6.09MB/s]\n",
            "Downloading...\n",
            "From: https://drive.google.com/uc?id=1Y0EmJMalLuoSSe4_CHzf7aSWBV4BEcH4\n",
            "To: /content/student_info.csv\n",
            "100%|██████████| 24.9k/24.9k [00:00<00:00, 15.9MB/s]\n",
            "Downloading...\n",
            "From: https://drive.google.com/uc?id=1xaXuFboFYe4fwxUBr9ygWlcfaIX-cTbc\n",
            "To: /content/student_activity_train.csv\n",
            "100%|██████████| 1.06M/1.06M [00:00<00:00, 68.1MB/s]\n",
            "Downloading...\n",
            "From: https://drive.google.com/uc?id=17Rd0DTaQ4APmD0L4sZTHJWMhfdflI5N7\n",
            "To: /content/student_activity_test.csv\n",
            "100%|██████████| 222k/222k [00:00<00:00, 63.0MB/s]\n"
          ]
        },
        {
          "output_type": "execute_result",
          "data": {
            "application/vnd.google.colaboratory.intrinsic+json": {
              "type": "string"
            },
            "text/plain": [
              "'student_activity_test.csv'"
            ]
          },
          "metadata": {},
          "execution_count": 3
        }
      ]
    },
    {
      "cell_type": "markdown",
      "metadata": {
        "id": "_ptXduW8h0QQ"
      },
      "source": [
        "### Data Exploration"
      ]
    },
    {
      "cell_type": "code",
      "metadata": {
        "colab": {
          "base_uri": "https://localhost:8080/",
          "height": 360
        },
        "id": "kT3dpz2wCRUj",
        "outputId": "28911f78-975f-4c78-e786-74c7cbca06c5"
      },
      "source": [
        "df_activity = pd.read_csv(\"activity.csv\", index_col=0)\n",
        "print(df_activity.shape)\n",
        "df_activity.head()"
      ],
      "execution_count": null,
      "outputs": [
        {
          "output_type": "stream",
          "name": "stdout",
          "text": [
            "(155, 25)\n"
          ]
        },
        {
          "output_type": "execute_result",
          "data": {
            "text/html": [
              "<div>\n",
              "<style scoped>\n",
              "    .dataframe tbody tr th:only-of-type {\n",
              "        vertical-align: middle;\n",
              "    }\n",
              "\n",
              "    .dataframe tbody tr th {\n",
              "        vertical-align: top;\n",
              "    }\n",
              "\n",
              "    .dataframe thead th {\n",
              "        text-align: right;\n",
              "    }\n",
              "</style>\n",
              "<table border=\"1\" class=\"dataframe\">\n",
              "  <thead>\n",
              "    <tr style=\"text-align: right;\">\n",
              "      <th></th>\n",
              "      <th>Activity_ID</th>\n",
              "      <th>Activity_Name</th>\n",
              "      <th>Activity_Content</th>\n",
              "      <th>Activity_Type</th>\n",
              "      <th>GameType</th>\n",
              "      <th>Ages_2yo</th>\n",
              "      <th>Ages_3yo</th>\n",
              "      <th>Ages_4yo</th>\n",
              "      <th>Ages_5yo</th>\n",
              "      <th>Ages_6yo</th>\n",
              "      <th>Ages_7yo</th>\n",
              "      <th>Cultures_None</th>\n",
              "      <th>Cultures_Brazil</th>\n",
              "      <th>Cultures_US</th>\n",
              "      <th>Cultures_UK</th>\n",
              "      <th>Cultures_Denmark</th>\n",
              "      <th>Cultures_Spain</th>\n",
              "      <th>Cultures_Mexico</th>\n",
              "      <th>Cultures_Canada</th>\n",
              "      <th>Cultures_Portugal</th>\n",
              "      <th>Cultures_Australia</th>\n",
              "      <th>Cultures_France</th>\n",
              "      <th>Cultures_Italy</th>\n",
              "      <th>Cultures_Germany</th>\n",
              "      <th>Activity_Level</th>\n",
              "    </tr>\n",
              "  </thead>\n",
              "  <tbody>\n",
              "    <tr>\n",
              "      <th>0</th>\n",
              "      <td>farm-poiki-book-1</td>\n",
              "      <td>Book: Poiki, the farmer</td>\n",
              "      <td>farm</td>\n",
              "      <td>standard</td>\n",
              "      <td>reading-book</td>\n",
              "      <td>1</td>\n",
              "      <td>1</td>\n",
              "      <td>1</td>\n",
              "      <td>0</td>\n",
              "      <td>0</td>\n",
              "      <td>0</td>\n",
              "      <td>1</td>\n",
              "      <td>0</td>\n",
              "      <td>0</td>\n",
              "      <td>0</td>\n",
              "      <td>0</td>\n",
              "      <td>0</td>\n",
              "      <td>0</td>\n",
              "      <td>0</td>\n",
              "      <td>0</td>\n",
              "      <td>0</td>\n",
              "      <td>0</td>\n",
              "      <td>0</td>\n",
              "      <td>0</td>\n",
              "      <td>0</td>\n",
              "    </tr>\n",
              "    <tr>\n",
              "      <th>1</th>\n",
              "      <td>farm-poiki-book-2</td>\n",
              "      <td>Book: The animals in the farm</td>\n",
              "      <td>farm-animals</td>\n",
              "      <td>standard</td>\n",
              "      <td>reading-book</td>\n",
              "      <td>1</td>\n",
              "      <td>1</td>\n",
              "      <td>1</td>\n",
              "      <td>0</td>\n",
              "      <td>0</td>\n",
              "      <td>0</td>\n",
              "      <td>1</td>\n",
              "      <td>0</td>\n",
              "      <td>0</td>\n",
              "      <td>0</td>\n",
              "      <td>0</td>\n",
              "      <td>0</td>\n",
              "      <td>0</td>\n",
              "      <td>0</td>\n",
              "      <td>0</td>\n",
              "      <td>0</td>\n",
              "      <td>0</td>\n",
              "      <td>0</td>\n",
              "      <td>0</td>\n",
              "      <td>0</td>\n",
              "    </tr>\n",
              "    <tr>\n",
              "      <th>2</th>\n",
              "      <td>farm-wendy-book-1</td>\n",
              "      <td>Book: Colors in the farm</td>\n",
              "      <td>colors</td>\n",
              "      <td>standard</td>\n",
              "      <td>reading-book</td>\n",
              "      <td>1</td>\n",
              "      <td>1</td>\n",
              "      <td>0</td>\n",
              "      <td>0</td>\n",
              "      <td>0</td>\n",
              "      <td>0</td>\n",
              "      <td>1</td>\n",
              "      <td>0</td>\n",
              "      <td>0</td>\n",
              "      <td>0</td>\n",
              "      <td>0</td>\n",
              "      <td>0</td>\n",
              "      <td>0</td>\n",
              "      <td>0</td>\n",
              "      <td>0</td>\n",
              "      <td>0</td>\n",
              "      <td>0</td>\n",
              "      <td>0</td>\n",
              "      <td>0</td>\n",
              "      <td>0</td>\n",
              "    </tr>\n",
              "    <tr>\n",
              "      <th>3</th>\n",
              "      <td>farm-kevin-book-1</td>\n",
              "      <td>Book: Shapes in the farm</td>\n",
              "      <td>shapes</td>\n",
              "      <td>standard</td>\n",
              "      <td>reading-book</td>\n",
              "      <td>1</td>\n",
              "      <td>1</td>\n",
              "      <td>0</td>\n",
              "      <td>0</td>\n",
              "      <td>0</td>\n",
              "      <td>0</td>\n",
              "      <td>1</td>\n",
              "      <td>0</td>\n",
              "      <td>0</td>\n",
              "      <td>0</td>\n",
              "      <td>0</td>\n",
              "      <td>0</td>\n",
              "      <td>0</td>\n",
              "      <td>0</td>\n",
              "      <td>0</td>\n",
              "      <td>0</td>\n",
              "      <td>0</td>\n",
              "      <td>0</td>\n",
              "      <td>0</td>\n",
              "      <td>0</td>\n",
              "    </tr>\n",
              "    <tr>\n",
              "      <th>4</th>\n",
              "      <td>country-none-book-1</td>\n",
              "      <td>How are the farms in my country?</td>\n",
              "      <td>my-country</td>\n",
              "      <td>cultural</td>\n",
              "      <td>reading-book</td>\n",
              "      <td>1</td>\n",
              "      <td>1</td>\n",
              "      <td>1</td>\n",
              "      <td>1</td>\n",
              "      <td>0</td>\n",
              "      <td>0</td>\n",
              "      <td>0</td>\n",
              "      <td>1</td>\n",
              "      <td>1</td>\n",
              "      <td>1</td>\n",
              "      <td>1</td>\n",
              "      <td>1</td>\n",
              "      <td>1</td>\n",
              "      <td>1</td>\n",
              "      <td>1</td>\n",
              "      <td>1</td>\n",
              "      <td>0</td>\n",
              "      <td>0</td>\n",
              "      <td>0</td>\n",
              "      <td>0</td>\n",
              "    </tr>\n",
              "  </tbody>\n",
              "</table>\n",
              "</div>"
            ],
            "text/plain": [
              "           Activity_ID  ... Activity_Level\n",
              "0    farm-poiki-book-1  ...              0\n",
              "1    farm-poiki-book-2  ...              0\n",
              "2    farm-wendy-book-1  ...              0\n",
              "3    farm-kevin-book-1  ...              0\n",
              "4  country-none-book-1  ...              0\n",
              "\n",
              "[5 rows x 25 columns]"
            ]
          },
          "metadata": {},
          "execution_count": 4
        }
      ]
    },
    {
      "cell_type": "code",
      "metadata": {
        "colab": {
          "base_uri": "https://localhost:8080/",
          "height": 221
        },
        "id": "9UYANvZ3CRWj",
        "outputId": "af594f48-b962-4df0-cd18-52e1af0962a8"
      },
      "source": [
        "df_students = pd.read_csv(\"student_info.csv\", index_col=0)\n",
        "print(df_students.shape)\n",
        "df_students.head()"
      ],
      "execution_count": null,
      "outputs": [
        {
          "output_type": "stream",
          "name": "stdout",
          "text": [
            "(250, 13)\n"
          ]
        },
        {
          "output_type": "execute_result",
          "data": {
            "text/html": [
              "<div>\n",
              "<style scoped>\n",
              "    .dataframe tbody tr th:only-of-type {\n",
              "        vertical-align: middle;\n",
              "    }\n",
              "\n",
              "    .dataframe tbody tr th {\n",
              "        vertical-align: top;\n",
              "    }\n",
              "\n",
              "    .dataframe thead th {\n",
              "        text-align: right;\n",
              "    }\n",
              "</style>\n",
              "<table border=\"1\" class=\"dataframe\">\n",
              "  <thead>\n",
              "    <tr style=\"text-align: right;\">\n",
              "      <th></th>\n",
              "      <th>User_ID</th>\n",
              "      <th>Gender</th>\n",
              "      <th>User_Name</th>\n",
              "      <th>Age</th>\n",
              "      <th>Translanguage_Level</th>\n",
              "      <th>Literate</th>\n",
              "      <th>Learning_Rate</th>\n",
              "      <th>Country_of_Birth</th>\n",
              "      <th>Country_of_Residence</th>\n",
              "      <th>Cultural_Heritage</th>\n",
              "      <th>Main_Language</th>\n",
              "      <th>Learning_Language</th>\n",
              "      <th>Learning_Profile</th>\n",
              "    </tr>\n",
              "  </thead>\n",
              "  <tbody>\n",
              "    <tr>\n",
              "      <th>0</th>\n",
              "      <td>0</td>\n",
              "      <td>F</td>\n",
              "      <td>Norma Fisher</td>\n",
              "      <td>5</td>\n",
              "      <td>2</td>\n",
              "      <td>Complete</td>\n",
              "      <td>Slow</td>\n",
              "      <td>Denmark</td>\n",
              "      <td>Canada</td>\n",
              "      <td>['Portugal', 'Australia']</td>\n",
              "      <td>Portuguese</td>\n",
              "      <td>English</td>\n",
              "      <td>HL</td>\n",
              "    </tr>\n",
              "    <tr>\n",
              "      <th>1</th>\n",
              "      <td>1</td>\n",
              "      <td>F</td>\n",
              "      <td>Kayla Sullivan</td>\n",
              "      <td>6</td>\n",
              "      <td>1</td>\n",
              "      <td>Not_Started</td>\n",
              "      <td>Fast</td>\n",
              "      <td>UK</td>\n",
              "      <td>Canada</td>\n",
              "      <td>['France']</td>\n",
              "      <td>French</td>\n",
              "      <td>English</td>\n",
              "      <td>BTB</td>\n",
              "    </tr>\n",
              "    <tr>\n",
              "      <th>2</th>\n",
              "      <td>2</td>\n",
              "      <td>F</td>\n",
              "      <td>Elizabeth Woods</td>\n",
              "      <td>6</td>\n",
              "      <td>2</td>\n",
              "      <td>Not_Started</td>\n",
              "      <td>Slow</td>\n",
              "      <td>Brazil</td>\n",
              "      <td>Canada</td>\n",
              "      <td>['Portugal']</td>\n",
              "      <td>Portuguese</td>\n",
              "      <td>French</td>\n",
              "      <td>IL</td>\n",
              "    </tr>\n",
              "    <tr>\n",
              "      <th>3</th>\n",
              "      <td>3</td>\n",
              "      <td>F</td>\n",
              "      <td>Susan Wagner</td>\n",
              "      <td>4</td>\n",
              "      <td>3</td>\n",
              "      <td>Complete</td>\n",
              "      <td>Fast</td>\n",
              "      <td>UK</td>\n",
              "      <td>Portugal</td>\n",
              "      <td>['France', 'Canada']</td>\n",
              "      <td>French</td>\n",
              "      <td>English</td>\n",
              "      <td>HL</td>\n",
              "    </tr>\n",
              "    <tr>\n",
              "      <th>4</th>\n",
              "      <td>4</td>\n",
              "      <td>M</td>\n",
              "      <td>Peter Montgomery</td>\n",
              "      <td>3</td>\n",
              "      <td>2</td>\n",
              "      <td>Complete</td>\n",
              "      <td>Fast</td>\n",
              "      <td>France</td>\n",
              "      <td>Brazil</td>\n",
              "      <td>['Germany', 'Spain', 'Italy']</td>\n",
              "      <td>German</td>\n",
              "      <td>Spanish</td>\n",
              "      <td>HL</td>\n",
              "    </tr>\n",
              "  </tbody>\n",
              "</table>\n",
              "</div>"
            ],
            "text/plain": [
              "   User_ID Gender  ... Learning_Language  Learning_Profile\n",
              "0        0      F  ...           English                HL\n",
              "1        1      F  ...           English               BTB\n",
              "2        2      F  ...            French                IL\n",
              "3        3      F  ...           English                HL\n",
              "4        4      M  ...           Spanish                HL\n",
              "\n",
              "[5 rows x 13 columns]"
            ]
          },
          "metadata": {},
          "execution_count": 6
        }
      ]
    },
    {
      "cell_type": "code",
      "metadata": {
        "colab": {
          "base_uri": "https://localhost:8080/",
          "height": 221
        },
        "id": "ESYKRzKFCRZ1",
        "outputId": "e594753a-df1c-44d5-cbef-f4a5037a49cd"
      },
      "source": [
        "df_scores_train = pd.read_csv(\"student_activity_train.csv\", index_col=0)\n",
        "print(df_scores_train.shape)\n",
        "df_scores_train.head()"
      ],
      "execution_count": null,
      "outputs": [
        {
          "output_type": "stream",
          "name": "stdout",
          "text": [
            "(11880, 7)\n"
          ]
        },
        {
          "output_type": "execute_result",
          "data": {
            "text/html": [
              "<div>\n",
              "<style scoped>\n",
              "    .dataframe tbody tr th:only-of-type {\n",
              "        vertical-align: middle;\n",
              "    }\n",
              "\n",
              "    .dataframe tbody tr th {\n",
              "        vertical-align: top;\n",
              "    }\n",
              "\n",
              "    .dataframe thead th {\n",
              "        text-align: right;\n",
              "    }\n",
              "</style>\n",
              "<table border=\"1\" class=\"dataframe\">\n",
              "  <thead>\n",
              "    <tr style=\"text-align: right;\">\n",
              "      <th></th>\n",
              "      <th>User_ID</th>\n",
              "      <th>Activity_ID</th>\n",
              "      <th>No_of_attempts</th>\n",
              "      <th>Time_taken</th>\n",
              "      <th>Translanguage_Level</th>\n",
              "      <th>Usefulness_Score</th>\n",
              "      <th>_Translanguage_Level_Before_Course_Plan</th>\n",
              "    </tr>\n",
              "  </thead>\n",
              "  <tbody>\n",
              "    <tr>\n",
              "      <th>0</th>\n",
              "      <td>0</td>\n",
              "      <td>country-wendy-videoclip-1</td>\n",
              "      <td>3</td>\n",
              "      <td>278.055180</td>\n",
              "      <td>3.101002</td>\n",
              "      <td>0.139800</td>\n",
              "      <td>2</td>\n",
              "    </tr>\n",
              "    <tr>\n",
              "      <th>1</th>\n",
              "      <td>0</td>\n",
              "      <td>country-yasmin-videoclip-1</td>\n",
              "      <td>4</td>\n",
              "      <td>281.867673</td>\n",
              "      <td>2.826381</td>\n",
              "      <td>0.084624</td>\n",
              "      <td>2</td>\n",
              "    </tr>\n",
              "    <tr>\n",
              "      <th>2</th>\n",
              "      <td>0</td>\n",
              "      <td>lab-wendy-colors-1</td>\n",
              "      <td>3</td>\n",
              "      <td>277.465027</td>\n",
              "      <td>2.782403</td>\n",
              "      <td>0.065831</td>\n",
              "      <td>2</td>\n",
              "    </tr>\n",
              "    <tr>\n",
              "      <th>3</th>\n",
              "      <td>0</td>\n",
              "      <td>who-wendy-colors-1</td>\n",
              "      <td>2</td>\n",
              "      <td>283.909252</td>\n",
              "      <td>3.006378</td>\n",
              "      <td>0.011640</td>\n",
              "      <td>2</td>\n",
              "    </tr>\n",
              "    <tr>\n",
              "      <th>4</th>\n",
              "      <td>0</td>\n",
              "      <td>farm-poiki-video-1</td>\n",
              "      <td>3</td>\n",
              "      <td>285.101000</td>\n",
              "      <td>2.736871</td>\n",
              "      <td>0.038446</td>\n",
              "      <td>2</td>\n",
              "    </tr>\n",
              "  </tbody>\n",
              "</table>\n",
              "</div>"
            ],
            "text/plain": [
              "   User_ID  ... _Translanguage_Level_Before_Course_Plan\n",
              "0        0  ...                                       2\n",
              "1        0  ...                                       2\n",
              "2        0  ...                                       2\n",
              "3        0  ...                                       2\n",
              "4        0  ...                                       2\n",
              "\n",
              "[5 rows x 7 columns]"
            ]
          },
          "metadata": {},
          "execution_count": 5
        }
      ]
    },
    {
      "cell_type": "code",
      "metadata": {
        "colab": {
          "base_uri": "https://localhost:8080/",
          "height": 221
        },
        "id": "2jiuACNmCRbF",
        "outputId": "c739a661-3cfb-4eee-aec0-addd089b817b"
      },
      "source": [
        "df_scores_test = pd.read_csv(\"student_activity_test.csv\", index_col=0)\n",
        "print(df_scores_test.shape)\n",
        "df_scores_test.head()"
      ],
      "execution_count": null,
      "outputs": [
        {
          "output_type": "stream",
          "name": "stdout",
          "text": [
            "(2500, 7)\n"
          ]
        },
        {
          "output_type": "execute_result",
          "data": {
            "text/html": [
              "<div>\n",
              "<style scoped>\n",
              "    .dataframe tbody tr th:only-of-type {\n",
              "        vertical-align: middle;\n",
              "    }\n",
              "\n",
              "    .dataframe tbody tr th {\n",
              "        vertical-align: top;\n",
              "    }\n",
              "\n",
              "    .dataframe thead th {\n",
              "        text-align: right;\n",
              "    }\n",
              "</style>\n",
              "<table border=\"1\" class=\"dataframe\">\n",
              "  <thead>\n",
              "    <tr style=\"text-align: right;\">\n",
              "      <th></th>\n",
              "      <th>User_ID</th>\n",
              "      <th>Activity_ID</th>\n",
              "      <th>No_of_attempts</th>\n",
              "      <th>Time_taken</th>\n",
              "      <th>Translanguage_Level</th>\n",
              "      <th>Usefulness_Score</th>\n",
              "      <th>_Translanguage_Level_Before_Course_Plan</th>\n",
              "    </tr>\n",
              "  </thead>\n",
              "  <tbody>\n",
              "    <tr>\n",
              "      <th>0</th>\n",
              "      <td>0</td>\n",
              "      <td>cooking-yasmin-simulation-1</td>\n",
              "      <td>4</td>\n",
              "      <td>276.452842</td>\n",
              "      <td>3.487373</td>\n",
              "      <td>0.390101</td>\n",
              "      <td>3</td>\n",
              "    </tr>\n",
              "    <tr>\n",
              "      <th>1</th>\n",
              "      <td>0</td>\n",
              "      <td>farm-poiki-video-2</td>\n",
              "      <td>1</td>\n",
              "      <td>292.072599</td>\n",
              "      <td>3.711785</td>\n",
              "      <td>0.168906</td>\n",
              "      <td>3</td>\n",
              "    </tr>\n",
              "    <tr>\n",
              "      <th>2</th>\n",
              "      <td>0</td>\n",
              "      <td>lab-kevin-game-1</td>\n",
              "      <td>1</td>\n",
              "      <td>280.767327</td>\n",
              "      <td>3.860060</td>\n",
              "      <td>0.092441</td>\n",
              "      <td>3</td>\n",
              "    </tr>\n",
              "    <tr>\n",
              "      <th>3</th>\n",
              "      <td>0</td>\n",
              "      <td>insects-roulette-1</td>\n",
              "      <td>2</td>\n",
              "      <td>286.974125</td>\n",
              "      <td>3.731912</td>\n",
              "      <td>0.079838</td>\n",
              "      <td>3</td>\n",
              "    </tr>\n",
              "    <tr>\n",
              "      <th>4</th>\n",
              "      <td>0</td>\n",
              "      <td>cooking-yasmin-simulation-1</td>\n",
              "      <td>3</td>\n",
              "      <td>286.916326</td>\n",
              "      <td>3.823462</td>\n",
              "      <td>0.055227</td>\n",
              "      <td>3</td>\n",
              "    </tr>\n",
              "  </tbody>\n",
              "</table>\n",
              "</div>"
            ],
            "text/plain": [
              "   User_ID  ... _Translanguage_Level_Before_Course_Plan\n",
              "0        0  ...                                       3\n",
              "1        0  ...                                       3\n",
              "2        0  ...                                       3\n",
              "3        0  ...                                       3\n",
              "4        0  ...                                       3\n",
              "\n",
              "[5 rows x 7 columns]"
            ]
          },
          "metadata": {},
          "execution_count": 6
        }
      ]
    },
    {
      "cell_type": "markdown",
      "metadata": {
        "id": "Pbf5tAdth5qh"
      },
      "source": [
        "### Build a mapping Activity_ID -> encoded (numerical) activity ID"
      ]
    },
    {
      "cell_type": "code",
      "metadata": {
        "colab": {
          "base_uri": "https://localhost:8080/"
        },
        "id": "KYNMNceNCReu",
        "outputId": "949f68ef-c337-4068-8876-9af0153a06cc"
      },
      "source": [
        "# make sure `Activity_ID` in `df_activity` is unique\n",
        "assert len(df_activity) == len(df_activity[\"Activity_ID\"].unique())\n",
        "\n",
        "activity_id_to_encoded_id_dict = df_activity[\"Activity_ID\"].to_dict()\n",
        "print(activity_id_to_encoded_id_dict)\n",
        "encoded_id_to_activity_dict = {v: k for k, v in activity_id_to_encoded_id_dict.items()}  #inverted\n",
        "print(encoded_id_to_activity_dict)"
      ],
      "execution_count": null,
      "outputs": [
        {
          "output_type": "stream",
          "name": "stdout",
          "text": [
            "{0: 'farm-poiki-book-1', 1: 'farm-poiki-book-2', 2: 'farm-wendy-book-1', 3: 'farm-kevin-book-1', 4: 'country-none-book-1', 5: 'country-none-book-2', 6: 'country-none-book-3', 7: 'country-none-book-4', 8: 'home-kevin-book-1', 9: 'daycare-all-book-1', 10: 'world-all-book-1', 11: 'home-wendy-book-1', 12: 'travel-yasmin-book-1', 13: 'who-wendy-book-1', 14: 'who-wendy-book-2', 15: 'lab-wendy-book-1', 16: 'farm-poiki-videoclip-1', 17: 'farm-poiki-videoclip-2', 18: 'theatre-all-videoclip-1', 19: 'country-yasmin-videoclip-1', 20: 'country-wendy-videoclip-1', 21: 'country-yasmin-videoclip-2', 22: 'who-all-videoclip-1', 23: 'farm-yasmin-demovideo-1', 24: 'farm-poiki-demovideo-1', 25: 'farm-kevin-demovideo-1', 26: 'farm-wendy-demovideo-1', 27: 'farm-kevin-demovideo-2', 28: 'farm-poiki-demovideo-2', 29: 'farm-poiki-demovideo-3', 30: 'farm-none-demovideo-1', 31: 'farm-poiki-demovideo-4', 32: 'lab-wendy-demovideo-1', 33: 'who-wendy-demovideo-1', 34: 'who-yasmin-demovideo-1', 35: 'who-kevin-demovideo-1', 36: 'farm-yasmin-flashcards-1', 37: 'vehicles-yasmin-flashcards-1', 38: 'body-yasmin-flashcards-1', 39: 'pets-yasmin-flashcards-1', 40: 'colors-yasmin-flashcards-1', 41: 'seaanimals-yasmin-flashcards-1', 42: 'mycountryanimals-yasmin-flashcards-1', 43: 'instruments-yasmin-flashcards-1', 44: 'fruits-yasmin-flashcards-1', 45: 'veggies-yasmin-flashcards-1', 46: 'sea-yasmin-stickers-1', 47: 'farm-poiki-stickers-1', 48: 'jungle-yasmin-stickers-1', 49: 'forest-kevin-stickers-1', 50: 'body-wendy-stickers-1', 51: 'body-wendy-stickers-2', 52: 'dinosaurs-kevin-stickers-1', 53: 'beach-yasmin-stickers-1', 54: 'home-poiki-stickers-1', 55: 'greetings-poiki-video-1', 56: 'numbers-kevin-video-1', 57: 'numbers-poiki-video-1', 58: 'numbers-kevin-video-2', 59: 'numbers-yasmin-video-1', 60: 'numbers-poiki-video-2', 61: 'vehicles-yasmin-video-1', 62: 'feelings-poiki-video-1', 63: 'greetings-yasmin-video-1', 64: 'socialcode-wendy-video-1', 65: 'feelings-kevwen-video-1', 66: 'farm-poiki-video-1', 67: 'farm-poiki-video-2', 68: 'forestanimals-kevin-puzzle-1', 69: 'farm-wendy-puzzle-1', 70: 'who-wendy-puzzle-1', 71: 'sea-yasmin-puzzle-1', 72: 'jungle-yasmin-puzzle-1', 73: 'desert-yasmin-puzzle-1', 74: '2littlepigs-all-puzzle-1', 75: 'lab-wendy-puzzle-1', 76: 'farm-poiki-puzzle-1', 77: 'lighthouse-yasmin-puzzle-1', 78: 'mycountry-yasmin-puzzle-1', 79: 'forest-kevin-puzzle-1', 80: 'sea-yasmin-puzzle-2', 81: 'veggies-poiki-hotspot-1', 82: 'toys-kevin-hotspot-1', 83: 'farm-wendy-hotspot-1', 84: 'farmanimals-poiki-hotspot-1', 85: 'seanimals-yasmin-hotspot-1', 86: 'who-wendy-hotspot-1', 87: 'farm-wendy-hotspot-2', 88: 'farm-kevin-hotspot-1', 89: 'world-yasmin-hotspot-1', 90: 'sharing-wendy-hotspot-1', 91: 'newkinder-yasmin-hotspot-1', 92: 'newbaby-poiki-hotspot-1', 93: 'foods-poiki-hotspot-1', 94: 'friends-all-hotspot-1', 95: 'feelings-wendy-hotspot-1', 96: 'who-kevin-hotspot-1', 97: 'who-wendy-simulation-1', 98: 'farm-poiki-simulation-1', 99: 'farm-wendy-simulation-2', 100: 'cooking-kevin-simulation-1', 101: 'cooking-poiki-simulation-1', 102: 'cooking-yasmin-simulation-1', 103: 'feelings-poiki-simulation-1', 104: 'sleeping-kevin-simulation-1', 105: 'birthday-wendy-simulation-1', 106: 'christmas-all-simulation-1', 107: 'cooking-kevin-simulation-2', 108: 'who-kevin-simulation-1', 109: 'who-poiki-simulation-2', 110: 'lab-wendy-colors-1', 111: 'who-wendy-routine-2', 112: 'farm-kevin-identification-1', 113: 'farm-wendy-identification-1', 114: 'farm-kevin-piano-1', 115: 'farm-poiki-identification-1', 116: 'family-kevin-identification-1', 117: 'colors-yasmin-identification-1', 118: 'lab-wendy-shapes-1', 119: 'lab-wendy-space-1', 120: 'veggies-poiki-drawing-1', 121: 'fruits-kevin-drawing-1', 122: 'mycountry-yasmin-coloring-1', 123: 'fairtytales-wendy-coloring-1', 124: 'foods-poiki-naming-1', 125: 'mycountry-yasmin-tracing-1', 126: 'alphabet-poiki-tracing-1', 127: 'farm-yasmin-tracing-1', 128: 'alphabet-kevin-tracing-1', 129: 'yho-yasmin-tracing-1', 130: 'farm-kevin-colors-1', 131: 'family-wendy-game-1', 132: 'diapers-kevin-game-1', 133: 'sleeping-poiki-game-1', 134: 'country-birthday-game-1', 135: 'who-wendy-colors-1', 136: 'lab-kevin-game-1', 137: 'pets-bingo-1', 138: 'farmanimals-bingo-1', 139: 'colors-bingo-1', 140: 'myself-bingo-1', 141: 'beach-bingo-1', 142: 'body-roulette-1', 143: 'clothes-roulette-1', 144: 'foodsl-roulette-1', 145: 'shopping-roulette-1', 146: 'insects-roulette-1', 147: 'shapes-poiki-sequence-1', 148: 'shapes-memory-1', 149: 'clothes-memory-1', 150: 'colors-memory-1', 151: 'desertanimals-memory-1', 152: 'dinosaurs-memory-1', 153: 'feelings-memory-1', 154: 'foods-memory-1'}\n",
            "{'farm-poiki-book-1': 0, 'farm-poiki-book-2': 1, 'farm-wendy-book-1': 2, 'farm-kevin-book-1': 3, 'country-none-book-1': 4, 'country-none-book-2': 5, 'country-none-book-3': 6, 'country-none-book-4': 7, 'home-kevin-book-1': 8, 'daycare-all-book-1': 9, 'world-all-book-1': 10, 'home-wendy-book-1': 11, 'travel-yasmin-book-1': 12, 'who-wendy-book-1': 13, 'who-wendy-book-2': 14, 'lab-wendy-book-1': 15, 'farm-poiki-videoclip-1': 16, 'farm-poiki-videoclip-2': 17, 'theatre-all-videoclip-1': 18, 'country-yasmin-videoclip-1': 19, 'country-wendy-videoclip-1': 20, 'country-yasmin-videoclip-2': 21, 'who-all-videoclip-1': 22, 'farm-yasmin-demovideo-1': 23, 'farm-poiki-demovideo-1': 24, 'farm-kevin-demovideo-1': 25, 'farm-wendy-demovideo-1': 26, 'farm-kevin-demovideo-2': 27, 'farm-poiki-demovideo-2': 28, 'farm-poiki-demovideo-3': 29, 'farm-none-demovideo-1': 30, 'farm-poiki-demovideo-4': 31, 'lab-wendy-demovideo-1': 32, 'who-wendy-demovideo-1': 33, 'who-yasmin-demovideo-1': 34, 'who-kevin-demovideo-1': 35, 'farm-yasmin-flashcards-1': 36, 'vehicles-yasmin-flashcards-1': 37, 'body-yasmin-flashcards-1': 38, 'pets-yasmin-flashcards-1': 39, 'colors-yasmin-flashcards-1': 40, 'seaanimals-yasmin-flashcards-1': 41, 'mycountryanimals-yasmin-flashcards-1': 42, 'instruments-yasmin-flashcards-1': 43, 'fruits-yasmin-flashcards-1': 44, 'veggies-yasmin-flashcards-1': 45, 'sea-yasmin-stickers-1': 46, 'farm-poiki-stickers-1': 47, 'jungle-yasmin-stickers-1': 48, 'forest-kevin-stickers-1': 49, 'body-wendy-stickers-1': 50, 'body-wendy-stickers-2': 51, 'dinosaurs-kevin-stickers-1': 52, 'beach-yasmin-stickers-1': 53, 'home-poiki-stickers-1': 54, 'greetings-poiki-video-1': 55, 'numbers-kevin-video-1': 56, 'numbers-poiki-video-1': 57, 'numbers-kevin-video-2': 58, 'numbers-yasmin-video-1': 59, 'numbers-poiki-video-2': 60, 'vehicles-yasmin-video-1': 61, 'feelings-poiki-video-1': 62, 'greetings-yasmin-video-1': 63, 'socialcode-wendy-video-1': 64, 'feelings-kevwen-video-1': 65, 'farm-poiki-video-1': 66, 'farm-poiki-video-2': 67, 'forestanimals-kevin-puzzle-1': 68, 'farm-wendy-puzzle-1': 69, 'who-wendy-puzzle-1': 70, 'sea-yasmin-puzzle-1': 71, 'jungle-yasmin-puzzle-1': 72, 'desert-yasmin-puzzle-1': 73, '2littlepigs-all-puzzle-1': 74, 'lab-wendy-puzzle-1': 75, 'farm-poiki-puzzle-1': 76, 'lighthouse-yasmin-puzzle-1': 77, 'mycountry-yasmin-puzzle-1': 78, 'forest-kevin-puzzle-1': 79, 'sea-yasmin-puzzle-2': 80, 'veggies-poiki-hotspot-1': 81, 'toys-kevin-hotspot-1': 82, 'farm-wendy-hotspot-1': 83, 'farmanimals-poiki-hotspot-1': 84, 'seanimals-yasmin-hotspot-1': 85, 'who-wendy-hotspot-1': 86, 'farm-wendy-hotspot-2': 87, 'farm-kevin-hotspot-1': 88, 'world-yasmin-hotspot-1': 89, 'sharing-wendy-hotspot-1': 90, 'newkinder-yasmin-hotspot-1': 91, 'newbaby-poiki-hotspot-1': 92, 'foods-poiki-hotspot-1': 93, 'friends-all-hotspot-1': 94, 'feelings-wendy-hotspot-1': 95, 'who-kevin-hotspot-1': 96, 'who-wendy-simulation-1': 97, 'farm-poiki-simulation-1': 98, 'farm-wendy-simulation-2': 99, 'cooking-kevin-simulation-1': 100, 'cooking-poiki-simulation-1': 101, 'cooking-yasmin-simulation-1': 102, 'feelings-poiki-simulation-1': 103, 'sleeping-kevin-simulation-1': 104, 'birthday-wendy-simulation-1': 105, 'christmas-all-simulation-1': 106, 'cooking-kevin-simulation-2': 107, 'who-kevin-simulation-1': 108, 'who-poiki-simulation-2': 109, 'lab-wendy-colors-1': 110, 'who-wendy-routine-2': 111, 'farm-kevin-identification-1': 112, 'farm-wendy-identification-1': 113, 'farm-kevin-piano-1': 114, 'farm-poiki-identification-1': 115, 'family-kevin-identification-1': 116, 'colors-yasmin-identification-1': 117, 'lab-wendy-shapes-1': 118, 'lab-wendy-space-1': 119, 'veggies-poiki-drawing-1': 120, 'fruits-kevin-drawing-1': 121, 'mycountry-yasmin-coloring-1': 122, 'fairtytales-wendy-coloring-1': 123, 'foods-poiki-naming-1': 124, 'mycountry-yasmin-tracing-1': 125, 'alphabet-poiki-tracing-1': 126, 'farm-yasmin-tracing-1': 127, 'alphabet-kevin-tracing-1': 128, 'yho-yasmin-tracing-1': 129, 'farm-kevin-colors-1': 130, 'family-wendy-game-1': 131, 'diapers-kevin-game-1': 132, 'sleeping-poiki-game-1': 133, 'country-birthday-game-1': 134, 'who-wendy-colors-1': 135, 'lab-kevin-game-1': 136, 'pets-bingo-1': 137, 'farmanimals-bingo-1': 138, 'colors-bingo-1': 139, 'myself-bingo-1': 140, 'beach-bingo-1': 141, 'body-roulette-1': 142, 'clothes-roulette-1': 143, 'foodsl-roulette-1': 144, 'shopping-roulette-1': 145, 'insects-roulette-1': 146, 'shapes-poiki-sequence-1': 147, 'shapes-memory-1': 148, 'clothes-memory-1': 149, 'colors-memory-1': 150, 'desertanimals-memory-1': 151, 'dinosaurs-memory-1': 152, 'feelings-memory-1': 153, 'foods-memory-1': 154}\n"
          ]
        }
      ]
    },
    {
      "cell_type": "markdown",
      "metadata": {
        "id": "DWlM_QyHiAiI"
      },
      "source": [
        "### Add the encoded (numerical) activity id to `df_activitiy`"
      ]
    },
    {
      "cell_type": "code",
      "metadata": {
        "colab": {
          "base_uri": "https://localhost:8080/",
          "height": 343
        },
        "id": "QZqGKtyKCRgJ",
        "outputId": "02e7c762-7500-4bf4-efd6-274eb6e18f1c"
      },
      "source": [
        "df_activity['Activity_Num_ID'] = df_activity['Activity_ID'].map(encoded_id_to_activity_dict)\n",
        "df_activity.head()"
      ],
      "execution_count": null,
      "outputs": [
        {
          "output_type": "execute_result",
          "data": {
            "text/html": [
              "<div>\n",
              "<style scoped>\n",
              "    .dataframe tbody tr th:only-of-type {\n",
              "        vertical-align: middle;\n",
              "    }\n",
              "\n",
              "    .dataframe tbody tr th {\n",
              "        vertical-align: top;\n",
              "    }\n",
              "\n",
              "    .dataframe thead th {\n",
              "        text-align: right;\n",
              "    }\n",
              "</style>\n",
              "<table border=\"1\" class=\"dataframe\">\n",
              "  <thead>\n",
              "    <tr style=\"text-align: right;\">\n",
              "      <th></th>\n",
              "      <th>Activity_ID</th>\n",
              "      <th>Activity_Name</th>\n",
              "      <th>Activity_Content</th>\n",
              "      <th>Activity_Type</th>\n",
              "      <th>GameType</th>\n",
              "      <th>Ages_2yo</th>\n",
              "      <th>Ages_3yo</th>\n",
              "      <th>Ages_4yo</th>\n",
              "      <th>Ages_5yo</th>\n",
              "      <th>Ages_6yo</th>\n",
              "      <th>Ages_7yo</th>\n",
              "      <th>Cultures_None</th>\n",
              "      <th>Cultures_Brazil</th>\n",
              "      <th>Cultures_US</th>\n",
              "      <th>Cultures_UK</th>\n",
              "      <th>Cultures_Denmark</th>\n",
              "      <th>Cultures_Spain</th>\n",
              "      <th>Cultures_Mexico</th>\n",
              "      <th>Cultures_Canada</th>\n",
              "      <th>Cultures_Portugal</th>\n",
              "      <th>Cultures_Australia</th>\n",
              "      <th>Cultures_France</th>\n",
              "      <th>Cultures_Italy</th>\n",
              "      <th>Cultures_Germany</th>\n",
              "      <th>Activity_Level</th>\n",
              "      <th>Activity_Num_ID</th>\n",
              "    </tr>\n",
              "  </thead>\n",
              "  <tbody>\n",
              "    <tr>\n",
              "      <th>0</th>\n",
              "      <td>farm-poiki-book-1</td>\n",
              "      <td>Book: Poiki, the farmer</td>\n",
              "      <td>farm</td>\n",
              "      <td>standard</td>\n",
              "      <td>reading-book</td>\n",
              "      <td>1</td>\n",
              "      <td>1</td>\n",
              "      <td>1</td>\n",
              "      <td>0</td>\n",
              "      <td>0</td>\n",
              "      <td>0</td>\n",
              "      <td>1</td>\n",
              "      <td>0</td>\n",
              "      <td>0</td>\n",
              "      <td>0</td>\n",
              "      <td>0</td>\n",
              "      <td>0</td>\n",
              "      <td>0</td>\n",
              "      <td>0</td>\n",
              "      <td>0</td>\n",
              "      <td>0</td>\n",
              "      <td>0</td>\n",
              "      <td>0</td>\n",
              "      <td>0</td>\n",
              "      <td>0</td>\n",
              "      <td>0</td>\n",
              "    </tr>\n",
              "    <tr>\n",
              "      <th>1</th>\n",
              "      <td>farm-poiki-book-2</td>\n",
              "      <td>Book: The animals in the farm</td>\n",
              "      <td>farm-animals</td>\n",
              "      <td>standard</td>\n",
              "      <td>reading-book</td>\n",
              "      <td>1</td>\n",
              "      <td>1</td>\n",
              "      <td>1</td>\n",
              "      <td>0</td>\n",
              "      <td>0</td>\n",
              "      <td>0</td>\n",
              "      <td>1</td>\n",
              "      <td>0</td>\n",
              "      <td>0</td>\n",
              "      <td>0</td>\n",
              "      <td>0</td>\n",
              "      <td>0</td>\n",
              "      <td>0</td>\n",
              "      <td>0</td>\n",
              "      <td>0</td>\n",
              "      <td>0</td>\n",
              "      <td>0</td>\n",
              "      <td>0</td>\n",
              "      <td>0</td>\n",
              "      <td>0</td>\n",
              "      <td>1</td>\n",
              "    </tr>\n",
              "    <tr>\n",
              "      <th>2</th>\n",
              "      <td>farm-wendy-book-1</td>\n",
              "      <td>Book: Colors in the farm</td>\n",
              "      <td>colors</td>\n",
              "      <td>standard</td>\n",
              "      <td>reading-book</td>\n",
              "      <td>1</td>\n",
              "      <td>1</td>\n",
              "      <td>0</td>\n",
              "      <td>0</td>\n",
              "      <td>0</td>\n",
              "      <td>0</td>\n",
              "      <td>1</td>\n",
              "      <td>0</td>\n",
              "      <td>0</td>\n",
              "      <td>0</td>\n",
              "      <td>0</td>\n",
              "      <td>0</td>\n",
              "      <td>0</td>\n",
              "      <td>0</td>\n",
              "      <td>0</td>\n",
              "      <td>0</td>\n",
              "      <td>0</td>\n",
              "      <td>0</td>\n",
              "      <td>0</td>\n",
              "      <td>0</td>\n",
              "      <td>2</td>\n",
              "    </tr>\n",
              "    <tr>\n",
              "      <th>3</th>\n",
              "      <td>farm-kevin-book-1</td>\n",
              "      <td>Book: Shapes in the farm</td>\n",
              "      <td>shapes</td>\n",
              "      <td>standard</td>\n",
              "      <td>reading-book</td>\n",
              "      <td>1</td>\n",
              "      <td>1</td>\n",
              "      <td>0</td>\n",
              "      <td>0</td>\n",
              "      <td>0</td>\n",
              "      <td>0</td>\n",
              "      <td>1</td>\n",
              "      <td>0</td>\n",
              "      <td>0</td>\n",
              "      <td>0</td>\n",
              "      <td>0</td>\n",
              "      <td>0</td>\n",
              "      <td>0</td>\n",
              "      <td>0</td>\n",
              "      <td>0</td>\n",
              "      <td>0</td>\n",
              "      <td>0</td>\n",
              "      <td>0</td>\n",
              "      <td>0</td>\n",
              "      <td>0</td>\n",
              "      <td>3</td>\n",
              "    </tr>\n",
              "    <tr>\n",
              "      <th>4</th>\n",
              "      <td>country-none-book-1</td>\n",
              "      <td>How are the farms in my country?</td>\n",
              "      <td>my-country</td>\n",
              "      <td>cultural</td>\n",
              "      <td>reading-book</td>\n",
              "      <td>1</td>\n",
              "      <td>1</td>\n",
              "      <td>1</td>\n",
              "      <td>1</td>\n",
              "      <td>0</td>\n",
              "      <td>0</td>\n",
              "      <td>0</td>\n",
              "      <td>1</td>\n",
              "      <td>1</td>\n",
              "      <td>1</td>\n",
              "      <td>1</td>\n",
              "      <td>1</td>\n",
              "      <td>1</td>\n",
              "      <td>1</td>\n",
              "      <td>1</td>\n",
              "      <td>1</td>\n",
              "      <td>0</td>\n",
              "      <td>0</td>\n",
              "      <td>0</td>\n",
              "      <td>0</td>\n",
              "      <td>4</td>\n",
              "    </tr>\n",
              "  </tbody>\n",
              "</table>\n",
              "</div>"
            ],
            "text/plain": [
              "           Activity_ID  ... Activity_Num_ID\n",
              "0    farm-poiki-book-1  ...               0\n",
              "1    farm-poiki-book-2  ...               1\n",
              "2    farm-wendy-book-1  ...               2\n",
              "3    farm-kevin-book-1  ...               3\n",
              "4  country-none-book-1  ...               4\n",
              "\n",
              "[5 rows x 26 columns]"
            ]
          },
          "metadata": {},
          "execution_count": 8
        }
      ]
    },
    {
      "cell_type": "markdown",
      "metadata": {
        "id": "0df0cbQXiFfx"
      },
      "source": [
        "### Add the encoded (numerical) activity id to `df_scores_train`"
      ]
    },
    {
      "cell_type": "code",
      "metadata": {
        "colab": {
          "base_uri": "https://localhost:8080/",
          "height": 204
        },
        "id": "2V0E9PK4CRjP",
        "outputId": "f2c4844e-1e28-4d4f-9221-1a2270b135b2"
      },
      "source": [
        "df_scores_train['Activity_Num_ID'] = df_scores_train['Activity_ID'].map(encoded_id_to_activity_dict)\n",
        "df_scores_train.head()"
      ],
      "execution_count": null,
      "outputs": [
        {
          "output_type": "execute_result",
          "data": {
            "text/html": [
              "<div>\n",
              "<style scoped>\n",
              "    .dataframe tbody tr th:only-of-type {\n",
              "        vertical-align: middle;\n",
              "    }\n",
              "\n",
              "    .dataframe tbody tr th {\n",
              "        vertical-align: top;\n",
              "    }\n",
              "\n",
              "    .dataframe thead th {\n",
              "        text-align: right;\n",
              "    }\n",
              "</style>\n",
              "<table border=\"1\" class=\"dataframe\">\n",
              "  <thead>\n",
              "    <tr style=\"text-align: right;\">\n",
              "      <th></th>\n",
              "      <th>User_ID</th>\n",
              "      <th>Activity_ID</th>\n",
              "      <th>No_of_attempts</th>\n",
              "      <th>Time_taken</th>\n",
              "      <th>Translanguage_Level</th>\n",
              "      <th>Usefulness_Score</th>\n",
              "      <th>_Translanguage_Level_Before_Course_Plan</th>\n",
              "      <th>Activity_Num_ID</th>\n",
              "    </tr>\n",
              "  </thead>\n",
              "  <tbody>\n",
              "    <tr>\n",
              "      <th>0</th>\n",
              "      <td>0</td>\n",
              "      <td>country-wendy-videoclip-1</td>\n",
              "      <td>3</td>\n",
              "      <td>278.055180</td>\n",
              "      <td>3.101002</td>\n",
              "      <td>0.139800</td>\n",
              "      <td>2</td>\n",
              "      <td>20</td>\n",
              "    </tr>\n",
              "    <tr>\n",
              "      <th>1</th>\n",
              "      <td>0</td>\n",
              "      <td>country-yasmin-videoclip-1</td>\n",
              "      <td>4</td>\n",
              "      <td>281.867673</td>\n",
              "      <td>2.826381</td>\n",
              "      <td>0.084624</td>\n",
              "      <td>2</td>\n",
              "      <td>19</td>\n",
              "    </tr>\n",
              "    <tr>\n",
              "      <th>2</th>\n",
              "      <td>0</td>\n",
              "      <td>lab-wendy-colors-1</td>\n",
              "      <td>3</td>\n",
              "      <td>277.465027</td>\n",
              "      <td>2.782403</td>\n",
              "      <td>0.065831</td>\n",
              "      <td>2</td>\n",
              "      <td>110</td>\n",
              "    </tr>\n",
              "    <tr>\n",
              "      <th>3</th>\n",
              "      <td>0</td>\n",
              "      <td>who-wendy-colors-1</td>\n",
              "      <td>2</td>\n",
              "      <td>283.909252</td>\n",
              "      <td>3.006378</td>\n",
              "      <td>0.011640</td>\n",
              "      <td>2</td>\n",
              "      <td>135</td>\n",
              "    </tr>\n",
              "    <tr>\n",
              "      <th>4</th>\n",
              "      <td>0</td>\n",
              "      <td>farm-poiki-video-1</td>\n",
              "      <td>3</td>\n",
              "      <td>285.101000</td>\n",
              "      <td>2.736871</td>\n",
              "      <td>0.038446</td>\n",
              "      <td>2</td>\n",
              "      <td>66</td>\n",
              "    </tr>\n",
              "  </tbody>\n",
              "</table>\n",
              "</div>"
            ],
            "text/plain": [
              "   User_ID  ... Activity_Num_ID\n",
              "0        0  ...              20\n",
              "1        0  ...              19\n",
              "2        0  ...             110\n",
              "3        0  ...             135\n",
              "4        0  ...              66\n",
              "\n",
              "[5 rows x 8 columns]"
            ]
          },
          "metadata": {},
          "execution_count": 9
        }
      ]
    },
    {
      "cell_type": "markdown",
      "metadata": {
        "id": "ggBUOxGeiK5P"
      },
      "source": [
        "### Add the encoded (numerical) activity id to `df_scores_test`"
      ]
    },
    {
      "cell_type": "code",
      "metadata": {
        "colab": {
          "base_uri": "https://localhost:8080/",
          "height": 204
        },
        "id": "Fq13F45GCRlD",
        "outputId": "d09558bf-a272-45f8-f39a-81dc75c3cefc"
      },
      "source": [
        "df_scores_test['Activity_Num_ID'] = df_scores_test['Activity_ID'].map(encoded_id_to_activity_dict)\n",
        "df_scores_test.head()"
      ],
      "execution_count": null,
      "outputs": [
        {
          "output_type": "execute_result",
          "data": {
            "text/html": [
              "<div>\n",
              "<style scoped>\n",
              "    .dataframe tbody tr th:only-of-type {\n",
              "        vertical-align: middle;\n",
              "    }\n",
              "\n",
              "    .dataframe tbody tr th {\n",
              "        vertical-align: top;\n",
              "    }\n",
              "\n",
              "    .dataframe thead th {\n",
              "        text-align: right;\n",
              "    }\n",
              "</style>\n",
              "<table border=\"1\" class=\"dataframe\">\n",
              "  <thead>\n",
              "    <tr style=\"text-align: right;\">\n",
              "      <th></th>\n",
              "      <th>User_ID</th>\n",
              "      <th>Activity_ID</th>\n",
              "      <th>No_of_attempts</th>\n",
              "      <th>Time_taken</th>\n",
              "      <th>Translanguage_Level</th>\n",
              "      <th>Usefulness_Score</th>\n",
              "      <th>_Translanguage_Level_Before_Course_Plan</th>\n",
              "      <th>Activity_Num_ID</th>\n",
              "    </tr>\n",
              "  </thead>\n",
              "  <tbody>\n",
              "    <tr>\n",
              "      <th>0</th>\n",
              "      <td>0</td>\n",
              "      <td>cooking-yasmin-simulation-1</td>\n",
              "      <td>4</td>\n",
              "      <td>276.452842</td>\n",
              "      <td>3.487373</td>\n",
              "      <td>0.390101</td>\n",
              "      <td>3</td>\n",
              "      <td>102</td>\n",
              "    </tr>\n",
              "    <tr>\n",
              "      <th>1</th>\n",
              "      <td>0</td>\n",
              "      <td>farm-poiki-video-2</td>\n",
              "      <td>1</td>\n",
              "      <td>292.072599</td>\n",
              "      <td>3.711785</td>\n",
              "      <td>0.168906</td>\n",
              "      <td>3</td>\n",
              "      <td>67</td>\n",
              "    </tr>\n",
              "    <tr>\n",
              "      <th>2</th>\n",
              "      <td>0</td>\n",
              "      <td>lab-kevin-game-1</td>\n",
              "      <td>1</td>\n",
              "      <td>280.767327</td>\n",
              "      <td>3.860060</td>\n",
              "      <td>0.092441</td>\n",
              "      <td>3</td>\n",
              "      <td>136</td>\n",
              "    </tr>\n",
              "    <tr>\n",
              "      <th>3</th>\n",
              "      <td>0</td>\n",
              "      <td>insects-roulette-1</td>\n",
              "      <td>2</td>\n",
              "      <td>286.974125</td>\n",
              "      <td>3.731912</td>\n",
              "      <td>0.079838</td>\n",
              "      <td>3</td>\n",
              "      <td>146</td>\n",
              "    </tr>\n",
              "    <tr>\n",
              "      <th>4</th>\n",
              "      <td>0</td>\n",
              "      <td>cooking-yasmin-simulation-1</td>\n",
              "      <td>3</td>\n",
              "      <td>286.916326</td>\n",
              "      <td>3.823462</td>\n",
              "      <td>0.055227</td>\n",
              "      <td>3</td>\n",
              "      <td>102</td>\n",
              "    </tr>\n",
              "  </tbody>\n",
              "</table>\n",
              "</div>"
            ],
            "text/plain": [
              "   User_ID  ... Activity_Num_ID\n",
              "0        0  ...             102\n",
              "1        0  ...              67\n",
              "2        0  ...             136\n",
              "3        0  ...             146\n",
              "4        0  ...             102\n",
              "\n",
              "[5 rows x 8 columns]"
            ]
          },
          "metadata": {},
          "execution_count": 10
        }
      ]
    },
    {
      "cell_type": "markdown",
      "metadata": {
        "id": "HjKmzcuBKQVa"
      },
      "source": [
        "### Train the SVD Model"
      ]
    },
    {
      "cell_type": "markdown",
      "metadata": {
        "id": "DLUswwBnKQW9"
      },
      "source": [
        "Surprise needs to build an internal model of the data. We here use the load_from_df method to build a Dataset object, and then indicate that we want to train on all the samples of this dataset by using the build_full_trainset method."
      ]
    },
    {
      "cell_type": "code",
      "metadata": {
        "id": "eZi7PyQ7KQbu"
      },
      "source": [
        "# 'reader' is being used to get rating scale (for Poikilingo, the scale is [0, 1]).\n",
        "# https://github.com/NicolasHug/Surprise/blob/master/surprise/dataset.py\n",
        "reader = surprise.Reader(line_format=\"user item rating\", rating_scale=(0, 1))\n",
        "train_set = surprise.Dataset.load_from_df(df_scores_train[['User_ID', 'Activity_Num_ID', 'Usefulness_Score']], reader=reader).build_full_trainset()"
      ],
      "execution_count": null,
      "outputs": []
    },
    {
      "cell_type": "markdown",
      "metadata": {
        "id": "_M-iPEmZKQda"
      },
      "source": [
        "\n",
        "The [SVD](https://surprise.readthedocs.io/en/stable/matrix_factorization.html#surprise.prediction_algorithms.matrix_factorization.SVD) has a lot of parameters. The most important ones are:\n",
        "\n",
        "* `n_factors`, which controls the dimension of the latent space (i.e. the size of the vectors $p_u$ and $q_i$). Usually, the quality of the training set predictions grows with as `n_factors` gets higher.\n",
        "* `n_epochs`, which defines the number of iteration of the SGD procedure.\n",
        "Note that both parameter also affect the training time.\n",
        "\n",
        "We will here set n_factors to 200 and n_epochs to 30. To train the model, we simply need to call the fit() method."
      ]
    },
    {
      "cell_type": "code",
      "metadata": {
        "id": "AMxWe9NFKQhY",
        "colab": {
          "base_uri": "https://localhost:8080/"
        },
        "outputId": "2709bbc3-3464-443b-9f6e-bad97b70c9ff"
      },
      "source": [
        "svd = surprise.SVD(random_state=0, n_factors=200, n_epochs=30, verbose=True)\n",
        "\n",
        "with Timer() as train_time:\n",
        "    svd.fit(train_set)\n",
        "\n",
        "print(\"Took {} seconds for training.\".format(train_time.interval))"
      ],
      "execution_count": null,
      "outputs": [
        {
          "output_type": "stream",
          "name": "stdout",
          "text": [
            "Processing epoch 0\n",
            "Processing epoch 1\n",
            "Processing epoch 2\n",
            "Processing epoch 3\n",
            "Processing epoch 4\n",
            "Processing epoch 5\n",
            "Processing epoch 6\n",
            "Processing epoch 7\n",
            "Processing epoch 8\n",
            "Processing epoch 9\n",
            "Processing epoch 10\n",
            "Processing epoch 11\n",
            "Processing epoch 12\n",
            "Processing epoch 13\n",
            "Processing epoch 14\n",
            "Processing epoch 15\n",
            "Processing epoch 16\n",
            "Processing epoch 17\n",
            "Processing epoch 18\n",
            "Processing epoch 19\n",
            "Processing epoch 20\n",
            "Processing epoch 21\n",
            "Processing epoch 22\n",
            "Processing epoch 23\n",
            "Processing epoch 24\n",
            "Processing epoch 25\n",
            "Processing epoch 26\n",
            "Processing epoch 27\n",
            "Processing epoch 28\n",
            "Processing epoch 29\n",
            "Took 1.590882960999977 seconds for training.\n"
          ]
        }
      ]
    },
    {
      "cell_type": "markdown",
      "metadata": {
        "id": "j2CUD49Ao65c"
      },
      "source": [
        "### Prediction"
      ]
    },
    {
      "cell_type": "markdown",
      "metadata": {
        "id": "p7YrSNMrpFTo"
      },
      "source": [
        "Now that our model is fitted, we can call `predict` to get some predictions. `predict` returns an internal object `Prediction` which can be easily converted back to a dataframe:"
      ]
    },
    {
      "cell_type": "code",
      "metadata": {
        "colab": {
          "base_uri": "https://localhost:8080/",
          "height": 204
        },
        "id": "FohouRUopT9Q",
        "outputId": "776387a5-c944-4ba0-d911-6874c5074605"
      },
      "source": [
        "predictions = predict(svd, df_scores_test[['User_ID', 'Activity_Num_ID', 'Usefulness_Score']], usercol='User_ID', itemcol='Activity_Num_ID')\n",
        "predictions.head()"
      ],
      "execution_count": null,
      "outputs": [
        {
          "output_type": "execute_result",
          "data": {
            "text/html": [
              "<div>\n",
              "<style scoped>\n",
              "    .dataframe tbody tr th:only-of-type {\n",
              "        vertical-align: middle;\n",
              "    }\n",
              "\n",
              "    .dataframe tbody tr th {\n",
              "        vertical-align: top;\n",
              "    }\n",
              "\n",
              "    .dataframe thead th {\n",
              "        text-align: right;\n",
              "    }\n",
              "</style>\n",
              "<table border=\"1\" class=\"dataframe\">\n",
              "  <thead>\n",
              "    <tr style=\"text-align: right;\">\n",
              "      <th></th>\n",
              "      <th>User_ID</th>\n",
              "      <th>Activity_Num_ID</th>\n",
              "      <th>prediction</th>\n",
              "    </tr>\n",
              "  </thead>\n",
              "  <tbody>\n",
              "    <tr>\n",
              "      <th>0</th>\n",
              "      <td>0</td>\n",
              "      <td>102</td>\n",
              "      <td>0.218034</td>\n",
              "    </tr>\n",
              "    <tr>\n",
              "      <th>1</th>\n",
              "      <td>0</td>\n",
              "      <td>67</td>\n",
              "      <td>0.148088</td>\n",
              "    </tr>\n",
              "    <tr>\n",
              "      <th>2</th>\n",
              "      <td>0</td>\n",
              "      <td>136</td>\n",
              "      <td>0.179007</td>\n",
              "    </tr>\n",
              "    <tr>\n",
              "      <th>3</th>\n",
              "      <td>0</td>\n",
              "      <td>146</td>\n",
              "      <td>0.189965</td>\n",
              "    </tr>\n",
              "    <tr>\n",
              "      <th>4</th>\n",
              "      <td>0</td>\n",
              "      <td>102</td>\n",
              "      <td>0.218034</td>\n",
              "    </tr>\n",
              "  </tbody>\n",
              "</table>\n",
              "</div>"
            ],
            "text/plain": [
              "   User_ID  Activity_Num_ID  prediction\n",
              "0        0              102    0.218034\n",
              "1        0               67    0.148088\n",
              "2        0              136    0.179007\n",
              "3        0              146    0.189965\n",
              "4        0              102    0.218034"
            ]
          },
          "metadata": {},
          "execution_count": 19
        }
      ]
    },
    {
      "cell_type": "markdown",
      "metadata": {
        "id": "X6ZWAvYdpXmB"
      },
      "source": [
        "### Remove played activity in the top k recommendations"
      ]
    },
    {
      "cell_type": "code",
      "metadata": {
        "colab": {
          "base_uri": "https://localhost:8080/"
        },
        "id": "45yVszAtpbm4",
        "outputId": "b3ee8794-8e40-427c-e997-a72359378899"
      },
      "source": [
        "with Timer() as test_time:\n",
        "    all_predictions = compute_ranking_predictions(svd, df_scores_train[['User_ID', 'Activity_Num_ID', 'Usefulness_Score']], usercol='User_ID', itemcol='Activity_Num_ID', remove_seen=True)\n",
        "    \n",
        "print(\"Took {} seconds for prediction.\".format(test_time.interval))"
      ],
      "execution_count": null,
      "outputs": [
        {
          "output_type": "stream",
          "name": "stdout",
          "text": [
            "Took 0.22375432199999068 seconds for prediction.\n"
          ]
        }
      ]
    },
    {
      "cell_type": "code",
      "metadata": {
        "colab": {
          "base_uri": "https://localhost:8080/",
          "height": 204
        },
        "id": "dJDbfLqtqgYR",
        "outputId": "d10ad571-8e9b-4e31-d5eb-289e7bdda498"
      },
      "source": [
        "all_predictions.head()"
      ],
      "execution_count": null,
      "outputs": [
        {
          "output_type": "execute_result",
          "data": {
            "text/html": [
              "<div>\n",
              "<style scoped>\n",
              "    .dataframe tbody tr th:only-of-type {\n",
              "        vertical-align: middle;\n",
              "    }\n",
              "\n",
              "    .dataframe tbody tr th {\n",
              "        vertical-align: top;\n",
              "    }\n",
              "\n",
              "    .dataframe thead th {\n",
              "        text-align: right;\n",
              "    }\n",
              "</style>\n",
              "<table border=\"1\" class=\"dataframe\">\n",
              "  <thead>\n",
              "    <tr style=\"text-align: right;\">\n",
              "      <th></th>\n",
              "      <th>User_ID</th>\n",
              "      <th>Activity_Num_ID</th>\n",
              "      <th>prediction</th>\n",
              "    </tr>\n",
              "  </thead>\n",
              "  <tbody>\n",
              "    <tr>\n",
              "      <th>11880</th>\n",
              "      <td>0</td>\n",
              "      <td>147</td>\n",
              "      <td>0.137275</td>\n",
              "    </tr>\n",
              "    <tr>\n",
              "      <th>11881</th>\n",
              "      <td>0</td>\n",
              "      <td>137</td>\n",
              "      <td>0.121770</td>\n",
              "    </tr>\n",
              "    <tr>\n",
              "      <th>11882</th>\n",
              "      <td>0</td>\n",
              "      <td>145</td>\n",
              "      <td>0.241462</td>\n",
              "    </tr>\n",
              "    <tr>\n",
              "      <th>11883</th>\n",
              "      <td>0</td>\n",
              "      <td>15</td>\n",
              "      <td>0.000000</td>\n",
              "    </tr>\n",
              "    <tr>\n",
              "      <th>11884</th>\n",
              "      <td>0</td>\n",
              "      <td>107</td>\n",
              "      <td>0.168881</td>\n",
              "    </tr>\n",
              "  </tbody>\n",
              "</table>\n",
              "</div>"
            ],
            "text/plain": [
              "       User_ID  Activity_Num_ID  prediction\n",
              "11880        0              147    0.137275\n",
              "11881        0              137    0.121770\n",
              "11882        0              145    0.241462\n",
              "11883        0               15    0.000000\n",
              "11884        0              107    0.168881"
            ]
          },
          "metadata": {},
          "execution_count": 23
        }
      ]
    },
    {
      "cell_type": "markdown",
      "metadata": {
        "id": "9aKJnfWeqjOh"
      },
      "source": [
        "### Evaluate how well SVD performs"
      ]
    },
    {
      "cell_type": "code",
      "metadata": {
        "colab": {
          "base_uri": "https://localhost:8080/"
        },
        "id": "AaRNL0CYrOlY",
        "outputId": "a0ef6da1-0bd3-4b22-a1ec-4c53938400ae"
      },
      "source": [
        "kwargs = dict(col_user='User_ID', col_item='Activity_Num_ID', col_rating='Usefulness_Score', col_prediction='prediction')\n",
        "\n",
        "eval_rmse = rmse(df_scores_test[['User_ID', 'Activity_Num_ID', 'Usefulness_Score']], predictions, **kwargs)\n",
        "eval_mae = mae(df_scores_test[['User_ID', 'Activity_Num_ID', 'Usefulness_Score']], predictions, **kwargs)\n",
        "eval_rsquared = rsquared(df_scores_test[['User_ID', 'Activity_Num_ID', 'Usefulness_Score']], predictions, **kwargs)\n",
        "eval_exp_var = exp_var(df_scores_test[['User_ID', 'Activity_Num_ID', 'Usefulness_Score']], predictions, **kwargs)\n",
        "\n",
        "k = 10\n",
        "eval_map = map_at_k(df_scores_test[['User_ID', 'Activity_Num_ID', 'Usefulness_Score']], all_predictions, k=k, **kwargs)\n",
        "eval_ndcg = ndcg_at_k(df_scores_test[['User_ID', 'Activity_Num_ID', 'Usefulness_Score']], all_predictions, k=k, **kwargs)\n",
        "eval_precision = precision_at_k(df_scores_test[['User_ID', 'Activity_Num_ID', 'Usefulness_Score']], all_predictions, k=k, **kwargs)\n",
        "eval_recall = recall_at_k(df_scores_test[['User_ID', 'Activity_Num_ID', 'Usefulness_Score']], all_predictions, k=k, **kwargs)\n",
        "\n",
        "\n",
        "print(\"RMSE:\\t\\t%f\" % eval_rmse,\n",
        "      \"MAE:\\t\\t%f\" % eval_mae,\n",
        "      \"rsquared:\\t%f\" % eval_rsquared,\n",
        "      \"exp var:\\t%f\" % eval_exp_var, sep='\\n')\n",
        "\n",
        "print('----')\n",
        "\n",
        "print(\"MAP:\\t%f\" % eval_map,\n",
        "      \"NDCG:\\t%f\" % eval_ndcg,\n",
        "      \"Precision@K:\\t%f\" % eval_precision,\n",
        "      \"Recall@K:\\t%f\" % eval_recall, sep='\\n')"
      ],
      "execution_count": null,
      "outputs": [
        {
          "output_type": "stream",
          "name": "stdout",
          "text": [
            "RMSE:\t\t0.264573\n",
            "MAE:\t\t0.199131\n",
            "rsquared:\t-0.837950\n",
            "exp var:\t-0.412626\n",
            "----\n",
            "MAP:\t0.001570\n",
            "NDCG:\t0.003145\n",
            "Precision@K:\t0.003600\n",
            "Recall@K:\t0.003600\n"
          ]
        }
      ]
    },
    {
      "cell_type": "code",
      "metadata": {
        "id": "wC1AoHWWrQ44"
      },
      "source": [
        "# prediction for user 0\n",
        "result = all_predictions[all_predictions['User_ID'] == 0]"
      ],
      "execution_count": null,
      "outputs": []
    },
    {
      "cell_type": "code",
      "metadata": {
        "colab": {
          "base_uri": "https://localhost:8080/",
          "height": 204
        },
        "id": "geDmrJEukNUU",
        "outputId": "1809fef6-be3b-4a78-dd8d-3b5855543579"
      },
      "source": [
        "result.head()"
      ],
      "execution_count": null,
      "outputs": [
        {
          "output_type": "execute_result",
          "data": {
            "text/html": [
              "<div>\n",
              "<style scoped>\n",
              "    .dataframe tbody tr th:only-of-type {\n",
              "        vertical-align: middle;\n",
              "    }\n",
              "\n",
              "    .dataframe tbody tr th {\n",
              "        vertical-align: top;\n",
              "    }\n",
              "\n",
              "    .dataframe thead th {\n",
              "        text-align: right;\n",
              "    }\n",
              "</style>\n",
              "<table border=\"1\" class=\"dataframe\">\n",
              "  <thead>\n",
              "    <tr style=\"text-align: right;\">\n",
              "      <th></th>\n",
              "      <th>User_ID</th>\n",
              "      <th>Activity_Num_ID</th>\n",
              "      <th>prediction</th>\n",
              "    </tr>\n",
              "  </thead>\n",
              "  <tbody>\n",
              "    <tr>\n",
              "      <th>11880</th>\n",
              "      <td>0</td>\n",
              "      <td>147</td>\n",
              "      <td>0.137275</td>\n",
              "    </tr>\n",
              "    <tr>\n",
              "      <th>11881</th>\n",
              "      <td>0</td>\n",
              "      <td>137</td>\n",
              "      <td>0.121770</td>\n",
              "    </tr>\n",
              "    <tr>\n",
              "      <th>11882</th>\n",
              "      <td>0</td>\n",
              "      <td>145</td>\n",
              "      <td>0.241462</td>\n",
              "    </tr>\n",
              "    <tr>\n",
              "      <th>11883</th>\n",
              "      <td>0</td>\n",
              "      <td>15</td>\n",
              "      <td>0.000000</td>\n",
              "    </tr>\n",
              "    <tr>\n",
              "      <th>11884</th>\n",
              "      <td>0</td>\n",
              "      <td>107</td>\n",
              "      <td>0.168881</td>\n",
              "    </tr>\n",
              "  </tbody>\n",
              "</table>\n",
              "</div>"
            ],
            "text/plain": [
              "       User_ID  Activity_Num_ID  prediction\n",
              "11880        0              147    0.137275\n",
              "11881        0              137    0.121770\n",
              "11882        0              145    0.241462\n",
              "11883        0               15    0.000000\n",
              "11884        0              107    0.168881"
            ]
          },
          "metadata": {},
          "execution_count": 40
        }
      ]
    },
    {
      "cell_type": "code",
      "metadata": {
        "colab": {
          "base_uri": "https://localhost:8080/",
          "height": 514
        },
        "id": "Gio3jxflkNWR",
        "outputId": "53b51a57-a695-407d-d892-da746174e826"
      },
      "source": [
        "result.head(n=15)"
      ],
      "execution_count": null,
      "outputs": [
        {
          "output_type": "execute_result",
          "data": {
            "text/html": [
              "<div>\n",
              "<style scoped>\n",
              "    .dataframe tbody tr th:only-of-type {\n",
              "        vertical-align: middle;\n",
              "    }\n",
              "\n",
              "    .dataframe tbody tr th {\n",
              "        vertical-align: top;\n",
              "    }\n",
              "\n",
              "    .dataframe thead th {\n",
              "        text-align: right;\n",
              "    }\n",
              "</style>\n",
              "<table border=\"1\" class=\"dataframe\">\n",
              "  <thead>\n",
              "    <tr style=\"text-align: right;\">\n",
              "      <th></th>\n",
              "      <th>User_ID</th>\n",
              "      <th>Activity_Num_ID</th>\n",
              "      <th>prediction</th>\n",
              "    </tr>\n",
              "  </thead>\n",
              "  <tbody>\n",
              "    <tr>\n",
              "      <th>11880</th>\n",
              "      <td>0</td>\n",
              "      <td>147</td>\n",
              "      <td>0.137275</td>\n",
              "    </tr>\n",
              "    <tr>\n",
              "      <th>11881</th>\n",
              "      <td>0</td>\n",
              "      <td>137</td>\n",
              "      <td>0.121770</td>\n",
              "    </tr>\n",
              "    <tr>\n",
              "      <th>11882</th>\n",
              "      <td>0</td>\n",
              "      <td>145</td>\n",
              "      <td>0.241462</td>\n",
              "    </tr>\n",
              "    <tr>\n",
              "      <th>11883</th>\n",
              "      <td>0</td>\n",
              "      <td>15</td>\n",
              "      <td>0.000000</td>\n",
              "    </tr>\n",
              "    <tr>\n",
              "      <th>11884</th>\n",
              "      <td>0</td>\n",
              "      <td>107</td>\n",
              "      <td>0.168881</td>\n",
              "    </tr>\n",
              "    <tr>\n",
              "      <th>11885</th>\n",
              "      <td>0</td>\n",
              "      <td>43</td>\n",
              "      <td>0.154593</td>\n",
              "    </tr>\n",
              "    <tr>\n",
              "      <th>11886</th>\n",
              "      <td>0</td>\n",
              "      <td>129</td>\n",
              "      <td>0.160305</td>\n",
              "    </tr>\n",
              "    <tr>\n",
              "      <th>11887</th>\n",
              "      <td>0</td>\n",
              "      <td>118</td>\n",
              "      <td>0.299220</td>\n",
              "    </tr>\n",
              "    <tr>\n",
              "      <th>11888</th>\n",
              "      <td>0</td>\n",
              "      <td>153</td>\n",
              "      <td>0.228412</td>\n",
              "    </tr>\n",
              "    <tr>\n",
              "      <th>11889</th>\n",
              "      <td>0</td>\n",
              "      <td>115</td>\n",
              "      <td>0.199704</td>\n",
              "    </tr>\n",
              "    <tr>\n",
              "      <th>11890</th>\n",
              "      <td>0</td>\n",
              "      <td>34</td>\n",
              "      <td>0.165769</td>\n",
              "    </tr>\n",
              "    <tr>\n",
              "      <th>11891</th>\n",
              "      <td>0</td>\n",
              "      <td>90</td>\n",
              "      <td>0.332783</td>\n",
              "    </tr>\n",
              "    <tr>\n",
              "      <th>11892</th>\n",
              "      <td>0</td>\n",
              "      <td>27</td>\n",
              "      <td>0.317908</td>\n",
              "    </tr>\n",
              "    <tr>\n",
              "      <th>11893</th>\n",
              "      <td>0</td>\n",
              "      <td>22</td>\n",
              "      <td>0.063677</td>\n",
              "    </tr>\n",
              "    <tr>\n",
              "      <th>11894</th>\n",
              "      <td>0</td>\n",
              "      <td>10</td>\n",
              "      <td>0.331762</td>\n",
              "    </tr>\n",
              "  </tbody>\n",
              "</table>\n",
              "</div>"
            ],
            "text/plain": [
              "       User_ID  Activity_Num_ID  prediction\n",
              "11880        0              147    0.137275\n",
              "11881        0              137    0.121770\n",
              "11882        0              145    0.241462\n",
              "11883        0               15    0.000000\n",
              "11884        0              107    0.168881\n",
              "11885        0               43    0.154593\n",
              "11886        0              129    0.160305\n",
              "11887        0              118    0.299220\n",
              "11888        0              153    0.228412\n",
              "11889        0              115    0.199704\n",
              "11890        0               34    0.165769\n",
              "11891        0               90    0.332783\n",
              "11892        0               27    0.317908\n",
              "11893        0               22    0.063677\n",
              "11894        0               10    0.331762"
            ]
          },
          "metadata": {},
          "execution_count": 41
        }
      ]
    },
    {
      "cell_type": "code",
      "metadata": {
        "id": "zQC7DlaokNYv"
      },
      "source": [
        "# merge top 10 prediction with activities dataframe\n",
        "result = pd.merge(result, df_activity, on='Activity_Num_ID', how='left')"
      ],
      "execution_count": null,
      "outputs": []
    },
    {
      "cell_type": "code",
      "metadata": {
        "colab": {
          "base_uri": "https://localhost:8080/",
          "height": 376
        },
        "id": "3QAuBU3rkNaV",
        "outputId": "55b4ef56-fbc5-4ef6-98dd-140f581c47e5"
      },
      "source": [
        "print(\"User 0 top 15 predictions\")\n",
        "result[['prediction', 'User_ID', 'Activity_Num_ID', 'Activity_Name']].head(n=10)"
      ],
      "execution_count": null,
      "outputs": [
        {
          "output_type": "stream",
          "name": "stdout",
          "text": [
            "User 0 top 15 predictions\n"
          ]
        },
        {
          "output_type": "execute_result",
          "data": {
            "text/html": [
              "<div>\n",
              "<style scoped>\n",
              "    .dataframe tbody tr th:only-of-type {\n",
              "        vertical-align: middle;\n",
              "    }\n",
              "\n",
              "    .dataframe tbody tr th {\n",
              "        vertical-align: top;\n",
              "    }\n",
              "\n",
              "    .dataframe thead th {\n",
              "        text-align: right;\n",
              "    }\n",
              "</style>\n",
              "<table border=\"1\" class=\"dataframe\">\n",
              "  <thead>\n",
              "    <tr style=\"text-align: right;\">\n",
              "      <th></th>\n",
              "      <th>prediction</th>\n",
              "      <th>User_ID</th>\n",
              "      <th>Activity_Num_ID</th>\n",
              "      <th>Activity_Name</th>\n",
              "    </tr>\n",
              "  </thead>\n",
              "  <tbody>\n",
              "    <tr>\n",
              "      <th>0</th>\n",
              "      <td>0.137275</td>\n",
              "      <td>0</td>\n",
              "      <td>147</td>\n",
              "      <td>Poiki is drawing  in the stars</td>\n",
              "    </tr>\n",
              "    <tr>\n",
              "      <th>1</th>\n",
              "      <td>0.121770</td>\n",
              "      <td>0</td>\n",
              "      <td>137</td>\n",
              "      <td>Bingo - pets</td>\n",
              "    </tr>\n",
              "    <tr>\n",
              "      <th>2</th>\n",
              "      <td>0.241462</td>\n",
              "      <td>0</td>\n",
              "      <td>145</td>\n",
              "      <td>Roulette - shopping cart</td>\n",
              "    </tr>\n",
              "    <tr>\n",
              "      <th>3</th>\n",
              "      <td>0.000000</td>\n",
              "      <td>0</td>\n",
              "      <td>15</td>\n",
              "      <td>Book: Wendy teaches about germs</td>\n",
              "    </tr>\n",
              "    <tr>\n",
              "      <th>4</th>\n",
              "      <td>0.168881</td>\n",
              "      <td>0</td>\n",
              "      <td>107</td>\n",
              "      <td>Cake decoration</td>\n",
              "    </tr>\n",
              "    <tr>\n",
              "      <th>5</th>\n",
              "      <td>0.154593</td>\n",
              "      <td>0</td>\n",
              "      <td>43</td>\n",
              "      <td>Flashcards - musical instruments</td>\n",
              "    </tr>\n",
              "    <tr>\n",
              "      <th>6</th>\n",
              "      <td>0.160305</td>\n",
              "      <td>0</td>\n",
              "      <td>129</td>\n",
              "      <td>Tracing my name</td>\n",
              "    </tr>\n",
              "    <tr>\n",
              "      <th>7</th>\n",
              "      <td>0.299220</td>\n",
              "      <td>0</td>\n",
              "      <td>118</td>\n",
              "      <td>Wendy's popping balloons</td>\n",
              "    </tr>\n",
              "    <tr>\n",
              "      <th>8</th>\n",
              "      <td>0.228412</td>\n",
              "      <td>0</td>\n",
              "      <td>153</td>\n",
              "      <td>4 pairs memory game</td>\n",
              "    </tr>\n",
              "    <tr>\n",
              "      <th>9</th>\n",
              "      <td>0.199704</td>\n",
              "      <td>0</td>\n",
              "      <td>115</td>\n",
              "      <td>Poiki is harvesting with his tractor</td>\n",
              "    </tr>\n",
              "  </tbody>\n",
              "</table>\n",
              "</div>"
            ],
            "text/plain": [
              "   prediction  User_ID  Activity_Num_ID                         Activity_Name\n",
              "0    0.137275        0              147        Poiki is drawing  in the stars\n",
              "1    0.121770        0              137                          Bingo - pets\n",
              "2    0.241462        0              145              Roulette - shopping cart\n",
              "3    0.000000        0               15       Book: Wendy teaches about germs\n",
              "4    0.168881        0              107                       Cake decoration\n",
              "5    0.154593        0               43     Flashcards - musical instruments \n",
              "6    0.160305        0              129                       Tracing my name\n",
              "7    0.299220        0              118              Wendy's popping balloons\n",
              "8    0.228412        0              153                   4 pairs memory game\n",
              "9    0.199704        0              115  Poiki is harvesting with his tractor"
            ]
          },
          "metadata": {},
          "execution_count": 43
        }
      ]
    },
    {
      "cell_type": "code",
      "metadata": {
        "id": "D5txmAY2mGzh"
      },
      "source": [
        ""
      ],
      "execution_count": null,
      "outputs": []
    }
  ]
}