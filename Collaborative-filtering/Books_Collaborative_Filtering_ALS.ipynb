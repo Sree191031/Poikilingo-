{
  "nbformat": 4,
  "nbformat_minor": 0,
  "metadata": {
    "colab": {
      "name": "Collaborative_Filtering_ALS_Books_[Samad_Farooq].ipynb",
      "provenance": [],
      "collapsed_sections": []
    },
    "kernelspec": {
      "name": "python3",
      "display_name": "Python 3"
    },
    "language_info": {
      "name": "python"
    },
    "accelerator": "GPU"
  },
  "cells": [
    {
      "cell_type": "code",
      "metadata": {
        "colab": {
          "base_uri": "https://localhost:8080/"
        },
        "id": "rPx-Ay9BiGAF",
        "outputId": "84e72004-a438-49ea-bf0d-aec129adfbb4"
      },
      "source": [
        "!pip install recommenders"
      ],
      "execution_count": null,
      "outputs": [
        {
          "output_type": "stream",
          "name": "stdout",
          "text": [
            "Collecting recommenders\n",
            "  Downloading recommenders-0.7.0-py3-none-manylinux1_x86_64.whl (314 kB)\n",
            "\u001b[K     |████████████████████████████████| 314 kB 5.4 MB/s \n",
            "\u001b[?25hCollecting pyyaml<6,>=5.4.1\n",
            "  Downloading PyYAML-5.4.1-cp37-cp37m-manylinux1_x86_64.whl (636 kB)\n",
            "\u001b[K     |████████████████████████████████| 636 kB 41.9 MB/s \n",
            "\u001b[?25hCollecting nltk<4,>=3.4\n",
            "  Downloading nltk-3.6.3-py3-none-any.whl (1.5 MB)\n",
            "\u001b[K     |████████████████████████████████| 1.5 MB 38.6 MB/s \n",
            "\u001b[?25hCollecting transformers<5,>=2.5.0\n",
            "  Downloading transformers-4.11.2-py3-none-any.whl (2.9 MB)\n",
            "\u001b[K     |████████████████████████████████| 2.9 MB 30.7 MB/s \n",
            "\u001b[?25hRequirement already satisfied: numpy>=1.14 in /usr/local/lib/python3.7/dist-packages (from recommenders) (1.19.5)\n",
            "Requirement already satisfied: tqdm<5,>=4.31.1 in /usr/local/lib/python3.7/dist-packages (from recommenders) (4.62.3)\n",
            "Requirement already satisfied: scipy<2,>=1.0.0 in /usr/local/lib/python3.7/dist-packages (from recommenders) (1.4.1)\n",
            "Collecting pymanopt<1,>=0.2.5\n",
            "  Downloading pymanopt-0.2.5-py3-none-any.whl (59 kB)\n",
            "\u001b[K     |████████████████████████████████| 59 kB 6.3 MB/s \n",
            "\u001b[?25hRequirement already satisfied: scikit-learn<1,>=0.22.1 in /usr/local/lib/python3.7/dist-packages (from recommenders) (0.22.2.post1)\n",
            "Requirement already satisfied: jinja2<3,>=2 in /usr/local/lib/python3.7/dist-packages (from recommenders) (2.11.3)\n",
            "Collecting scikit-surprise<=1.1.1,>=0.19.1\n",
            "  Downloading scikit-surprise-1.1.1.tar.gz (11.8 MB)\n",
            "\u001b[K     |████████████████████████████████| 11.8 MB 53 kB/s \n",
            "\u001b[?25hRequirement already satisfied: bottleneck<2,>=1.2.1 in /usr/local/lib/python3.7/dist-packages (from recommenders) (1.3.2)\n",
            "Requirement already satisfied: retrying>=1.3.3 in /usr/local/lib/python3.7/dist-packages (from recommenders) (1.3.3)\n",
            "Requirement already satisfied: matplotlib<4,>=2.2.2 in /usr/local/lib/python3.7/dist-packages (from recommenders) (3.2.2)\n",
            "Requirement already satisfied: lightgbm>=2.2.1 in /usr/local/lib/python3.7/dist-packages (from recommenders) (2.2.3)\n",
            "Collecting memory-profiler<1,>=0.54.0\n",
            "  Downloading memory_profiler-0.58.0.tar.gz (36 kB)\n",
            "Collecting category-encoders<2,>=1.3.0\n",
            "  Downloading category_encoders-1.3.0-py2.py3-none-any.whl (61 kB)\n",
            "\u001b[K     |████████████████████████████████| 61 kB 7.9 MB/s \n",
            "\u001b[?25hRequirement already satisfied: requests<3,>=2.0.0 in /usr/local/lib/python3.7/dist-packages (from recommenders) (2.23.0)\n",
            "Collecting lightfm<2,>=1.15\n",
            "  Downloading lightfm-1.16.tar.gz (310 kB)\n",
            "\u001b[K     |████████████████████████████████| 310 kB 53.5 MB/s \n",
            "\u001b[?25hRequirement already satisfied: pandas<2,>1.0.3 in /usr/local/lib/python3.7/dist-packages (from recommenders) (1.1.5)\n",
            "Collecting cornac<2,>=1.1.2\n",
            "  Downloading cornac-1.14.1-cp37-cp37m-manylinux1_x86_64.whl (12.4 MB)\n",
            "\u001b[K     |████████████████████████████████| 12.4 MB 30 kB/s \n",
            "\u001b[?25hRequirement already satisfied: numba<1,>=0.38.1 in /usr/local/lib/python3.7/dist-packages (from recommenders) (0.51.2)\n",
            "Collecting pydocumentdb>=2.3.3<3\n",
            "  Downloading pydocumentdb-2.3.5-py3-none-any.whl (93 kB)\n",
            "\u001b[K     |████████████████████████████████| 93 kB 2.3 MB/s \n",
            "\u001b[?25hRequirement already satisfied: seaborn<1,>=0.8.1 in /usr/local/lib/python3.7/dist-packages (from recommenders) (0.11.2)\n",
            "Requirement already satisfied: statsmodels>=0.6.1 in /usr/local/lib/python3.7/dist-packages (from category-encoders<2,>=1.3.0->recommenders) (0.10.2)\n",
            "Requirement already satisfied: patsy>=0.4.1 in /usr/local/lib/python3.7/dist-packages (from category-encoders<2,>=1.3.0->recommenders) (0.5.1)\n",
            "Collecting powerlaw\n",
            "  Downloading powerlaw-1.5-py3-none-any.whl (24 kB)\n",
            "Requirement already satisfied: MarkupSafe>=0.23 in /usr/local/lib/python3.7/dist-packages (from jinja2<3,>=2->recommenders) (2.0.1)\n",
            "Requirement already satisfied: kiwisolver>=1.0.1 in /usr/local/lib/python3.7/dist-packages (from matplotlib<4,>=2.2.2->recommenders) (1.3.2)\n",
            "Requirement already satisfied: python-dateutil>=2.1 in /usr/local/lib/python3.7/dist-packages (from matplotlib<4,>=2.2.2->recommenders) (2.8.2)\n",
            "Requirement already satisfied: pyparsing!=2.0.4,!=2.1.2,!=2.1.6,>=2.0.1 in /usr/local/lib/python3.7/dist-packages (from matplotlib<4,>=2.2.2->recommenders) (2.4.7)\n",
            "Requirement already satisfied: cycler>=0.10 in /usr/local/lib/python3.7/dist-packages (from matplotlib<4,>=2.2.2->recommenders) (0.10.0)\n",
            "Requirement already satisfied: six in /usr/local/lib/python3.7/dist-packages (from cycler>=0.10->matplotlib<4,>=2.2.2->recommenders) (1.15.0)\n",
            "Requirement already satisfied: psutil in /usr/local/lib/python3.7/dist-packages (from memory-profiler<1,>=0.54.0->recommenders) (5.4.8)\n",
            "Requirement already satisfied: click in /usr/local/lib/python3.7/dist-packages (from nltk<4,>=3.4->recommenders) (7.1.2)\n",
            "Requirement already satisfied: regex in /usr/local/lib/python3.7/dist-packages (from nltk<4,>=3.4->recommenders) (2019.12.20)\n",
            "Requirement already satisfied: joblib in /usr/local/lib/python3.7/dist-packages (from nltk<4,>=3.4->recommenders) (1.0.1)\n",
            "Requirement already satisfied: setuptools in /usr/local/lib/python3.7/dist-packages (from numba<1,>=0.38.1->recommenders) (57.4.0)\n",
            "Requirement already satisfied: llvmlite<0.35,>=0.34.0.dev0 in /usr/local/lib/python3.7/dist-packages (from numba<1,>=0.38.1->recommenders) (0.34.0)\n",
            "Requirement already satisfied: pytz>=2017.2 in /usr/local/lib/python3.7/dist-packages (from pandas<2,>1.0.3->recommenders) (2018.9)\n",
            "Requirement already satisfied: urllib3!=1.25.0,!=1.25.1,<1.26,>=1.21.1 in /usr/local/lib/python3.7/dist-packages (from requests<3,>=2.0.0->recommenders) (1.24.3)\n",
            "Requirement already satisfied: certifi>=2017.4.17 in /usr/local/lib/python3.7/dist-packages (from requests<3,>=2.0.0->recommenders) (2021.5.30)\n",
            "Requirement already satisfied: chardet<4,>=3.0.2 in /usr/local/lib/python3.7/dist-packages (from requests<3,>=2.0.0->recommenders) (3.0.4)\n",
            "Requirement already satisfied: idna<3,>=2.5 in /usr/local/lib/python3.7/dist-packages (from requests<3,>=2.0.0->recommenders) (2.10)\n",
            "Collecting huggingface-hub>=0.0.17\n",
            "  Downloading huggingface_hub-0.0.17-py3-none-any.whl (52 kB)\n",
            "\u001b[K     |████████████████████████████████| 52 kB 1.6 MB/s \n",
            "\u001b[?25hRequirement already satisfied: filelock in /usr/local/lib/python3.7/dist-packages (from transformers<5,>=2.5.0->recommenders) (3.0.12)\n",
            "Collecting tokenizers<0.11,>=0.10.1\n",
            "  Downloading tokenizers-0.10.3-cp37-cp37m-manylinux_2_5_x86_64.manylinux1_x86_64.manylinux_2_12_x86_64.manylinux2010_x86_64.whl (3.3 MB)\n",
            "\u001b[K     |████████████████████████████████| 3.3 MB 38.8 MB/s \n",
            "\u001b[?25hRequirement already satisfied: packaging>=20.0 in /usr/local/lib/python3.7/dist-packages (from transformers<5,>=2.5.0->recommenders) (21.0)\n",
            "Requirement already satisfied: importlib-metadata in /usr/local/lib/python3.7/dist-packages (from transformers<5,>=2.5.0->recommenders) (4.8.1)\n",
            "Collecting sacremoses\n",
            "  Downloading sacremoses-0.0.46-py3-none-any.whl (895 kB)\n",
            "\u001b[K     |████████████████████████████████| 895 kB 39.0 MB/s \n",
            "\u001b[?25hRequirement already satisfied: typing-extensions in /usr/local/lib/python3.7/dist-packages (from huggingface-hub>=0.0.17->transformers<5,>=2.5.0->recommenders) (3.7.4.3)\n",
            "Requirement already satisfied: zipp>=0.5 in /usr/local/lib/python3.7/dist-packages (from importlib-metadata->transformers<5,>=2.5.0->recommenders) (3.5.0)\n",
            "Requirement already satisfied: mpmath in /usr/local/lib/python3.7/dist-packages (from powerlaw->cornac<2,>=1.1.2->recommenders) (1.2.1)\n",
            "Building wheels for collected packages: lightfm, memory-profiler, scikit-surprise\n",
            "  Building wheel for lightfm (setup.py) ... \u001b[?25l\u001b[?25hdone\n",
            "  Created wheel for lightfm: filename=lightfm-1.16-cp37-cp37m-linux_x86_64.whl size=705374 sha256=e8ae90ebf6af987ec4d717a6c113e967d96861b6a2be4ee8298735a41bcc150a\n",
            "  Stored in directory: /root/.cache/pip/wheels/f8/56/28/5772a3bd3413d65f03aa452190b00898b680b10028a1021914\n",
            "  Building wheel for memory-profiler (setup.py) ... \u001b[?25l\u001b[?25hdone\n",
            "  Created wheel for memory-profiler: filename=memory_profiler-0.58.0-py3-none-any.whl size=30190 sha256=1b546c2641cdcc4fcb978602ff6d1f14257c6824cdba55aa55581e2acefa9e5d\n",
            "  Stored in directory: /root/.cache/pip/wheels/56/19/d5/8cad06661aec65a04a0d6785b1a5ad035cb645b1772a4a0882\n",
            "  Building wheel for scikit-surprise (setup.py) ... \u001b[?25l\u001b[?25hdone\n",
            "  Created wheel for scikit-surprise: filename=scikit_surprise-1.1.1-cp37-cp37m-linux_x86_64.whl size=1619388 sha256=d5fe7cf070d9df8c95bfbfd91ed7be0c6607d6f9902fcfb1d361566ac880a3d3\n",
            "  Stored in directory: /root/.cache/pip/wheels/76/44/74/b498c42be47b2406bd27994e16c5188e337c657025ab400c1c\n",
            "Successfully built lightfm memory-profiler scikit-surprise\n",
            "Installing collected packages: tokenizers, sacremoses, pyyaml, powerlaw, huggingface-hub, transformers, scikit-surprise, pymanopt, pydocumentdb, nltk, memory-profiler, lightfm, cornac, category-encoders, recommenders\n",
            "  Attempting uninstall: pyyaml\n",
            "    Found existing installation: PyYAML 3.13\n",
            "    Uninstalling PyYAML-3.13:\n",
            "      Successfully uninstalled PyYAML-3.13\n",
            "  Attempting uninstall: nltk\n",
            "    Found existing installation: nltk 3.2.5\n",
            "    Uninstalling nltk-3.2.5:\n",
            "      Successfully uninstalled nltk-3.2.5\n",
            "Successfully installed category-encoders-1.3.0 cornac-1.14.1 huggingface-hub-0.0.17 lightfm-1.16 memory-profiler-0.58.0 nltk-3.6.3 powerlaw-1.5 pydocumentdb-2.3.5 pymanopt-0.2.5 pyyaml-5.4.1 recommenders-0.7.0 sacremoses-0.0.46 scikit-surprise-1.1.1 tokenizers-0.10.3 transformers-4.11.2\n"
          ]
        }
      ]
    },
    {
      "cell_type": "code",
      "metadata": {
        "id": "cu_wX1PybjDj",
        "colab": {
          "base_uri": "https://localhost:8080/"
        },
        "outputId": "4c9646df-8ca5-4b29-e71d-ee8c56962fee"
      },
      "source": [
        "pip install pyspark"
      ],
      "execution_count": null,
      "outputs": [
        {
          "output_type": "stream",
          "name": "stdout",
          "text": [
            "Collecting pyspark\n",
            "  Downloading pyspark-3.1.2.tar.gz (212.4 MB)\n",
            "\u001b[K     |████████████████████████████████| 212.4 MB 62 kB/s \n",
            "\u001b[?25hCollecting py4j==0.10.9\n",
            "  Downloading py4j-0.10.9-py2.py3-none-any.whl (198 kB)\n",
            "\u001b[K     |████████████████████████████████| 198 kB 40.2 MB/s \n",
            "\u001b[?25hBuilding wheels for collected packages: pyspark\n",
            "  Building wheel for pyspark (setup.py) ... \u001b[?25l\u001b[?25hdone\n",
            "  Created wheel for pyspark: filename=pyspark-3.1.2-py2.py3-none-any.whl size=212880768 sha256=0bdcc748e736ef0b7406df79e29c6fce37bba47b5b1467d79a3103482c9bff75\n",
            "  Stored in directory: /root/.cache/pip/wheels/a5/0a/c1/9561f6fecb759579a7d863dcd846daaa95f598744e71b02c77\n",
            "Successfully built pyspark\n",
            "Installing collected packages: py4j, pyspark\n",
            "Successfully installed py4j-0.10.9 pyspark-3.1.2\n"
          ]
        }
      ]
    },
    {
      "cell_type": "markdown",
      "metadata": {
        "id": "_0wAcqqeYvyD"
      },
      "source": [
        "### Global Setup"
      ]
    },
    {
      "cell_type": "code",
      "metadata": {
        "colab": {
          "base_uri": "https://localhost:8080/"
        },
        "id": "iaq602R4dvxx",
        "outputId": "a701d226-285b-48e4-9752-12283c8aefac"
      },
      "source": [
        "import numpy as np\n",
        "import pandas as pd\n",
        "import recommenders\n",
        "\n",
        "import sys\n",
        "import pyspark\n",
        "from pyspark.ml.recommendation import ALS\n",
        "import pyspark.sql.functions as F\n",
        "from pyspark.sql import SparkSession\n",
        "from pyspark.sql.types import StructType, StructField\n",
        "from pyspark.sql.types import StringType, FloatType, IntegerType, LongType\n",
        "\n",
        "from recommenders.utils.timer import Timer\n",
        "from recommenders.datasets import movielens\n",
        "from recommenders.utils.notebook_utils import is_jupyter\n",
        "from recommenders.datasets.python_splitters import python_random_split\n",
        "from recommenders.datasets.spark_splitters import spark_random_split\n",
        "from recommenders.evaluation.spark_evaluation import SparkRatingEvaluation, SparkRankingEvaluation\n",
        "from recommenders.utils.spark_utils import start_or_get_spark\n",
        "\n",
        "print(\"System version: {}\".format(sys.version))\n",
        "print(\"Spark version: {}\".format(pyspark.__version__))"
      ],
      "execution_count": null,
      "outputs": [
        {
          "output_type": "stream",
          "name": "stdout",
          "text": [
            "System version: 3.7.12 (default, Sep 10 2021, 00:21:48) \n",
            "[GCC 7.5.0]\n",
            "Spark version: 3.1.2\n"
          ]
        }
      ]
    },
    {
      "cell_type": "code",
      "metadata": {
        "id": "vNrqo1oCDhPa"
      },
      "source": [
        ""
      ],
      "execution_count": null,
      "outputs": []
    },
    {
      "cell_type": "markdown",
      "metadata": {
        "id": "EBA1aAm4_Ll4"
      },
      "source": [
        "Getting Data from drive. Not critical to overall project, but a helpful if running only on colab. Otherwise, local files are ok"
      ]
    },
    {
      "cell_type": "code",
      "metadata": {
        "colab": {
          "base_uri": "https://localhost:8080/",
          "height": 375
        },
        "id": "m8YoLvzjArwu",
        "outputId": "d9a5e343-8094-4728-efea-bf908e36489a"
      },
      "source": [
        "import gdown\n",
        "book_tags_raw_url = 'https://drive.google.com/file/d/1zi-0f5-f9oOwgFGdoDAoTmcrkiPAqMaH/view?usp=sharing'\n",
        "book_tags_url     ='https://drive.google.com/uc?id=' + book_tags_raw_url.split('/')[-2] #Do not change\n",
        "gdown.download(book_tags_url, 'book_tags.csv',quiet=False)\n",
        "\n",
        "books_raw_url = 'https://drive.google.com/file/d/1TcFgTOCoBBqfEwrSbhYqunu5qYDnzxSH/view?usp=sharing'\n",
        "books_url     ='https://drive.google.com/uc?id=' + books_raw_url.split('/')[-2] #Do not change\n",
        "gdown.download(books_url, 'books.csv',quiet=False)\n",
        "\n",
        "ratings_raw_url = 'https://drive.google.com/file/d/12noQhcRgAYBUNcbhG2Z3fuNWKX0EebMA/view?usp=sharing'\n",
        "ratings_url     ='https://drive.google.com/uc?id=' + ratings_raw_url.split('/')[-2] #Do not change\n",
        "gdown.download(ratings_url, 'ratings.csv',quiet=False)\n",
        "\n",
        "tags_raw_url = 'https://drive.google.com/file/d/1_4450oLYhCViIAQ2q2Y_SNcySufEETln/view?usp=sharing'\n",
        "tags_url     ='https://drive.google.com/uc?id=' + tags_raw_url.split('/')[-2] #Do not change\n",
        "gdown.download(tags_url, 'tags.csv',quiet=False)\n",
        "\n",
        "to_read_raw_url = 'https://drive.google.com/file/d/1R-3wjdPjlpM5EH9TbDPt0Pm2AHQGZR34/view?usp=sharing'\n",
        "to_read_url     ='https://drive.google.com/uc?id=' + to_read_raw_url.split('/')[-2] #Do not change\n",
        "gdown.download(to_read_url, 'to_read.csv',quiet=False)"
      ],
      "execution_count": null,
      "outputs": [
        {
          "output_type": "stream",
          "name": "stderr",
          "text": [
            "Downloading...\n",
            "From: https://drive.google.com/uc?id=1zi-0f5-f9oOwgFGdoDAoTmcrkiPAqMaH\n",
            "To: /content/book_tags.csv\n",
            "16.7MB [00:00, 88.1MB/s]\n",
            "Downloading...\n",
            "From: https://drive.google.com/uc?id=1TcFgTOCoBBqfEwrSbhYqunu5qYDnzxSH\n",
            "To: /content/books.csv\n",
            "3.29MB [00:00, 134MB/s]\n",
            "Downloading...\n",
            "From: https://drive.google.com/uc?id=12noQhcRgAYBUNcbhG2Z3fuNWKX0EebMA\n",
            "To: /content/ratings.csv\n",
            "72.1MB [00:00, 140MB/s]\n",
            "Downloading...\n",
            "From: https://drive.google.com/uc?id=1_4450oLYhCViIAQ2q2Y_SNcySufEETln\n",
            "To: /content/tags.csv\n",
            "100%|██████████| 722k/722k [00:00<00:00, 65.7MB/s]\n",
            "Downloading...\n",
            "From: https://drive.google.com/uc?id=1R-3wjdPjlpM5EH9TbDPt0Pm2AHQGZR34\n",
            "To: /content/to_read.csv\n",
            "9.41MB [00:00, 61.2MB/s]\n"
          ]
        },
        {
          "output_type": "execute_result",
          "data": {
            "application/vnd.google.colaboratory.intrinsic+json": {
              "type": "string"
            },
            "text/plain": [
              "'to_read.csv'"
            ]
          },
          "metadata": {},
          "execution_count": 4
        }
      ]
    },
    {
      "cell_type": "markdown",
      "metadata": {
        "id": "BzjVJn-ODA9o"
      },
      "source": [
        "### Data Exploration"
      ]
    },
    {
      "cell_type": "code",
      "metadata": {
        "colab": {
          "base_uri": "https://localhost:8080/",
          "height": 221
        },
        "id": "ORQT_wxBDD4x",
        "outputId": "4428ead4-97f3-4668-da5f-55345390003b"
      },
      "source": [
        "df_ratings = pd.read_csv(\"ratings.csv\")\n",
        "print(df_ratings.shape)\n",
        "df_ratings.head()"
      ],
      "execution_count": null,
      "outputs": [
        {
          "output_type": "stream",
          "name": "stdout",
          "text": [
            "(5976479, 3)\n"
          ]
        },
        {
          "output_type": "execute_result",
          "data": {
            "text/html": [
              "<div>\n",
              "<style scoped>\n",
              "    .dataframe tbody tr th:only-of-type {\n",
              "        vertical-align: middle;\n",
              "    }\n",
              "\n",
              "    .dataframe tbody tr th {\n",
              "        vertical-align: top;\n",
              "    }\n",
              "\n",
              "    .dataframe thead th {\n",
              "        text-align: right;\n",
              "    }\n",
              "</style>\n",
              "<table border=\"1\" class=\"dataframe\">\n",
              "  <thead>\n",
              "    <tr style=\"text-align: right;\">\n",
              "      <th></th>\n",
              "      <th>user_id</th>\n",
              "      <th>book_id</th>\n",
              "      <th>rating</th>\n",
              "    </tr>\n",
              "  </thead>\n",
              "  <tbody>\n",
              "    <tr>\n",
              "      <th>0</th>\n",
              "      <td>1</td>\n",
              "      <td>258</td>\n",
              "      <td>5</td>\n",
              "    </tr>\n",
              "    <tr>\n",
              "      <th>1</th>\n",
              "      <td>2</td>\n",
              "      <td>4081</td>\n",
              "      <td>4</td>\n",
              "    </tr>\n",
              "    <tr>\n",
              "      <th>2</th>\n",
              "      <td>2</td>\n",
              "      <td>260</td>\n",
              "      <td>5</td>\n",
              "    </tr>\n",
              "    <tr>\n",
              "      <th>3</th>\n",
              "      <td>2</td>\n",
              "      <td>9296</td>\n",
              "      <td>5</td>\n",
              "    </tr>\n",
              "    <tr>\n",
              "      <th>4</th>\n",
              "      <td>2</td>\n",
              "      <td>2318</td>\n",
              "      <td>3</td>\n",
              "    </tr>\n",
              "  </tbody>\n",
              "</table>\n",
              "</div>"
            ],
            "text/plain": [
              "   user_id  book_id  rating\n",
              "0        1      258       5\n",
              "1        2     4081       4\n",
              "2        2      260       5\n",
              "3        2     9296       5\n",
              "4        2     2318       3"
            ]
          },
          "metadata": {},
          "execution_count": 5
        }
      ]
    },
    {
      "cell_type": "code",
      "metadata": {
        "colab": {
          "base_uri": "https://localhost:8080/",
          "height": 445
        },
        "id": "KcLCsdC8DZ3K",
        "outputId": "64f33158-7191-4041-8309-6b8a5e409025"
      },
      "source": [
        "df_books = pd.read_csv(\"books.csv\")\n",
        "print(df_books.shape)\n",
        "df_books.head()"
      ],
      "execution_count": null,
      "outputs": [
        {
          "output_type": "stream",
          "name": "stdout",
          "text": [
            "(10000, 23)\n"
          ]
        },
        {
          "output_type": "execute_result",
          "data": {
            "text/html": [
              "<div>\n",
              "<style scoped>\n",
              "    .dataframe tbody tr th:only-of-type {\n",
              "        vertical-align: middle;\n",
              "    }\n",
              "\n",
              "    .dataframe tbody tr th {\n",
              "        vertical-align: top;\n",
              "    }\n",
              "\n",
              "    .dataframe thead th {\n",
              "        text-align: right;\n",
              "    }\n",
              "</style>\n",
              "<table border=\"1\" class=\"dataframe\">\n",
              "  <thead>\n",
              "    <tr style=\"text-align: right;\">\n",
              "      <th></th>\n",
              "      <th>book_id</th>\n",
              "      <th>goodreads_book_id</th>\n",
              "      <th>best_book_id</th>\n",
              "      <th>work_id</th>\n",
              "      <th>books_count</th>\n",
              "      <th>isbn</th>\n",
              "      <th>isbn13</th>\n",
              "      <th>authors</th>\n",
              "      <th>original_publication_year</th>\n",
              "      <th>original_title</th>\n",
              "      <th>title</th>\n",
              "      <th>language_code</th>\n",
              "      <th>average_rating</th>\n",
              "      <th>ratings_count</th>\n",
              "      <th>work_ratings_count</th>\n",
              "      <th>work_text_reviews_count</th>\n",
              "      <th>ratings_1</th>\n",
              "      <th>ratings_2</th>\n",
              "      <th>ratings_3</th>\n",
              "      <th>ratings_4</th>\n",
              "      <th>ratings_5</th>\n",
              "      <th>image_url</th>\n",
              "      <th>small_image_url</th>\n",
              "    </tr>\n",
              "  </thead>\n",
              "  <tbody>\n",
              "    <tr>\n",
              "      <th>0</th>\n",
              "      <td>1</td>\n",
              "      <td>2767052</td>\n",
              "      <td>2767052</td>\n",
              "      <td>2792775</td>\n",
              "      <td>272</td>\n",
              "      <td>439023483</td>\n",
              "      <td>9.780439e+12</td>\n",
              "      <td>Suzanne Collins</td>\n",
              "      <td>2008.0</td>\n",
              "      <td>The Hunger Games</td>\n",
              "      <td>The Hunger Games (The Hunger Games, #1)</td>\n",
              "      <td>eng</td>\n",
              "      <td>4.34</td>\n",
              "      <td>4780653</td>\n",
              "      <td>4942365</td>\n",
              "      <td>155254</td>\n",
              "      <td>66715</td>\n",
              "      <td>127936</td>\n",
              "      <td>560092</td>\n",
              "      <td>1481305</td>\n",
              "      <td>2706317</td>\n",
              "      <td>https://images.gr-assets.com/books/1447303603m...</td>\n",
              "      <td>https://images.gr-assets.com/books/1447303603s...</td>\n",
              "    </tr>\n",
              "    <tr>\n",
              "      <th>1</th>\n",
              "      <td>2</td>\n",
              "      <td>3</td>\n",
              "      <td>3</td>\n",
              "      <td>4640799</td>\n",
              "      <td>491</td>\n",
              "      <td>439554934</td>\n",
              "      <td>9.780440e+12</td>\n",
              "      <td>J.K. Rowling, Mary GrandPré</td>\n",
              "      <td>1997.0</td>\n",
              "      <td>Harry Potter and the Philosopher's Stone</td>\n",
              "      <td>Harry Potter and the Sorcerer's Stone (Harry P...</td>\n",
              "      <td>eng</td>\n",
              "      <td>4.44</td>\n",
              "      <td>4602479</td>\n",
              "      <td>4800065</td>\n",
              "      <td>75867</td>\n",
              "      <td>75504</td>\n",
              "      <td>101676</td>\n",
              "      <td>455024</td>\n",
              "      <td>1156318</td>\n",
              "      <td>3011543</td>\n",
              "      <td>https://images.gr-assets.com/books/1474154022m...</td>\n",
              "      <td>https://images.gr-assets.com/books/1474154022s...</td>\n",
              "    </tr>\n",
              "    <tr>\n",
              "      <th>2</th>\n",
              "      <td>3</td>\n",
              "      <td>41865</td>\n",
              "      <td>41865</td>\n",
              "      <td>3212258</td>\n",
              "      <td>226</td>\n",
              "      <td>316015849</td>\n",
              "      <td>9.780316e+12</td>\n",
              "      <td>Stephenie Meyer</td>\n",
              "      <td>2005.0</td>\n",
              "      <td>Twilight</td>\n",
              "      <td>Twilight (Twilight, #1)</td>\n",
              "      <td>en-US</td>\n",
              "      <td>3.57</td>\n",
              "      <td>3866839</td>\n",
              "      <td>3916824</td>\n",
              "      <td>95009</td>\n",
              "      <td>456191</td>\n",
              "      <td>436802</td>\n",
              "      <td>793319</td>\n",
              "      <td>875073</td>\n",
              "      <td>1355439</td>\n",
              "      <td>https://images.gr-assets.com/books/1361039443m...</td>\n",
              "      <td>https://images.gr-assets.com/books/1361039443s...</td>\n",
              "    </tr>\n",
              "    <tr>\n",
              "      <th>3</th>\n",
              "      <td>4</td>\n",
              "      <td>2657</td>\n",
              "      <td>2657</td>\n",
              "      <td>3275794</td>\n",
              "      <td>487</td>\n",
              "      <td>61120081</td>\n",
              "      <td>9.780061e+12</td>\n",
              "      <td>Harper Lee</td>\n",
              "      <td>1960.0</td>\n",
              "      <td>To Kill a Mockingbird</td>\n",
              "      <td>To Kill a Mockingbird</td>\n",
              "      <td>eng</td>\n",
              "      <td>4.25</td>\n",
              "      <td>3198671</td>\n",
              "      <td>3340896</td>\n",
              "      <td>72586</td>\n",
              "      <td>60427</td>\n",
              "      <td>117415</td>\n",
              "      <td>446835</td>\n",
              "      <td>1001952</td>\n",
              "      <td>1714267</td>\n",
              "      <td>https://images.gr-assets.com/books/1361975680m...</td>\n",
              "      <td>https://images.gr-assets.com/books/1361975680s...</td>\n",
              "    </tr>\n",
              "    <tr>\n",
              "      <th>4</th>\n",
              "      <td>5</td>\n",
              "      <td>4671</td>\n",
              "      <td>4671</td>\n",
              "      <td>245494</td>\n",
              "      <td>1356</td>\n",
              "      <td>743273567</td>\n",
              "      <td>9.780743e+12</td>\n",
              "      <td>F. Scott Fitzgerald</td>\n",
              "      <td>1925.0</td>\n",
              "      <td>The Great Gatsby</td>\n",
              "      <td>The Great Gatsby</td>\n",
              "      <td>eng</td>\n",
              "      <td>3.89</td>\n",
              "      <td>2683664</td>\n",
              "      <td>2773745</td>\n",
              "      <td>51992</td>\n",
              "      <td>86236</td>\n",
              "      <td>197621</td>\n",
              "      <td>606158</td>\n",
              "      <td>936012</td>\n",
              "      <td>947718</td>\n",
              "      <td>https://images.gr-assets.com/books/1490528560m...</td>\n",
              "      <td>https://images.gr-assets.com/books/1490528560s...</td>\n",
              "    </tr>\n",
              "  </tbody>\n",
              "</table>\n",
              "</div>"
            ],
            "text/plain": [
              "   book_id  ...                                    small_image_url\n",
              "0        1  ...  https://images.gr-assets.com/books/1447303603s...\n",
              "1        2  ...  https://images.gr-assets.com/books/1474154022s...\n",
              "2        3  ...  https://images.gr-assets.com/books/1361039443s...\n",
              "3        4  ...  https://images.gr-assets.com/books/1361975680s...\n",
              "4        5  ...  https://images.gr-assets.com/books/1490528560s...\n",
              "\n",
              "[5 rows x 23 columns]"
            ]
          },
          "metadata": {},
          "execution_count": 6
        }
      ]
    },
    {
      "cell_type": "code",
      "metadata": {
        "colab": {
          "base_uri": "https://localhost:8080/",
          "height": 221
        },
        "id": "pV3tdVjnbGnR",
        "outputId": "73db7652-6769-442d-9dab-97f5edbdb2ee"
      },
      "source": [
        "df_book_tags = pd.read_csv(\"book_tags.csv\")\n",
        "print(df_book_tags.shape)\n",
        "df_book_tags.head()"
      ],
      "execution_count": null,
      "outputs": [
        {
          "output_type": "stream",
          "name": "stdout",
          "text": [
            "(999912, 3)\n"
          ]
        },
        {
          "output_type": "execute_result",
          "data": {
            "text/html": [
              "<div>\n",
              "<style scoped>\n",
              "    .dataframe tbody tr th:only-of-type {\n",
              "        vertical-align: middle;\n",
              "    }\n",
              "\n",
              "    .dataframe tbody tr th {\n",
              "        vertical-align: top;\n",
              "    }\n",
              "\n",
              "    .dataframe thead th {\n",
              "        text-align: right;\n",
              "    }\n",
              "</style>\n",
              "<table border=\"1\" class=\"dataframe\">\n",
              "  <thead>\n",
              "    <tr style=\"text-align: right;\">\n",
              "      <th></th>\n",
              "      <th>goodreads_book_id</th>\n",
              "      <th>tag_id</th>\n",
              "      <th>count</th>\n",
              "    </tr>\n",
              "  </thead>\n",
              "  <tbody>\n",
              "    <tr>\n",
              "      <th>0</th>\n",
              "      <td>1</td>\n",
              "      <td>30574</td>\n",
              "      <td>167697</td>\n",
              "    </tr>\n",
              "    <tr>\n",
              "      <th>1</th>\n",
              "      <td>1</td>\n",
              "      <td>11305</td>\n",
              "      <td>37174</td>\n",
              "    </tr>\n",
              "    <tr>\n",
              "      <th>2</th>\n",
              "      <td>1</td>\n",
              "      <td>11557</td>\n",
              "      <td>34173</td>\n",
              "    </tr>\n",
              "    <tr>\n",
              "      <th>3</th>\n",
              "      <td>1</td>\n",
              "      <td>8717</td>\n",
              "      <td>12986</td>\n",
              "    </tr>\n",
              "    <tr>\n",
              "      <th>4</th>\n",
              "      <td>1</td>\n",
              "      <td>33114</td>\n",
              "      <td>12716</td>\n",
              "    </tr>\n",
              "  </tbody>\n",
              "</table>\n",
              "</div>"
            ],
            "text/plain": [
              "   goodreads_book_id  tag_id   count\n",
              "0                  1   30574  167697\n",
              "1                  1   11305   37174\n",
              "2                  1   11557   34173\n",
              "3                  1    8717   12986\n",
              "4                  1   33114   12716"
            ]
          },
          "metadata": {},
          "execution_count": 7
        }
      ]
    },
    {
      "cell_type": "code",
      "metadata": {
        "colab": {
          "base_uri": "https://localhost:8080/",
          "height": 221
        },
        "id": "PNejP0BHbdXr",
        "outputId": "3226d500-83dd-47ca-c673-69a4d13539d8"
      },
      "source": [
        "df_tags = pd.read_csv(\"tags.csv\")\n",
        "print(df_tags.shape)\n",
        "df_tags.head()"
      ],
      "execution_count": null,
      "outputs": [
        {
          "output_type": "stream",
          "name": "stdout",
          "text": [
            "(34252, 2)\n"
          ]
        },
        {
          "output_type": "execute_result",
          "data": {
            "text/html": [
              "<div>\n",
              "<style scoped>\n",
              "    .dataframe tbody tr th:only-of-type {\n",
              "        vertical-align: middle;\n",
              "    }\n",
              "\n",
              "    .dataframe tbody tr th {\n",
              "        vertical-align: top;\n",
              "    }\n",
              "\n",
              "    .dataframe thead th {\n",
              "        text-align: right;\n",
              "    }\n",
              "</style>\n",
              "<table border=\"1\" class=\"dataframe\">\n",
              "  <thead>\n",
              "    <tr style=\"text-align: right;\">\n",
              "      <th></th>\n",
              "      <th>tag_id</th>\n",
              "      <th>tag_name</th>\n",
              "    </tr>\n",
              "  </thead>\n",
              "  <tbody>\n",
              "    <tr>\n",
              "      <th>0</th>\n",
              "      <td>0</td>\n",
              "      <td>-</td>\n",
              "    </tr>\n",
              "    <tr>\n",
              "      <th>1</th>\n",
              "      <td>1</td>\n",
              "      <td>--1-</td>\n",
              "    </tr>\n",
              "    <tr>\n",
              "      <th>2</th>\n",
              "      <td>2</td>\n",
              "      <td>--10-</td>\n",
              "    </tr>\n",
              "    <tr>\n",
              "      <th>3</th>\n",
              "      <td>3</td>\n",
              "      <td>--12-</td>\n",
              "    </tr>\n",
              "    <tr>\n",
              "      <th>4</th>\n",
              "      <td>4</td>\n",
              "      <td>--122-</td>\n",
              "    </tr>\n",
              "  </tbody>\n",
              "</table>\n",
              "</div>"
            ],
            "text/plain": [
              "   tag_id tag_name\n",
              "0       0        -\n",
              "1       1     --1-\n",
              "2       2    --10-\n",
              "3       3    --12-\n",
              "4       4   --122-"
            ]
          },
          "metadata": {},
          "execution_count": 8
        }
      ]
    },
    {
      "cell_type": "code",
      "metadata": {
        "colab": {
          "base_uri": "https://localhost:8080/",
          "height": 221
        },
        "id": "RJ_AgeenchQ4",
        "outputId": "81d00d4e-f2c0-49a5-ada0-23e47b5330f0"
      },
      "source": [
        "df_to_read = pd.read_csv(\"to_read.csv\")\n",
        "print(df_to_read.shape)\n",
        "df_to_read.head()"
      ],
      "execution_count": null,
      "outputs": [
        {
          "output_type": "stream",
          "name": "stdout",
          "text": [
            "(912705, 2)\n"
          ]
        },
        {
          "output_type": "execute_result",
          "data": {
            "text/html": [
              "<div>\n",
              "<style scoped>\n",
              "    .dataframe tbody tr th:only-of-type {\n",
              "        vertical-align: middle;\n",
              "    }\n",
              "\n",
              "    .dataframe tbody tr th {\n",
              "        vertical-align: top;\n",
              "    }\n",
              "\n",
              "    .dataframe thead th {\n",
              "        text-align: right;\n",
              "    }\n",
              "</style>\n",
              "<table border=\"1\" class=\"dataframe\">\n",
              "  <thead>\n",
              "    <tr style=\"text-align: right;\">\n",
              "      <th></th>\n",
              "      <th>user_id</th>\n",
              "      <th>book_id</th>\n",
              "    </tr>\n",
              "  </thead>\n",
              "  <tbody>\n",
              "    <tr>\n",
              "      <th>0</th>\n",
              "      <td>9</td>\n",
              "      <td>8</td>\n",
              "    </tr>\n",
              "    <tr>\n",
              "      <th>1</th>\n",
              "      <td>15</td>\n",
              "      <td>398</td>\n",
              "    </tr>\n",
              "    <tr>\n",
              "      <th>2</th>\n",
              "      <td>15</td>\n",
              "      <td>275</td>\n",
              "    </tr>\n",
              "    <tr>\n",
              "      <th>3</th>\n",
              "      <td>37</td>\n",
              "      <td>7173</td>\n",
              "    </tr>\n",
              "    <tr>\n",
              "      <th>4</th>\n",
              "      <td>34</td>\n",
              "      <td>380</td>\n",
              "    </tr>\n",
              "  </tbody>\n",
              "</table>\n",
              "</div>"
            ],
            "text/plain": [
              "   user_id  book_id\n",
              "0        9        8\n",
              "1       15      398\n",
              "2       15      275\n",
              "3       37     7173\n",
              "4       34      380"
            ]
          },
          "metadata": {},
          "execution_count": 9
        }
      ]
    },
    {
      "cell_type": "markdown",
      "metadata": {
        "id": "-Tdiyho3XtgF"
      },
      "source": [
        "### Set up Spark context"
      ]
    },
    {
      "cell_type": "code",
      "metadata": {
        "id": "w6L68jUrgJk5"
      },
      "source": [
        "# the following settings work well for debugging locally on VM - change when running on a cluster\n",
        "# set up a giant single executor with many threads and specify memory cap\n",
        "spark = start_or_get_spark(\"ALS PySpark\", memory=\"16g\")"
      ],
      "execution_count": null,
      "outputs": []
    },
    {
      "cell_type": "code",
      "metadata": {
        "id": "1QGm_L4rd8p9"
      },
      "source": [
        "# top k items to recommend\n",
        "TOP_K = 10"
      ],
      "execution_count": null,
      "outputs": []
    },
    {
      "cell_type": "markdown",
      "metadata": {
        "id": "Uek6CIiSZpj5"
      },
      "source": [
        "### Create the train and test dataset using spark"
      ]
    },
    {
      "cell_type": "code",
      "metadata": {
        "id": "LE0u6gj7cWEN"
      },
      "source": [
        "# Note: The DataFrame-based API for ALS currently only supports integers for user and item ids.\n",
        "schema = StructType(\n",
        "    (\n",
        "        StructField(\"user_id\", IntegerType()),\n",
        "        StructField(\"book_id\", IntegerType()),\n",
        "        StructField(\"rating\", IntegerType()),\n",
        "        # StructField(\"Timestamp\", LongType()),\n",
        "    )\n",
        ")\n"
      ],
      "execution_count": null,
      "outputs": []
    },
    {
      "cell_type": "code",
      "metadata": {
        "id": "8W-NrIRZi4eE"
      },
      "source": [
        "df_ratings_train, df_ratings_test = python_random_split(df_ratings, ratio=0.80, seed=42)"
      ],
      "execution_count": null,
      "outputs": []
    },
    {
      "cell_type": "code",
      "metadata": {
        "colab": {
          "base_uri": "https://localhost:8080/"
        },
        "id": "GZhXzjXLeCNK",
        "outputId": "911d5fc2-404e-40e1-c3b0-65887d28bcd4"
      },
      "source": [
        "train = spark.createDataFrame(df_ratings_train[['user_id', 'book_id', 'rating']], schema=schema)\n",
        "train.show()"
      ],
      "execution_count": null,
      "outputs": [
        {
          "output_type": "stream",
          "name": "stdout",
          "text": [
            "+-------+-------+------+\n",
            "|user_id|book_id|rating|\n",
            "+-------+-------+------+\n",
            "|  10714|   7164|     3|\n",
            "|  48091|   2213|     3|\n",
            "|   9809|   5769|     4|\n",
            "|  25191|     86|     5|\n",
            "|  25441|   4884|     3|\n",
            "|  29639|     20|     2|\n",
            "|  28648|   2007|     5|\n",
            "|  53402|   1122|     4|\n",
            "|  42999|     45|     5|\n",
            "|  44240|    373|     3|\n",
            "|  38341|    862|     5|\n",
            "|  27949|   7787|     5|\n",
            "|  12813|     41|     2|\n",
            "|  10629|   6845|     4|\n",
            "|  33950|   3003|     5|\n",
            "|  15872|    420|     4|\n",
            "|  36752|    469|     3|\n",
            "|  22840|   3994|     5|\n",
            "|  24805|   9443|     4|\n",
            "|   1752|   4663|     3|\n",
            "+-------+-------+------+\n",
            "only showing top 20 rows\n",
            "\n"
          ]
        }
      ]
    },
    {
      "cell_type": "code",
      "metadata": {
        "colab": {
          "base_uri": "https://localhost:8080/"
        },
        "id": "GJZ726jndkPj",
        "outputId": "24ef6096-0feb-41a6-eb49-58043756075f"
      },
      "source": [
        "test = spark.createDataFrame(df_ratings_test[['user_id', 'book_id', 'rating']], schema=schema)\n",
        "test.show()"
      ],
      "execution_count": null,
      "outputs": [
        {
          "output_type": "stream",
          "name": "stdout",
          "text": [
            "+-------+-------+------+\n",
            "|user_id|book_id|rating|\n",
            "+-------+-------+------+\n",
            "|  42562|   2757|     3|\n",
            "|  43232|    134|     4|\n",
            "|  37244|   1463|     5|\n",
            "|  53366|     71|     2|\n",
            "|  29634|   3339|     4|\n",
            "|   2268|   2250|     4|\n",
            "|  36766|     39|     4|\n",
            "|  18377|   1544|     4|\n",
            "|  41168|    182|     5|\n",
            "|  14453|     35|     4|\n",
            "|  42047|    227|     5|\n",
            "|  42864|    482|     3|\n",
            "|  27058|    737|     4|\n",
            "|  33937|   6462|     5|\n",
            "|   6400|   4427|     2|\n",
            "|  48534|     78|     3|\n",
            "|  39681|   2119|     5|\n",
            "|  40068|    245|     3|\n",
            "|  27520|   3966|     3|\n",
            "|  41826|    361|     5|\n",
            "+-------+-------+------+\n",
            "only showing top 20 rows\n",
            "\n"
          ]
        }
      ]
    },
    {
      "cell_type": "markdown",
      "metadata": {
        "id": "mgeLowUJg5Yo"
      },
      "source": [
        "### Train the ALS model on the training data, and get the top-k recommendations for our testing data"
      ]
    },
    {
      "cell_type": "code",
      "metadata": {
        "id": "O3crlWfuhyoQ"
      },
      "source": [
        "header = {\n",
        "    \"userCol\": \"user_id\",\n",
        "    \"itemCol\": \"book_id\",\n",
        "    \"ratingCol\": \"rating\",\n",
        "}\n",
        "\n",
        "\n",
        "als = ALS(\n",
        "    rank=10,\n",
        "    maxIter=15,\n",
        "    implicitPrefs=False,\n",
        "    regParam=0.05,\n",
        "    coldStartStrategy='drop',\n",
        "    nonnegative=False,\n",
        "    seed=42,\n",
        "    **header\n",
        ")"
      ],
      "execution_count": null,
      "outputs": []
    },
    {
      "cell_type": "code",
      "metadata": {
        "colab": {
          "base_uri": "https://localhost:8080/"
        },
        "id": "hXSKG8G6h_7K",
        "outputId": "3a998b50-b774-4196-ae8e-66120bd5de57"
      },
      "source": [
        "with Timer() as train_time:\n",
        "    model = als.fit(train)\n",
        "\n",
        "print(\"Took {} seconds for training.\".format(train_time.interval))"
      ],
      "execution_count": null,
      "outputs": [
        {
          "output_type": "stream",
          "name": "stdout",
          "text": [
            "Took 76.94046355800003 seconds for training.\n"
          ]
        }
      ]
    },
    {
      "cell_type": "code",
      "metadata": {
        "colab": {
          "base_uri": "https://localhost:8080/"
        },
        "id": "HEuYfM-_iEn-",
        "outputId": "6adf56f9-31e4-45b1-d410-2049a258da84"
      },
      "source": [
        "with Timer() as test_time:\n",
        "\n",
        "    # Get the cross join of all user-item pairs and score them.\n",
        "    users = train.select('user_id').distinct()\n",
        "    items = train.select('book_id').distinct()\n",
        "    user_item = users.crossJoin(items)\n",
        "    dfs_pred = model.transform(user_item)\n",
        "\n",
        "    # Remove seen items.\n",
        "    dfs_pred_exclude_train = dfs_pred.alias(\"pred\").join(\n",
        "        train.alias(\"train\"),\n",
        "        (dfs_pred['user_id'] == train['user_id']) & (dfs_pred['book_id'] == train['book_id']),\n",
        "        how='outer'\n",
        "    )\n",
        "\n",
        "    top_all = dfs_pred_exclude_train.filter(dfs_pred_exclude_train[\"train.rating\"].isNull()) \\\n",
        "        .select('pred.' + 'user_id', 'pred.' + 'book_id', 'pred.' + \"prediction\")\n",
        "\n",
        "    # In Spark, transformations are lazy evaluation\n",
        "    # Use an action to force execute and measure the test time \n",
        "    top_all.cache().count()\n",
        "\n",
        "print(\"Took {} seconds for prediction.\".format(test_time.interval))"
      ],
      "execution_count": null,
      "outputs": [
        {
          "output_type": "stream",
          "name": "stdout",
          "text": [
            "Took 3316.691716356 seconds for prediction.\n"
          ]
        }
      ]
    },
    {
      "cell_type": "code",
      "metadata": {
        "colab": {
          "base_uri": "https://localhost:8080/"
        },
        "id": "Lg1AzOfkiZ-s",
        "outputId": "38b804e8-efb9-4b16-d717-a74d6d5fdc96"
      },
      "source": [
        "top_all.show()"
      ],
      "execution_count": null,
      "outputs": [
        {
          "output_type": "stream",
          "name": "stdout",
          "text": [
            "+-------+-------+----------+\n",
            "|user_id|book_id|prediction|\n",
            "+-------+-------+----------+\n",
            "|      1|    587| 3.0064232|\n",
            "|      1|    869|  3.282434|\n",
            "|      1|   1208| 2.9063702|\n",
            "|      1|   1348| 4.1920395|\n",
            "|      1|   1357| 3.2595832|\n",
            "|      1|   1677|  2.746942|\n",
            "|      1|   1702|  2.461098|\n",
            "|      1|   1720| 3.3358562|\n",
            "|      1|   1892|  3.306596|\n",
            "|      1|   2086|  4.051029|\n",
            "|      1|   2202| 2.4670594|\n",
            "|      1|   2324| 3.4170425|\n",
            "|      1|   2483|  1.552057|\n",
            "|      1|   2545| 2.5770388|\n",
            "|      1|   2667|  3.597023|\n",
            "|      1|   2870|  2.928708|\n",
            "|      1|   3304|  3.285502|\n",
            "|      1|   3452| 2.3967571|\n",
            "|      1|   3468|  2.905528|\n",
            "|      1|   3477| 2.1990151|\n",
            "+-------+-------+----------+\n",
            "only showing top 20 rows\n",
            "\n"
          ]
        }
      ]
    },
    {
      "cell_type": "markdown",
      "metadata": {
        "id": "sR9DaSXileHG"
      },
      "source": [
        "### Evaluate how well ALS performs"
      ]
    },
    {
      "cell_type": "code",
      "metadata": {
        "id": "U0jxgi2Kl1eE"
      },
      "source": [
        "rank_eval = SparkRankingEvaluation(test, top_all, k = TOP_K, col_user=\"user_id\", col_item=\"book_id\", \n",
        "                                    col_rating=\"rating\", col_prediction=\"prediction\", \n",
        "                                    relevancy_method=\"top_k\")"
      ],
      "execution_count": null,
      "outputs": []
    },
    {
      "cell_type": "code",
      "metadata": {
        "colab": {
          "base_uri": "https://localhost:8080/"
        },
        "id": "zWDqxAlOmEsR",
        "outputId": "d46ca258-d227-450a-cfa1-0d22a23f8203"
      },
      "source": [
        "print(\"Model:\\tALS\",\n",
        "      \"Top K:\\t%d\" % rank_eval.k,\n",
        "      \"MAP:\\t%f\" % rank_eval.map_at_k(),\n",
        "      \"NDCG:\\t%f\" % rank_eval.ndcg_at_k(),\n",
        "      \"Precision@K:\\t%f\" % rank_eval.precision_at_k(),\n",
        "      \"Recall@K:\\t%f\" % rank_eval.recall_at_k(), sep='\\n')"
      ],
      "execution_count": null,
      "outputs": [
        {
          "output_type": "stream",
          "name": "stdout",
          "text": [
            "Model:\tALS\n",
            "Top K:\t10\n",
            "MAP:\t0.000432\n",
            "NDCG:\t0.003319\n",
            "Precision@K:\t0.003719\n",
            "Recall@K:\t0.001734\n"
          ]
        }
      ]
    },
    {
      "cell_type": "markdown",
      "metadata": {
        "id": "xUa7fvmAml3G"
      },
      "source": [
        "### Evaluate rating prediction"
      ]
    },
    {
      "cell_type": "code",
      "metadata": {
        "colab": {
          "base_uri": "https://localhost:8080/"
        },
        "id": "9QJN4brGnh3R",
        "outputId": "eb85d6cd-5d70-46f3-f599-eb20b574f4bd"
      },
      "source": [
        "# Generate predicted ratings.\n",
        "prediction = model.transform(test)\n",
        "prediction.cache().show()"
      ],
      "execution_count": null,
      "outputs": [
        {
          "output_type": "stream",
          "name": "stdout",
          "text": [
            "+-------+-------+------+----------+\n",
            "|user_id|book_id|rating|prediction|\n",
            "+-------+-------+------+----------+\n",
            "|  10206|    148|     5|  3.862525|\n",
            "|  11317|    148|     4| 3.4474127|\n",
            "|  17679|    148|     4| 3.7459688|\n",
            "|  24354|    148|     5| 4.1379323|\n",
            "|  28170|    148|     4| 3.3091235|\n",
            "|  33569|    148|     5| 3.8182042|\n",
            "|  29827|    148|     4| 4.3291073|\n",
            "|  37734|    148|     4| 4.4295387|\n",
            "|  38707|    148|     4| 3.6138372|\n",
            "|  47268|    148|     4| 3.2125015|\n",
            "|  51801|    148|     4| 3.9465508|\n",
            "|   8257|    148|     4| 3.0405352|\n",
            "|  14377|    148|     3| 3.1132224|\n",
            "|  17837|    148|     3| 3.6867065|\n",
            "|  20467|    148|     3| 3.1939578|\n",
            "|  25686|    148|     5|  4.160081|\n",
            "|  38146|    148|     4| 2.8748088|\n",
            "|  52987|    148|     4| 3.9128532|\n",
            "|  27856|    148|     4| 3.9172032|\n",
            "|  29225|    148|     4| 3.8288894|\n",
            "+-------+-------+------+----------+\n",
            "only showing top 20 rows\n",
            "\n"
          ]
        }
      ]
    },
    {
      "cell_type": "code",
      "metadata": {
        "colab": {
          "base_uri": "https://localhost:8080/"
        },
        "id": "pmfD9ublpC8T",
        "outputId": "2e9c9542-1992-43b6-b86a-70451593337d"
      },
      "source": [
        "rating_eval = SparkRatingEvaluation(test, prediction, col_user=\"user_id\", col_item=\"book_id\", \n",
        "                                    col_rating=\"rating\", col_prediction=\"prediction\")\n",
        "\n",
        "print(\"Model:\\tALS rating prediction\",\n",
        "      \"RMSE:\\t%f\" % rating_eval.rmse(),\n",
        "      \"MAE:\\t%f\" % rating_eval.mae(),\n",
        "      \"Explained variance:\\t%f\" % rating_eval.exp_var(),\n",
        "      \"R squared:\\t%f\" % rating_eval.rsquared(), sep='\\n')"
      ],
      "execution_count": null,
      "outputs": [
        {
          "output_type": "stream",
          "name": "stdout",
          "text": [
            "Model:\tALS rating prediction\n",
            "RMSE:\t0.816477\n",
            "MAE:\t0.638406\n",
            "Explained variance:\t0.329098\n",
            "R squared:\t0.320281\n"
          ]
        }
      ]
    },
    {
      "cell_type": "markdown",
      "metadata": {
        "id": "yQgebGYkueLv"
      },
      "source": [
        "### Show predictions in pandas"
      ]
    },
    {
      "cell_type": "code",
      "metadata": {
        "id": "6tJXp9HbpQmS"
      },
      "source": [
        "# prediction for user 1\n",
        "resultUser1 = top_all[top_all['User_ID'] == 1]"
      ],
      "execution_count": null,
      "outputs": []
    },
    {
      "cell_type": "code",
      "metadata": {
        "id": "sSiEnsLJqdny"
      },
      "source": [
        "resultUser1 = resultUser0.sort(resultUser0.prediction.desc())"
      ],
      "execution_count": null,
      "outputs": []
    },
    {
      "cell_type": "code",
      "metadata": {
        "colab": {
          "base_uri": "https://localhost:8080/"
        },
        "id": "D_vKZJeSsjdZ",
        "outputId": "b5cddd4f-8d53-477d-cd55-48fd39cb42a9"
      },
      "source": [
        "resultUser1.show()"
      ],
      "execution_count": null,
      "outputs": [
        {
          "output_type": "stream",
          "name": "stdout",
          "text": [
            "+-------+-------+----------+\n",
            "|user_id|book_id|prediction|\n",
            "+-------+-------+----------+\n",
            "|      1|   8946| 5.0081735|\n",
            "|      1|   8014|  4.941686|\n",
            "|      1|   9076| 4.9302373|\n",
            "|      1|   7537| 4.9099874|\n",
            "|      1|   3628| 4.8529167|\n",
            "|      1|   7254| 4.8218365|\n",
            "|      1|   4868| 4.8018284|\n",
            "|      1|   5580| 4.7939496|\n",
            "|      1|   9566| 4.7528443|\n",
            "|      1|   7593|  4.715734|\n",
            "|      1|   4483|  4.713971|\n",
            "|      1|   9392| 4.7129197|\n",
            "|      1|   6920| 4.7020187|\n",
            "|      1|   5207|  4.701923|\n",
            "|      1|   8548|  4.682682|\n",
            "|      1|   9531| 4.6770654|\n",
            "|      1|   6590|  4.666998|\n",
            "|      1|   9569|  4.655827|\n",
            "|      1|   1198| 4.6499124|\n",
            "|      1|   6361|  4.634282|\n",
            "+-------+-------+----------+\n",
            "only showing top 20 rows\n",
            "\n"
          ]
        }
      ]
    },
    {
      "cell_type": "code",
      "metadata": {
        "id": "GpybwPtrqfSV"
      },
      "source": [
        "df_resultUser1 = resultUser1.select(\"*\").toPandas()"
      ],
      "execution_count": null,
      "outputs": []
    },
    {
      "cell_type": "code",
      "metadata": {
        "colab": {
          "base_uri": "https://localhost:8080/",
          "height": 359
        },
        "id": "jwreleehtO0F",
        "outputId": "4ee9956c-58f9-4ccf-9084-b21ef3810eac"
      },
      "source": [
        "df_resultUser1.head(n=10)"
      ],
      "execution_count": null,
      "outputs": [
        {
          "output_type": "execute_result",
          "data": {
            "text/html": [
              "<div>\n",
              "<style scoped>\n",
              "    .dataframe tbody tr th:only-of-type {\n",
              "        vertical-align: middle;\n",
              "    }\n",
              "\n",
              "    .dataframe tbody tr th {\n",
              "        vertical-align: top;\n",
              "    }\n",
              "\n",
              "    .dataframe thead th {\n",
              "        text-align: right;\n",
              "    }\n",
              "</style>\n",
              "<table border=\"1\" class=\"dataframe\">\n",
              "  <thead>\n",
              "    <tr style=\"text-align: right;\">\n",
              "      <th></th>\n",
              "      <th>user_id</th>\n",
              "      <th>book_id</th>\n",
              "      <th>prediction</th>\n",
              "    </tr>\n",
              "  </thead>\n",
              "  <tbody>\n",
              "    <tr>\n",
              "      <th>0</th>\n",
              "      <td>1</td>\n",
              "      <td>8946</td>\n",
              "      <td>5.008173</td>\n",
              "    </tr>\n",
              "    <tr>\n",
              "      <th>1</th>\n",
              "      <td>1</td>\n",
              "      <td>8014</td>\n",
              "      <td>4.941686</td>\n",
              "    </tr>\n",
              "    <tr>\n",
              "      <th>2</th>\n",
              "      <td>1</td>\n",
              "      <td>9076</td>\n",
              "      <td>4.930237</td>\n",
              "    </tr>\n",
              "    <tr>\n",
              "      <th>3</th>\n",
              "      <td>1</td>\n",
              "      <td>7537</td>\n",
              "      <td>4.909987</td>\n",
              "    </tr>\n",
              "    <tr>\n",
              "      <th>4</th>\n",
              "      <td>1</td>\n",
              "      <td>3628</td>\n",
              "      <td>4.852917</td>\n",
              "    </tr>\n",
              "    <tr>\n",
              "      <th>5</th>\n",
              "      <td>1</td>\n",
              "      <td>7254</td>\n",
              "      <td>4.821836</td>\n",
              "    </tr>\n",
              "    <tr>\n",
              "      <th>6</th>\n",
              "      <td>1</td>\n",
              "      <td>4868</td>\n",
              "      <td>4.801828</td>\n",
              "    </tr>\n",
              "    <tr>\n",
              "      <th>7</th>\n",
              "      <td>1</td>\n",
              "      <td>5580</td>\n",
              "      <td>4.793950</td>\n",
              "    </tr>\n",
              "    <tr>\n",
              "      <th>8</th>\n",
              "      <td>1</td>\n",
              "      <td>9566</td>\n",
              "      <td>4.752844</td>\n",
              "    </tr>\n",
              "    <tr>\n",
              "      <th>9</th>\n",
              "      <td>1</td>\n",
              "      <td>7593</td>\n",
              "      <td>4.715734</td>\n",
              "    </tr>\n",
              "  </tbody>\n",
              "</table>\n",
              "</div>"
            ],
            "text/plain": [
              "   user_id  book_id  prediction\n",
              "0        1     8946    5.008173\n",
              "1        1     8014    4.941686\n",
              "2        1     9076    4.930237\n",
              "3        1     7537    4.909987\n",
              "4        1     3628    4.852917\n",
              "5        1     7254    4.821836\n",
              "6        1     4868    4.801828\n",
              "7        1     5580    4.793950\n",
              "8        1     9566    4.752844\n",
              "9        1     7593    4.715734"
            ]
          },
          "metadata": {},
          "execution_count": 36
        }
      ]
    },
    {
      "cell_type": "code",
      "metadata": {
        "id": "o9Yu_5zDtSHs"
      },
      "source": [
        "# merge top 10 prediction with activities dataframe\n",
        "df_resultUser1 = pd.merge(df_resultUser1, df_books, on='book_id', how='left')"
      ],
      "execution_count": null,
      "outputs": []
    },
    {
      "cell_type": "code",
      "metadata": {
        "colab": {
          "base_uri": "https://localhost:8080/",
          "height": 376
        },
        "id": "TLKdFeqzuHqy",
        "outputId": "934b103c-61c9-4b58-e71e-f1ddde0ca92f"
      },
      "source": [
        "print(\"User 1 top 10 predictions\")\n",
        "df_resultUser1[['prediction', 'user_id', 'book_id', 'title', 'isbn']].head(n=10)"
      ],
      "execution_count": null,
      "outputs": [
        {
          "output_type": "stream",
          "name": "stdout",
          "text": [
            "User 1 top 10 predictions\n"
          ]
        },
        {
          "output_type": "execute_result",
          "data": {
            "text/html": [
              "<div>\n",
              "<style scoped>\n",
              "    .dataframe tbody tr th:only-of-type {\n",
              "        vertical-align: middle;\n",
              "    }\n",
              "\n",
              "    .dataframe tbody tr th {\n",
              "        vertical-align: top;\n",
              "    }\n",
              "\n",
              "    .dataframe thead th {\n",
              "        text-align: right;\n",
              "    }\n",
              "</style>\n",
              "<table border=\"1\" class=\"dataframe\">\n",
              "  <thead>\n",
              "    <tr style=\"text-align: right;\">\n",
              "      <th></th>\n",
              "      <th>prediction</th>\n",
              "      <th>user_id</th>\n",
              "      <th>book_id</th>\n",
              "      <th>title</th>\n",
              "      <th>isbn</th>\n",
              "    </tr>\n",
              "  </thead>\n",
              "  <tbody>\n",
              "    <tr>\n",
              "      <th>0</th>\n",
              "      <td>5.008173</td>\n",
              "      <td>1</td>\n",
              "      <td>8946</td>\n",
              "      <td>The Divan</td>\n",
              "      <td>9646534783</td>\n",
              "    </tr>\n",
              "    <tr>\n",
              "      <th>1</th>\n",
              "      <td>4.941686</td>\n",
              "      <td>1</td>\n",
              "      <td>8014</td>\n",
              "      <td>Psycho-Cybernetics, A New Way to Get More Livi...</td>\n",
              "      <td>671700758</td>\n",
              "    </tr>\n",
              "    <tr>\n",
              "      <th>2</th>\n",
              "      <td>4.930237</td>\n",
              "      <td>1</td>\n",
              "      <td>9076</td>\n",
              "      <td>Preach My Gospel: A Guide To Missionary Service</td>\n",
              "      <td>402366174</td>\n",
              "    </tr>\n",
              "    <tr>\n",
              "      <th>3</th>\n",
              "      <td>4.909987</td>\n",
              "      <td>1</td>\n",
              "      <td>7537</td>\n",
              "      <td>Citizen: An American Lyric</td>\n",
              "      <td>1555976905</td>\n",
              "    </tr>\n",
              "    <tr>\n",
              "      <th>4</th>\n",
              "      <td>4.852917</td>\n",
              "      <td>1</td>\n",
              "      <td>3628</td>\n",
              "      <td>The Complete Calvin and Hobbes</td>\n",
              "      <td>740748475</td>\n",
              "    </tr>\n",
              "    <tr>\n",
              "      <th>5</th>\n",
              "      <td>4.821836</td>\n",
              "      <td>1</td>\n",
              "      <td>7254</td>\n",
              "      <td>Homicidal Psycho Jungle Cat: A Calvin and Hobb...</td>\n",
              "      <td>836217691</td>\n",
              "    </tr>\n",
              "    <tr>\n",
              "      <th>6</th>\n",
              "      <td>4.801828</td>\n",
              "      <td>1</td>\n",
              "      <td>4868</td>\n",
              "      <td>Jesus the Christ</td>\n",
              "      <td>875793266</td>\n",
              "    </tr>\n",
              "    <tr>\n",
              "      <th>7</th>\n",
              "      <td>4.793950</td>\n",
              "      <td>1</td>\n",
              "      <td>5580</td>\n",
              "      <td>The Calvin and Hobbes Lazy Sunday Book</td>\n",
              "      <td>836218523</td>\n",
              "    </tr>\n",
              "    <tr>\n",
              "      <th>8</th>\n",
              "      <td>4.752844</td>\n",
              "      <td>1</td>\n",
              "      <td>9566</td>\n",
              "      <td>Attack of the Deranged Mutant Killer Monster S...</td>\n",
              "      <td>1417642165</td>\n",
              "    </tr>\n",
              "    <tr>\n",
              "      <th>9</th>\n",
              "      <td>4.715734</td>\n",
              "      <td>1</td>\n",
              "      <td>7593</td>\n",
              "      <td>This Is Water: Some Thoughts, Delivered on a S...</td>\n",
              "      <td>316068225</td>\n",
              "    </tr>\n",
              "  </tbody>\n",
              "</table>\n",
              "</div>"
            ],
            "text/plain": [
              "   prediction  ...        isbn\n",
              "0    5.008173  ...  9646534783\n",
              "1    4.941686  ...   671700758\n",
              "2    4.930237  ...   402366174\n",
              "3    4.909987  ...  1555976905\n",
              "4    4.852917  ...   740748475\n",
              "5    4.821836  ...   836217691\n",
              "6    4.801828  ...   875793266\n",
              "7    4.793950  ...   836218523\n",
              "8    4.752844  ...  1417642165\n",
              "9    4.715734  ...   316068225\n",
              "\n",
              "[10 rows x 5 columns]"
            ]
          },
          "metadata": {},
          "execution_count": 45
        }
      ]
    },
    {
      "cell_type": "code",
      "metadata": {
        "id": "98m5hc9tuJGY"
      },
      "source": [
        ""
      ],
      "execution_count": null,
      "outputs": []
    }
  ]
}