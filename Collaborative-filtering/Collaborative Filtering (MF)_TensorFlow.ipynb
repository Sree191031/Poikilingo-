{
 "cells": [
  {
   "cell_type": "markdown",
   "id": "eccf6de2",
   "metadata": {},
   "source": [
    "# Import Frameworks and Libraries"
   ]
  },
  {
   "cell_type": "code",
   "execution_count": 1,
   "id": "4f18ca10",
   "metadata": {},
   "outputs": [],
   "source": [
    "import tensorflow as tf\n",
    "from tensorflow.keras.layers import Embedding, Flatten, Input\n",
    "from tensorflow.keras import Model\n",
    "from tensorflow.keras.optimizers import RMSprop, Adam, Nadam\n",
    "from tensorflow.keras.losses import MeanSquaredError\n",
    "from tensorflow.keras.metrics import RootMeanSquaredError\n",
    "from tensorflow.keras.callbacks import EarlyStopping\n",
    "\n",
    "import numpy as np\n",
    "import pandas as pd\n",
    "from sklearn.model_selection import train_test_split\n",
    "import matplotlib.pyplot as plt"
   ]
  },
  {
   "cell_type": "markdown",
   "id": "daee8a92",
   "metadata": {},
   "source": [
    "# 1. Read the Dataset using Pandas"
   ]
  },
  {
   "cell_type": "code",
   "execution_count": 2,
   "id": "dc2b0acf",
   "metadata": {},
   "outputs": [
    {
     "data": {
      "text/html": [
       "<div>\n",
       "<style scoped>\n",
       "    .dataframe tbody tr th:only-of-type {\n",
       "        vertical-align: middle;\n",
       "    }\n",
       "\n",
       "    .dataframe tbody tr th {\n",
       "        vertical-align: top;\n",
       "    }\n",
       "\n",
       "    .dataframe thead th {\n",
       "        text-align: right;\n",
       "    }\n",
       "</style>\n",
       "<table border=\"1\" class=\"dataframe\">\n",
       "  <thead>\n",
       "    <tr style=\"text-align: right;\">\n",
       "      <th></th>\n",
       "      <th>userId</th>\n",
       "      <th>movieId</th>\n",
       "      <th>rating</th>\n",
       "      <th>timestamp</th>\n",
       "    </tr>\n",
       "  </thead>\n",
       "  <tbody>\n",
       "    <tr>\n",
       "      <th>0</th>\n",
       "      <td>1</td>\n",
       "      <td>1</td>\n",
       "      <td>4.0</td>\n",
       "      <td>964982703</td>\n",
       "    </tr>\n",
       "    <tr>\n",
       "      <th>1</th>\n",
       "      <td>1</td>\n",
       "      <td>3</td>\n",
       "      <td>4.0</td>\n",
       "      <td>964981247</td>\n",
       "    </tr>\n",
       "    <tr>\n",
       "      <th>2</th>\n",
       "      <td>1</td>\n",
       "      <td>6</td>\n",
       "      <td>4.0</td>\n",
       "      <td>964982224</td>\n",
       "    </tr>\n",
       "    <tr>\n",
       "      <th>3</th>\n",
       "      <td>1</td>\n",
       "      <td>47</td>\n",
       "      <td>5.0</td>\n",
       "      <td>964983815</td>\n",
       "    </tr>\n",
       "    <tr>\n",
       "      <th>4</th>\n",
       "      <td>1</td>\n",
       "      <td>50</td>\n",
       "      <td>5.0</td>\n",
       "      <td>964982931</td>\n",
       "    </tr>\n",
       "  </tbody>\n",
       "</table>\n",
       "</div>"
      ],
      "text/plain": [
       "   userId  movieId  rating  timestamp\n",
       "0       1        1     4.0  964982703\n",
       "1       1        3     4.0  964981247\n",
       "2       1        6     4.0  964982224\n",
       "3       1       47     5.0  964983815\n",
       "4       1       50     5.0  964982931"
      ]
     },
     "execution_count": 2,
     "metadata": {},
     "output_type": "execute_result"
    }
   ],
   "source": [
    "data = pd.read_csv('Data/ratings.csv')\n",
    "data.head()"
   ]
  },
  {
   "cell_type": "markdown",
   "id": "30ef4288",
   "metadata": {},
   "source": [
    "## Create train and test data"
   ]
  },
  {
   "cell_type": "code",
   "execution_count": 3,
   "id": "d28872a6",
   "metadata": {},
   "outputs": [],
   "source": [
    "train, test = train_test_split(data, test_size=0.05, random_state=42)"
   ]
  },
  {
   "cell_type": "code",
   "execution_count": 4,
   "id": "2ee6972d",
   "metadata": {},
   "outputs": [
    {
     "data": {
      "text/html": [
       "<div>\n",
       "<style scoped>\n",
       "    .dataframe tbody tr th:only-of-type {\n",
       "        vertical-align: middle;\n",
       "    }\n",
       "\n",
       "    .dataframe tbody tr th {\n",
       "        vertical-align: top;\n",
       "    }\n",
       "\n",
       "    .dataframe thead th {\n",
       "        text-align: right;\n",
       "    }\n",
       "</style>\n",
       "<table border=\"1\" class=\"dataframe\">\n",
       "  <thead>\n",
       "    <tr style=\"text-align: right;\">\n",
       "      <th></th>\n",
       "      <th>userId</th>\n",
       "      <th>movieId</th>\n",
       "      <th>rating</th>\n",
       "      <th>timestamp</th>\n",
       "    </tr>\n",
       "  </thead>\n",
       "  <tbody>\n",
       "    <tr>\n",
       "      <th>39561</th>\n",
       "      <td>274</td>\n",
       "      <td>2004</td>\n",
       "      <td>4.0</td>\n",
       "      <td>1197015180</td>\n",
       "    </tr>\n",
       "    <tr>\n",
       "      <th>11758</th>\n",
       "      <td>71</td>\n",
       "      <td>1210</td>\n",
       "      <td>3.0</td>\n",
       "      <td>864738037</td>\n",
       "    </tr>\n",
       "    <tr>\n",
       "      <th>61956</th>\n",
       "      <td>410</td>\n",
       "      <td>3161</td>\n",
       "      <td>4.0</td>\n",
       "      <td>990727962</td>\n",
       "    </tr>\n",
       "    <tr>\n",
       "      <th>16361</th>\n",
       "      <td>105</td>\n",
       "      <td>3968</td>\n",
       "      <td>3.0</td>\n",
       "      <td>1446750055</td>\n",
       "    </tr>\n",
       "    <tr>\n",
       "      <th>69986</th>\n",
       "      <td>448</td>\n",
       "      <td>90522</td>\n",
       "      <td>2.0</td>\n",
       "      <td>1356205855</td>\n",
       "    </tr>\n",
       "  </tbody>\n",
       "</table>\n",
       "</div>"
      ],
      "text/plain": [
       "       userId  movieId  rating   timestamp\n",
       "39561     274     2004     4.0  1197015180\n",
       "11758      71     1210     3.0   864738037\n",
       "61956     410     3161     4.0   990727962\n",
       "16361     105     3968     3.0  1446750055\n",
       "69986     448    90522     2.0  1356205855"
      ]
     },
     "execution_count": 4,
     "metadata": {},
     "output_type": "execute_result"
    }
   ],
   "source": [
    "train.head()"
   ]
  },
  {
   "cell_type": "code",
   "execution_count": 5,
   "id": "46471548",
   "metadata": {},
   "outputs": [
    {
     "data": {
      "text/html": [
       "<div>\n",
       "<style scoped>\n",
       "    .dataframe tbody tr th:only-of-type {\n",
       "        vertical-align: middle;\n",
       "    }\n",
       "\n",
       "    .dataframe tbody tr th {\n",
       "        vertical-align: top;\n",
       "    }\n",
       "\n",
       "    .dataframe thead th {\n",
       "        text-align: right;\n",
       "    }\n",
       "</style>\n",
       "<table border=\"1\" class=\"dataframe\">\n",
       "  <thead>\n",
       "    <tr style=\"text-align: right;\">\n",
       "      <th></th>\n",
       "      <th>userId</th>\n",
       "      <th>movieId</th>\n",
       "      <th>rating</th>\n",
       "      <th>timestamp</th>\n",
       "    </tr>\n",
       "  </thead>\n",
       "  <tbody>\n",
       "    <tr>\n",
       "      <th>67037</th>\n",
       "      <td>432</td>\n",
       "      <td>77866</td>\n",
       "      <td>4.5</td>\n",
       "      <td>1335139641</td>\n",
       "    </tr>\n",
       "    <tr>\n",
       "      <th>42175</th>\n",
       "      <td>288</td>\n",
       "      <td>474</td>\n",
       "      <td>3.0</td>\n",
       "      <td>978465565</td>\n",
       "    </tr>\n",
       "    <tr>\n",
       "      <th>93850</th>\n",
       "      <td>599</td>\n",
       "      <td>4351</td>\n",
       "      <td>3.0</td>\n",
       "      <td>1498524542</td>\n",
       "    </tr>\n",
       "    <tr>\n",
       "      <th>6187</th>\n",
       "      <td>42</td>\n",
       "      <td>2987</td>\n",
       "      <td>4.0</td>\n",
       "      <td>996262677</td>\n",
       "    </tr>\n",
       "    <tr>\n",
       "      <th>12229</th>\n",
       "      <td>75</td>\n",
       "      <td>1610</td>\n",
       "      <td>4.0</td>\n",
       "      <td>1158989841</td>\n",
       "    </tr>\n",
       "  </tbody>\n",
       "</table>\n",
       "</div>"
      ],
      "text/plain": [
       "       userId  movieId  rating   timestamp\n",
       "67037     432    77866     4.5  1335139641\n",
       "42175     288      474     3.0   978465565\n",
       "93850     599     4351     3.0  1498524542\n",
       "6187       42     2987     4.0   996262677\n",
       "12229      75     1610     4.0  1158989841"
      ]
     },
     "execution_count": 5,
     "metadata": {},
     "output_type": "execute_result"
    }
   ],
   "source": [
    "test.head()"
   ]
  },
  {
   "cell_type": "code",
   "execution_count": 6,
   "id": "8aa3e367",
   "metadata": {},
   "outputs": [
    {
     "name": "stdout",
     "output_type": "stream",
     "text": [
      "Number of users =  610\n",
      "Number of items =  9724\n"
     ]
    }
   ],
   "source": [
    "num_users = data.userId.unique().shape[0]\n",
    "num_items = data.movieId.unique().shape[0]\n",
    "print(\"Number of users = \", num_users)\n",
    "print(\"Number of items = \", num_items)"
   ]
  },
  {
   "cell_type": "markdown",
   "id": "901a9f12",
   "metadata": {},
   "source": [
    "# 2. Matrix Factorization Model"
   ]
  },
  {
   "cell_type": "code",
   "execution_count": 7,
   "id": "fca91f07",
   "metadata": {},
   "outputs": [],
   "source": [
    "users, items, _, _ = data.max(axis=0)\n",
    "users, items = int(users), int(items)"
   ]
  },
  {
   "cell_type": "code",
   "execution_count": 8,
   "id": "8489b90c",
   "metadata": {},
   "outputs": [],
   "source": [
    "class MatrixFactorization_Layer(tf.keras.layers.Layer):\n",
    "    def __init__(self, embedding_size, num_users, num_items):\n",
    "        super(MatrixFactorization_Layer, self).__init__()\n",
    "        self.embedding_size = embedding_size\n",
    "        self.num_users = num_users\n",
    "        self.num_items = num_items\n",
    "        \n",
    "        self.P = Embedding(input_dim=self.num_users+1, output_dim=self.embedding_size, name='Embedding_P')\n",
    "        self.Q = Embedding(input_dim=self.num_items+1, output_dim=self.embedding_size, name='Embedding_Q')\n",
    "        self.flatten = Flatten()\n",
    "        self.user_bias = Embedding(self.num_users+1, 1, name='user_bias')\n",
    "        self.item_bias = Embedding(self.num_items+1, 1, name='item_bias')\n",
    "        self.dot = tf.keras.layers.Dot(axes=1)\n",
    "        \n",
    "    def call(self, input_):\n",
    "        user_id_ = input_[0]\n",
    "        item_id_ = input_[1]\n",
    "        P_u = self.P(user_id_)\n",
    "        Q_i = self.Q(item_id_)\n",
    "        b_u = self.user_bias(user_id_)\n",
    "        b_i = self.item_bias(item_id_)\n",
    "        outputs = self.dot([P_u, Q_i]) + b_u + b_i\n",
    "        outputs = self.flatten(outputs)\n",
    "        return outputs"
   ]
  },
  {
   "cell_type": "code",
   "execution_count": 9,
   "id": "6299a3a6",
   "metadata": {},
   "outputs": [],
   "source": [
    "class MatrixFactorization_Model(tf.keras.Model):\n",
    "    def __init__(self, embedding_size, num_users, num_items):\n",
    "        super(MatrixFactorization_Model, self).__init__()\n",
    "        self.embedding_size = embedding_size\n",
    "        self.MF = MatrixFactorization_Layer(self.embedding_size, num_users, num_items)\n",
    "        \n",
    "    def call(self, inputs):\n",
    "        x = self.MF(inputs)\n",
    "        return x\n",
    "    \n",
    "    def model(self):\n",
    "        x = Input(batch_input_shape=(None, self.embedding_size), name=\"Input_Layer\")\n",
    "        return Model(inputs=[x], outputs=self.call(x))"
   ]
  },
  {
   "cell_type": "code",
   "execution_count": 10,
   "id": "7a15efa4",
   "metadata": {},
   "outputs": [
    {
     "name": "stderr",
     "output_type": "stream",
     "text": [
      "2021-09-22 01:14:56.011979: I tensorflow/core/platform/cpu_feature_guard.cc:142] This TensorFlow binary is optimized with oneAPI Deep Neural Network Library (oneDNN) to use the following CPU instructions in performance-critical operations:  SSE4.1 SSE4.2 AVX AVX2 FMA\n",
      "To enable them in other operations, rebuild TensorFlow with the appropriate compiler flags.\n"
     ]
    }
   ],
   "source": [
    "model = MatrixFactorization_Model(5, users, items)"
   ]
  },
  {
   "cell_type": "code",
   "execution_count": 11,
   "id": "9fd49dcb",
   "metadata": {},
   "outputs": [],
   "source": [
    "optimizer = Adam(learning_rate=0.001)\n",
    "loss_object = MeanSquaredError()\n",
    "callback = EarlyStopping(monitor='val_loss', patience=3, restore_best_weights=True, min_delta=0.0001)"
   ]
  },
  {
   "cell_type": "code",
   "execution_count": 12,
   "id": "28984f59",
   "metadata": {},
   "outputs": [],
   "source": [
    "model.compile(optimizer=optimizer, loss=loss_object, metrics=['accuracy'])"
   ]
  },
  {
   "cell_type": "code",
   "execution_count": 13,
   "id": "09376593",
   "metadata": {},
   "outputs": [
    {
     "name": "stdout",
     "output_type": "stream",
     "text": [
      "Model: \"model\"\n",
      "_________________________________________________________________\n",
      "Layer (type)                 Output Shape              Param #   \n",
      "=================================================================\n",
      "Input_Layer (InputLayer)     [(None, 5)]               0         \n",
      "_________________________________________________________________\n",
      "matrix_factorization__layer  (5, 1)                    1165326   \n",
      "=================================================================\n",
      "Total params: 1,165,326\n",
      "Trainable params: 1,165,326\n",
      "Non-trainable params: 0\n",
      "_________________________________________________________________\n"
     ]
    }
   ],
   "source": [
    "model.model().summary()"
   ]
  },
  {
   "cell_type": "code",
   "execution_count": 14,
   "id": "7534baa6",
   "metadata": {},
   "outputs": [
    {
     "name": "stdout",
     "output_type": "stream",
     "text": [
      "Epoch 1/100\n"
     ]
    },
    {
     "name": "stderr",
     "output_type": "stream",
     "text": [
      "2021-09-22 01:14:56.431834: I tensorflow/compiler/mlir/mlir_graph_optimization_pass.cc:116] None of the MLIR optimization passes are enabled (registered 2)\n",
      "2021-09-22 01:14:56.454352: I tensorflow/core/platform/profile_utils/cpu_utils.cc:112] CPU Frequency: 2494450000 Hz\n"
     ]
    },
    {
     "name": "stdout",
     "output_type": "stream",
     "text": [
      "4471/4471 [==============================] - 54s 12ms/step - loss: 11.1737 - accuracy: 0.0315 - val_loss: 5.4327 - val_accuracy: 0.0337\n",
      "Epoch 2/100\n",
      "4471/4471 [==============================] - 55s 12ms/step - loss: 4.2567 - accuracy: 0.0330 - val_loss: 2.2803 - val_accuracy: 0.0336\n",
      "Epoch 3/100\n",
      "4471/4471 [==============================] - 52s 12ms/step - loss: 1.8943 - accuracy: 0.0333 - val_loss: 1.4726 - val_accuracy: 0.0335\n",
      "Epoch 4/100\n",
      "4471/4471 [==============================] - 59s 13ms/step - loss: 1.2471 - accuracy: 0.0332 - val_loss: 1.1589 - val_accuracy: 0.0334\n",
      "Epoch 5/100\n",
      "4471/4471 [==============================] - 65s 14ms/step - loss: 0.9745 - accuracy: 0.0318 - val_loss: 1.0090 - val_accuracy: 0.0334\n",
      "Epoch 6/100\n",
      "4471/4471 [==============================] - 60s 13ms/step - loss: 0.8380 - accuracy: 0.0345 - val_loss: 0.9285 - val_accuracy: 0.0336\n",
      "Epoch 7/100\n",
      "4471/4471 [==============================] - 59s 13ms/step - loss: 0.7645 - accuracy: 0.0336 - val_loss: 0.8829 - val_accuracy: 0.0340\n",
      "Epoch 8/100\n",
      "4471/4471 [==============================] - 58s 13ms/step - loss: 0.7272 - accuracy: 0.0367 - val_loss: 0.8538 - val_accuracy: 0.0396\n",
      "Epoch 9/100\n",
      "4471/4471 [==============================] - 58s 13ms/step - loss: 0.6942 - accuracy: 0.0411 - val_loss: 0.8367 - val_accuracy: 0.0429\n",
      "Epoch 10/100\n",
      "4471/4471 [==============================] - 64s 14ms/step - loss: 0.6693 - accuracy: 0.0432 - val_loss: 0.8257 - val_accuracy: 0.0501\n",
      "Epoch 11/100\n",
      "4471/4471 [==============================] - 52s 12ms/step - loss: 0.6569 - accuracy: 0.0522 - val_loss: 0.8180 - val_accuracy: 0.0566\n",
      "Epoch 12/100\n",
      "4471/4471 [==============================] - 51s 11ms/step - loss: 0.6515 - accuracy: 0.0576 - val_loss: 0.8143 - val_accuracy: 0.0590\n",
      "Epoch 13/100\n",
      "4471/4471 [==============================] - 53s 12ms/step - loss: 0.6391 - accuracy: 0.0608 - val_loss: 0.8108 - val_accuracy: 0.0634\n",
      "Epoch 14/100\n",
      "4471/4471 [==============================] - 53s 12ms/step - loss: 0.6282 - accuracy: 0.0631 - val_loss: 0.8085 - val_accuracy: 0.0682\n",
      "Epoch 15/100\n",
      "4471/4471 [==============================] - 60s 13ms/step - loss: 0.6203 - accuracy: 0.0673 - val_loss: 0.8069 - val_accuracy: 0.0679\n",
      "Epoch 16/100\n",
      "4471/4471 [==============================] - 61s 14ms/step - loss: 0.6185 - accuracy: 0.0702 - val_loss: 0.8066 - val_accuracy: 0.0698\n",
      "Epoch 17/100\n",
      "4471/4471 [==============================] - 60s 14ms/step - loss: 0.6139 - accuracy: 0.0698 - val_loss: 0.8070 - val_accuracy: 0.0699\n",
      "Epoch 18/100\n",
      "4471/4471 [==============================] - 61s 14ms/step - loss: 0.6080 - accuracy: 0.0691 - val_loss: 0.8064 - val_accuracy: 0.0694\n",
      "Epoch 19/100\n",
      "4471/4471 [==============================] - 63s 14ms/step - loss: 0.6043 - accuracy: 0.0685 - val_loss: 0.8076 - val_accuracy: 0.0688\n",
      "Epoch 20/100\n",
      "4471/4471 [==============================] - 54s 12ms/step - loss: 0.6057 - accuracy: 0.0673 - val_loss: 0.8076 - val_accuracy: 0.0671\n",
      "Epoch 21/100\n",
      "4471/4471 [==============================] - 73s 16ms/step - loss: 0.5966 - accuracy: 0.0649 - val_loss: 0.8087 - val_accuracy: 0.0656\n"
     ]
    }
   ],
   "source": [
    "train_x = [train.iloc[:, 0], train.iloc[:, 1]]\n",
    "train_y = train.iloc[:, 2]\n",
    "\n",
    "history = model.fit(train_x, train_y, validation_split = 0.3,\n",
    "                    epochs=100, batch_size=15, shuffle=True, callbacks=[callback])"
   ]
  },
  {
   "cell_type": "code",
   "execution_count": 16,
   "id": "667ff62d",
   "metadata": {},
   "outputs": [
    {
     "data": {
      "image/png": "[encoded data removed]",
      "text/plain": [
       "<Figure size 432x288 with 1 Axes>"
      ]
     },
     "metadata": {
      "needs_background": "light"
     },
     "output_type": "display_data"
    }
   ],
   "source": [
    "plt.plot(history.history['accuracy'])\n",
    "plt.plot(history.history['val_accuracy'])\n",
    "plt.title('model accuracy')\n",
    "plt.ylabel('accuracy')\n",
    "plt.xlabel('epoch')\n",
    "plt.legend(['train', 'val'], loc='upper left')\n",
    "plt.show()"
   ]
  },
  {
   "cell_type": "code",
   "execution_count": 17,
   "id": "699112a5",
   "metadata": {},
   "outputs": [
    {
     "data": {
      "image/png": "[encoded data removed]",
      "text/plain": [
       "<Figure size 432x288 with 1 Axes>"
      ]
     },
     "metadata": {
      "needs_background": "light"
     },
     "output_type": "display_data"
    }
   ],
   "source": [
    "plt.plot(history.history['loss'])\n",
    "plt.plot(history.history['val_loss'])\n",
    "plt.title('model loss')\n",
    "plt.ylabel('loss')\n",
    "plt.xlabel('epoch')\n",
    "plt.legend(['train', 'val'], loc='upper left')\n",
    "plt.show()"
   ]
  },
  {
   "cell_type": "code",
   "execution_count": 15,
   "id": "f26c48e1",
   "metadata": {},
   "outputs": [
    {
     "name": "stdout",
     "output_type": "stream",
     "text": [
      "158/158 [==============================] - 0s 696us/step - loss: 0.8503 - accuracy: 0.0716\n"
     ]
    }
   ],
   "source": [
    "evaluation = model.evaluate([test.iloc[:, 0], test.iloc[:, 1]], test.iloc[:, 2])"
   ]
  }
 ],
 "metadata": {
  "kernelspec": {
   "display_name": "Python 3 (ipykernel)",
   "language": "python",
   "name": "python3"
  },
  "language_info": {
   "codemirror_mode": {
    "name": "ipython",
    "version": 3
   },
   "file_extension": ".py",
   "mimetype": "text/x-python",
   "name": "python",
   "nbconvert_exporter": "python",
   "pygments_lexer": "ipython3",
   "version": "3.9.7"
  }
 },
 "nbformat": 4,
 "nbformat_minor": 5
}
